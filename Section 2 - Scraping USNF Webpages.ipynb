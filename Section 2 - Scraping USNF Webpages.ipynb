{
 "cells": [
  {
   "cell_type": "markdown",
   "metadata": {},
   "source": [
    "\n",
    "<h3>Scraping content from US National Forests webpages</h3>\n",
    "\n",
    "<img src=\"images/Gimli.jpg\" width=30% style=\"display: inline-block\">\n",
    "<br>\n",
    "image source: lotr.wikia.com\n",
    "<br>\n",
    "It may not be pretty or elegant, but it gets the job done\n",
    "<br>\n",
    "<br>\n",
    "[Example: Cultus Creek Campground FS website](http://www.fs.usda.gov/recarea/giffordpinchot/recreation/camping-cabins/recarea/?recid=31736&actid=29)\n",
    "<img src=\"images/cultus_creek_screenshot.png\" width=80% style=\"display: inline-block\">\n",
    "<br>\n",
    "<br>\n",
    "Everyone's favorite: view source\n",
    "<img src=\"images/cultus_creek_viewsource.png\" width=80% style=\"display: inline-block\">"
   ]
  },
  {
   "cell_type": "code",
   "execution_count": 3,
   "metadata": {
    "collapsed": false
   },
   "outputs": [],
   "source": [
    "import requests\t\n",
    "from bs4 import BeautifulSoup\n",
    "import re\n",
    "import pandas as pd\n",
    "import os\n",
    "from sqlalchemy import create_engine\n",
    "import config"
   ]
  },
  {
   "cell_type": "code",
   "execution_count": 9,
   "metadata": {
    "collapsed": false
   },
   "outputs": [],
   "source": [
    "campgrounds = pd.read_csv('or_nf_campgrounds.csv')\n",
    "campgrounds = campgrounds.head()"
   ]
  },
  {
   "cell_type": "code",
   "execution_count": null,
   "metadata": {
    "collapsed": true
   },
   "outputs": [],
   "source": []
  },
  {
   "cell_type": "code",
   "execution_count": 15,
   "metadata": {
    "collapsed": false
   },
   "outputs": [],
   "source": [
    "def extract_cg_info(campgrounds, area, outfile) :\n",
    "    for index, campground in campgrounds.iterrows():\n",
    "        latitude = longitude = elevation = site_id = numsites = \"\"\n",
    "        fees = openseason = usage = water = restroom = status = \"\"\n",
    "\n",
    "        print(campground['site_name'] + '\\t' + campground['site_url'])\n",
    "        try :\n",
    "            cg_req = requests.get(campground['site_url'])\n",
    "            cg_soup = BeautifulSoup(cg_req.text, 'lxml')\n",
    "            site_id = campground['site_url'].split('?')[1].split('&')[0].split('=')[1]\n",
    "        except Exception as ex :\n",
    "            print('couldnt get site_url ' + campground['site_url'])\n",
    "            print(ex)\n",
    "            continue\n",
    "\n",
    "        # get area status if available\n",
    "        try :\n",
    "            for strong_tag in cg_soup.find_all('strong'):\n",
    "                if ('Area Status' in unidecode(strong_tag.text)):\n",
    "                    status = unidecode(strong_tag.next_sibling).strip()\n",
    "        except Exception:\n",
    "            print('couldnt get area status')\n",
    "\n",
    "\n",
    "        print(\"getting location\")\n",
    "        # get lat, long, altitude\n",
    "        try :\n",
    "            lat = cg_soup.find_all('div', text=re.compile('Latitude'))\n",
    "            div = [row.next_sibling.next_sibling for row in lat]\n",
    "            latitude  = div[0].text.strip()\n",
    "\n",
    "            lng = cg_soup.find_all('div', text=re.compile('Longitude'))\n",
    "            div = [row.next_sibling.next_sibling for row in lng]\n",
    "            longitude  = div[0].text.strip()\n",
    "\n",
    "            el = cg_soup.find_all('div', text=re.compile('Elevation'))\n",
    "            div = [row.next_sibling.next_sibling for row in el]\n",
    "            elevation  = div[0].text.strip()\n",
    "\n",
    "            # get site usage, type, num sites, site info\n",
    "\n",
    "        except Exception:\n",
    "            print('couldnt get location info')\n",
    "\n",
    "        # table[0] is the basic info table\n",
    "        print(\"getting basic info\")\n",
    "\n",
    "        try :\n",
    "            tables = cg_soup.find_all('div', {'class': 'tablecolor'})\n",
    "        except Exception:\n",
    "            print('couldnt get tables')\n",
    "\n",
    "        try :\n",
    "            rows = tables[0].find_all('tr')\n",
    "\n",
    "            for row in rows:\n",
    "                if row.th.text == 'Reservations:':\n",
    "                    reservations = unidecode(row.td.text).strip()\n",
    "                if row.th.text == 'Open Season:':\n",
    "                    openseason = unidecode(row.td.text).strip()\n",
    "                if row.th.text == 'Current Conditions:':\n",
    "                    conditions = unidecode(row.td.text).strip()\n",
    "                if row.th.text == 'Water:':\n",
    "                    water = unidecode(row.td.text).strip()\n",
    "                if row.th.text == 'Restroom:':\n",
    "                    restroom = unidecode(row.td.text).strip()\n",
    "        except Exception :\n",
    "            print('couldnt get basic campground info')\n",
    "\n",
    "        # table 1 is the campground info\n",
    "        print(\"getting reservation info\")\n",
    "        try:\n",
    "            rows = tables[1].find_all('tr')\n",
    "\n",
    "            for row in rows:\n",
    "                if row.td.text == 'Reservation Info':\n",
    "                    reserveinfo = unidecode(row.td.next_sibling.text).strip()\n",
    "                if row.td.text == 'No. of Sites':\n",
    "                    numsites = unidecode(row.td.next_sibling.text).strip()\n",
    "        except Exception:\n",
    "            print('couldnt get campsite availability info')\n",
    "        \n",
    "        # assemble into DataFrame\n",
    "        print('appending data')\n",
    "        df_cg = pd.DataFrame ({\n",
    "            'latitude': [latitude],\n",
    "            'longitude': [longitude],\n",
    "            'elevation': [elevation],\n",
    "            'facilityname' : [campground['site_name']],\n",
    "            'facilityurl' : [campground['site_url']],\n",
    "            'facilityid' : [site_id],\n",
    "            'datasrc': [\"NFS\"],\n",
    "            'status' : [status],\n",
    "            'openseason' : [openseason],\n",
    "            'water' : [water],\n",
    "            'restroom' : [restroom],\n",
    "            'reserveinfo': [reserveinfo],\n",
    "            'reservations': [reservations],\n",
    "            'conditions': [conditions],\n",
    "            'numsites': [numsites]\n",
    "            })\n",
    "\n",
    "        #print df_cg\n",
    "        print('writing to file')\n",
    "\n",
    "        if not os.path.isfile(outfile):\n",
    "           df_cg.to_csv(outfile,header ='column_names', index=False)\n",
    "        else: # else it exists so append without writing the header\n",
    "            df_cg.to_csv(outfile,mode = 'a',header=False, index=False)"
   ]
  },
  {
   "cell_type": "code",
   "execution_count": 16,
   "metadata": {
    "collapsed": false
   },
   "outputs": [
    {
     "name": "stdout",
     "output_type": "stream",
     "text": [
      "Badger Lake Campground\thttp://www.fs.usda.gov/recarea/mthood/recreation/camping-cabins/recarea/?recid=52784&actid=29\n",
      "couldnt get site_url http://www.fs.usda.gov/recarea/mthood/recreation/camping-cabins/recarea/?recid=52784&actid=29\n",
      "Couldn't find a tree builder with the features you requested: lxml. Do you need to install a parser library?\n",
      "Bear Springs Group Campground\thttp://www.fs.usda.gov/recarea/mthood/recreation/camping-cabins/recarea/?recid=52786&actid=29\n",
      "couldnt get site_url http://www.fs.usda.gov/recarea/mthood/recreation/camping-cabins/recarea/?recid=52786&actid=29\n",
      "Couldn't find a tree builder with the features you requested: lxml. Do you need to install a parser library?\n",
      "Bonney Crossing Campground\thttp://www.fs.usda.gov/recarea/mthood/recreation/camping-cabins/recarea/?recid=52790&actid=29\n",
      "couldnt get site_url http://www.fs.usda.gov/recarea/mthood/recreation/camping-cabins/recarea/?recid=52790&actid=29\n",
      "Couldn't find a tree builder with the features you requested: lxml. Do you need to install a parser library?\n",
      "Bonney Meadow Campground\thttp://www.fs.usda.gov/recarea/mthood/recreation/camping-cabins/recarea/?recid=52792&actid=29\n",
      "couldnt get site_url http://www.fs.usda.gov/recarea/mthood/recreation/camping-cabins/recarea/?recid=52792&actid=29\n",
      "Couldn't find a tree builder with the features you requested: lxml. Do you need to install a parser library?\n",
      "Bonney Meadows Trail  #471\thttp://www.fs.usda.govhttp://www.fs.usda.gov/recarea/mthood/recreation/hiking/recarea/?recid=80374&actid=50\n",
      "couldnt get site_url http://www.fs.usda.govhttp://www.fs.usda.gov/recarea/mthood/recreation/hiking/recarea/?recid=80374&actid=50\n",
      "HTTPConnectionPool(host='www.fs.usda.govhttp', port=80): Max retries exceeded with url: //www.fs.usda.gov/recarea/mthood/recreation/hiking/recarea/?recid=80374&actid=50 (Caused by NewConnectionError('<requests.packages.urllib3.connection.HTTPConnection object at 0x7f855a7cd5c0>: Failed to establish a new connection: [Errno -2] Name or service not known',))\n"
     ]
    }
   ],
   "source": [
    "test = extract_cg_info(campgrounds, \"Mt Hood NF\", \"out.csv\")"
   ]
  },
  {
   "cell_type": "code",
   "execution_count": 14,
   "metadata": {
    "collapsed": false
   },
   "outputs": [
    {
     "ename": "AttributeError",
     "evalue": "'NoneType' object has no attribute 'shape'",
     "output_type": "error",
     "traceback": [
      "\u001b[1;31m---------------------------------------------------------------------------\u001b[0m",
      "\u001b[1;31mAttributeError\u001b[0m                            Traceback (most recent call last)",
      "\u001b[1;32m<ipython-input-14-3de001cc2de6>\u001b[0m in \u001b[0;36m<module>\u001b[1;34m()\u001b[0m\n\u001b[1;32m----> 1\u001b[1;33m \u001b[0mtest\u001b[0m\u001b[1;33m.\u001b[0m\u001b[0mshape\u001b[0m\u001b[1;33m\u001b[0m\u001b[0m\n\u001b[0m",
      "\u001b[1;31mAttributeError\u001b[0m: 'NoneType' object has no attribute 'shape'"
     ]
    }
   ],
   "source": []
  },
  {
   "cell_type": "code",
   "execution_count": null,
   "metadata": {
    "collapsed": true
   },
   "outputs": [],
   "source": []
  }
 ],
 "metadata": {
  "kernelspec": {
   "display_name": "Python 3",
   "language": "python",
   "name": "python3"
  },
  "language_info": {
   "codemirror_mode": {
    "name": "ipython",
    "version": 3
   },
   "file_extension": ".py",
   "mimetype": "text/x-python",
   "name": "python",
   "nbconvert_exporter": "python",
   "pygments_lexer": "ipython3",
   "version": "3.4.3"
  }
 },
 "nbformat": 4,
 "nbformat_minor": 0
}
