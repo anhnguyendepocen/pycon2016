{
 "cells": [
  {
   "cell_type": "markdown",
   "metadata": {},
   "source": [
    "\n",
    "<h3>Querying the Recreational Information Database (RIDB)</h3>\n",
    "\n",
    "<img src=\"images/legolas.jpg\" width=30% style=\"display: inline-block\">\n",
    "<br>\n",
    "image source: jadensadventures.wikia.com\n",
    "<br>\n",
    "A well documented, actively maintained API with a responsive development team\n",
    "\n",
    "<br>\n",
    "[RIDB homepage](https://ridb.recreation.gov/)\n",
    "![](images/RIDB_header.png)\n",
    "\n",
    "<br>\n",
    "[Facilities Endpoint Documentation](http://usda.github.io/RIDB/#get-all-facilities)\n",
    "![](images/ridb_api_detail.png)\n"
   ]
  },
  {
   "cell_type": "code",
   "execution_count": 1,
   "metadata": {
    "collapsed": true
   },
   "outputs": [],
   "source": [
    "facilities_url = 'https://ridb.recreation.gov/api/v1/facilities'\n",
    "\n",
    "# camping activity ID is 9\n",
    "activity_id = 9\n",
    "limit = 50\n",
    "offset = 0"
   ]
  },
  {
   "cell_type": "code",
   "execution_count": 2,
   "metadata": {
    "collapsed": false
   },
   "outputs": [],
   "source": [
    "import requests\n",
    "import pandas as pd\n",
    "import json\n",
    "import math\n",
    "from pandas.io.json import json_normalize\n",
    "import config\n",
    "import re"
   ]
  },
  {
   "cell_type": "code",
   "execution_count": 7,
   "metadata": {
    "collapsed": false
   },
   "outputs": [
    {
     "data": {
      "text/plain": [
       "20"
      ]
     },
     "execution_count": 7,
     "metadata": {},
     "output_type": "execute_result"
    }
   ],
   "source": [
    "pd.options.display.max_columns"
   ]
  },
  {
   "cell_type": "code",
   "execution_count": 5,
   "metadata": {
    "collapsed": false
   },
   "outputs": [],
   "source": [
    "def get_facilities():\n",
    "\n",
    "    #facilities_params = dict(apiKey=config.RIDB_API_KEY, state='OR', activity=activity_id, limit=limit, offset=0)\n",
    "    #facilities_resp = requests.get(url=facilities_url, params=facilities_params)\n",
    "    facilities_resp = requests.get('http://172.17.0.3/ridb_mock.json')\n",
    "    data = json.loads(facilities_resp.text)\n",
    "    print(len(data))\n",
    "    cg_info = pd.DataFrame()\n",
    "\n",
    "    print(\"Got cg info\")\n",
    "\n",
    "    for i in data:\n",
    "       \n",
    "        fac_name = i['FacilityName']\n",
    "        fac_id = i['FacilityID']\n",
    "        fac_lat = i['FacilityLatitude']\n",
    "        fac_long = i['FacilityLongitude']\n",
    "        #fac_resurl = i['FacilityReservationURL'] # not yet populated...\n",
    "        cg_info = cg_info.append(pd.DataFrame({'Name' : [fac_name], 'Fac_Id' : [fac_id], 'Lat' : [fac_lat], \\\n",
    "                                               'Long' : [fac_long]}))\n",
    "\n",
    "    return cg_info "
   ]
  },
  {
   "cell_type": "code",
   "execution_count": 6,
   "metadata": {
    "collapsed": false
   },
   "outputs": [
    {
     "name": "stdout",
     "output_type": "stream",
     "text": [
      "17\n",
      "Got cg info\n"
     ]
    }
   ],
   "source": [
    "ridb_data = get_facilities()"
   ]
  },
  {
   "cell_type": "code",
   "execution_count": 7,
   "metadata": {
    "collapsed": false
   },
   "outputs": [
    {
     "data": {
      "text/plain": [
       "(17, 4)"
      ]
     },
     "execution_count": 7,
     "metadata": {},
     "output_type": "execute_result"
    }
   ],
   "source": [
    "ridb_data.shape"
   ]
  },
  {
   "cell_type": "code",
   "execution_count": 8,
   "metadata": {
    "collapsed": false
   },
   "outputs": [
    {
     "data": {
      "text/html": [
       "<div>\n",
       "<table border=\"1\" class=\"dataframe\">\n",
       "  <thead>\n",
       "    <tr style=\"text-align: right;\">\n",
       "      <th></th>\n",
       "      <th>Fac_Id</th>\n",
       "      <th>Lat</th>\n",
       "      <th>Long</th>\n",
       "      <th>Name</th>\n",
       "    </tr>\n",
       "  </thead>\n",
       "  <tbody>\n",
       "    <tr>\n",
       "      <th>0</th>\n",
       "      <td>234075</td>\n",
       "      <td>45.3561</td>\n",
       "      <td>-121.987</td>\n",
       "      <td>WILDWOOD  RECREATION  SITE</td>\n",
       "    </tr>\n",
       "    <tr>\n",
       "      <th>0</th>\n",
       "      <td>236929</td>\n",
       "      <td>44.4839</td>\n",
       "      <td>-120.337</td>\n",
       "      <td>Wildwood  Campground</td>\n",
       "    </tr>\n",
       "    <tr>\n",
       "      <th>0</th>\n",
       "      <td>251470</td>\n",
       "      <td>44.6878</td>\n",
       "      <td>-122.009</td>\n",
       "      <td>WHISPERING  FALLS  CAMPGROUND</td>\n",
       "    </tr>\n",
       "    <tr>\n",
       "      <th>0</th>\n",
       "      <td>235897</td>\n",
       "      <td>45.5008</td>\n",
       "      <td>-121.816</td>\n",
       "      <td>Lost  Lake  Resort</td>\n",
       "    </tr>\n",
       "    <tr>\n",
       "      <th>0</th>\n",
       "      <td>244288</td>\n",
       "      <td>44.4293</td>\n",
       "      <td>-121.912</td>\n",
       "      <td>Lost  Lake  Campground</td>\n",
       "    </tr>\n",
       "    <tr>\n",
       "      <th>0</th>\n",
       "      <td>251434</td>\n",
       "      <td>45.4889</td>\n",
       "      <td>-121.822</td>\n",
       "      <td>LOST  LAKE  RESORT  AND  CAMPGROUND</td>\n",
       "    </tr>\n",
       "    <tr>\n",
       "      <th>0</th>\n",
       "      <td>232856</td>\n",
       "      <td>45.0736</td>\n",
       "      <td>-121.957</td>\n",
       "      <td>LAKE  HARRIET</td>\n",
       "    </tr>\n",
       "    <tr>\n",
       "      <th>0</th>\n",
       "      <td>235894</td>\n",
       "      <td>45.4575</td>\n",
       "      <td>-121.663</td>\n",
       "      <td>Kinnikinnick  (Laurance  Lake)  Campground</td>\n",
       "    </tr>\n",
       "    <tr>\n",
       "      <th>0</th>\n",
       "      <td>235790</td>\n",
       "      <td>45.3505</td>\n",
       "      <td>-121.473</td>\n",
       "      <td>Fifteenmile  Campground</td>\n",
       "    </tr>\n",
       "    <tr>\n",
       "      <th>0</th>\n",
       "      <td>232849</td>\n",
       "      <td>45.1811</td>\n",
       "      <td>-121.696</td>\n",
       "      <td>CLEAR  LAKE  (OR)</td>\n",
       "    </tr>\n",
       "    <tr>\n",
       "      <th>0</th>\n",
       "      <td>234247</td>\n",
       "      <td>45.1494</td>\n",
       "      <td>-121.716</td>\n",
       "      <td>CLEAR  LAKE  CABIN  LOOKOUT</td>\n",
       "    </tr>\n",
       "    <tr>\n",
       "      <th>0</th>\n",
       "      <td>244175</td>\n",
       "      <td></td>\n",
       "      <td></td>\n",
       "      <td>Clear  Lake  Area</td>\n",
       "    </tr>\n",
       "    <tr>\n",
       "      <th>0</th>\n",
       "      <td>232837</td>\n",
       "      <td>45.3031</td>\n",
       "      <td>-121.865</td>\n",
       "      <td>CAMP  CREEK</td>\n",
       "    </tr>\n",
       "    <tr>\n",
       "      <th>0</th>\n",
       "      <td>243703</td>\n",
       "      <td>44.6725</td>\n",
       "      <td>-118.8</td>\n",
       "      <td>Lower  Camp  Creek  Campground</td>\n",
       "    </tr>\n",
       "    <tr>\n",
       "      <th>0</th>\n",
       "      <td>235781</td>\n",
       "      <td>45.305</td>\n",
       "      <td>-121.555</td>\n",
       "      <td>Badger  Lake  Campground</td>\n",
       "    </tr>\n",
       "    <tr>\n",
       "      <th>0</th>\n",
       "      <td>242417</td>\n",
       "      <td>45.6422</td>\n",
       "      <td>-121.925</td>\n",
       "      <td>Eagle  Creek  Campground</td>\n",
       "    </tr>\n",
       "    <tr>\n",
       "      <th>0</th>\n",
       "      <td>250923</td>\n",
       "      <td>45.6422</td>\n",
       "      <td>-121.925</td>\n",
       "      <td>EAGLE  CREEK  CAMPGROUND</td>\n",
       "    </tr>\n",
       "  </tbody>\n",
       "</table>\n",
       "</div>"
      ],
      "text/plain": [
       "   Fac_Id      Lat     Long                                        Name\n",
       "0  234075  45.3561 -121.987                  WILDWOOD  RECREATION  SITE\n",
       "0  236929  44.4839 -120.337                        Wildwood  Campground\n",
       "0  251470  44.6878 -122.009               WHISPERING  FALLS  CAMPGROUND\n",
       "0  235897  45.5008 -121.816                          Lost  Lake  Resort\n",
       "0  244288  44.4293 -121.912                      Lost  Lake  Campground\n",
       "0  251434  45.4889 -121.822         LOST  LAKE  RESORT  AND  CAMPGROUND\n",
       "0  232856  45.0736 -121.957                             LAKE  HARRIET  \n",
       "0  235894  45.4575 -121.663  Kinnikinnick  (Laurance  Lake)  Campground\n",
       "0  235790  45.3505 -121.473                     Fifteenmile  Campground\n",
       "0  232849  45.1811 -121.696                           CLEAR  LAKE  (OR)\n",
       "0  234247  45.1494 -121.716                 CLEAR  LAKE  CABIN  LOOKOUT\n",
       "0  244175                                             Clear  Lake  Area\n",
       "0  232837  45.3031 -121.865                                 CAMP  CREEK\n",
       "0  243703  44.6725   -118.8              Lower  Camp  Creek  Campground\n",
       "0  235781   45.305 -121.555                    Badger  Lake  Campground\n",
       "0  242417  45.6422 -121.925                    Eagle  Creek  Campground\n",
       "0  250923  45.6422 -121.925                    EAGLE  CREEK  CAMPGROUND"
      ]
     },
     "execution_count": 8,
     "metadata": {},
     "output_type": "execute_result"
    }
   ],
   "source": [
    "ridb_data"
   ]
  },
  {
   "cell_type": "code",
   "execution_count": null,
   "metadata": {
    "collapsed": true
   },
   "outputs": [],
   "source": []
  }
 ],
 "metadata": {
  "kernelspec": {
   "display_name": "Python 3",
   "language": "python",
   "name": "python3"
  },
  "language_info": {
   "codemirror_mode": {
    "name": "ipython",
    "version": 3
   },
   "file_extension": ".py",
   "mimetype": "text/x-python",
   "name": "python",
   "nbconvert_exporter": "python",
   "pygments_lexer": "ipython3",
   "version": "3.4.3"
  }
 },
 "nbformat": 4,
 "nbformat_minor": 0
}
