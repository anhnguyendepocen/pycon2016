{
 "cells": [
  {
   "cell_type": "markdown",
   "metadata": {},
   "source": [
    "### The RIDB API\n",
    "<img src=\"images/hobbit_house_expedia.jpeg\" style=\"display: inline-block\">\n",
    "<br>\n",
    "image source: expedia.com\n",
    "<br>\n",
    "<br>\n",
    "For an RIDB API Key: https://ridb.recreation.gov/?action=register"
   ]
  },
  {
   "cell_type": "code",
   "execution_count": 1,
   "metadata": {
    "collapsed": true
   },
   "outputs": [],
   "source": [
    "import pandas as pd \n",
    "import numpy as np\n",
    "import config\n",
    "import requests\n",
    "import json\n",
    "from pandas.io.json import json_normalize"
   ]
  },
  {
   "cell_type": "markdown",
   "metadata": {},
   "source": [
    "#### Get the data from RDIB"
   ]
  },
  {
   "cell_type": "code",
   "execution_count": 2,
   "metadata": {
    "collapsed": false
   },
   "outputs": [],
   "source": [
    "ridb_facilities_url = \"https://ridb.recreation.gov/api/v1/facilities\""
   ]
  },
  {
   "cell_type": "code",
   "execution_count": 3,
   "metadata": {
    "collapsed": false
   },
   "outputs": [],
   "source": [
    "camping_params = params=dict(activity_id=9, apiKey = config.RIDB_API_KEY,\\\n",
    "                             latitude=45.4977712, longitude=-121.8211673, radius=15)\n",
    "response = requests.get(ridb_facilities_url,camping_params)\n",
    "camping_json  = json.loads(response.text)\n",
    "camping_df = json_normalize(camping_json['RECDATA'])"
   ]
  },
  {
   "cell_type": "code",
   "execution_count": 4,
   "metadata": {
    "collapsed": false
   },
   "outputs": [
    {
     "data": {
      "text/plain": [
       "0                                RILEY HORSE CAMPGROUND\n",
       "1                                           STILL CREEK\n",
       "2                                              TOLLGATE\n",
       "3                                            CAMP CREEK\n",
       "4                                            LOST CREEK\n",
       "5                                    TILLY JANE A-FRAME\n",
       "6                              TILLY JANE GUARD STATION\n",
       "7                              WILDWOOD RECREATION SITE\n",
       "8                         EAGLE CREEK OVERLOOK GRP SITE\n",
       "9                            Hood River Ranger District\n",
       "10                              Castle Canyon Trailhead\n",
       "11                                 Cool Creek Trailhead\n",
       "12                             Dog River West Trailhead\n",
       "13                                   Elk Cove Trailhead\n",
       "14                               Herman Creek Trailhead\n",
       "15                                Hidden Lake Trailhead\n",
       "16                                Black Lake Campground\n",
       "17                          Cloud Cap Saddle Campground\n",
       "18                        Cooper Spur Ski Area - Alpine\n",
       "19                  East Fork Tamanawas Falls Trailhead\n",
       "20                            Gibson Prairie Horse Camp\n",
       "21              Kinnikinnick (Laurance Lake) Campground\n",
       "22                                     Lost Lake Resort\n",
       "23                           Mt Hood Meadows Ski Resort\n",
       "24                                Rainy Lake Campground\n",
       "25                                  Sherwood Campground\n",
       "26                                Tilly Jane Campground\n",
       "27                               Wahtum Lake Campground\n",
       "28                                    Alpine Campground\n",
       "29       Pacific Crest North - Indian Springs Trailhead\n",
       "30    Cast Creek, Horseshoe Ridge, Sandy River Trail...\n",
       "31                      Glacier View Sno-Park/Trailhead\n",
       "32         Government Camp Highway Maintenance Sno Park\n",
       "33                           Gov't Camp Summit Sno Park\n",
       "34                                    McNeil Campground\n",
       "35                                   Multorpor Sno Park\n",
       "36            Pacific Crest South - Lolo Pass Trailhead\n",
       "37                                    Ski Bowl Sno Park\n",
       "38                                      Skiway Sno Park\n",
       "39                      West Zigzag/Cast Lake Trailhead\n",
       "40                            Lower Hunchback Trailhead\n",
       "41            Kinnikinnick (Laurance Lake) Day Use Area\n",
       "42                                  Lakeshore Trailhead\n",
       "43                        Little Zigzag Falls Trailhead\n",
       "44                               Lost Lake Day Use Area\n",
       "45                                     Mazama Trailhead\n",
       "46                                Mcgee Creek Trailhead\n",
       "47                                Mirror Lake Trailhead\n",
       "48                            Lost Lake Butte Trailhead\n",
       "49                          Mt Defiance South Trailhead\n",
       "Name: FacilityName, dtype: object"
      ]
     },
     "execution_count": 4,
     "metadata": {},
     "output_type": "execute_result"
    }
   ],
   "source": [
    "camping_df.FacilityName"
   ]
  },
  {
   "cell_type": "code",
   "execution_count": 5,
   "metadata": {
    "collapsed": false
   },
   "outputs": [],
   "source": [
    "mock_url = \"http://\" + config.LAMP_IP + \"/ridb_mock.json\"\n",
    "camping_df = pd.read_json(mock_url)"
   ]
  },
  {
   "cell_type": "code",
   "execution_count": 6,
   "metadata": {
    "collapsed": false
   },
   "outputs": [
    {
     "data": {
      "text/html": [
       "<div>\n",
       "<table border=\"1\" class=\"dataframe\">\n",
       "  <thead>\n",
       "    <tr style=\"text-align: right;\">\n",
       "      <th></th>\n",
       "      <th>FacilityAdaAccess</th>\n",
       "      <th>FacilityDescription</th>\n",
       "      <th>FacilityDirections</th>\n",
       "      <th>FacilityEmail</th>\n",
       "      <th>FacilityID</th>\n",
       "      <th>FacilityLatitude</th>\n",
       "      <th>FacilityLongitude</th>\n",
       "      <th>FacilityMapURL</th>\n",
       "      <th>FacilityName</th>\n",
       "      <th>FacilityPhone</th>\n",
       "      <th>FacilityReservationURL</th>\n",
       "      <th>FacilityTypeDescription</th>\n",
       "      <th>FacilityUseFeeDescription</th>\n",
       "      <th>Keywords</th>\n",
       "      <th>LastUpdatedDate</th>\n",
       "      <th>LegacyFacilityID</th>\n",
       "      <th>OrgFacilityID</th>\n",
       "      <th>StayLimit</th>\n",
       "    </tr>\n",
       "  </thead>\n",
       "  <tbody>\n",
       "    <tr>\n",
       "      <th>0</th>\n",
       "      <td></td>\n",
       "      <td>&lt;h2&gt;Overview&lt;/h2&gt;Wildwood  Recreation  Site  i...</td>\n",
       "      <td>Wildwood  Recreation  Site  is  located  39  m...</td>\n",
       "      <td></td>\n",
       "      <td>234075</td>\n",
       "      <td>45.3561</td>\n",
       "      <td>-121.987</td>\n",
       "      <td></td>\n",
       "      <td>WILDWOOD  RECREATION  SITE</td>\n",
       "      <td>503-622-3696</td>\n",
       "      <td></td>\n",
       "      <td>Camping</td>\n",
       "      <td></td>\n",
       "      <td></td>\n",
       "      <td>2016-05-12</td>\n",
       "      <td>74082</td>\n",
       "      <td>AN374082</td>\n",
       "      <td></td>\n",
       "    </tr>\n",
       "    <tr>\n",
       "      <th>1</th>\n",
       "      <td></td>\n",
       "      <td>&lt;p&gt;This  small  rustic  campground  is  locate...</td>\n",
       "      <td>&lt;p&gt;&lt;u&gt;From  Prineville ,  Oregon&lt;/u&gt;:&lt;/p&gt;&lt;p&gt;Tr...</td>\n",
       "      <td></td>\n",
       "      <td>236929</td>\n",
       "      <td>44.4839</td>\n",
       "      <td>-120.337</td>\n",
       "      <td></td>\n",
       "      <td>Wildwood  Campground</td>\n",
       "      <td></td>\n",
       "      <td></td>\n",
       "      <td></td>\n",
       "      <td></td>\n",
       "      <td></td>\n",
       "      <td>2016-05-09</td>\n",
       "      <td></td>\n",
       "      <td>38780</td>\n",
       "      <td></td>\n",
       "    </tr>\n",
       "    <tr>\n",
       "      <th>2</th>\n",
       "      <td></td>\n",
       "      <td>&lt;h2&gt;Overview&lt;/h2&gt;Whispering  Falls  Campground...</td>\n",
       "      <td>8.3  miles  southeast  of  Detroit ,  Oregon: ...</td>\n",
       "      <td></td>\n",
       "      <td>251470</td>\n",
       "      <td>44.6878</td>\n",
       "      <td>-122.009</td>\n",
       "      <td></td>\n",
       "      <td>WHISPERING  FALLS  CAMPGROUND</td>\n",
       "      <td>503-854-3366</td>\n",
       "      <td></td>\n",
       "      <td>Camping</td>\n",
       "      <td></td>\n",
       "      <td></td>\n",
       "      <td>2016-05-12</td>\n",
       "      <td>127540</td>\n",
       "      <td>AN427540</td>\n",
       "      <td></td>\n",
       "    </tr>\n",
       "    <tr>\n",
       "      <th>3</th>\n",
       "      <td></td>\n",
       "      <td>&lt;p&gt;The  Resort  is  situated  on  the  shores ...</td>\n",
       "      <td>&lt;p&gt;&lt;u&gt;From  Portland ,  OR&lt;/u&gt;  Lost  Lake  Re...</td>\n",
       "      <td></td>\n",
       "      <td>235897</td>\n",
       "      <td>45.5008</td>\n",
       "      <td>-121.816</td>\n",
       "      <td></td>\n",
       "      <td>Lost  Lake  Resort</td>\n",
       "      <td></td>\n",
       "      <td></td>\n",
       "      <td></td>\n",
       "      <td></td>\n",
       "      <td></td>\n",
       "      <td>2016-05-09</td>\n",
       "      <td></td>\n",
       "      <td>53230</td>\n",
       "      <td></td>\n",
       "    </tr>\n",
       "    <tr>\n",
       "      <th>4</th>\n",
       "      <td></td>\n",
       "      <td>&lt;p&gt;Lost  Lake  Campground  is  adjacent  to  H...</td>\n",
       "      <td>&lt;p&gt;From  McKenzie  Bridge ,  OR ,  follow  Hig...</td>\n",
       "      <td></td>\n",
       "      <td>244288</td>\n",
       "      <td>44.4293</td>\n",
       "      <td>-121.912</td>\n",
       "      <td></td>\n",
       "      <td>Lost  Lake  Campground</td>\n",
       "      <td></td>\n",
       "      <td></td>\n",
       "      <td></td>\n",
       "      <td></td>\n",
       "      <td></td>\n",
       "      <td>2016-05-09</td>\n",
       "      <td></td>\n",
       "      <td>13362</td>\n",
       "      <td></td>\n",
       "    </tr>\n",
       "  </tbody>\n",
       "</table>\n",
       "</div>"
      ],
      "text/plain": [
       "  FacilityAdaAccess                                FacilityDescription  \\\n",
       "0                    <h2>Overview</h2>Wildwood  Recreation  Site  i...   \n",
       "1                    <p>This  small  rustic  campground  is  locate...   \n",
       "2                    <h2>Overview</h2>Whispering  Falls  Campground...   \n",
       "3                    <p>The  Resort  is  situated  on  the  shores ...   \n",
       "4                    <p>Lost  Lake  Campground  is  adjacent  to  H...   \n",
       "\n",
       "                                  FacilityDirections FacilityEmail  \\\n",
       "0  Wildwood  Recreation  Site  is  located  39  m...                 \n",
       "1  <p><u>From  Prineville ,  Oregon</u>:</p><p>Tr...                 \n",
       "2  8.3  miles  southeast  of  Detroit ,  Oregon: ...                 \n",
       "3  <p><u>From  Portland ,  OR</u>  Lost  Lake  Re...                 \n",
       "4  <p>From  McKenzie  Bridge ,  OR ,  follow  Hig...                 \n",
       "\n",
       "   FacilityID FacilityLatitude FacilityLongitude FacilityMapURL  \\\n",
       "0      234075          45.3561          -121.987                  \n",
       "1      236929          44.4839          -120.337                  \n",
       "2      251470          44.6878          -122.009                  \n",
       "3      235897          45.5008          -121.816                  \n",
       "4      244288          44.4293          -121.912                  \n",
       "\n",
       "                    FacilityName FacilityPhone FacilityReservationURL  \\\n",
       "0     WILDWOOD  RECREATION  SITE  503-622-3696                          \n",
       "1           Wildwood  Campground                                        \n",
       "2  WHISPERING  FALLS  CAMPGROUND  503-854-3366                          \n",
       "3             Lost  Lake  Resort                                        \n",
       "4         Lost  Lake  Campground                                        \n",
       "\n",
       "  FacilityTypeDescription FacilityUseFeeDescription Keywords LastUpdatedDate  \\\n",
       "0                 Camping                                         2016-05-12   \n",
       "1                                                                 2016-05-09   \n",
       "2                 Camping                                         2016-05-12   \n",
       "3                                                                 2016-05-09   \n",
       "4                                                                 2016-05-09   \n",
       "\n",
       "  LegacyFacilityID OrgFacilityID StayLimit  \n",
       "0            74082      AN374082            \n",
       "1                          38780            \n",
       "2           127540      AN427540            \n",
       "3                          53230            \n",
       "4                          13362            "
      ]
     },
     "execution_count": 6,
     "metadata": {},
     "output_type": "execute_result"
    }
   ],
   "source": [
    "camping_df.head()"
   ]
  },
  {
   "cell_type": "code",
   "execution_count": 7,
   "metadata": {
    "collapsed": false
   },
   "outputs": [
    {
     "data": {
      "text/plain": [
       "array(['2016-05-12', '2016-05-09', '2015-10-15', '2015-12-03'], dtype=object)"
      ]
     },
     "execution_count": 7,
     "metadata": {},
     "output_type": "execute_result"
    }
   ],
   "source": [
    "camping_df.LastUpdatedDate.unique()"
   ]
  },
  {
   "cell_type": "code",
   "execution_count": 8,
   "metadata": {
    "collapsed": false
   },
   "outputs": [
    {
     "data": {
      "text/plain": [
       "array([74082.0, '', 127540.0, 125541.0, 71641.0, 71633.0, 75097.0, 71620.0,\n",
       "       122890.0], dtype=object)"
      ]
     },
     "execution_count": 8,
     "metadata": {},
     "output_type": "execute_result"
    }
   ],
   "source": [
    "camping_df.LegacyFacilityID.unique()"
   ]
  },
  {
   "cell_type": "markdown",
   "metadata": {},
   "source": [
    "#### Clean up the data"
   ]
  },
  {
   "cell_type": "code",
   "execution_count": 9,
   "metadata": {
    "collapsed": false
   },
   "outputs": [
    {
     "data": {
      "text/plain": [
       "(17, 18)"
      ]
     },
     "execution_count": 9,
     "metadata": {},
     "output_type": "execute_result"
    }
   ],
   "source": [
    "camping_df.shape"
   ]
  },
  {
   "cell_type": "code",
   "execution_count": 10,
   "metadata": {
    "collapsed": true
   },
   "outputs": [],
   "source": [
    "camping_df = camping_df.replace('', np.nan)"
   ]
  },
  {
   "cell_type": "markdown",
   "metadata": {},
   "source": [
    "If using live data from RIDB, drop geojson coordinates - Lat/Long information duplicated, mysql 5.4 doesnt support geojson types (but 5.7 does!)"
   ]
  },
  {
   "cell_type": "code",
   "execution_count": 11,
   "metadata": {
    "collapsed": false
   },
   "outputs": [
    {
     "ename": "ValueError",
     "evalue": "labels ['GEOJSON.COORDINATES' 'GEOJSON.TYPE'] not contained in axis",
     "output_type": "error",
     "traceback": [
      "\u001b[1;31m\u001b[0m",
      "\u001b[1;31mValueError\u001b[0mTraceback (most recent call last)",
      "\u001b[1;32m<ipython-input-11-9a2b59a2be8b>\u001b[0m in \u001b[0;36m<module>\u001b[1;34m()\u001b[0m\n\u001b[1;32m----> 1\u001b[1;33m \u001b[0mcamping_df\u001b[0m \u001b[1;33m=\u001b[0m \u001b[0mcamping_df\u001b[0m\u001b[1;33m.\u001b[0m\u001b[0mdrop\u001b[0m\u001b[1;33m(\u001b[0m\u001b[1;33m[\u001b[0m\u001b[1;34m'GEOJSON.COORDINATES'\u001b[0m\u001b[1;33m,\u001b[0m\u001b[1;34m'GEOJSON.TYPE'\u001b[0m\u001b[1;33m]\u001b[0m\u001b[1;33m,\u001b[0m \u001b[0maxis\u001b[0m\u001b[1;33m=\u001b[0m\u001b[1;36m1\u001b[0m\u001b[1;33m)\u001b[0m\u001b[1;33m\u001b[0m\u001b[0m\n\u001b[0m",
      "\u001b[1;32m/usr/local/lib/python3.4/dist-packages/pandas/core/generic.py\u001b[0m in \u001b[0;36mdrop\u001b[1;34m(self, labels, axis, level, inplace, errors)\u001b[0m\n\u001b[0;32m   1875\u001b[0m                 \u001b[0mnew_axis\u001b[0m \u001b[1;33m=\u001b[0m \u001b[0maxis\u001b[0m\u001b[1;33m.\u001b[0m\u001b[0mdrop\u001b[0m\u001b[1;33m(\u001b[0m\u001b[0mlabels\u001b[0m\u001b[1;33m,\u001b[0m \u001b[0mlevel\u001b[0m\u001b[1;33m=\u001b[0m\u001b[0mlevel\u001b[0m\u001b[1;33m,\u001b[0m \u001b[0merrors\u001b[0m\u001b[1;33m=\u001b[0m\u001b[0merrors\u001b[0m\u001b[1;33m)\u001b[0m\u001b[1;33m\u001b[0m\u001b[0m\n\u001b[0;32m   1876\u001b[0m             \u001b[1;32melse\u001b[0m\u001b[1;33m:\u001b[0m\u001b[1;33m\u001b[0m\u001b[0m\n\u001b[1;32m-> 1877\u001b[1;33m                 \u001b[0mnew_axis\u001b[0m \u001b[1;33m=\u001b[0m \u001b[0maxis\u001b[0m\u001b[1;33m.\u001b[0m\u001b[0mdrop\u001b[0m\u001b[1;33m(\u001b[0m\u001b[0mlabels\u001b[0m\u001b[1;33m,\u001b[0m \u001b[0merrors\u001b[0m\u001b[1;33m=\u001b[0m\u001b[0merrors\u001b[0m\u001b[1;33m)\u001b[0m\u001b[1;33m\u001b[0m\u001b[0m\n\u001b[0m\u001b[0;32m   1878\u001b[0m             \u001b[0mdropped\u001b[0m \u001b[1;33m=\u001b[0m \u001b[0mself\u001b[0m\u001b[1;33m.\u001b[0m\u001b[0mreindex\u001b[0m\u001b[1;33m(\u001b[0m\u001b[1;33m**\u001b[0m\u001b[1;33m{\u001b[0m\u001b[0maxis_name\u001b[0m\u001b[1;33m:\u001b[0m \u001b[0mnew_axis\u001b[0m\u001b[1;33m}\u001b[0m\u001b[1;33m)\u001b[0m\u001b[1;33m\u001b[0m\u001b[0m\n\u001b[0;32m   1879\u001b[0m             \u001b[1;32mtry\u001b[0m\u001b[1;33m:\u001b[0m\u001b[1;33m\u001b[0m\u001b[0m\n",
      "\u001b[1;32m/usr/local/lib/python3.4/dist-packages/pandas/indexes/base.py\u001b[0m in \u001b[0;36mdrop\u001b[1;34m(self, labels, errors)\u001b[0m\n\u001b[0;32m   3049\u001b[0m             \u001b[1;32mif\u001b[0m \u001b[0merrors\u001b[0m \u001b[1;33m!=\u001b[0m \u001b[1;34m'ignore'\u001b[0m\u001b[1;33m:\u001b[0m\u001b[1;33m\u001b[0m\u001b[0m\n\u001b[0;32m   3050\u001b[0m                 raise ValueError('labels %s not contained in axis' %\n\u001b[1;32m-> 3051\u001b[1;33m                                  labels[mask])\n\u001b[0m\u001b[0;32m   3052\u001b[0m             \u001b[0mindexer\u001b[0m \u001b[1;33m=\u001b[0m \u001b[0mindexer\u001b[0m\u001b[1;33m[\u001b[0m\u001b[1;33m~\u001b[0m\u001b[0mmask\u001b[0m\u001b[1;33m]\u001b[0m\u001b[1;33m\u001b[0m\u001b[0m\n\u001b[0;32m   3053\u001b[0m         \u001b[1;32mreturn\u001b[0m \u001b[0mself\u001b[0m\u001b[1;33m.\u001b[0m\u001b[0mdelete\u001b[0m\u001b[1;33m(\u001b[0m\u001b[0mindexer\u001b[0m\u001b[1;33m)\u001b[0m\u001b[1;33m\u001b[0m\u001b[0m\n",
      "\u001b[1;31mValueError\u001b[0m: labels ['GEOJSON.COORDINATES' 'GEOJSON.TYPE'] not contained in axis"
     ]
    }
   ],
   "source": [
    "#camping_df = camping_df.drop(['GEOJSON.COORDINATES','GEOJSON.TYPE'], axis=1)"
   ]
  },
  {
   "cell_type": "markdown",
   "metadata": {},
   "source": [
    "For this tutorial, we only want campgrounds with Lat/Long data. Drop any campgrounds that dont have it."
   ]
  },
  {
   "cell_type": "code",
   "execution_count": null,
   "metadata": {
    "collapsed": false
   },
   "outputs": [],
   "source": [
    "camping_df[camping_df.FacilityLatitude.isnull()]"
   ]
  },
  {
   "cell_type": "code",
   "execution_count": null,
   "metadata": {
    "collapsed": true
   },
   "outputs": [],
   "source": [
    "camping_df = camping_df.dropna(subset=['FacilityLatitude','FacilityLongitude'])"
   ]
  },
  {
   "cell_type": "code",
   "execution_count": null,
   "metadata": {
    "collapsed": false
   },
   "outputs": [],
   "source": [
    "camping_df[camping_df.FacilityLatitude.isnull()]"
   ]
  },
  {
   "cell_type": "markdown",
   "metadata": {},
   "source": [
    "When working with data - always check shape!!"
   ]
  },
  {
   "cell_type": "code",
   "execution_count": null,
   "metadata": {
    "collapsed": false
   },
   "outputs": [],
   "source": [
    "camping_df.shape"
   ]
  },
  {
   "cell_type": "markdown",
   "metadata": {},
   "source": [
    "#### Store the data"
   ]
  },
  {
   "cell_type": "code",
   "execution_count": null,
   "metadata": {
    "collapsed": true
   },
   "outputs": [],
   "source": [
    "camping_df.to_csv('test.csv', index=False)"
   ]
  },
  {
   "cell_type": "code",
   "execution_count": null,
   "metadata": {
    "collapsed": true
   },
   "outputs": [],
   "source": [
    "csv_test = pd.read_csv('test.csv')"
   ]
  },
  {
   "cell_type": "code",
   "execution_count": null,
   "metadata": {
    "collapsed": false
   },
   "outputs": [],
   "source": [
    "csv_test.head()"
   ]
  },
  {
   "cell_type": "code",
   "execution_count": null,
   "metadata": {
    "collapsed": true
   },
   "outputs": [],
   "source": [
    "from sqlalchemy import create_engine\n",
    "connectStr = \"mysql+pymysql://\" + config.DB_USER + \":\" + config.DB_PASS + \"@\" + config.DB_HOST +  \"/\" + config.DB_NAME\n",
    "engine =create_engine(connectStr)"
   ]
  },
  {
   "cell_type": "code",
   "execution_count": null,
   "metadata": {
    "collapsed": false
   },
   "outputs": [],
   "source": [
    "camping_df.to_sql('test',engine,if_exists='replace')"
   ]
  },
  {
   "cell_type": "code",
   "execution_count": null,
   "metadata": {
    "collapsed": false
   },
   "outputs": [],
   "source": [
    "sql_test = pd.read_sql('select * from test', engine, index_col='index')"
   ]
  },
  {
   "cell_type": "code",
   "execution_count": null,
   "metadata": {
    "collapsed": false
   },
   "outputs": [],
   "source": [
    "sql_test.head()"
   ]
  },
  {
   "cell_type": "code",
   "execution_count": null,
   "metadata": {
    "collapsed": false
   },
   "outputs": [],
   "source": [
    "sql_test.LastUpdatedDate.unique()"
   ]
  },
  {
   "cell_type": "code",
   "execution_count": null,
   "metadata": {
    "collapsed": false
   },
   "outputs": [],
   "source": [
    "sum(sql_test.LegacyFacilityID.isnull())"
   ]
  },
  {
   "cell_type": "code",
   "execution_count": null,
   "metadata": {
    "collapsed": true
   },
   "outputs": [],
   "source": []
  }
 ],
 "metadata": {
  "kernelspec": {
   "display_name": "Python 3",
   "language": "python",
   "name": "python3"
  },
  "language_info": {
   "codemirror_mode": {
    "name": "ipython",
    "version": 3
   },
   "file_extension": ".py",
   "mimetype": "text/x-python",
   "name": "python",
   "nbconvert_exporter": "python",
   "pygments_lexer": "ipython3",
   "version": "3.4.3"
  }
 },
 "nbformat": 4,
 "nbformat_minor": 0
}
