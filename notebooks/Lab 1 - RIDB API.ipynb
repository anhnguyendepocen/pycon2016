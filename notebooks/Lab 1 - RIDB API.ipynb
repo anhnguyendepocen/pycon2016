{
 "cells": [
  {
   "cell_type": "markdown",
   "metadata": {},
   "source": [
    "### The RIDB API\n",
    "<img src=\"images/hobbit_house_expedia.jpeg\"style=\"display: inline-block\">\n",
    "<br>\n",
    "image source: expedia.com\n",
    "<br>\n",
    "<br>\n",
    "For an RIDB API Key: https://ridb.recreation.gov/?action=register"
   ]
  },
  {
   "cell_type": "code",
   "execution_count": 75,
   "metadata": {
    "collapsed": true
   },
   "outputs": [],
   "source": [
    "import pandas as pd \n",
    "import numpy as np\n",
    "import config\n",
    "import requests\n",
    "import json\n",
    "from pandas.io.json import json_normalize"
   ]
  },
  {
   "cell_type": "markdown",
   "metadata": {},
   "source": [
    "#### Get the data from RDIB"
   ]
  },
  {
   "cell_type": "code",
   "execution_count": 62,
   "metadata": {
    "collapsed": false
   },
   "outputs": [],
   "source": [
    "ridb_facilities_url = config.RIDB_ENDPOINT + \"/facilities\"\n",
    "camping_params = params=dict(activity_id=9, state='OR', apiKey = config.RIDB_API_KEY,\\\n",
    "                             latitude=45.3300, longitude=-121.7089, radius=5)\n",
    "response = requests.get(ridb_facilities_url,camping_params)"
   ]
  },
  {
   "cell_type": "code",
   "execution_count": null,
   "metadata": {
    "collapsed": false
   },
   "outputs": [],
   "source": [
    "mock_url = \"http://\" + config.LAMP_IP + \"/ridb_mthood_camping_mock.json\"\n",
    "response = pd.read_json(mock_url)"
   ]
  },
  {
   "cell_type": "code",
   "execution_count": 63,
   "metadata": {
    "collapsed": false
   },
   "outputs": [],
   "source": [
    "camping_json  = json.loads(response.text)\n",
    "camping_df = json_normalize(camping_json['RECDATA'])"
   ]
  },
  {
   "cell_type": "code",
   "execution_count": 64,
   "metadata": {
    "collapsed": false
   },
   "outputs": [
    {
     "data": {
      "text/html": [
       "<div>\n",
       "<table border=\"1\" class=\"dataframe\">\n",
       "  <thead>\n",
       "    <tr style=\"text-align: right;\">\n",
       "      <th></th>\n",
       "      <th>FacilityAdaAccess</th>\n",
       "      <th>FacilityDescription</th>\n",
       "      <th>FacilityDirections</th>\n",
       "      <th>FacilityEmail</th>\n",
       "      <th>FacilityID</th>\n",
       "      <th>FacilityLatitude</th>\n",
       "      <th>FacilityLongitude</th>\n",
       "      <th>FacilityMapURL</th>\n",
       "      <th>FacilityName</th>\n",
       "      <th>FacilityPhone</th>\n",
       "      <th>FacilityReservationURL</th>\n",
       "      <th>FacilityTypeDescription</th>\n",
       "      <th>FacilityUseFeeDescription</th>\n",
       "      <th>GEOJSON.COORDINATES</th>\n",
       "      <th>GEOJSON.TYPE</th>\n",
       "      <th>Keywords</th>\n",
       "      <th>LastUpdatedDate</th>\n",
       "      <th>LegacyFacilityID</th>\n",
       "      <th>OrgFacilityID</th>\n",
       "      <th>StayLimit</th>\n",
       "    </tr>\n",
       "  </thead>\n",
       "  <tbody>\n",
       "    <tr>\n",
       "      <th>0</th>\n",
       "      <td></td>\n",
       "      <td>&lt;h2&gt;Overview&lt;/h2&gt;Trillium Lake Campground is a...</td>\n",
       "      <td>From Portland, travel southeast on Highway 26 ...</td>\n",
       "      <td></td>\n",
       "      <td>232831</td>\n",
       "      <td>45.270000</td>\n",
       "      <td>-121.734444</td>\n",
       "      <td></td>\n",
       "      <td>TRILLIUM</td>\n",
       "      <td>503-272-3220</td>\n",
       "      <td></td>\n",
       "      <td>Camping</td>\n",
       "      <td></td>\n",
       "      <td>[-121.73444444444445, 45.269999999999996]</td>\n",
       "      <td>Point</td>\n",
       "      <td></td>\n",
       "      <td>2016-05-26</td>\n",
       "      <td>71614</td>\n",
       "      <td>AN371614</td>\n",
       "      <td></td>\n",
       "    </tr>\n",
       "    <tr>\n",
       "      <th>1</th>\n",
       "      <td></td>\n",
       "      <td>&lt;h2&gt;Overview&lt;/h2&gt;Still Creek Campground lies i...</td>\n",
       "      <td>From Portland, travel east on Highway 26 to Go...</td>\n",
       "      <td></td>\n",
       "      <td>232835</td>\n",
       "      <td>45.295833</td>\n",
       "      <td>-121.735556</td>\n",
       "      <td></td>\n",
       "      <td>STILL CREEK</td>\n",
       "      <td>541-328-0909</td>\n",
       "      <td></td>\n",
       "      <td>Camping</td>\n",
       "      <td></td>\n",
       "      <td>[-121.73555555555555, 45.295833333333334]</td>\n",
       "      <td>Point</td>\n",
       "      <td></td>\n",
       "      <td>2016-05-26</td>\n",
       "      <td>71618</td>\n",
       "      <td>AN371618</td>\n",
       "      <td></td>\n",
       "    </tr>\n",
       "    <tr>\n",
       "      <th>2</th>\n",
       "      <td></td>\n",
       "      <td>&lt;p&gt;Dispersed camping is available from this tr...</td>\n",
       "      <td>&lt;p&gt;&lt;u&gt;From Hood River, OR&lt;/u&gt;&amp;nbsp;travel 36.2...</td>\n",
       "      <td></td>\n",
       "      <td>235865</td>\n",
       "      <td>45.282100</td>\n",
       "      <td>-121.678700</td>\n",
       "      <td></td>\n",
       "      <td>Devils Half Acre Trailhead</td>\n",
       "      <td></td>\n",
       "      <td></td>\n",
       "      <td></td>\n",
       "      <td></td>\n",
       "      <td>[-121.6787, 45.2821]</td>\n",
       "      <td>Point</td>\n",
       "      <td></td>\n",
       "      <td>2016-05-09</td>\n",
       "      <td></td>\n",
       "      <td>53072</td>\n",
       "      <td></td>\n",
       "    </tr>\n",
       "    <tr>\n",
       "      <th>3</th>\n",
       "      <td></td>\n",
       "      <td>&lt;p&gt;The Hidden Lake Trailhead leads to the Hidd...</td>\n",
       "      <td>&lt;p&gt;From &lt;u&gt;Portland, OR&lt;/u&gt; - follow U.S. Hwy ...</td>\n",
       "      <td></td>\n",
       "      <td>235880</td>\n",
       "      <td>45.313528</td>\n",
       "      <td>-121.799667</td>\n",
       "      <td></td>\n",
       "      <td>Hidden Lake Trailhead</td>\n",
       "      <td></td>\n",
       "      <td></td>\n",
       "      <td></td>\n",
       "      <td></td>\n",
       "      <td>[-121.799667, 45.313528]</td>\n",
       "      <td>Point</td>\n",
       "      <td></td>\n",
       "      <td>2016-05-09</td>\n",
       "      <td></td>\n",
       "      <td>53128</td>\n",
       "      <td></td>\n",
       "    </tr>\n",
       "    <tr>\n",
       "      <th>4</th>\n",
       "      <td></td>\n",
       "      <td>&lt;p&gt;This trail and Sno Park is along the Histor...</td>\n",
       "      <td>&lt;p&gt;From &lt;u&gt;Hood River, OR&lt;/u&gt; travel 36.2 mile...</td>\n",
       "      <td></td>\n",
       "      <td>235883</td>\n",
       "      <td>45.282969</td>\n",
       "      <td>-121.684789</td>\n",
       "      <td></td>\n",
       "      <td>Barlow Pass Sno Park/Trailhead</td>\n",
       "      <td></td>\n",
       "      <td></td>\n",
       "      <td></td>\n",
       "      <td></td>\n",
       "      <td>[-121.684789, 45.282969]</td>\n",
       "      <td>Point</td>\n",
       "      <td></td>\n",
       "      <td>2016-05-09</td>\n",
       "      <td></td>\n",
       "      <td>53138</td>\n",
       "      <td></td>\n",
       "    </tr>\n",
       "  </tbody>\n",
       "</table>\n",
       "</div>"
      ],
      "text/plain": [
       "  FacilityAdaAccess                                FacilityDescription  \\\n",
       "0                    <h2>Overview</h2>Trillium Lake Campground is a...   \n",
       "1                    <h2>Overview</h2>Still Creek Campground lies i...   \n",
       "2                    <p>Dispersed camping is available from this tr...   \n",
       "3                    <p>The Hidden Lake Trailhead leads to the Hidd...   \n",
       "4                    <p>This trail and Sno Park is along the Histor...   \n",
       "\n",
       "                                  FacilityDirections FacilityEmail  \\\n",
       "0  From Portland, travel southeast on Highway 26 ...                 \n",
       "1  From Portland, travel east on Highway 26 to Go...                 \n",
       "2  <p><u>From Hood River, OR</u>&nbsp;travel 36.2...                 \n",
       "3  <p>From <u>Portland, OR</u> - follow U.S. Hwy ...                 \n",
       "4  <p>From <u>Hood River, OR</u> travel 36.2 mile...                 \n",
       "\n",
       "   FacilityID  FacilityLatitude  FacilityLongitude FacilityMapURL  \\\n",
       "0      232831         45.270000        -121.734444                  \n",
       "1      232835         45.295833        -121.735556                  \n",
       "2      235865         45.282100        -121.678700                  \n",
       "3      235880         45.313528        -121.799667                  \n",
       "4      235883         45.282969        -121.684789                  \n",
       "\n",
       "                     FacilityName FacilityPhone FacilityReservationURL  \\\n",
       "0                        TRILLIUM  503-272-3220                          \n",
       "1                     STILL CREEK  541-328-0909                          \n",
       "2      Devils Half Acre Trailhead                                        \n",
       "3           Hidden Lake Trailhead                                        \n",
       "4  Barlow Pass Sno Park/Trailhead                                        \n",
       "\n",
       "  FacilityTypeDescription FacilityUseFeeDescription  \\\n",
       "0                 Camping                             \n",
       "1                 Camping                             \n",
       "2                                                     \n",
       "3                                                     \n",
       "4                                                     \n",
       "\n",
       "                         GEOJSON.COORDINATES GEOJSON.TYPE Keywords  \\\n",
       "0  [-121.73444444444445, 45.269999999999996]        Point            \n",
       "1  [-121.73555555555555, 45.295833333333334]        Point            \n",
       "2                       [-121.6787, 45.2821]        Point            \n",
       "3                   [-121.799667, 45.313528]        Point            \n",
       "4                   [-121.684789, 45.282969]        Point            \n",
       "\n",
       "  LastUpdatedDate LegacyFacilityID OrgFacilityID StayLimit  \n",
       "0      2016-05-26            71614      AN371614            \n",
       "1      2016-05-26            71618      AN371618            \n",
       "2      2016-05-09                          53072            \n",
       "3      2016-05-09                          53128            \n",
       "4      2016-05-09                          53138            "
      ]
     },
     "execution_count": 64,
     "metadata": {},
     "output_type": "execute_result"
    }
   ],
   "source": [
    "camping_df.head()"
   ]
  },
  {
   "cell_type": "code",
   "execution_count": 68,
   "metadata": {
    "collapsed": false
   },
   "outputs": [
    {
     "data": {
      "text/plain": [
       "array(['2016-05-26', '2016-05-09', '2015-09-18'], dtype=object)"
      ]
     },
     "execution_count": 68,
     "metadata": {},
     "output_type": "execute_result"
    }
   ],
   "source": [
    "camping_df.LastUpdatedDate.unique()"
   ]
  },
  {
   "cell_type": "code",
   "execution_count": 73,
   "metadata": {
    "collapsed": false
   },
   "outputs": [
    {
     "data": {
      "text/plain": [
       "array([71614.0, 71618.0, ''], dtype=object)"
      ]
     },
     "execution_count": 73,
     "metadata": {},
     "output_type": "execute_result"
    }
   ],
   "source": [
    "camping_df.LegacyFacilityID.unique()"
   ]
  },
  {
   "cell_type": "markdown",
   "metadata": {},
   "source": [
    "#### Clean up the data"
   ]
  },
  {
   "cell_type": "code",
   "execution_count": 99,
   "metadata": {
    "collapsed": true
   },
   "outputs": [],
   "source": [
    "camping_df = camping_df.replace('', np.nan)"
   ]
  },
  {
   "cell_type": "markdown",
   "metadata": {},
   "source": [
    "Drop geojson coordinates - Lat/Long information duplicated, mysql 5.4 doesnt support geojson types (but 5.7 does!)"
   ]
  },
  {
   "cell_type": "code",
   "execution_count": 100,
   "metadata": {
    "collapsed": true
   },
   "outputs": [],
   "source": [
    "camping_df = camping_df.drop(['GEOJSON.COORDINATES','GEOJSON.TYPE'], axis=1)"
   ]
  },
  {
   "cell_type": "code",
   "execution_count": 131,
   "metadata": {
    "collapsed": false
   },
   "outputs": [
    {
     "data": {
      "text/plain": [
       "29"
      ]
     },
     "execution_count": 131,
     "metadata": {},
     "output_type": "execute_result"
    }
   ],
   "source": [
    "sum(camping_df.FacilityAdaAccess.isnull())"
   ]
  },
  {
   "cell_type": "markdown",
   "metadata": {},
   "source": [
    "#### Store the data"
   ]
  },
  {
   "cell_type": "code",
   "execution_count": 130,
   "metadata": {
    "collapsed": true
   },
   "outputs": [],
   "source": [
    "camping_df.to_csv('test.csv', index=False)"
   ]
  },
  {
   "cell_type": "code",
   "execution_count": 106,
   "metadata": {
    "collapsed": true
   },
   "outputs": [],
   "source": [
    "csv_test = pd.read_csv('test.csv')"
   ]
  },
  {
   "cell_type": "code",
   "execution_count": 107,
   "metadata": {
    "collapsed": false
   },
   "outputs": [
    {
     "data": {
      "text/html": [
       "<div>\n",
       "<table border=\"1\" class=\"dataframe\">\n",
       "  <thead>\n",
       "    <tr style=\"text-align: right;\">\n",
       "      <th></th>\n",
       "      <th>FacilityAdaAccess</th>\n",
       "      <th>FacilityDescription</th>\n",
       "      <th>FacilityDirections</th>\n",
       "      <th>FacilityEmail</th>\n",
       "      <th>FacilityID</th>\n",
       "      <th>FacilityLatitude</th>\n",
       "      <th>FacilityLongitude</th>\n",
       "      <th>FacilityMapURL</th>\n",
       "      <th>FacilityName</th>\n",
       "      <th>FacilityPhone</th>\n",
       "      <th>FacilityReservationURL</th>\n",
       "      <th>FacilityTypeDescription</th>\n",
       "      <th>FacilityUseFeeDescription</th>\n",
       "      <th>Keywords</th>\n",
       "      <th>LastUpdatedDate</th>\n",
       "      <th>LegacyFacilityID</th>\n",
       "      <th>OrgFacilityID</th>\n",
       "      <th>StayLimit</th>\n",
       "    </tr>\n",
       "  </thead>\n",
       "  <tbody>\n",
       "    <tr>\n",
       "      <th>0</th>\n",
       "      <td>NaN</td>\n",
       "      <td>&lt;h2&gt;Overview&lt;/h2&gt;Trillium Lake Campground is a...</td>\n",
       "      <td>From Portland, travel southeast on Highway 26 ...</td>\n",
       "      <td>NaN</td>\n",
       "      <td>232831</td>\n",
       "      <td>45.270000</td>\n",
       "      <td>-121.734444</td>\n",
       "      <td>NaN</td>\n",
       "      <td>TRILLIUM</td>\n",
       "      <td>503-272-3220</td>\n",
       "      <td>NaN</td>\n",
       "      <td>Camping</td>\n",
       "      <td>NaN</td>\n",
       "      <td>NaN</td>\n",
       "      <td>2016-05-26</td>\n",
       "      <td>71614.0</td>\n",
       "      <td>AN371614</td>\n",
       "      <td>NaN</td>\n",
       "    </tr>\n",
       "    <tr>\n",
       "      <th>1</th>\n",
       "      <td>NaN</td>\n",
       "      <td>&lt;h2&gt;Overview&lt;/h2&gt;Still Creek Campground lies i...</td>\n",
       "      <td>From Portland, travel east on Highway 26 to Go...</td>\n",
       "      <td>NaN</td>\n",
       "      <td>232835</td>\n",
       "      <td>45.295833</td>\n",
       "      <td>-121.735556</td>\n",
       "      <td>NaN</td>\n",
       "      <td>STILL CREEK</td>\n",
       "      <td>541-328-0909</td>\n",
       "      <td>NaN</td>\n",
       "      <td>Camping</td>\n",
       "      <td>NaN</td>\n",
       "      <td>NaN</td>\n",
       "      <td>2016-05-26</td>\n",
       "      <td>71618.0</td>\n",
       "      <td>AN371618</td>\n",
       "      <td>NaN</td>\n",
       "    </tr>\n",
       "    <tr>\n",
       "      <th>2</th>\n",
       "      <td>NaN</td>\n",
       "      <td>&lt;p&gt;Dispersed camping is available from this tr...</td>\n",
       "      <td>&lt;p&gt;&lt;u&gt;From Hood River, OR&lt;/u&gt;&amp;nbsp;travel 36.2...</td>\n",
       "      <td>NaN</td>\n",
       "      <td>235865</td>\n",
       "      <td>45.282100</td>\n",
       "      <td>-121.678700</td>\n",
       "      <td>NaN</td>\n",
       "      <td>Devils Half Acre Trailhead</td>\n",
       "      <td>NaN</td>\n",
       "      <td>NaN</td>\n",
       "      <td>NaN</td>\n",
       "      <td>NaN</td>\n",
       "      <td>NaN</td>\n",
       "      <td>2016-05-09</td>\n",
       "      <td>NaN</td>\n",
       "      <td>53072.0</td>\n",
       "      <td>NaN</td>\n",
       "    </tr>\n",
       "    <tr>\n",
       "      <th>3</th>\n",
       "      <td>NaN</td>\n",
       "      <td>&lt;p&gt;The Hidden Lake Trailhead leads to the Hidd...</td>\n",
       "      <td>&lt;p&gt;From &lt;u&gt;Portland, OR&lt;/u&gt; - follow U.S. Hwy ...</td>\n",
       "      <td>NaN</td>\n",
       "      <td>235880</td>\n",
       "      <td>45.313528</td>\n",
       "      <td>-121.799667</td>\n",
       "      <td>NaN</td>\n",
       "      <td>Hidden Lake Trailhead</td>\n",
       "      <td>NaN</td>\n",
       "      <td>NaN</td>\n",
       "      <td>NaN</td>\n",
       "      <td>NaN</td>\n",
       "      <td>NaN</td>\n",
       "      <td>2016-05-09</td>\n",
       "      <td>NaN</td>\n",
       "      <td>53128.0</td>\n",
       "      <td>NaN</td>\n",
       "    </tr>\n",
       "    <tr>\n",
       "      <th>4</th>\n",
       "      <td>NaN</td>\n",
       "      <td>&lt;p&gt;This trail and Sno Park is along the Histor...</td>\n",
       "      <td>&lt;p&gt;From &lt;u&gt;Hood River, OR&lt;/u&gt; travel 36.2 mile...</td>\n",
       "      <td>NaN</td>\n",
       "      <td>235883</td>\n",
       "      <td>45.282969</td>\n",
       "      <td>-121.684789</td>\n",
       "      <td>NaN</td>\n",
       "      <td>Barlow Pass Sno Park/Trailhead</td>\n",
       "      <td>NaN</td>\n",
       "      <td>NaN</td>\n",
       "      <td>NaN</td>\n",
       "      <td>NaN</td>\n",
       "      <td>NaN</td>\n",
       "      <td>2016-05-09</td>\n",
       "      <td>NaN</td>\n",
       "      <td>53138.0</td>\n",
       "      <td>NaN</td>\n",
       "    </tr>\n",
       "  </tbody>\n",
       "</table>\n",
       "</div>"
      ],
      "text/plain": [
       "   FacilityAdaAccess                                FacilityDescription  \\\n",
       "0                NaN  <h2>Overview</h2>Trillium Lake Campground is a...   \n",
       "1                NaN  <h2>Overview</h2>Still Creek Campground lies i...   \n",
       "2                NaN  <p>Dispersed camping is available from this tr...   \n",
       "3                NaN  <p>The Hidden Lake Trailhead leads to the Hidd...   \n",
       "4                NaN  <p>This trail and Sno Park is along the Histor...   \n",
       "\n",
       "                                  FacilityDirections FacilityEmail  \\\n",
       "0  From Portland, travel southeast on Highway 26 ...           NaN   \n",
       "1  From Portland, travel east on Highway 26 to Go...           NaN   \n",
       "2  <p><u>From Hood River, OR</u>&nbsp;travel 36.2...           NaN   \n",
       "3  <p>From <u>Portland, OR</u> - follow U.S. Hwy ...           NaN   \n",
       "4  <p>From <u>Hood River, OR</u> travel 36.2 mile...           NaN   \n",
       "\n",
       "   FacilityID  FacilityLatitude  FacilityLongitude  FacilityMapURL  \\\n",
       "0      232831         45.270000        -121.734444             NaN   \n",
       "1      232835         45.295833        -121.735556             NaN   \n",
       "2      235865         45.282100        -121.678700             NaN   \n",
       "3      235880         45.313528        -121.799667             NaN   \n",
       "4      235883         45.282969        -121.684789             NaN   \n",
       "\n",
       "                     FacilityName FacilityPhone  FacilityReservationURL  \\\n",
       "0                        TRILLIUM  503-272-3220                     NaN   \n",
       "1                     STILL CREEK  541-328-0909                     NaN   \n",
       "2      Devils Half Acre Trailhead           NaN                     NaN   \n",
       "3           Hidden Lake Trailhead           NaN                     NaN   \n",
       "4  Barlow Pass Sno Park/Trailhead           NaN                     NaN   \n",
       "\n",
       "  FacilityTypeDescription  FacilityUseFeeDescription  Keywords  \\\n",
       "0                 Camping                        NaN       NaN   \n",
       "1                 Camping                        NaN       NaN   \n",
       "2                     NaN                        NaN       NaN   \n",
       "3                     NaN                        NaN       NaN   \n",
       "4                     NaN                        NaN       NaN   \n",
       "\n",
       "  LastUpdatedDate  LegacyFacilityID OrgFacilityID  StayLimit  \n",
       "0      2016-05-26           71614.0      AN371614        NaN  \n",
       "1      2016-05-26           71618.0      AN371618        NaN  \n",
       "2      2016-05-09               NaN       53072.0        NaN  \n",
       "3      2016-05-09               NaN       53128.0        NaN  \n",
       "4      2016-05-09               NaN       53138.0        NaN  "
      ]
     },
     "execution_count": 107,
     "metadata": {},
     "output_type": "execute_result"
    }
   ],
   "source": [
    "csv_test.head()"
   ]
  },
  {
   "cell_type": "code",
   "execution_count": 109,
   "metadata": {
    "collapsed": true
   },
   "outputs": [],
   "source": [
    "from sqlalchemy import create_engine\n",
    "connectStr = \"mysql+pymysql://\" + config.DB_USER + \":\" + config.DB_PASS + \"@\" + config.DB_HOST +  \"/\" + config.DB_NAME\n",
    "engine =create_engine(connectStr)"
   ]
  },
  {
   "cell_type": "code",
   "execution_count": 116,
   "metadata": {
    "collapsed": false
   },
   "outputs": [],
   "source": [
    "camping_df.to_sql('test',engine,if_exists='replace')"
   ]
  },
  {
   "cell_type": "code",
   "execution_count": 121,
   "metadata": {
    "collapsed": false
   },
   "outputs": [],
   "source": [
    "sql_test = pd.read_sql('select * from test', engine, index_col='index')"
   ]
  },
  {
   "cell_type": "code",
   "execution_count": 126,
   "metadata": {
    "collapsed": false
   },
   "outputs": [
    {
     "data": {
      "text/html": [
       "<div>\n",
       "<table border=\"1\" class=\"dataframe\">\n",
       "  <thead>\n",
       "    <tr style=\"text-align: right;\">\n",
       "      <th></th>\n",
       "      <th>FacilityAdaAccess</th>\n",
       "      <th>FacilityDescription</th>\n",
       "      <th>FacilityDirections</th>\n",
       "      <th>FacilityEmail</th>\n",
       "      <th>FacilityID</th>\n",
       "      <th>FacilityLatitude</th>\n",
       "      <th>FacilityLongitude</th>\n",
       "      <th>FacilityMapURL</th>\n",
       "      <th>FacilityName</th>\n",
       "      <th>FacilityPhone</th>\n",
       "      <th>FacilityReservationURL</th>\n",
       "      <th>FacilityTypeDescription</th>\n",
       "      <th>FacilityUseFeeDescription</th>\n",
       "      <th>Keywords</th>\n",
       "      <th>LastUpdatedDate</th>\n",
       "      <th>LegacyFacilityID</th>\n",
       "      <th>OrgFacilityID</th>\n",
       "      <th>StayLimit</th>\n",
       "    </tr>\n",
       "    <tr>\n",
       "      <th>index</th>\n",
       "      <th></th>\n",
       "      <th></th>\n",
       "      <th></th>\n",
       "      <th></th>\n",
       "      <th></th>\n",
       "      <th></th>\n",
       "      <th></th>\n",
       "      <th></th>\n",
       "      <th></th>\n",
       "      <th></th>\n",
       "      <th></th>\n",
       "      <th></th>\n",
       "      <th></th>\n",
       "      <th></th>\n",
       "      <th></th>\n",
       "      <th></th>\n",
       "      <th></th>\n",
       "      <th></th>\n",
       "    </tr>\n",
       "  </thead>\n",
       "  <tbody>\n",
       "    <tr>\n",
       "      <th>0</th>\n",
       "      <td>None</td>\n",
       "      <td>&lt;h2&gt;Overview&lt;/h2&gt;Trillium Lake Campground is a...</td>\n",
       "      <td>From Portland, travel southeast on Highway 26 ...</td>\n",
       "      <td>None</td>\n",
       "      <td>232831</td>\n",
       "      <td>45.270000</td>\n",
       "      <td>-121.734444</td>\n",
       "      <td>None</td>\n",
       "      <td>TRILLIUM</td>\n",
       "      <td>503-272-3220</td>\n",
       "      <td>None</td>\n",
       "      <td>Camping</td>\n",
       "      <td>None</td>\n",
       "      <td>None</td>\n",
       "      <td>2016-05-26</td>\n",
       "      <td>71614.0</td>\n",
       "      <td>AN371614</td>\n",
       "      <td>None</td>\n",
       "    </tr>\n",
       "    <tr>\n",
       "      <th>1</th>\n",
       "      <td>None</td>\n",
       "      <td>&lt;h2&gt;Overview&lt;/h2&gt;Still Creek Campground lies i...</td>\n",
       "      <td>From Portland, travel east on Highway 26 to Go...</td>\n",
       "      <td>None</td>\n",
       "      <td>232835</td>\n",
       "      <td>45.295833</td>\n",
       "      <td>-121.735556</td>\n",
       "      <td>None</td>\n",
       "      <td>STILL CREEK</td>\n",
       "      <td>541-328-0909</td>\n",
       "      <td>None</td>\n",
       "      <td>Camping</td>\n",
       "      <td>None</td>\n",
       "      <td>None</td>\n",
       "      <td>2016-05-26</td>\n",
       "      <td>71618.0</td>\n",
       "      <td>AN371618</td>\n",
       "      <td>None</td>\n",
       "    </tr>\n",
       "    <tr>\n",
       "      <th>2</th>\n",
       "      <td>None</td>\n",
       "      <td>&lt;p&gt;Dispersed camping is available from this tr...</td>\n",
       "      <td>&lt;p&gt;&lt;u&gt;From Hood River, OR&lt;/u&gt;&amp;nbsp;travel 36.2...</td>\n",
       "      <td>None</td>\n",
       "      <td>235865</td>\n",
       "      <td>45.282100</td>\n",
       "      <td>-121.678700</td>\n",
       "      <td>None</td>\n",
       "      <td>Devils Half Acre Trailhead</td>\n",
       "      <td>None</td>\n",
       "      <td>None</td>\n",
       "      <td>None</td>\n",
       "      <td>None</td>\n",
       "      <td>None</td>\n",
       "      <td>2016-05-09</td>\n",
       "      <td>NaN</td>\n",
       "      <td>53072</td>\n",
       "      <td>None</td>\n",
       "    </tr>\n",
       "    <tr>\n",
       "      <th>3</th>\n",
       "      <td>None</td>\n",
       "      <td>&lt;p&gt;The Hidden Lake Trailhead leads to the Hidd...</td>\n",
       "      <td>&lt;p&gt;From &lt;u&gt;Portland, OR&lt;/u&gt; - follow U.S. Hwy ...</td>\n",
       "      <td>None</td>\n",
       "      <td>235880</td>\n",
       "      <td>45.313528</td>\n",
       "      <td>-121.799667</td>\n",
       "      <td>None</td>\n",
       "      <td>Hidden Lake Trailhead</td>\n",
       "      <td>None</td>\n",
       "      <td>None</td>\n",
       "      <td>None</td>\n",
       "      <td>None</td>\n",
       "      <td>None</td>\n",
       "      <td>2016-05-09</td>\n",
       "      <td>NaN</td>\n",
       "      <td>53128</td>\n",
       "      <td>None</td>\n",
       "    </tr>\n",
       "    <tr>\n",
       "      <th>4</th>\n",
       "      <td>None</td>\n",
       "      <td>&lt;p&gt;This trail and Sno Park is along the Histor...</td>\n",
       "      <td>&lt;p&gt;From &lt;u&gt;Hood River, OR&lt;/u&gt; travel 36.2 mile...</td>\n",
       "      <td>None</td>\n",
       "      <td>235883</td>\n",
       "      <td>45.282969</td>\n",
       "      <td>-121.684789</td>\n",
       "      <td>None</td>\n",
       "      <td>Barlow Pass Sno Park/Trailhead</td>\n",
       "      <td>None</td>\n",
       "      <td>None</td>\n",
       "      <td>None</td>\n",
       "      <td>None</td>\n",
       "      <td>None</td>\n",
       "      <td>2016-05-09</td>\n",
       "      <td>NaN</td>\n",
       "      <td>53138</td>\n",
       "      <td>None</td>\n",
       "    </tr>\n",
       "  </tbody>\n",
       "</table>\n",
       "</div>"
      ],
      "text/plain": [
       "      FacilityAdaAccess                                FacilityDescription  \\\n",
       "index                                                                        \n",
       "0                  None  <h2>Overview</h2>Trillium Lake Campground is a...   \n",
       "1                  None  <h2>Overview</h2>Still Creek Campground lies i...   \n",
       "2                  None  <p>Dispersed camping is available from this tr...   \n",
       "3                  None  <p>The Hidden Lake Trailhead leads to the Hidd...   \n",
       "4                  None  <p>This trail and Sno Park is along the Histor...   \n",
       "\n",
       "                                      FacilityDirections FacilityEmail  \\\n",
       "index                                                                    \n",
       "0      From Portland, travel southeast on Highway 26 ...          None   \n",
       "1      From Portland, travel east on Highway 26 to Go...          None   \n",
       "2      <p><u>From Hood River, OR</u>&nbsp;travel 36.2...          None   \n",
       "3      <p>From <u>Portland, OR</u> - follow U.S. Hwy ...          None   \n",
       "4      <p>From <u>Hood River, OR</u> travel 36.2 mile...          None   \n",
       "\n",
       "       FacilityID  FacilityLatitude  FacilityLongitude FacilityMapURL  \\\n",
       "index                                                                   \n",
       "0          232831         45.270000        -121.734444           None   \n",
       "1          232835         45.295833        -121.735556           None   \n",
       "2          235865         45.282100        -121.678700           None   \n",
       "3          235880         45.313528        -121.799667           None   \n",
       "4          235883         45.282969        -121.684789           None   \n",
       "\n",
       "                         FacilityName FacilityPhone FacilityReservationURL  \\\n",
       "index                                                                        \n",
       "0                            TRILLIUM  503-272-3220                   None   \n",
       "1                         STILL CREEK  541-328-0909                   None   \n",
       "2          Devils Half Acre Trailhead          None                   None   \n",
       "3               Hidden Lake Trailhead          None                   None   \n",
       "4      Barlow Pass Sno Park/Trailhead          None                   None   \n",
       "\n",
       "      FacilityTypeDescription FacilityUseFeeDescription Keywords  \\\n",
       "index                                                              \n",
       "0                     Camping                      None     None   \n",
       "1                     Camping                      None     None   \n",
       "2                        None                      None     None   \n",
       "3                        None                      None     None   \n",
       "4                        None                      None     None   \n",
       "\n",
       "      LastUpdatedDate  LegacyFacilityID OrgFacilityID StayLimit  \n",
       "index                                                            \n",
       "0          2016-05-26           71614.0      AN371614      None  \n",
       "1          2016-05-26           71618.0      AN371618      None  \n",
       "2          2016-05-09               NaN         53072      None  \n",
       "3          2016-05-09               NaN         53128      None  \n",
       "4          2016-05-09               NaN         53138      None  "
      ]
     },
     "execution_count": 126,
     "metadata": {},
     "output_type": "execute_result"
    }
   ],
   "source": [
    "sql_test.head()"
   ]
  },
  {
   "cell_type": "code",
   "execution_count": 143,
   "metadata": {
    "collapsed": false
   },
   "outputs": [
    {
     "data": {
      "text/plain": [
       "array(['2016-05-26', '2016-05-09', '2015-09-18'], dtype=object)"
      ]
     },
     "execution_count": 143,
     "metadata": {},
     "output_type": "execute_result"
    }
   ],
   "source": [
    "sql_test.LastUpdatedDate.unique()"
   ]
  },
  {
   "cell_type": "code",
   "execution_count": 144,
   "metadata": {
    "collapsed": false
   },
   "outputs": [
    {
     "data": {
      "text/plain": [
       "0"
      ]
     },
     "execution_count": 144,
     "metadata": {},
     "output_type": "execute_result"
    }
   ],
   "source": [
    "sum(sql_test.LastUpdatedDate.isnull())"
   ]
  },
  {
   "cell_type": "code",
   "execution_count": 146,
   "metadata": {
    "collapsed": false
   },
   "outputs": [
    {
     "data": {
      "text/plain": [
       "(29, 18)"
      ]
     },
     "execution_count": 146,
     "metadata": {},
     "output_type": "execute_result"
    }
   ],
   "source": [
    "sql_test.dropna(subset=['LastUpdatedDate'], axis=0).shape"
   ]
  },
  {
   "cell_type": "code",
   "execution_count": 147,
   "metadata": {
    "collapsed": false
   },
   "outputs": [
    {
     "data": {
      "text/plain": [
       "(29, 18)"
      ]
     },
     "execution_count": 147,
     "metadata": {},
     "output_type": "execute_result"
    }
   ],
   "source": [
    "csv_test.dropna(subset=['LastUpdatedDate'], axis=0).shape"
   ]
  },
  {
   "cell_type": "code",
   "execution_count": 149,
   "metadata": {
    "collapsed": false
   },
   "outputs": [
    {
     "data": {
      "text/plain": [
       "(29, 18)"
      ]
     },
     "execution_count": 149,
     "metadata": {},
     "output_type": "execute_result"
    }
   ],
   "source": [
    "camping_df.dropna(subset=['LastUpdatedDate'], axis=0).shape"
   ]
  },
  {
   "cell_type": "code",
   "execution_count": null,
   "metadata": {
    "collapsed": true
   },
   "outputs": [],
   "source": []
  }
 ],
 "metadata": {
  "kernelspec": {
   "display_name": "Python 3",
   "language": "python",
   "name": "python3"
  },
  "language_info": {
   "codemirror_mode": {
    "name": "ipython",
    "version": 3
   },
   "file_extension": ".py",
   "mimetype": "text/x-python",
   "name": "python",
   "nbconvert_exporter": "python",
   "pygments_lexer": "ipython3",
   "version": "3.4.3"
  }
 },
 "nbformat": 4,
 "nbformat_minor": 0
}
