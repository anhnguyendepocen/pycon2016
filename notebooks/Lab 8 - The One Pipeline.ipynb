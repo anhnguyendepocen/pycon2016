{
 "cells": [
  {
   "cell_type": "markdown",
   "metadata": {},
   "source": [
    "### The one pipeline\n",
    "<img src=\"images/ring.www.playbuzz.com.jpg\" width=60% style=\"display: inline-block\">\n",
    "<br>\n",
    "image source: www.playbuzz.com"
   ]
  },
  {
   "cell_type": "code",
   "execution_count": 33,
   "metadata": {
    "collapsed": false
   },
   "outputs": [],
   "source": [
    "from classes.Data import Data\n",
    "import pandas as pd \n",
    "\n",
    "class Pipeline(Data):\n",
    "    \n",
    "    def __init__(self,name, data_list,merge_type,store):\n",
    "        self.data_list = data_list\n",
    "        self.name = name\n",
    "        self.merge_type = merge_type\n",
    "        self.store = store\n",
    "        self.df = pd.DataFrame()\n",
    "        \n",
    "    def extract(self):\n",
    "        list(map(lambda x:x.extract(),self.data_list))\n",
    "        merge = self.merge_type(self.name,self.data_list,self.store)\n",
    "        \n",
    "        merge.extract()\n",
    "        merge.put()\n",
    "        self.df = merge.df\n",
    "    \n",
    "    def put(self):\n",
    "        if (self.df.empty) :\n",
    "            print(\"Pipeline.put(): dataframe is empty, run get() or extract()\")\n",
    "            return\n",
    "        self.storage.put(self.df, self.name)\n",
    "    \n",
    "    def get(self):\n",
    "        self.df = self.storage.get(self.name)\n",
    "        \n",
    "        \n",
    "        "
   ]
  },
  {
   "cell_type": "code",
   "execution_count": 7,
   "metadata": {
    "collapsed": false
   },
   "outputs": [],
   "source": [
    "from classes.DistanceMergeData import DistanceMergeData\n",
    "from classes.ScraperData import ScraperData\n",
    "from classes.RidbData import RidbData\n",
    "from classes.RidbDataLive import RidbDataLive\n",
    "\n",
    "# import the scrapers\n",
    "from classes.ReservationsScraper import ReservationsScraper\n",
    "from classes.UsfsWebScraper import UsfsWebScraper\n",
    "\n",
    "# import the storage\n",
    "from classes.MysqlStorage import MysqlStorage\n",
    "from classes.CsvStorage import CsvStorage\n",
    "from classes.Pipeline import Pipeline\n",
    "\n",
    "# import visualization\n",
    "from classes import BokehPlot\n",
    "from bokeh.io import output_notebook\n",
    "from bokeh.plotting import show\n",
    "\n",
    "import config\n",
    "import pandas as pd"
   ]
  },
  {
   "cell_type": "code",
   "execution_count": 8,
   "metadata": {
    "collapsed": true
   },
   "outputs": [],
   "source": [
    "mysql_store = MysqlStorage()\n",
    "csv_store = CsvStorage()\n",
    "destination_info = dict(Latitude=45.4977712, Longitude=-121.8211673, radius=15)\n",
    "start_date = '06/01/2016'\n",
    "stay_length = 2\n",
    "usfs_urls = pd.read_csv('data/usfs_sites.csv')\n",
    "reservation_urls = pd.read_csv('data/reservation_urls.csv')\n",
    "reservation_urls = reservation_urls.assign(start_date=start_date, stay_length=stay_length)"
   ]
  },
  {
   "cell_type": "code",
   "execution_count": 9,
   "metadata": {
    "collapsed": false
   },
   "outputs": [
    {
     "name": "stdout",
     "output_type": "stream",
     "text": [
      "starting display\n"
     ]
    }
   ],
   "source": [
    "ridb_data = RidbData('ridb_merge_lab', \"camping\", destination_info, mysql_store)\n",
    "ridb_data_live = RidbDataLive('ridb_live_merge_lab', \"camping\", destination_info, mysql_store)\n",
    "usfs_data = ScraperData('usfs_merge_lab',usfs_urls,mysql_store,UsfsWebScraper())\n",
    "res_data = ScraperData('res_merge_lab',reservation_urls,mysql_store,ReservationsScraper())"
   ]
  },
  {
   "cell_type": "code",
   "execution_count": 10,
   "metadata": {
    "collapsed": true
   },
   "outputs": [],
   "source": [
    "one_data_list = [res_data, usfs_data,ridb_data]\n",
    "# live version\n",
    "# one_data_list = [res_data, usfs_data,ridb_hiking_live, ridb_data_live]"
   ]
  },
  {
   "cell_type": "code",
   "execution_count": 12,
   "metadata": {
    "collapsed": true
   },
   "outputs": [],
   "source": [
    "pipe = Pipeline('the_one_pipelne', one_data_list, DistanceMergeData,mysql_store)"
   ]
  },
  {
   "cell_type": "code",
   "execution_count": 13,
   "metadata": {
    "collapsed": false
   },
   "outputs": [
    {
     "name": "stdout",
     "output_type": "stream",
     "text": [
      "getting reservation.html\n",
      "setting up web browser\n",
      "browsed to reservation.html\n",
      "browsed to reservation.html\n",
      "browsed to reservation.html\n",
      "browsed to reservation.html\n",
      "browsed to reservation.html\n",
      "browsed to reservation.html\n",
      "closing browser\n",
      "drop least recent\n",
      "5    LOST  LAKE  RESORT  AND  CAMPGROUND\n",
      "Name: FacilityName, dtype: object\n",
      "drop first\n",
      "Badger  Lake  Campground\n"
     ]
    }
   ],
   "source": [
    "pipe.extract()"
   ]
  },
  {
   "cell_type": "code",
   "execution_count": 14,
   "metadata": {
    "collapsed": false
   },
   "outputs": [
    {
     "data": {
      "text/plain": [
       "Index(['FacilityAdaAccess', 'FacilityDescription', 'FacilityDirections',\n",
       "       'FacilityEmail', 'FacilityID', 'FacilityLatitude', 'FacilityLongitude',\n",
       "       'FacilityMapURL', 'FacilityName', 'FacilityPhone',\n",
       "       'FacilityReservationURL', 'FacilityTypeDescription',\n",
       "       'FacilityUseFeeDescription', 'Keywords', 'LastUpdatedDate',\n",
       "       'LegacyFacilityID', 'OrgFacilityID', 'StayLimit', 'merge_index',\n",
       "       'CurrentConditions', 'OpenSeason', 'Reservations', 'Restroom', 'Water',\n",
       "       'FacilityElevation', 'FacilityStatus', 'SitesAvailable'],\n",
       "      dtype='object')"
      ]
     },
     "execution_count": 14,
     "metadata": {},
     "output_type": "execute_result"
    }
   ],
   "source": [
    "pipe.df.columns"
   ]
  },
  {
   "cell_type": "code",
   "execution_count": 15,
   "metadata": {
    "collapsed": false
   },
   "outputs": [
    {
     "data": {
      "text/html": [
       "\n",
       "    <div class=\"bk-banner\">\n",
       "        <a href=\"http://bokeh.pydata.org\" target=\"_blank\" class=\"bk-logo bk-logo-small bk-logo-notebook\"></a>\n",
       "        <span id=\"065d98d0-0a63-4dcf-b132-ddb3efa09cd3\">Loading BokehJS ...</span>\n",
       "    </div>"
      ]
     },
     "metadata": {},
     "output_type": "display_data"
    },
    {
     "data": {
      "application/javascript": [
       "\n",
       "(function(global) {\n",
       "  function now() {\n",
       "    return new Date();\n",
       "  }\n",
       "\n",
       "  if (typeof (window._bokeh_onload_callbacks) === \"undefined\") {\n",
       "    window._bokeh_onload_callbacks = [];\n",
       "  }\n",
       "\n",
       "  function run_callbacks() {\n",
       "    window._bokeh_onload_callbacks.forEach(function(callback) { callback() });\n",
       "    delete window._bokeh_onload_callbacks\n",
       "    console.info(\"Bokeh: all callbacks have finished\");\n",
       "  }\n",
       "\n",
       "  function load_libs(js_urls, callback) {\n",
       "    window._bokeh_onload_callbacks.push(callback);\n",
       "    if (window._bokeh_is_loading > 0) {\n",
       "      console.log(\"Bokeh: BokehJS is being loaded, scheduling callback at\", now());\n",
       "      return null;\n",
       "    }\n",
       "    if (js_urls == null || js_urls.length === 0) {\n",
       "      run_callbacks();\n",
       "      return null;\n",
       "    }\n",
       "    console.log(\"Bokeh: BokehJS not loaded, scheduling load and callback at\", now());\n",
       "    window._bokeh_is_loading = js_urls.length;\n",
       "    for (var i = 0; i < js_urls.length; i++) {\n",
       "      var url = js_urls[i];\n",
       "      var s = document.createElement('script');\n",
       "      s.src = url;\n",
       "      s.async = false;\n",
       "      s.onreadystatechange = s.onload = function() {\n",
       "        window._bokeh_is_loading--;\n",
       "        if (window._bokeh_is_loading === 0) {\n",
       "          console.log(\"Bokeh: all BokehJS libraries loaded\");\n",
       "          run_callbacks()\n",
       "        }\n",
       "      };\n",
       "      s.onerror = function() {\n",
       "        console.warn(\"failed to load library \" + url);\n",
       "      };\n",
       "      console.log(\"Bokeh: injecting script tag for BokehJS library: \", url);\n",
       "      document.getElementsByTagName(\"head\")[0].appendChild(s);\n",
       "    }\n",
       "  };\n",
       "\n",
       "  var js_urls = ['https://cdn.pydata.org/bokeh/release/bokeh-0.11.1.min.js', 'https://cdn.pydata.org/bokeh/release/bokeh-widgets-0.11.1.min.js', 'https://cdn.pydata.org/bokeh/release/bokeh-compiler-0.11.1.min.js'];\n",
       "\n",
       "  var inline_js = [\n",
       "    function(Bokeh) {\n",
       "      Bokeh.set_log_level(\"info\");\n",
       "    },\n",
       "    \n",
       "    function(Bokeh) {\n",
       "      Bokeh.$(\"#065d98d0-0a63-4dcf-b132-ddb3efa09cd3\").text(\"BokehJS successfully loaded\");\n",
       "    },\n",
       "    function(Bokeh) {\n",
       "      console.log(\"Bokeh: injecting CSS: https://cdn.pydata.org/bokeh/release/bokeh-0.11.1.min.css\");\n",
       "      Bokeh.embed.inject_css(\"https://cdn.pydata.org/bokeh/release/bokeh-0.11.1.min.css\");\n",
       "      console.log(\"Bokeh: injecting CSS: https://cdn.pydata.org/bokeh/release/bokeh-widgets-0.11.1.min.css\");\n",
       "      Bokeh.embed.inject_css(\"https://cdn.pydata.org/bokeh/release/bokeh-widgets-0.11.1.min.css\");\n",
       "    }\n",
       "  ];\n",
       "\n",
       "  function run_inline_js() {\n",
       "    for (var i = 0; i < inline_js.length; i++) {\n",
       "      inline_js[i](window.Bokeh);\n",
       "    }\n",
       "  }\n",
       "\n",
       "  if (window._bokeh_is_loading === 0) {\n",
       "    console.log(\"Bokeh: BokehJS loaded, going straight to plotting\");\n",
       "    run_inline_js();\n",
       "  } else {\n",
       "    load_libs(js_urls, function() {\n",
       "      console.log(\"Bokeh: BokehJS plotting callback run at\", now());\n",
       "      run_inline_js();\n",
       "    });\n",
       "  }\n",
       "}(this));"
      ]
     },
     "metadata": {},
     "output_type": "display_data"
    }
   ],
   "source": [
    "output_notebook()"
   ]
  },
  {
   "cell_type": "code",
   "execution_count": 16,
   "metadata": {
    "collapsed": true
   },
   "outputs": [],
   "source": [
    "cols_to_display=['FacilityName','SitesAvailable', 'Water','Restroom']"
   ]
  },
  {
   "cell_type": "code",
   "execution_count": 17,
   "metadata": {
    "collapsed": false
   },
   "outputs": [],
   "source": [
    "sites_with_availability = pipe.df.dropna(subset=['SitesAvailable'])"
   ]
  },
  {
   "cell_type": "code",
   "execution_count": 28,
   "metadata": {
    "collapsed": false
   },
   "outputs": [
    {
     "data": {
      "text/html": [
       "<div>\n",
       "<table border=\"1\" class=\"dataframe\">\n",
       "  <thead>\n",
       "    <tr style=\"text-align: right;\">\n",
       "      <th></th>\n",
       "      <th>FacilityLatitude</th>\n",
       "      <th>FacilityLongitude</th>\n",
       "      <th>FacilityName</th>\n",
       "      <th>SitesAvailable</th>\n",
       "    </tr>\n",
       "  </thead>\n",
       "  <tbody>\n",
       "    <tr>\n",
       "      <th>0</th>\n",
       "      <td>44.688294</td>\n",
       "      <td>-122.010343</td>\n",
       "      <td>whispering falls campground</td>\n",
       "      <td>9</td>\n",
       "    </tr>\n",
       "    <tr>\n",
       "      <th>1</th>\n",
       "      <td>45.500800</td>\n",
       "      <td>-121.816410</td>\n",
       "      <td>lost lake campground</td>\n",
       "      <td>7</td>\n",
       "    </tr>\n",
       "    <tr>\n",
       "      <th>2</th>\n",
       "      <td>45.073611</td>\n",
       "      <td>-121.956944</td>\n",
       "      <td>lake harriet campground</td>\n",
       "      <td>6</td>\n",
       "    </tr>\n",
       "    <tr>\n",
       "      <th>3</th>\n",
       "      <td>45.179450</td>\n",
       "      <td>-121.696750</td>\n",
       "      <td>clear lake campground</td>\n",
       "      <td>3</td>\n",
       "    </tr>\n",
       "    <tr>\n",
       "      <th>4</th>\n",
       "      <td>45.305236</td>\n",
       "      <td>-121.867275</td>\n",
       "      <td>camp creek campground</td>\n",
       "      <td>9</td>\n",
       "    </tr>\n",
       "    <tr>\n",
       "      <th>5</th>\n",
       "      <td>45.642244</td>\n",
       "      <td>-121.925284</td>\n",
       "      <td>eagle creek campground</td>\n",
       "      <td>8</td>\n",
       "    </tr>\n",
       "  </tbody>\n",
       "</table>\n",
       "</div>"
      ],
      "text/plain": [
       "   FacilityLatitude  FacilityLongitude                 FacilityName  \\\n",
       "0         44.688294        -122.010343  whispering falls campground   \n",
       "1         45.500800        -121.816410         lost lake campground   \n",
       "2         45.073611        -121.956944      lake harriet campground   \n",
       "3         45.179450        -121.696750        clear lake campground   \n",
       "4         45.305236        -121.867275        camp creek campground   \n",
       "5         45.642244        -121.925284       eagle creek campground   \n",
       "\n",
       "  SitesAvailable  \n",
       "0              9  \n",
       "1              7  \n",
       "2              6  \n",
       "3              3  \n",
       "4              9  \n",
       "5              8  "
      ]
     },
     "execution_count": 28,
     "metadata": {},
     "output_type": "execute_result"
    }
   ],
   "source": [
    "res_data.df"
   ]
  },
  {
   "cell_type": "code",
   "execution_count": 27,
   "metadata": {
    "collapsed": false
   },
   "outputs": [
    {
     "data": {
      "text/html": [
       "<div>\n",
       "<table border=\"1\" class=\"dataframe\">\n",
       "  <thead>\n",
       "    <tr style=\"text-align: right;\">\n",
       "      <th></th>\n",
       "      <th>FacilityName</th>\n",
       "      <th>Reservations</th>\n",
       "      <th>Restroom</th>\n",
       "      <th>SitesAvailable</th>\n",
       "    </tr>\n",
       "  </thead>\n",
       "  <tbody>\n",
       "    <tr>\n",
       "      <th>0</th>\n",
       "      <td>WILDWOOD  RECREATION  SITE</td>\n",
       "      <td>NaN</td>\n",
       "      <td>NaN</td>\n",
       "      <td>NaN</td>\n",
       "    </tr>\n",
       "    <tr>\n",
       "      <th>1</th>\n",
       "      <td>Wildwood  Campground</td>\n",
       "      <td>NaN</td>\n",
       "      <td>NaN</td>\n",
       "      <td>NaN</td>\n",
       "    </tr>\n",
       "    <tr>\n",
       "      <th>2</th>\n",
       "      <td>WHISPERING  FALLS  CAMPGROUND</td>\n",
       "      <td>NaN</td>\n",
       "      <td>NaN</td>\n",
       "      <td>NaN</td>\n",
       "    </tr>\n",
       "    <tr>\n",
       "      <th>3</th>\n",
       "      <td>Lost  Lake  Resort</td>\n",
       "      <td>This site can be reserved by calling Toll Free...</td>\n",
       "      <td>Vault Toilet (18)</td>\n",
       "      <td>7</td>\n",
       "    </tr>\n",
       "    <tr>\n",
       "      <th>4</th>\n",
       "      <td>Lost  Lake  Campground</td>\n",
       "      <td>NaN</td>\n",
       "      <td>NaN</td>\n",
       "      <td>NaN</td>\n",
       "    </tr>\n",
       "    <tr>\n",
       "      <th>6</th>\n",
       "      <td>LAKE  HARRIET</td>\n",
       "      <td>This site can be reserved by calling Toll Free...</td>\n",
       "      <td>Vault Toilet</td>\n",
       "      <td>6</td>\n",
       "    </tr>\n",
       "    <tr>\n",
       "      <th>7</th>\n",
       "      <td>Kinnikinnick  (Laurance  Lake)  Campground</td>\n",
       "      <td>None</td>\n",
       "      <td>Vault Toilet (2)</td>\n",
       "      <td>NaN</td>\n",
       "    </tr>\n",
       "    <tr>\n",
       "      <th>8</th>\n",
       "      <td>Fifteenmile  Campground</td>\n",
       "      <td>No reservations</td>\n",
       "      <td>Vault Toilet (1)</td>\n",
       "      <td>NaN</td>\n",
       "    </tr>\n",
       "    <tr>\n",
       "      <th>9</th>\n",
       "      <td>CLEAR  LAKE  (OR)</td>\n",
       "      <td>NaN</td>\n",
       "      <td>NaN</td>\n",
       "      <td>NaN</td>\n",
       "    </tr>\n",
       "    <tr>\n",
       "      <th>10</th>\n",
       "      <td>CLEAR  LAKE  CABIN  LOOKOUT</td>\n",
       "      <td>NaN</td>\n",
       "      <td>NaN</td>\n",
       "      <td>NaN</td>\n",
       "    </tr>\n",
       "    <tr>\n",
       "      <th>12</th>\n",
       "      <td>CAMP  CREEK</td>\n",
       "      <td>NaN</td>\n",
       "      <td>NaN</td>\n",
       "      <td>NaN</td>\n",
       "    </tr>\n",
       "    <tr>\n",
       "      <th>13</th>\n",
       "      <td>Lower  Camp  Creek  Campground</td>\n",
       "      <td>NaN</td>\n",
       "      <td>NaN</td>\n",
       "      <td>NaN</td>\n",
       "    </tr>\n",
       "    <tr>\n",
       "      <th>15</th>\n",
       "      <td>Eagle  Creek  Campground</td>\n",
       "      <td>Eagle Creek Campground sites can be reserved u...</td>\n",
       "      <td>Flush toilets</td>\n",
       "      <td>8</td>\n",
       "    </tr>\n",
       "    <tr>\n",
       "      <th>16</th>\n",
       "      <td>EAGLE  CREEK  CAMPGROUND</td>\n",
       "      <td>Eagle Creek Campground sites can be reserved u...</td>\n",
       "      <td>Flush toilets</td>\n",
       "      <td>8</td>\n",
       "    </tr>\n",
       "  </tbody>\n",
       "</table>\n",
       "</div>"
      ],
      "text/plain": [
       "                                  FacilityName  \\\n",
       "0                   WILDWOOD  RECREATION  SITE   \n",
       "1                         Wildwood  Campground   \n",
       "2                WHISPERING  FALLS  CAMPGROUND   \n",
       "3                           Lost  Lake  Resort   \n",
       "4                       Lost  Lake  Campground   \n",
       "6                              LAKE  HARRIET     \n",
       "7   Kinnikinnick  (Laurance  Lake)  Campground   \n",
       "8                      Fifteenmile  Campground   \n",
       "9                            CLEAR  LAKE  (OR)   \n",
       "10                 CLEAR  LAKE  CABIN  LOOKOUT   \n",
       "12                                 CAMP  CREEK   \n",
       "13              Lower  Camp  Creek  Campground   \n",
       "15                    Eagle  Creek  Campground   \n",
       "16                    EAGLE  CREEK  CAMPGROUND   \n",
       "\n",
       "                                         Reservations           Restroom  \\\n",
       "0                                                 NaN                NaN   \n",
       "1                                                 NaN                NaN   \n",
       "2                                                 NaN                NaN   \n",
       "3   This site can be reserved by calling Toll Free...  Vault Toilet (18)   \n",
       "4                                                 NaN                NaN   \n",
       "6   This site can be reserved by calling Toll Free...       Vault Toilet   \n",
       "7                                                None   Vault Toilet (2)   \n",
       "8                                     No reservations   Vault Toilet (1)   \n",
       "9                                                 NaN                NaN   \n",
       "10                                                NaN                NaN   \n",
       "12                                                NaN                NaN   \n",
       "13                                                NaN                NaN   \n",
       "15  Eagle Creek Campground sites can be reserved u...      Flush toilets   \n",
       "16  Eagle Creek Campground sites can be reserved u...      Flush toilets   \n",
       "\n",
       "   SitesAvailable  \n",
       "0             NaN  \n",
       "1             NaN  \n",
       "2             NaN  \n",
       "3               7  \n",
       "4             NaN  \n",
       "6               6  \n",
       "7             NaN  \n",
       "8             NaN  \n",
       "9             NaN  \n",
       "10            NaN  \n",
       "12            NaN  \n",
       "13            NaN  \n",
       "15              8  \n",
       "16              8  "
      ]
     },
     "execution_count": 27,
     "metadata": {},
     "output_type": "execute_result"
    }
   ],
   "source": [
    "pipe.df[['FacilityName', 'Reservations', 'Restroom','SitesAvailable']]"
   ]
  },
  {
   "cell_type": "code",
   "execution_count": 18,
   "metadata": {
    "collapsed": false
   },
   "outputs": [
    {
     "name": "stdout",
     "output_type": "stream",
     "text": [
      "FacilityName\n",
      "SitesAvailable\n",
      "Water\n",
      "Restroom\n"
     ]
    }
   ],
   "source": [
    "p = BokehPlot.create_plot(sites_with_availability, cols_to_display)"
   ]
  },
  {
   "cell_type": "code",
   "execution_count": 19,
   "metadata": {
    "collapsed": false
   },
   "outputs": [
    {
     "data": {
      "text/html": [
       "\n",
       "\n",
       "    <div class=\"plotdiv\" id=\"e8c0af06-3e65-4da0-af8c-aba2d069d037\"></div>\n",
       "<script type=\"text/javascript\">\n",
       "  \n",
       "  (function(global) {\n",
       "    function now() {\n",
       "      return new Date();\n",
       "    }\n",
       "  \n",
       "    if (typeof (window._bokeh_onload_callbacks) === \"undefined\") {\n",
       "      window._bokeh_onload_callbacks = [];\n",
       "    }\n",
       "  \n",
       "    function run_callbacks() {\n",
       "      window._bokeh_onload_callbacks.forEach(function(callback) { callback() });\n",
       "      delete window._bokeh_onload_callbacks\n",
       "      console.info(\"Bokeh: all callbacks have finished\");\n",
       "    }\n",
       "  \n",
       "    function load_libs(js_urls, callback) {\n",
       "      window._bokeh_onload_callbacks.push(callback);\n",
       "      if (window._bokeh_is_loading > 0) {\n",
       "        console.log(\"Bokeh: BokehJS is being loaded, scheduling callback at\", now());\n",
       "        return null;\n",
       "      }\n",
       "      if (js_urls == null || js_urls.length === 0) {\n",
       "        run_callbacks();\n",
       "        return null;\n",
       "      }\n",
       "      console.log(\"Bokeh: BokehJS not loaded, scheduling load and callback at\", now());\n",
       "      window._bokeh_is_loading = js_urls.length;\n",
       "      for (var i = 0; i < js_urls.length; i++) {\n",
       "        var url = js_urls[i];\n",
       "        var s = document.createElement('script');\n",
       "        s.src = url;\n",
       "        s.async = false;\n",
       "        s.onreadystatechange = s.onload = function() {\n",
       "          window._bokeh_is_loading--;\n",
       "          if (window._bokeh_is_loading === 0) {\n",
       "            console.log(\"Bokeh: all BokehJS libraries loaded\");\n",
       "            run_callbacks()\n",
       "          }\n",
       "        };\n",
       "        s.onerror = function() {\n",
       "          console.warn(\"failed to load library \" + url);\n",
       "        };\n",
       "        console.log(\"Bokeh: injecting script tag for BokehJS library: \", url);\n",
       "        document.getElementsByTagName(\"head\")[0].appendChild(s);\n",
       "      }\n",
       "    };var element = document.getElementById(\"e8c0af06-3e65-4da0-af8c-aba2d069d037\");\n",
       "    if (element == null) {\n",
       "      console.log(\"Bokeh: ERROR: autoload.js configured with elementid 'e8c0af06-3e65-4da0-af8c-aba2d069d037' but no matching script tag was found. \")\n",
       "      return false;\n",
       "    }\n",
       "  \n",
       "    var js_urls = [];\n",
       "  \n",
       "    var inline_js = [\n",
       "      function(Bokeh) {\n",
       "        Bokeh.$(function() {\n",
       "            var docs_json = {\"ebf76a5f-d1c2-4714-bc78-03468fcf7c0f\":{\"roots\":{\"references\":[{\"attributes\":{\"fill_alpha\":{\"value\":0.1},\"fill_color\":{\"value\":\"#1f77b4\"},\"line_alpha\":{\"value\":0.1},\"line_color\":{\"value\":\"#1f77b4\"},\"size\":{\"units\":\"screen\",\"value\":8},\"x\":{\"field\":\"x\"},\"y\":{\"field\":\"y\"}},\"id\":\"1a1225b8-9871-46a2-9e90-9be566a4e112\",\"type\":\"Circle\"},{\"attributes\":{\"formatter\":{\"id\":\"b1232016-99e0-41d2-b242-ad4f09a601cc\",\"type\":\"BasicTickFormatter\"},\"plot\":{\"id\":\"3eb895a5-7864-4b0e-937a-e289fd0c380a\",\"subtype\":\"Figure\",\"type\":\"Plot\"},\"ticker\":{\"id\":\"bb64fe79-e218-4dad-ab9f-9ce6c13b02e5\",\"type\":\"BasicTicker\"}},\"id\":\"6997d810-1b4b-4ae8-82da-20b1bc7e9623\",\"type\":\"LinearAxis\"},{\"attributes\":{\"fill_color\":{\"value\":\"navy\"},\"line_color\":{\"value\":\"navy\"},\"size\":{\"units\":\"screen\",\"value\":8},\"x\":{\"field\":\"x\"},\"y\":{\"field\":\"y\"}},\"id\":\"4dff1146-5d22-46c2-895c-d0a6528111c2\",\"type\":\"Circle\"},{\"attributes\":{},\"id\":\"bb64fe79-e218-4dad-ab9f-9ce6c13b02e5\",\"type\":\"BasicTicker\"},{\"attributes\":{\"below\":[{\"id\":\"6997d810-1b4b-4ae8-82da-20b1bc7e9623\",\"type\":\"LinearAxis\"}],\"left\":[{\"id\":\"dcdf4332-58f2-4d87-969a-e5e099fd9431\",\"type\":\"LinearAxis\"}],\"renderers\":[{\"id\":\"6997d810-1b4b-4ae8-82da-20b1bc7e9623\",\"type\":\"LinearAxis\"},{\"id\":\"83a056b6-957b-45e4-a76d-9684fd40551a\",\"type\":\"Grid\"},{\"id\":\"dcdf4332-58f2-4d87-969a-e5e099fd9431\",\"type\":\"LinearAxis\"},{\"id\":\"501848ff-113a-472e-aaf2-dcb78dc3a5bb\",\"type\":\"Grid\"},{\"id\":\"555345c0-420a-4160-af6b-c25d647fea60\",\"type\":\"BoxAnnotation\"},{\"id\":\"c8835034-eb65-472d-ac8e-47acf8d3ddfe\",\"type\":\"GlyphRenderer\"},{\"id\":\"a7d10db2-3695-4234-a4a6-ed410c13c50d\",\"type\":\"GlyphRenderer\"}],\"title\":\"Camping in Oregon!\",\"tool_events\":{\"id\":\"d3cc34ef-591b-4808-b278-26e1c235f621\",\"type\":\"ToolEvents\"},\"tools\":[{\"id\":\"e36e6c97-804e-4e5a-a321-718b762b7e6e\",\"type\":\"PanTool\"},{\"id\":\"a2cef42c-b80a-462c-a30e-d78514e36c5d\",\"type\":\"WheelZoomTool\"},{\"id\":\"d18a42be-9bb3-4e67-9696-80dd26e0a54c\",\"type\":\"BoxZoomTool\"},{\"id\":\"d3d63ead-faa6-48f0-b291-dc9a99cd9a81\",\"type\":\"ResetTool\"},{\"id\":\"b3bce54a-5614-4d69-87cb-b9237ea53fe8\",\"type\":\"PreviewSaveTool\"},{\"id\":\"37fbee54-68eb-4e63-85d8-88dcca566316\",\"type\":\"HoverTool\"}],\"x_range\":{\"id\":\"9ca013db-273e-4fdb-b53f-d850b5780e7e\",\"type\":\"DataRange1d\"},\"y_range\":{\"id\":\"f828116f-464e-4e39-8138-ab691592b8dd\",\"type\":\"DataRange1d\"}},\"id\":\"3eb895a5-7864-4b0e-937a-e289fd0c380a\",\"subtype\":\"Figure\",\"type\":\"Plot\"},{\"attributes\":{},\"id\":\"b1232016-99e0-41d2-b242-ad4f09a601cc\",\"type\":\"BasicTickFormatter\"},{\"attributes\":{\"bottom_units\":\"screen\",\"fill_alpha\":{\"value\":0.5},\"fill_color\":{\"value\":\"lightgrey\"},\"left_units\":\"screen\",\"level\":\"overlay\",\"line_alpha\":{\"value\":1.0},\"line_color\":{\"value\":\"black\"},\"line_dash\":[4,4],\"line_width\":{\"value\":2},\"plot\":null,\"render_mode\":\"css\",\"right_units\":\"screen\",\"top_units\":\"screen\"},\"id\":\"555345c0-420a-4160-af6b-c25d647fea60\",\"type\":\"BoxAnnotation\"},{\"attributes\":{\"plot\":{\"id\":\"3eb895a5-7864-4b0e-937a-e289fd0c380a\",\"subtype\":\"Figure\",\"type\":\"Plot\"},\"ticker\":{\"id\":\"bb64fe79-e218-4dad-ab9f-9ce6c13b02e5\",\"type\":\"BasicTicker\"}},\"id\":\"83a056b6-957b-45e4-a76d-9684fd40551a\",\"type\":\"Grid\"},{\"attributes\":{\"dimension\":1,\"plot\":{\"id\":\"3eb895a5-7864-4b0e-937a-e289fd0c380a\",\"subtype\":\"Figure\",\"type\":\"Plot\"},\"ticker\":{\"id\":\"517d1d80-c4e8-49ff-8a11-57a9f762e864\",\"type\":\"BasicTicker\"}},\"id\":\"501848ff-113a-472e-aaf2-dcb78dc3a5bb\",\"type\":\"Grid\"},{\"attributes\":{\"plot\":{\"id\":\"3eb895a5-7864-4b0e-937a-e289fd0c380a\",\"subtype\":\"Figure\",\"type\":\"Plot\"}},\"id\":\"b3bce54a-5614-4d69-87cb-b9237ea53fe8\",\"type\":\"PreviewSaveTool\"},{\"attributes\":{\"formatter\":{\"id\":\"14e38259-2d28-477c-a16b-2bd6e3c4af8e\",\"type\":\"BasicTickFormatter\"},\"plot\":{\"id\":\"3eb895a5-7864-4b0e-937a-e289fd0c380a\",\"subtype\":\"Figure\",\"type\":\"Plot\"},\"ticker\":{\"id\":\"517d1d80-c4e8-49ff-8a11-57a9f762e864\",\"type\":\"BasicTicker\"}},\"id\":\"dcdf4332-58f2-4d87-969a-e5e099fd9431\",\"type\":\"LinearAxis\"},{\"attributes\":{\"fill_alpha\":{\"value\":0.1},\"fill_color\":{\"value\":\"#1f77b4\"},\"line_alpha\":{\"value\":0.1},\"line_color\":{\"value\":\"#1f77b4\"},\"line_width\":{\"value\":0.5},\"xs\":{\"field\":\"x\"},\"ys\":{\"field\":\"y\"}},\"id\":\"bb559049-4f90-402d-a9b7-14043e2c65f9\",\"type\":\"Patches\"},{\"attributes\":{\"callback\":null,\"column_names\":[\"Water\",\"SitesAvailable\",\"Restroom\",\"FacilityName\",\"index\",\"x\",\"y\"],\"data\":{\"FacilityName\":[\"Lost  Lake  Resort\",\"LAKE  HARRIET  \",\"Eagle  Creek  Campground\",\"EAGLE  CREEK  CAMPGROUND\"],\"Restroom\":[\"Vault Toilet (18)\",\"Vault Toilet\",\"Flush toilets\",\"Flush toilets\"],\"SitesAvailable\":[\"7\",\"6\",\"8\",\"8\"],\"Water\":[\"Potable Water\",\"Potable Water\",\"Potable water available\",\"Potable water available\"],\"index\":[3,6,15,16],\"x\":[-121.81641,-121.95694444444445,-121.925284,-121.92527777777778],\"y\":[45.5008,45.07361111111111,45.642244,45.64222222222222]}},\"id\":\"a4ab12c7-82cf-40ce-8a3f-f6c065cab91a\",\"type\":\"ColumnDataSource\"},{\"attributes\":{\"fill_alpha\":{\"value\":0.7},\"fill_color\":{\"value\":\"green\"},\"line_width\":{\"value\":0.5},\"xs\":{\"field\":\"x\"},\"ys\":{\"field\":\"y\"}},\"id\":\"45413041-0783-4820-8a98-b3fce6ffb092\",\"type\":\"Patches\"},{\"attributes\":{\"callback\":null,\"column_names\":[\"y\",\"x\"],\"data\":{\"x\":[[-120.98883,-120.97418,-120.94942,-120.9156,-120.88997,-120.85067,-120.82693,-120.82726,-120.82732,-120.81713,-120.7859,-120.74101,-120.69121,-120.6223,-120.57614,-120.51562,-120.46775,-120.44429,-120.41873,-120.38553,-120.38566,-120.38688,-120.38717,-120.38583,-120.33065,-120.29608,-120.25567,-120.20806,-120.15603,-120.13108,-120.06601,-120.03457,-120.0217,-120.021,-119.99628,-119.95842,-119.91164,-119.89905,-119.89881,-119.89174,-119.86945,-119.82367,-119.79521,-119.76739,-119.73139,-119.65649,-119.65559,-119.65559,-119.65562,-119.65562,-119.65566,-119.65568,-119.65568,-119.65543,-119.65518,-119.65517,-119.6568,-119.65693,-119.65694,-119.65696,-119.65699,-119.65698,-119.65695,-119.65702,-119.65702,-119.65697,-119.65702,-119.65706,-119.65724,-119.65712,-119.6571,-119.65741,-119.65753,-119.65758,-119.65772,-119.68996,-119.7559,-119.77565,-119.77574,-119.77585,-119.77591,-119.776,-119.77615,-119.77637,-119.77664,-119.77688,-119.77718,-119.77718,-119.77731,-119.77731,-119.77737,-119.7774,-119.77746,-119.7775,-119.78507,-119.80837,-119.83369,-119.86157,-119.88636,-119.89805,-119.89817,-119.90596,-120.05964,-120.19823,-120.25799,-120.25795,-120.35709,-120.37855,-120.3789,-120.44013,-120.49098,-120.53419,-120.57256,-120.60225,-120.66674,-120.7479,-120.75093,-120.80856,-120.92217,-120.98686,-120.98709,-121.01964,-121.09247,-121.10293,-121.10843,-121.1081,-121.10735,-121.10734,-121.08036,-121.05891,-121.04846,-121.0024,-120.98878,-120.98874,-120.9888],[-121.69752,-121.69722,-121.69788,-121.70117,-121.70937,-121.71771,-121.72467,-121.73463,-121.74444,-121.75539,-121.76322,-121.77518,-121.77621,-121.78151,-121.79152,-121.79419,-121.79924,-121.80587,-121.80668,-121.80603,-121.81897,-121.82029,-121.82177,-121.83865,-121.84975,-121.86156,-121.86277,-121.86891,-121.87619,-121.88926,-121.90321,-121.90764,-121.91191,-121.91535,-121.9212,-121.90587,-121.90324,-121.90762,-121.91043,-121.91349,-121.91053,-121.91848,-121.91453,-121.9136,-121.91607,-121.92162,-121.92223,-121.92224,-121.92224,-121.91839,-121.90358,-121.90104,-121.89445,-121.87619,-121.87175,-121.83804,-121.82506,-121.78423,-121.75119,-121.72527,-121.71005,-121.69257,-121.68159,-121.676,-121.65986,-121.65743,-121.64575,-121.63121,-121.60154,-121.58334,-121.56489,-121.55714,-121.53459,-121.52987,-121.52327,-121.52239,-121.51984,-121.50965,-121.50656,-121.50415,-121.50322,-121.50118,-121.49915,-121.49744,-121.49467,-121.49458,-121.49246,-121.49162,-121.48589,-121.48371,-121.48323,-121.48274,-121.48177,-121.48019,-121.47568,-121.47003,-121.46789,-121.4661,-121.46285,-121.46019,-121.45062,-121.45006,-121.44105,-121.44105,-121.44106,-121.44104,-121.44181,-121.44116,-121.44106,-121.44075,-121.44097,-121.44078,-121.44067,-121.44766,-121.48157,-121.48163,-121.48172,-121.4814,-121.48177,-121.48103,-121.48062,-121.48063,-121.48142,-121.50482,-121.55891,-121.58608,-121.61424,-121.6361,-121.69133,-121.69681,-121.68497,-121.68841,-121.70317,-121.70112,-121.70063],[-118.46078,-118.44164,-118.41112,-118.39233,-118.37151,-118.34318,-118.31507,-118.25358,-118.21095,-118.12754,-118.11404,-118.03324,-117.99691,-117.99614,-117.99397,-117.99385,-117.99309,-117.99289,-117.99231,-117.99211,-117.99181,-117.99091,-117.9907,-117.99062,-117.98805,-117.98034,-117.97777,-117.97776,-117.97776,-117.97777,-117.97777,-117.97779,-117.97779,-117.97779,-117.97778,-117.97776,-117.97775,-117.97772,-117.9777,-117.9777,-117.9777,-117.97769,-117.97769,-117.97768,-117.9777,-117.97773,-117.9777,-117.97767,-117.97767,-117.97767,-117.97766,-117.97768,-117.97769,-117.97292,-117.97295,-118.03514,-118.04494,-118.06661,-118.08986,-118.11699,-118.11666,-118.11745,-118.11733,-118.18968,-118.20972,-118.27064,-118.35369,-118.39737,-118.42837,-118.50667,-118.58989,-118.62608,-118.69759,-118.69682,-118.65579,-118.60008,-118.54673,-118.54697,-118.54832,-118.51911,-118.51906,-118.52389,-118.55883,-118.5716,-118.60484,-118.66652,-118.69576,-118.72598,-118.73386,-118.75107,-118.7677,-118.78978,-118.7965,-118.82388,-118.83542,-118.84498,-118.866,-118.8949,-118.9429,-118.94589,-118.98969,-119.00215,-119.04462,-119.07675,-119.10622,-119.13506,-119.15199,-119.16388,-119.1636,-119.16307,-119.1572,-119.14652,-119.14716,-119.14682,-119.14693,-119.14742,-119.14651,-119.14544,-119.14562,-119.24828,-119.24824,-119.32944,-119.37216,-119.43461,-119.43464,-119.43462,-119.43493,-119.43494,-119.43484,-119.43487,-119.43466,-119.43458,-119.43235,-119.43208,-119.43189,-119.37613,-119.36069,-119.35084,-119.33421,-119.3284,-119.32763,-119.32472,-119.31518,-119.30159,-119.29812,-119.29774,-119.27216,-119.25715,-119.24283,-119.20942,-119.1695,-119.14669,-119.14186,-119.13833,-119.12612,-119.09322,-119.02706,-119.00856,-118.99857,-118.99562,-118.98993,-118.98713,-118.9778,-118.86092,-118.78845,-118.72142,-118.688,-118.66265,-118.61301,-118.58471,-118.5741,-118.5567,-118.54052,-118.51546,-118.48771,-118.46177],[-123.54248,-123.50564,-123.46869,-123.44418,-123.40344,-123.40152,-123.37617,-123.36597,-123.32013,-123.3029,-123.27858,-123.27367,-123.26105,-123.24656,-123.2299,-123.2299,-123.22983,-123.22982,-123.22978,-123.23093,-123.23015,-123.22981,-123.22785,-123.22936,-123.2293,-123.22932,-123.22931,-123.22932,-123.22958,-123.22981,-123.22992,-123.22996,-123.23,-123.22961,-123.22976,-123.22971,-123.22929,-123.23069,-123.23023,-123.23025,-123.23058,-123.23033,-123.23274,-123.25116,-123.27145,-123.2737,-123.29143,-123.32723,-123.33178,-123.33255,-123.34756,-123.37617,-123.39657,-123.40828,-123.41395,-123.43498,-123.48167,-123.48204,-123.48976,-123.4985,-123.49883,-123.50156,-123.502,-123.50441,-123.50706,-123.51135,-123.51413,-123.51742,-123.51791,-123.519,-123.53017,-123.54378,-123.54848,-123.5577,-123.5701,-123.5719,-123.58611,-123.60998,-123.61569,-123.62007,-123.62363,-123.6255,-123.63158,-123.66721,-123.72143,-123.73351,-123.75405,-123.77478,-123.78929,-123.7902,-123.79381,-123.80427,-123.81295,-123.81765,-123.82045,-123.82147,-123.82121,-123.85485,-123.81138,-123.87839,-124.02269,-124.03818,-124.02745,-124.01251,-124.00128,-124.01095,-123.98732,-123.95569,-123.93013,-123.89955,-123.88186,-123.87862,-123.86625,-123.85633,-123.84503,-123.83027,-123.82896,-123.76551,-123.75494,-123.74831,-123.73512,-123.71619,-123.71619,-123.71595,-123.70593,-123.69732,-123.68765,-123.68463,-123.67772,-123.66998,-123.65434,-123.60474,-123.58148,-123.56178,-123.54248],[-120.38562,-120.38588,-120.38632,-120.38614,-120.386,-120.38557,-120.38514,-120.38804,-120.38755,-120.39186,-120.39896,-120.39443,-120.40187,-120.40468,-120.39996,-120.39825,-120.39324,-120.38625,-120.38346,-120.3789,-120.38476,-120.38626,-120.3789,-120.3785,-120.37613,-120.37142,-120.37142,-120.3792,-120.40502,-120.41258,-120.43956,-120.45247,-120.45989,-120.43878,-120.45294,-120.4718,-120.46932,-120.47662,-120.47617,-120.48168,-120.48889,-120.4789,-120.47891,-120.48125,-120.48604,-120.48257,-120.47954,-120.48895,-120.48235,-120.48335,-120.49015,-120.49515,-120.49525,-120.49515,-120.44877,-120.39231,-120.35113,-120.29974,-120.26588,-120.24468,-120.22832,-120.18663,-120.14918,-120.12843,-120.10784,-120.08523,-120.0728,-120.04793,-120.02599,-120.00402,-119.97943,-119.95383,-119.91023,-119.87712,-119.87145,-119.85737,-119.8536,-119.84151,-119.7921,-119.79043,-119.79067,-119.79163,-119.79124,-119.7912,-119.79116,-119.7911,-119.79108,-119.79108,-119.79097,-119.79098,-119.78632,-119.78389,-119.78042,-119.76214,-119.75852,-119.75328,-119.7514,-119.74778,-119.73716,-119.73323,-119.72978,-119.72273,-119.70951,-119.68291,-119.67991,-119.67349,-119.67199,-119.67198,-119.67179,-119.67165,-119.67138,-119.67133,-119.67107,-119.67172,-119.66067,-119.65282,-119.65325,-119.65312,-119.65339,-119.65346,-119.65358,-119.65401,-119.65439,-119.65428,-119.65442,-119.65399,-119.6539,-119.65406,-119.65392,-119.65389,-119.65523,-119.65549,-119.65558,-119.65559,-119.65649,-119.73139,-119.76739,-119.79521,-119.82367,-119.86945,-119.89174,-119.89881,-119.89905,-119.91164,-119.95842,-119.99628,-120.021,-120.0217,-120.03457,-120.06601,-120.13108,-120.15603,-120.20806,-120.25567,-120.29608,-120.33065,-120.38583,-120.38717,-120.38688,-120.38566,-120.38553,-120.38562],[-123.77367,-123.76717,-123.76252,-123.76004,-123.7557,-123.75208,-123.75076,-123.74928,-123.7419,-123.74062,-123.73939,-123.73399,-123.72509,-123.72185,-123.71667,-123.71619,-123.71619,-123.73512,-123.74831,-123.75494,-123.76551,-123.82896,-123.83027,-123.84503,-123.85633,-123.86625,-123.87862,-123.88186,-123.89955,-123.93013,-123.95569,-123.98732,-124.01095,-124.00128,-124.01251,-124.02745,-124.03818,-124.02269,-123.87839,-123.81138,-123.85485,-123.82121,-123.82147,-123.82643,-123.87057,-123.88402,-123.89636,-123.9364,-123.96729,-123.99924,-124.04659,-124.0794,-124.08725,-124.08784,-124.1007,-124.1018,-124.10253,-124.11652,-124.14158,-124.16226,-124.1816,-124.19284,-124.19312,-124.1968,-124.19693,-124.19706,-124.2083,-124.21526,-124.32883,-124.33196,-124.34834,-124.35272,-124.35706,-124.36257,-124.36736,-124.37165,-124.37505,-124.37797,-124.38448,-124.38973,-124.39725,-124.40706,-124.4125,-124.41753,-124.42006,-124.42065,-124.42293,-124.42538,-124.42698,-124.43037,-124.43283,-124.43363,-124.43533,-124.43399,-124.43663,-124.44565,-124.4518,-124.46692,-124.47721,-124.48203,-124.48425,-124.48542,-124.48573,-124.48247,-124.47924,-124.48001,-124.48797,-124.49412,-124.49534,-124.49407,-124.4905,-124.49013,-124.49381,-124.49775,-124.50001,-124.5004,-124.50084,-124.50051,-124.49963,-124.4987,-124.4975,-124.49594,-124.49441,-124.49788,-124.5043,-124.52116,-124.53786,-124.54663,-124.55476,-124.56176,-124.56951,-124.56975,-124.5644,-124.55703,-124.55104,-124.53523,-124.5154,-124.50308,-124.49011,-124.46789,-124.4752,-124.47994,-124.47291,-124.50122,-124.51955,-124.53031,-124.54059,-124.54572,-124.5458,-124.5531,-124.56613,-124.57552,-124.58469,-124.60162,-124.62062,-124.6302,-124.66464,-124.69071,-124.69913,-124.70354,-124.69581,-124.68063,-124.67792,-124.66627,-124.65246,-124.6273,-124.62213,-124.60686,-124.56789,-124.55351,-124.55228,-124.46426,-124.4548,-124.42496,-124.368,-124.327,-124.29287,-124.25401,-124.22347,-124.21014,-124.20518,-124.18168,-124.14196,-124.16063,-124.16035,-124.14554,-124.13886,-124.13298,-124.11886,-124.08991,-124.0712,-124.06057,-123.977,-123.9263,-123.88185,-123.8246,-123.81209,-123.81159,-123.80742,-123.80358,-123.79941,-123.79585,-123.79039,-123.78609,-123.78249,-123.77732,-123.77481,-123.77386],[-120.40904,-120.40905,-120.4662,-120.49181,-120.54042,-120.61857,-120.65357,-120.64985,-120.62617,-120.55331,-120.52616,-120.52166,-120.50116,-120.46348,-120.46314,-120.46079,-120.3984,-120.35346,-120.34746,-120.34144,-120.33466,-120.32706,-120.29566,-120.28436,-120.27546,-120.26883,-120.26384,-120.25595,-120.25115,-120.21075,-120.17458,-120.12359,-120.00115,-119.9995,-119.99962,-119.99979,-119.99975,-119.99885,-119.99869,-119.99868,-119.9989,-120.00478,-120.00501,-120.00531,-120.00571,-120.00593,-120.00652,-119.97269,-119.90013,-119.88204,-119.88234,-119.88298,-119.88303,-119.85231,-119.81966,-119.78604,-119.76568,-119.76003,-119.76438,-119.79042,-119.79043,-119.7921,-119.84151,-119.8536,-119.85737,-119.87145,-119.87712,-119.91023,-119.95383,-119.97943,-120.00402,-120.02599,-120.04793,-120.0728,-120.08523,-120.10784,-120.12843,-120.14918,-120.18663,-120.22832,-120.24468,-120.26588,-120.29974,-120.35113,-120.39231,-120.44877,-120.49515,-120.49525,-120.49515,-120.49535,-120.49565,-120.49575,-120.49546,-120.49545,-120.49505,-120.49485,-120.49455,-120.49485,-120.49555,-120.49675,-120.49785,-120.49879,-120.49945,-120.50065,-120.50105,-120.50115,-120.50135,-120.50155,-120.50165,-120.50195,-120.50205,-120.50235,-120.50304,-120.50345,-120.50355,-120.50505,-120.46489,-120.47785,-120.51375,-120.54286,-120.54196,-120.55226,-120.54706,-120.54796,-120.53246,-120.53496,-120.53066,-120.52016,-120.49506,-120.48986,-120.43567,-120.42176,-120.36465,-120.37027,-120.38833],[-122.74425,-122.74394,-122.74389,-122.74384,-122.74387,-122.74394,-122.7439,-122.74392,-122.74388,-122.74379,-122.74387,-122.7438,-122.74355,-122.74722,-122.76905,-122.77551,-122.78175,-122.79841,-122.81246,-122.84624,-122.84656,-122.84649,-122.84777,-122.86481,-122.86801,-122.86904,-122.899,-122.90888,-122.90938,-122.92881,-122.93996,-122.9578,-122.97037,-122.97044,-122.97394,-122.99158,-123.00071,-123.0115,-123.03135,-123.0324,-123.06977,-123.11763,-123.13389,-123.13533,-123.1378,-123.15764,-123.19699,-123.23669,-123.34174,-123.39701,-123.46251,-123.46493,-123.46506,-123.48585,-123.46242,-123.44191,-123.44273,-123.42254,-123.3971,-123.36109,-123.32151,-123.32026,-123.29938,-123.31991,-123.34044,-123.37428,-123.38047,-123.394,-123.42116,-123.42307,-123.44396,-123.48472,-123.44816,-123.39856,-123.36106,-123.36123,-123.36121,-123.36097,-123.36096,-123.36003,-123.34513,-123.32141,-123.309,-123.30189,-123.28197,-123.25123,-123.19419,-123.16986,-123.16512,-123.15989,-123.15441,-123.12617,-123.08689,-123.05236,-123.0398,-123.03135,-123.03169,-123.01114,-122.98999,-122.99016,-122.97137,-122.95754,-122.93372,-122.92896,-122.92897,-122.92897,-122.92896,-122.92877,-122.92911,-122.90877,-122.89151,-122.87308,-122.86677,-122.82667,-122.80565,-122.78713,-122.78541,-122.7761,-122.7667,-122.76491,-122.76497,-122.76181,-122.74401,-122.74402,-122.74402,-122.74409,-122.74368,-122.74363,-122.74361,-122.74361,-122.74365,-122.74366,-122.74407,-122.74406,-122.74419],[-118.47346,-118.47356,-118.51836,-118.47356,-118.43086,-118.38635,-118.32805,-118.28825,-118.29515,-118.28915,-118.22632,-118.22825,-118.24475,-118.24475,-118.21473,-118.19568,-118.16566,-118.13852,-118.10243,-118.078,-118.04523,-118.01444,-117.99501,-117.97789,-117.95604,-117.94084,-117.92773,-117.91732,-117.90572,-117.89784,-117.88607,-117.86957,-117.83855,-117.81277,-117.80094,-117.79578,-117.77968,-117.56372,-117.27268,-117.26657,-117.26342,-117.2412,-117.18167,-117.126,-117.08545,-117.05911,-117.05777,-117.05626,-117.05294,-117.02246,-117.00792,-116.95415,-116.9494,-116.9402,-116.92913,-116.89927,-116.89754,-116.89271,-116.88792,-116.88465,-116.87973,-116.86703,-116.85219,-116.82776,-116.78754,-116.78413,-116.7839,-116.78822,-116.79493,-116.80808,-116.82004,-116.83387,-116.84292,-116.84774,-116.84701,-116.84698,-116.85578,-116.85493,-116.84215,-116.83052,-116.83042,-116.83082,-116.8354,-116.84762,-116.83526,-116.83667,-116.84267,-116.84998,-116.86044,-116.87714,-116.89545,-116.89761,-116.89839,-116.89971,-116.9009,-116.92336,-116.93147,-116.96563,-116.98592,-117.01013,-117.03955,-117.06164,-117.07912,-117.08157,-117.09821,-117.12334,-117.12333,-117.14488,-117.14394,-117.17135,-117.19441,-117.22151,-117.21671,-117.21551,-117.22297,-117.23704,-117.23544,-117.21483,-117.18979,-117.20144,-117.22007,-117.22024,-117.22736,-117.23768,-117.31096,-117.38892,-117.48616,-117.49139,-117.52953,-117.57,-117.58937,-117.59099,-117.62869,-117.6508,-117.66652,-117.75104,-117.78807,-117.8188,-117.95319,-118.00508,-118.03151,-118.05169,-118.08677,-118.12604,-118.14044,-118.18471,-118.23002,-118.23214,-118.24407,-118.49621,-118.43539,-118.41425,-118.43485,-118.42445,-118.42197,-118.39215,-118.36365,-118.36868,-118.31765,-118.34425,-118.38275,-118.42475],[-122.93739,-122.91764,-122.88629,-122.88315,-122.88133,-122.87738,-122.85859,-122.85447,-122.83764,-122.81221,-122.81006,-122.80186,-122.79462,-122.78551,-122.78554,-122.7857,-122.79596,-122.79573,-122.79518,-122.78351,-122.77782,-122.77065,-122.76953,-122.7693,-122.7691,-122.76717,-122.76697,-122.764,-122.76145,-122.7613,-122.76096,-122.76096,-122.76093,-122.76093,-122.76076,-122.76028,-122.76011,-122.76011,-122.7606,-122.76211,-122.76261,-122.76671,-122.78207,-122.7848,-122.79305,-122.80419,-122.81593,-122.82621,-122.83091,-122.83243,-122.83299,-122.8434,-122.85854,-122.86175,-122.86366,-122.86725,-122.87473,-122.88161,-122.88239,-122.88495,-122.88622,-122.89011,-122.89436,-122.89471,-122.89633,-122.90248,-122.92781,-122.92897,-122.92897,-122.92896,-122.93372,-122.95754,-122.97137,-122.99016,-122.98999,-123.01114,-123.03169,-123.03135,-123.0398,-123.05236,-123.08689,-123.12617,-123.15441,-123.15989,-123.16512,-123.16986,-123.19419,-123.25123,-123.28197,-123.30189,-123.309,-123.32141,-123.34513,-123.36003,-123.36096,-123.36094,-123.36023,-123.35905,-123.35879,-123.35967,-123.36034,-123.36016,-123.35986,-123.3601,-123.35951,-123.35939,-123.35936,-123.35834,-123.35833,-123.36603,-123.36565,-123.36537,-123.36503,-123.36472,-123.36443,-123.36416,-123.3641,-123.36388,-123.36383,-123.3637,-123.36364,-123.36364,-123.36246,-123.34613,-123.34583,-123.34556,-123.34527,-123.34499,-123.34472,-123.33931,-123.33671,-123.33496,-123.33279,-123.33105,-123.32889,-123.32679,-123.32564,-123.31703,-123.28443,-123.27679,-123.27309,-123.26936,-123.26668,-123.26376,-123.26124,-123.25786,-123.25251,-123.21514,-123.21305,-123.16665,-123.11906,-123.11193,-123.07295,-123.04531,-123.03382,-123.02292,-123.00944,-122.99666,-122.9914,-122.97592,-122.96212,-122.93959],[-118.47346,-118.42475,-118.38275,-118.34425,-118.31765,-118.36868,-118.36365,-118.39215,-118.42197,-118.42445,-118.43485,-118.41425,-118.43539,-118.49621,-118.24407,-118.23214,-118.23222,-118.23287,-118.23288,-118.23334,-118.23258,-118.22834,-118.22827,-118.22819,-118.22819,-118.22804,-118.22812,-118.22807,-118.22795,-118.22794,-118.22792,-118.22788,-118.2278,-118.22766,-118.22765,-118.22764,-118.22764,-118.22763,-118.22758,-118.22758,-118.22753,-118.22747,-118.22743,-118.23493,-118.34198,-118.40889,-118.46711,-118.4993,-118.55332,-118.65139,-118.77968,-118.81626,-118.81662,-118.86519,-118.92762,-118.93818,-118.94695,-118.96558,-118.98367,-119.06172,-119.16312,-119.1981,-119.291,-119.34494,-119.41009,-119.48476,-119.53705,-119.59779,-119.64663,-119.65758,-119.65753,-119.65741,-119.6571,-119.65712,-119.65724,-119.65706,-119.65702,-119.65697,-119.65702,-119.65702,-119.65695,-119.65698,-119.65699,-119.65696,-119.65694,-119.65693,-119.6568,-119.65517,-119.65518,-119.65543,-119.65568,-119.65568,-119.65566,-119.65562,-119.65562,-119.65559,-119.65559,-119.65558,-119.65549,-119.65523,-119.65389,-119.65392,-119.65406,-119.6539,-119.65399,-119.65442,-119.65428,-119.65439,-119.65401,-119.65358,-119.65346,-119.65339,-119.65312,-119.65325,-119.65282,-119.66067,-119.67172,-119.67107,-119.67133,-119.67138,-119.67165,-119.67179,-119.67198,-119.67199,-119.67182,-119.66085,-119.63654,-119.6298,-119.62431,-119.599,-119.59407,-119.57434,-119.5311,-119.51467,-119.50142,-119.46238,-119.44397,-119.40805,-119.39287,-119.37408,-119.35959,-119.33051,-119.3196,-119.29881,-119.28999,-119.2708,-119.25258,-119.22908,-119.19909,-119.17082,-119.16388,-119.15199,-119.13506,-119.10622,-119.07675,-119.04462,-119.00215,-118.98969,-118.94589,-118.9429,-118.8949,-118.866,-118.84498,-118.83542,-118.82388,-118.7965,-118.78978,-118.7677,-118.75107,-118.73386,-118.72598,-118.69576,-118.66652,-118.60484,-118.5716,-118.55883,-118.52389,-118.51906,-118.51546,-118.46897,-118.45437,-118.44276,-118.43716,-118.43547,-118.41336,-118.40306,-118.39038,-118.37647,-118.3666,-118.35793,-118.35176,-118.34229,-118.33437,-118.32445,-118.31826,-118.30866,-118.30063,-118.29433,-118.28686,-118.28071,-118.27195,-118.26405,-118.25535,-118.24495,-118.24475,-118.22825,-118.22632,-118.28915,-118.29515,-118.28825,-118.32805,-118.38635,-118.43086,-118.47356,-118.51836,-118.47356],[-118.54673,-118.60008,-118.65579,-118.69682,-118.69759,-118.62608,-118.58989,-118.50667,-118.42837,-118.39737,-118.35369,-118.27064,-118.20972,-118.18968,-118.11733,-118.11745,-118.11666,-118.11699,-118.08986,-118.06661,-118.04494,-118.03514,-117.97295,-117.97292,-117.97273,-117.89326,-117.75103,-117.74718,-117.7471,-117.78837,-117.78786,-117.7865,-117.76692,-117.74628,-117.74642,-117.72717,-117.72723,-117.7072,-117.68385,-117.68405,-117.68367,-117.64347,-117.59867,-117.56428,-117.54197,-117.52036,-117.47692,-117.37602,-117.26716,-117.26652,-117.26657,-117.27268,-117.56372,-117.77968,-117.79578,-117.80094,-117.81277,-117.83855,-117.86957,-117.88607,-117.89784,-117.90572,-117.91732,-117.92773,-117.94084,-117.95604,-117.97789,-117.99501,-118.01444,-118.04523,-118.078,-118.10243,-118.13852,-118.16566,-118.19568,-118.21473,-118.24475,-118.24475,-118.24495,-118.25535,-118.26405,-118.27195,-118.28071,-118.28686,-118.29433,-118.30063,-118.30866,-118.31826,-118.32445,-118.33437,-118.34229,-118.35176,-118.35793,-118.3666,-118.37647,-118.39038,-118.40306,-118.41336,-118.43547,-118.43716,-118.44276,-118.45437,-118.46897,-118.51546,-118.51906,-118.51911,-118.54832,-118.54697],[-123.81974,-123.81187,-123.81209,-123.8246,-123.88185,-123.9263,-123.977,-124.06057,-124.0712,-124.08991,-124.11886,-124.13298,-124.13886,-124.14554,-124.16035,-124.16063,-124.14196,-124.18168,-124.20518,-124.21014,-124.22347,-124.25401,-124.29287,-124.327,-124.368,-124.42496,-124.4548,-124.46426,-124.55228,-124.54517,-124.53299,-124.52499,-124.5208,-124.51585,-124.51275,-124.50977,-124.50787,-124.50702,-124.50533,-124.50793,-124.5096,-124.5092,-124.51324,-124.51365,-124.51442,-124.51636,-124.51596,-124.51502,-124.51549,-124.51551,-124.51557,-124.51553,-124.51584,-124.51526,-124.51492,-124.5135,-124.51235,-124.50882,-124.50597,-124.50123,-124.49393,-124.48497,-124.48161,-124.48011,-124.47788,-124.47582,-124.47363,-124.47112,-124.46746,-124.46523,-124.46945,-124.47126,-124.47001,-124.4712,-124.47033,-124.46792,-124.46678,-124.46587,-124.46501,-124.46188,-124.46176,-124.46013,-124.4555,-124.46195,-124.46367,-124.47485,-124.47671,-124.478,-124.47709,-124.4779,-124.47771,-124.47695,-124.47164,-124.46142,-124.4467,-124.44379,-124.44107,-124.43954,-124.43805,-124.43545,-124.43194,-124.43171,-124.42564,-124.41522,-124.4078,-124.40035,-124.39219,-124.38755,-124.38384,-124.38027,-124.37924,-124.37623,-124.37437,-124.36032,-124.35811,-124.35579,-124.35263,-124.35147,-124.34622,-124.34384,-124.3402,-124.32871,-124.3296,-124.32178,-124.31665,-124.31109,-124.30563,-124.30303,-124.29677,-124.2931,-124.18437,-124.15884,-124.11326,-123.98284,-123.87543,-123.87549,-123.86838,-123.81922,-123.8179,-123.81772,-123.76429,-123.764,-123.764,-123.764,-123.764,-123.70399,-123.7038,-123.70198,-123.76063,-123.76131,-123.79243,-123.82077,-123.81963,-123.81974],[-121.42612,-121.38724,-121.32156,-121.28527,-121.2422,-121.2301,-121.22119,-121.19625,-121.1898,-121.18131,-121.17395,-121.15889,-121.13093,-121.10734,-121.10735,-121.1081,-121.10843,-121.10293,-121.09247,-121.01964,-120.98709,-120.98686,-120.92217,-120.80856,-120.75093,-120.7479,-120.66674,-120.60225,-120.57256,-120.53419,-120.49098,-120.44013,-120.3789,-120.37855,-120.35709,-120.25795,-120.25799,-120.19823,-120.05964,-119.90596,-119.89817,-119.89816,-119.89812,-119.89811,-119.89811,-119.8981,-119.89808,-119.89808,-119.89806,-119.89798,-119.89798,-119.898,-119.89771,-119.89752,-119.89748,-119.89746,-119.89739,-119.89735,-119.89728,-119.89708,-119.89702,-119.89667,-119.89663,-119.89651,-119.89647,-119.89645,-119.89639,-119.89636,-119.9008,-119.95526,-120.01631,-120.11755,-120.19693,-120.2573,-120.33121,-120.36811,-120.45616,-120.546,-120.57322,-120.61688,-120.68433,-120.75111,-120.78944,-120.84156,-120.8722,-120.91969,-120.94605,-120.97447,-121.0144,-121.09025,-121.12555,-121.16749,-121.22768,-121.33284,-121.33298,-121.33387,-121.37769,-121.39851,-121.45632,-121.47782,-121.49229,-121.51886,-121.53585,-121.56457,-121.59149,-121.6037,-121.62191,-121.64779,-121.68432,-121.71445,-121.73824,-121.75643,-121.78535,-121.80538,-121.81486,-121.82199,-121.84919,-121.88215,-121.89529,-121.90618,-122.00114,-122.00267,-122.0023,-121.97058,-121.9797,-121.97683,-121.96822,-121.96583,-121.9768,-121.96181,-121.93203,-121.9184,-121.89196,-121.86981,-121.85822,-121.85515,-121.8453,-121.83162,-121.82455,-121.81595,-121.78345,-121.76885,-121.77195,-121.7813,-121.77675,-121.78556,-121.78536,-121.79886,-121.79936,-121.80006,-121.80618,-121.80978,-121.81636,-121.82006,-121.82446,-121.82456,-121.83006,-121.84026,-121.8397,-121.83836,-121.83916,-121.83937,-121.83986,-121.83896,-121.83726,-121.84309,-121.84057,-121.83676,-121.84187,-121.84567,-121.84227,-121.84447,-121.84357,-121.84357,-121.84277,-121.84267,-121.81755,-121.79578,-121.77938,-121.74215,-121.69515,-121.66969,-121.64422,-121.60695,-121.58309,-121.54121,-121.48982,-121.43659,-121.4264],[-117.42079,-117.39749,-117.38016,-117.3668,-117.32152,-117.25499,-117.23918,-117.22485,-117.14877,-117.09029,-117.04004,-116.99848,-116.98998,-116.98558,-116.97558,-116.963,-116.9533,-116.94438,-116.93308,-116.92018,-116.91702,-116.91599,-116.91586,-116.91283,-116.905,-116.89857,-116.89375,-116.89324,-116.89485,-116.8913,-116.88156,-116.87671,-116.87488,-116.87581,-116.87503,-116.87022,-116.86771,-116.86295,-116.85979,-116.85467,-116.84355,-116.82869,-116.81855,-116.81032,-116.80572,-116.80285,-116.79602,-116.7946,-116.79456,-116.77778,-116.73454,-116.68555,-116.63159,-116.5955,-116.56358,-116.53775,-116.53498,-116.51179,-116.4877,-116.4721,-116.46932,-116.48391,-116.51497,-116.52984,-116.52997,-116.54868,-116.55505,-116.56036,-116.58207,-116.59453,-116.61933,-116.63502,-116.65168,-116.67391,-116.68101,-116.68703,-116.68711,-116.69115,-116.69429,-116.69746,-116.70101,-116.70271,-116.70473,-116.7081,-116.70951,-116.70962,-116.7086,-116.71023,-116.71431,-116.71768,-116.72219,-116.72415,-116.72419,-116.72804,-116.72891,-116.74125,-116.74631,-116.75343,-116.76531,-116.7779,-116.78354,-116.78404,-116.7839,-116.78413,-116.78754,-116.82776,-116.85219,-116.86703,-116.87973,-116.88465,-116.88792,-116.89271,-116.89754,-116.89927,-116.92913,-116.9402,-116.9494,-116.95415,-117.00792,-117.02246,-117.05294,-117.05626,-117.05777,-117.05911,-117.08545,-117.126,-117.18167,-117.2412,-117.26342,-117.26657,-117.26652,-117.26716,-117.37602,-117.47692,-117.52036,-117.54197,-117.56428,-117.59867,-117.64347,-117.68367,-117.68405,-117.68385,-117.7072,-117.72723,-117.72717,-117.74642,-117.74628,-117.76692,-117.7865,-117.78786,-117.78837,-117.7471,-117.74718,-117.75103,-117.89326,-117.97273,-117.97292,-117.97769,-117.97768,-117.97766,-117.97767,-117.97767,-117.97767,-117.9777,-117.97773,-117.9777,-117.97768,-117.97769,-117.97769,-117.9777,-117.9777,-117.9777,-117.97772,-117.97775,-117.97776,-117.97778,-117.97779,-117.97779,-117.97779,-117.97777,-117.97777,-117.97776,-117.97776,-117.97777,-117.97735,-117.96352,-117.94585,-117.92607,-117.91028,-117.87831,-117.85853,-117.84134,-117.83579,-117.81615,-117.80306,-117.79628,-117.79316,-117.78486,-117.78044,-117.76777,-117.76719,-117.76357,-117.74908,-117.7457,-117.73001,-117.71777,-117.70021,-117.65005,-117.62602,-117.60898,-117.60316,-117.59339,-117.55428,-117.54817,-117.54647,-117.53816,-117.53462,-117.52898,-117.51056,-117.50576,-117.50496,-117.50388,-117.50254,-117.50173,-117.50118,-117.50067,-117.49994,-117.49918,-117.49647,-117.49277,-117.48979,-117.48762,-117.48642,-117.48506,-117.48393,-117.48234,-117.4809,-117.48014,-117.47904,-117.47548,-117.47516,-117.44131,-117.42264],[-121.69752,-121.70063,-121.70112,-121.70317,-121.68841,-121.68497,-121.69681,-121.69671,-121.68426,-121.7013,-121.71833,-121.74957,-121.73316,-121.71265,-121.70045,-121.68676,-121.66272,-121.65216,-121.66946,-121.7093,-121.72338,-121.76984,-121.77885,-121.79471,-121.80279,-121.79919,-121.79099,-121.79318,-121.76628,-121.74477,-121.73488,-121.71438,-121.73198,-121.73468,-121.73633,-122.14028,-122.3854,-122.43321,-122.50484,-122.54317,-122.56481,-122.59383,-122.6178,-122.66594,-122.69866,-122.7188,-122.7263,-122.73978,-122.7523,-122.77332,-122.78435,-122.78205,-122.77418,-122.75429,-122.76,-122.75573,-122.74919,-122.75184,-122.74127,-122.84971,-122.84972,-122.85004,-122.85138,-122.85154,-122.85561,-122.85664,-122.86596,-122.86782,-122.86788,-122.8681,-122.86802,-122.86798,-122.86793,-122.86793,-122.8679,-122.86794,-122.86802,-122.8681,-122.868,-122.86798,-122.86797,-122.86793,-122.86793,-122.86795,-122.86799,-122.868,-122.86801,-122.86801,-122.86481,-122.84777,-122.84649,-122.84656,-122.84624,-122.81246,-122.79841,-122.78175,-122.77551,-122.76905,-122.74722,-122.74355,-122.7438,-122.74387,-122.74379,-122.74388,-122.74392,-122.7439,-122.74394,-122.74387,-122.74384,-122.74389,-122.74394,-122.74425,-122.74419,-122.74406,-122.74407,-122.74385,-122.73367,-122.7253,-122.7102,-122.69582,-122.66629,-122.65099,-122.65599,-122.64713,-122.64137,-122.63445,-122.61644,-122.59865,-122.58796,-122.58001,-122.55301,-122.51639,-122.50246,-122.47024,-122.42183,-122.3879,-122.32648,-122.26074,-122.16673,-122.02335,-121.82185,-121.82029,-121.81897,-121.80603,-121.80668,-121.80587,-121.79924,-121.79419,-121.79152,-121.78151,-121.77621,-121.77518,-121.76322,-121.75539,-121.74444,-121.73463,-121.72467,-121.71771,-121.70937,-121.70117,-121.69788,-121.69722],[-122.60298,-122.60336,-122.65571,-122.69699,-122.72491,-122.7506,-122.79483,-122.8224,-122.87002,-122.92508,-122.97358,-123.02985,-123.07236,-123.113,-123.1705,-123.19475,-123.21068,-123.2299,-123.24656,-123.26105,-123.27367,-123.27858,-123.3029,-123.32013,-123.36597,-123.37617,-123.40152,-123.40344,-123.44418,-123.46869,-123.50564,-123.54248,-123.54248,-123.56178,-123.58148,-123.60474,-123.65434,-123.66998,-123.67772,-123.68463,-123.68765,-123.69732,-123.70593,-123.71595,-123.71619,-123.71667,-123.72185,-123.72509,-123.73399,-123.73939,-123.74062,-123.7419,-123.74928,-123.75076,-123.75208,-123.7557,-123.76004,-123.76252,-123.76717,-123.77367,-123.77386,-123.77481,-123.77732,-123.78249,-123.78609,-123.79039,-123.79585,-123.79941,-123.80358,-123.80742,-123.81159,-123.81209,-123.81187,-123.81974,-123.81974,-123.81963,-123.82077,-123.79243,-123.76131,-123.76063,-123.70198,-123.7038,-123.70399,-123.764,-123.764,-123.764,-123.764,-123.76429,-123.81772,-123.8179,-123.81922,-123.86838,-123.87549,-123.87543,-123.98284,-124.11326,-124.15884,-124.18437,-124.29028,-124.29016,-124.29012,-124.28999,-124.28936,-124.28707,-124.2863,-124.28033,-124.28161,-124.28258,-124.28394,-124.28493,-124.28576,-124.28583,-124.28585,-124.2853,-124.28386,-124.28249,-124.28143,-124.27963,-124.27773,-124.27473,-124.27154,-124.26875,-124.2657,-124.25422,-124.25405,-124.25123,-124.25123,-124.24966,-124.2473,-124.24702,-124.24366,-124.23969,-124.23852,-124.23593,-124.23476,-124.2344,-124.23136,-124.23023,-124.06548,-123.96595,-123.92607,-123.90041,-123.87709,-123.86156,-123.84143,-123.75926,-123.65905,-123.56587,-123.5291,-123.43017,-123.313,-123.21726,-123.13812,-123.13713,-123.09807,-122.97209,-122.86119,-122.75261,-122.74062,-122.61459,-122.46656,-122.30212,-122.1326,-122.13204,-122.13204,-122.09969,-122.06522,-122.03734,-122.02194,-122.01377,-122.00194,-121.9894,-121.99175,-122.00364,-122.01554,-122.02764,-122.03514,-122.04004,-122.03994,-122.04864,-122.05344,-122.06614,-122.06614,-122.07744,-122.08244,-122.09088,-122.08024,-122.19456,-122.28218,-122.28187,-122.28186,-122.29618,-122.35705,-122.38469,-122.40064,-122.42512,-122.45998,-122.51766,-122.56043,-122.58298],[-123.46323,-123.4633,-123.50122,-123.5197,-123.5551,-123.56996,-123.60735,-123.6286,-123.67247,-123.7181,-123.75056,-123.78441,-123.78441,-123.78396,-123.78475,-123.78427,-123.76422,-123.74388,-123.72421,-123.72424,-123.72432,-123.72434,-123.72438,-123.72441,-123.72452,-123.72456,-123.72457,-123.72458,-123.72459,-123.72462,-123.72471,-123.72474,-123.72484,-123.72488,-123.72502,-123.72512,-123.72521,-123.72525,-123.72535,-123.72539,-123.72565,-123.73645,-123.74693,-123.76419,-123.77468,-123.78447,-123.78885,-123.79954,-123.80538,-123.8109,-123.81525,-123.82836,-123.84448,-123.85127,-123.86732,-123.87923,-123.89905,-123.91392,-123.94459,-123.9547,-123.96834,-123.98866,-123.99881,-124.00228,-124.01537,-124.09583,-124.09356,-124.08142,-124.06462,-124.05512,-124.05254,-124.04975,-124.04819,-124.04779,-124.04692,-124.04683,-124.04479,-124.04534,-124.04563,-124.04444,-124.0481,-124.0516,-124.05502,-124.05704,-124.05849,-124.05962,-124.05889,-124.05692,-124.05484,-124.05104,-124.04899,-124.04628,-124.04468,-124.04332,-124.04323,-124.04167,-124.04026,-124.04131,-124.04605,-124.06124,-124.07698,-124.07698,-124.07361,-124.06649,-124.06019,-124.05268,-124.04643,-124.04279,-124.04105,-124.03877,-124.0365,-124.03582,-124.04346,-124.05243,-124.05361,-124.05811,-124.06127,-124.06395,-124.06488,-124.06454,-124.0635,-124.06191,-124.05937,-124.0561,-124.05533,-124.0564,-124.05623,-124.05311,-124.0391,-124.02666,-124.0271,-124.02835,-124.03228,-124.03678,-124.03669,-124.03247,-124.03037,-124.03093,-124.03107,-124.02947,-124.0282,-124.02321,-124.02115,-124.02038,-124.01907,-124.0181,-124.01689,-124.01626,-124.0162,-124.01616,-124.01601,-124.01485,-124.01348,-124.01138,-124.01204,-124.01912,-124.02204,-124.03045,-124.04365,-124.06002,-124.06744,-124.06994,-124.07019,-124.06828,-124.06728,-124.06693,-124.06574,-124.06545,-123.96743,-123.95731,-123.92166,-123.9034,-123.87894,-123.84748,-123.83928,-123.83036,-123.82328,-123.79258,-123.7662,-123.74233,-123.72041,-123.71854,-123.70429,-123.66456,-123.63308,-123.6123,-123.5524,-123.5143,-123.4949,-123.46026,-123.43017,-123.40369,-123.36611,-123.36096,-123.36097,-123.36121,-123.36123,-123.36106,-123.39856,-123.44816,-123.48472,-123.44396,-123.42307,-123.42116,-123.394,-123.38047,-123.37428,-123.34044,-123.31991,-123.29938,-123.32026,-123.32151,-123.36109,-123.3971,-123.42254,-123.44273,-123.44191,-123.46242,-123.48585,-123.46506,-123.46493,-123.46453,-123.46385,-123.4636,-123.46331,-123.46233,-123.46279,-123.46306,-123.46323],[-123.57147,-123.57272,-123.60489,-123.61533,-123.62252,-123.6457,-123.70201,-123.72421,-123.74388,-123.76422,-123.78427,-123.78475,-123.78396,-123.78441,-123.78441,-123.75056,-123.7181,-123.67247,-123.6286,-123.60735,-123.56996,-123.5551,-123.5197,-123.50122,-123.4633,-123.46323,-123.46323,-123.46306,-123.46279,-123.46233,-123.46331,-123.4636,-123.46385,-123.46453,-123.46493,-123.46251,-123.39701,-123.34174,-123.23669,-123.19699,-123.15764,-123.1378,-123.13533,-123.13389,-123.11763,-123.06977,-123.0324,-123.03135,-123.0115,-123.00071,-122.99158,-122.97394,-122.97044,-122.97037,-122.9578,-122.93996,-122.92881,-122.90938,-122.90888,-122.899,-122.86904,-122.86801,-122.86801,-122.868,-122.86799,-122.86795,-122.86793,-122.86793,-122.86797,-122.86798,-122.868,-122.8681,-122.86802,-122.86794,-122.8679,-122.86793,-122.86793,-122.86798,-122.86802,-122.8681,-122.86788,-122.86782,-122.86596,-122.85664,-122.85561,-122.85154,-122.85138,-122.85004,-122.84972,-122.8499,-122.88224,-122.90043,-122.94402,-122.96094,-122.9751,-122.9993,-122.99996,-122.99797,-123.03001,-123.05019,-123.0203,-123.00275,-123.00801,-123.01739,-123.03241,-123.01038,-122.99989,-123.00067,-123.01779,-123.02293,-123.03659,-123.04422,-123.04883,-123.06165,-123.06985,-123.06995,-123.07031,-123.15478,-123.16479,-123.25121,-123.26231,-123.27692,-123.32691,-123.34908,-123.38051,-123.43495,-123.47771,-123.47842,-123.47993,-123.48115,-123.48209,-123.48833,-123.49527,-123.50879,-123.54537],[-117.02653,-117.02653,-117.02626,-117.02635,-117.02652,-117.02663,-117.02647,-117.02658,-117.02642,-117.02613,-117.02636,-117.02616,-117.02609,-117.02622,-117.02916,-117.05518,-117.16182,-117.24623,-117.31205,-117.36841,-117.41824,-117.47413,-117.50668,-117.52231,-117.57658,-117.63227,-117.65823,-117.7225,-117.76487,-117.79355,-117.87506,-117.91437,-117.95091,-117.99356,-118.0228,-118.06386,-118.06998,-118.09881,-118.13521,-118.19587,-118.19719,-118.19724,-118.19706,-118.19633,-118.21474,-118.21482,-118.21492,-118.21572,-118.21588,-118.21618,-118.21651,-118.21651,-118.22906,-118.22855,-118.22844,-118.22842,-118.22796,-118.22798,-118.2321,-118.23202,-118.23237,-118.23251,-118.23215,-118.23192,-118.2276,-118.22756,-118.22747,-118.22743,-118.22747,-118.22753,-118.22758,-118.22758,-118.22763,-118.22764,-118.22764,-118.22765,-118.22766,-118.2278,-118.22788,-118.22792,-118.22794,-118.22795,-118.22807,-118.22812,-118.22804,-118.22819,-118.22819,-118.22827,-118.22834,-118.23258,-118.23334,-118.23288,-118.23287,-118.23222,-118.23214,-118.23002,-118.18471,-118.14044,-118.12604,-118.08677,-118.05169,-118.03151,-118.00508,-117.95319,-117.8188,-117.78807,-117.75104,-117.66652,-117.6508,-117.62869,-117.59099,-117.58937,-117.57,-117.52953,-117.49139,-117.48616,-117.38892,-117.31096,-117.23768,-117.22736,-117.22024,-117.22007,-117.22043,-117.21245,-117.19857,-117.17957,-117.17034,-117.15025,-117.13204,-117.10932,-117.09327,-117.08867,-117.06728,-117.05783,-117.05111,-117.04474,-117.04114,-117.02951,-117.01325,-117.0022,-116.98062,-116.97448,-116.97339,-116.9724,-116.94454,-116.92453,-116.90361,-116.89707,-116.89785,-116.90167,-116.91626,-116.91667,-116.92907,-116.94481,-116.96586,-116.97631,-116.97595,-116.97377,-116.97292,-116.95626,-116.9463,-116.9345,-116.94205,-116.93813,-116.95057,-116.9593,-116.97808,-116.96087,-116.96605,-116.96181,-116.96136,-116.97005,-116.98084,-116.97644,-116.97952,-116.98383,-116.98381,-116.98381,-116.98248,-116.98853,-116.99593,-117.00874,-117.02158,-117.0107,-117.01283,-117.02344,-117.03185,-117.02878,-117.02185,-117.02623,-117.02656,-117.02659,-117.02654,-117.02641,-117.02664,-117.02677,-117.02674,-117.02674,-117.02673,-117.02674,-117.02677,-117.02658,-117.02654,-117.02673,-117.0268,-117.02679,-117.02672,-117.02675,-117.02666,-117.02687,-117.02673,-117.0268,-117.02669,-117.02683,-117.02664,-117.02638],[-122.69582,-122.7102,-122.7253,-122.73367,-122.74385,-122.74407,-122.74366,-122.74365,-122.74361,-122.74361,-122.74363,-122.74368,-122.74409,-122.74402,-122.74402,-122.74401,-122.76181,-122.76497,-122.76491,-122.7667,-122.7761,-122.78541,-122.78713,-122.80565,-122.82667,-122.86677,-122.87308,-122.89151,-122.90877,-122.92911,-122.92877,-122.92896,-122.92897,-122.92781,-122.90248,-122.89633,-122.89471,-122.89436,-122.89011,-122.88622,-122.88495,-122.88239,-122.88161,-122.87473,-122.86725,-122.86366,-122.86175,-122.85854,-122.8434,-122.83299,-122.83243,-122.83091,-122.82621,-122.81593,-122.80419,-122.79305,-122.7848,-122.78207,-122.76671,-122.76261,-122.76975,-122.76381,-122.74451,-122.70274,-122.69101,-122.67504,-122.60771,-122.58313,-122.55032,-122.54588,-122.50421,-122.49226,-122.48139,-122.47349,-122.45955,-122.4546,-122.43867,-122.41071,-122.39652,-122.38327,-122.35062,-122.34104,-122.33662,-122.32202,-122.2949,-122.25426,-122.24899,-122.23718,-122.2017,-122.17523,-122.12911,-122.1262,-122.11832,-122.1002,-122.05301,-122.03621,-122.00119,-121.99596,-121.9886,-121.98362,-121.9798,-121.9702,-121.96355,-121.96162,-121.95684,-121.95526,-121.95367,-121.95184,-121.94765,-121.94093,-121.93977,-121.93515,-121.92554,-121.92224,-121.92224,-121.92223,-121.92162,-121.91607,-121.9136,-121.91453,-121.91848,-121.91053,-121.91349,-121.91043,-121.90762,-121.90324,-121.90587,-121.9212,-121.91535,-121.91191,-121.90764,-121.90321,-121.88926,-121.87619,-121.86891,-121.86277,-121.86156,-121.84975,-121.83865,-121.82177,-121.82029,-121.82185,-122.02335,-122.16673,-122.26074,-122.32648,-122.3879,-122.42183,-122.47024,-122.50246,-122.51639,-122.55301,-122.58001,-122.58796,-122.59865,-122.61644,-122.63445,-122.64137,-122.64713,-122.65599,-122.65099,-122.66629],[-121.59734,-121.64046,-121.70446,-121.75948,-121.75908,-121.75518,-121.75348,-121.75118,-121.74878,-121.74638,-121.74488,-121.74208,-121.74158,-121.74548,-121.75068,-121.75138,-121.75158,-121.75228,-121.75298,-121.75208,-121.75028,-121.74898,-121.74748,-121.74768,-121.74618,-121.74198,-121.73758,-121.7338,-121.73388,-121.73458,-121.73468,-121.73198,-121.71438,-121.73488,-121.74477,-121.76628,-121.79318,-121.79099,-121.79919,-121.80279,-121.79471,-121.77885,-121.76984,-121.72338,-121.7093,-121.66946,-121.65216,-121.66272,-121.68676,-121.70045,-121.71265,-121.73316,-121.74957,-121.71833,-121.7013,-121.68426,-121.69671,-121.69681,-121.69133,-121.6361,-121.61424,-121.58608,-121.55891,-121.50482,-121.48142,-121.48063,-121.48062,-121.48103,-121.48177,-121.4814,-121.48172,-121.48163,-121.48157,-121.44766,-121.44067,-121.44078,-121.44097,-121.44075,-121.44106,-121.44116,-121.44181,-121.44104,-121.44106,-121.44105,-121.44105,-121.43943,-121.40299,-121.37907,-121.35127,-121.33914,-121.3122,-121.28732,-121.20369,-121.19779,-121.1954,-121.19441,-121.17944,-121.16312,-121.13692,-121.12702,-121.12424,-121.12369,-121.1217,-121.11883,-121.11839,-121.11771,-121.07947,-120.99805,-120.98191,-120.95308,-120.92175,-120.91588,-120.9157,-120.90563,-120.90742,-120.88034,-120.82573,-120.83598,-120.85837,-120.88002,-120.93307,-120.97384,-121.02839,-121.02181,-121.02316,-120.99091,-120.95621,-120.93075,-120.89885,-120.86294,-120.83737,-120.80796,-120.77704,-120.75891,-120.72326,-120.7186,-120.72642,-120.50365,-120.50355,-120.50345,-120.50304,-120.50235,-120.50205,-120.50195,-120.50165,-120.50155,-120.50135,-120.50115,-120.50105,-120.50065,-120.49945,-120.49879,-120.49785,-120.49675,-120.49555,-120.49485,-120.49455,-120.49485,-120.49505,-120.49545,-120.49546,-120.49575,-120.49565,-120.49535,-120.49515,-120.49525,-120.49515,-120.49015,-120.48335,-120.48235,-120.48895,-120.47954,-120.48257,-120.48604,-120.48125,-120.47891,-120.4789,-120.48889,-120.48168,-120.47617,-120.47662,-120.46932,-120.4718,-120.45294,-120.43878,-120.45989,-120.45247,-120.43956,-120.41258,-120.40502,-120.3792,-120.37142,-120.37142,-120.41878,-120.47747,-120.50336,-120.537,-120.5702,-120.64036,-120.71816,-120.76245,-120.87531,-120.88671,-120.91345,-120.92979,-120.98801,-121.08101,-121.09108,-121.11371,-121.1697,-121.21643,-121.34281,-121.39587,-121.46039,-121.52591,-121.59632],[-122.46923,-122.50309,-122.59011,-122.67756,-122.77227,-122.84476,-122.91286,-122.94459,-122.99599,-123.01382,-123.03958,-123.093,-123.14356,-123.14362,-123.14565,-123.12381,-123.10291,-123.09127,-123.11028,-123.12621,-123.1457,-123.17003,-123.17869,-123.17995,-123.17439,-123.1482,-123.13497,-123.11808,-123.11399,-123.10764,-123.07964,-123.06423,-123.04191,-123.0373,-123.03821,-123.05827,-123.0747,-123.06775,-123.06989,-123.06995,-123.06985,-123.06165,-123.04883,-123.04422,-123.03659,-123.02293,-123.01779,-123.00067,-122.99989,-123.01038,-123.03241,-123.01739,-123.00801,-123.00275,-123.0203,-123.05019,-123.03001,-122.99797,-122.99996,-122.9993,-122.9751,-122.96094,-122.94402,-122.90043,-122.88224,-122.8499,-122.84972,-122.84971,-122.74127,-122.75184,-122.74919,-122.75573,-122.76,-122.75429,-122.77418,-122.78205,-122.78435,-122.77332,-122.7523,-122.73978,-122.7263,-122.7188,-122.69866,-122.66594,-122.6178,-122.59383,-122.56481,-122.54317,-122.50484,-122.43321,-122.3854,-122.14028,-121.73633,-121.73468,-121.73458,-121.73388,-121.7338,-121.73758,-121.74198,-121.74618,-121.74768,-121.74748,-121.74898,-121.75028,-121.75208,-121.75298,-121.75228,-121.75158,-121.75138,-121.75068,-121.74548,-121.74158,-121.74208,-121.74488,-121.74638,-121.74878,-121.75118,-121.75348,-121.75518,-121.75908,-121.75948,-121.75958,-121.77048,-121.79038,-121.79938,-121.81153,-121.81338,-121.81938,-121.81398,-121.80778,-121.80328,-121.79628,-121.78406,-121.77438,-121.76858,-121.76018,-121.76559,-121.7748,-121.78006,-121.78873,-121.79908,-121.79498,-121.79948,-121.79648,-121.79297,-121.78848,-121.79388,-121.79408,-121.81029,-121.9726,-121.99893,-122.03417,-122.0618,-122.10303,-122.13857,-122.20883,-122.2498,-122.30922,-122.35191,-122.40026,-122.42686,-122.46875],[-123.57147,-123.54537,-123.50879,-123.49527,-123.48833,-123.48209,-123.48115,-123.47993,-123.47842,-123.47771,-123.43495,-123.38051,-123.34908,-123.32691,-123.27692,-123.26231,-123.25121,-123.16479,-123.15478,-123.07031,-123.06995,-123.06989,-123.06775,-123.0747,-123.05827,-123.03821,-123.0373,-123.04191,-123.06423,-123.07964,-123.10764,-123.11399,-123.11808,-123.13497,-123.1482,-123.17439,-123.17995,-123.17869,-123.17003,-123.1457,-123.12621,-123.11028,-123.09127,-123.10291,-123.12381,-123.14565,-123.14362,-123.14356,-123.14292,-123.14228,-123.14124,-123.14038,-123.13992,-123.13929,-123.13873,-123.13754,-123.13569,-123.13478,-123.1332,-123.13251,-123.13244,-123.13307,-123.13525,-123.13776,-123.13938,-123.14347,-123.14798,-123.15043,-123.15076,-123.15062,-123.1503,-123.1497,-123.14954,-123.1493,-123.14906,-123.14933,-123.15565,-123.16511,-123.1931,-123.25258,-123.26105,-123.28283,-123.29596,-123.31591,-123.32917,-123.33729,-123.33907,-123.35332,-123.3811,-123.39638,-123.41278,-123.43741,-123.46001,-123.48695,-123.51212,-123.53042,-123.55665,-123.56746,-123.57733,-123.58867,-123.60238,-123.60257,-123.60346,-123.62622,-123.66145,-123.67938,-123.68908,-123.70448,-123.72499,-123.72518,-123.72526,-123.72563,-123.72578,-123.72594,-123.72581,-123.72544,-123.72518,-123.72503,-123.72497,-123.72487,-123.72484,-123.72473,-123.72467,-123.72507,-123.72527,-123.72502,-123.72493,-123.72527,-123.72539,-123.72535,-123.72525,-123.72521,-123.72512,-123.72502,-123.72488,-123.72484,-123.72474,-123.72471,-123.72462,-123.72459,-123.72458,-123.72457,-123.72456,-123.72452,-123.72441,-123.72438,-123.72434,-123.72432,-123.72424,-123.72421,-123.70201,-123.6457,-123.62252,-123.61533,-123.60489,-123.57272],[-123.81655,-123.81669,-123.81301,-123.79264,-123.75588,-123.7356,-123.71539,-123.72047,-123.72,-123.66197,-123.63412,-123.61125,-123.59729,-123.59791,-123.59681,-123.59636,-123.59674,-123.59702,-123.59703,-123.59709,-123.60278,-123.60264,-123.60264,-123.60257,-123.60238,-123.58867,-123.57733,-123.56746,-123.55665,-123.53042,-123.51212,-123.48695,-123.46001,-123.43741,-123.41278,-123.39638,-123.3811,-123.35332,-123.33907,-123.33729,-123.32917,-123.31591,-123.29596,-123.28283,-123.26105,-123.25258,-123.1931,-123.16511,-123.15565,-123.14933,-123.14906,-123.14873,-123.12453,-123.11465,-123.08262,-123.09143,-123.11952,-123.16334,-123.17163,-123.19306,-123.18505,-123.2484,-123.26079,-123.24175,-123.25003,-123.22452,-123.21508,-123.21343,-123.20621,-123.22146,-123.23073,-123.23716,-123.2275,-123.23165,-123.23741,-123.20719,-123.1844,-123.18398,-123.18462,-123.21508,-123.23004,-123.25989,-123.30996,-123.34664,-123.37775,-123.40176,-123.4332,-123.45627,-123.48918,-123.50121,-123.51333,-123.53201,-123.53923,-123.54742,-123.56317,-123.59347,-123.61577,-123.63998,-123.6617,-123.68213,-123.7113,-123.7236,-123.74595,-123.77396,-123.77542,-123.77543,-123.77562,-123.79871],[-123.81655,-123.79871,-123.77562,-123.77543,-123.77542,-123.77651,-123.78545,-123.7981,-123.80292,-123.80736,-123.82061,-123.84315,-123.85483,-123.87188,-123.88511,-123.89978,-123.91577,-123.93068,-123.93604,-123.94103,-123.95595,-123.96157,-123.96501,-123.97277,-123.99116,-124.01045,-124.02817,-124.06835,-124.09989,-124.11559,-124.18741,-124.18652,-124.18767,-124.18227,-124.18173,-124.18165,-124.18007,-124.17514,-124.17164,-124.16352,-124.15859,-124.15694,-124.15571,-124.15367,-124.15695,-124.16391,-124.16461,-124.16133,-124.15553,-124.1509,-124.14578,-124.14396,-124.14266,-124.1399,-124.13837,-124.13613,-124.13858,-124.14191,-124.14769,-124.15122,-124.15233,-124.15192,-124.15083,-124.14908,-124.14506,-124.14144,-124.13934,-124.13744,-124.13993,-124.1422,-124.14835,-124.152,-124.15336,-124.15324,-124.15104,-124.14826,-124.14441,-124.14271,-124.14162,-124.13994,-124.14067,-124.14193,-124.14435,-124.14821,-124.14831,-124.14531,-124.14678,-124.14776,-124.14651,-124.14596,-124.14609,-124.14525,-124.14472,-124.14371,-124.14236,-124.14073,-124.14033,-124.14135,-124.14156,-124.14088,-124.13902,-124.13621,-124.13043,-124.12659,-124.12623,-124.11657,-124.11378,-124.09863,-124.09805,-124.0995,-124.09899,-124.09848,-124.0967,-124.09373,-124.09213,-124.09063,-124.09101,-124.09078,-124.09082,-124.09032,-124.08966,-124.08972,-124.08944,-124.08852,-124.08838,-124.08771,-124.08771,-124.09043,-124.09221,-124.09597,-124.09747,-124.09597,-124.09583,-124.01537,-124.00228,-123.99881,-123.98866,-123.96834,-123.9547,-123.94459,-123.91392,-123.89905,-123.87923,-123.86732,-123.85127,-123.84448,-123.82836,-123.81525,-123.8109,-123.80538,-123.79954,-123.78885,-123.78447,-123.77468,-123.76419,-123.74693,-123.73645,-123.72565,-123.72539,-123.72527,-123.72493,-123.72502,-123.72527,-123.72507,-123.72467,-123.72473,-123.72484,-123.72487,-123.72497,-123.72503,-123.72518,-123.72544,-123.72581,-123.72594,-123.72578,-123.72563,-123.72526,-123.72518,-123.72499,-123.70448,-123.68908,-123.67938,-123.66145,-123.62622,-123.60346,-123.60257,-123.60264,-123.60264,-123.60278,-123.59709,-123.59703,-123.59702,-123.59674,-123.59636,-123.59681,-123.59791,-123.59729,-123.61125,-123.63412,-123.66197,-123.72,-123.72047,-123.71539,-123.7356,-123.75588,-123.79264,-123.81301,-123.81669],[-121.34981,-121.34981,-121.35064,-121.34984,-121.30781,-121.23752,-121.16582,-121.10457,-120.99659,-120.92706,-120.88303,-120.88305,-120.88239,-120.8809,-120.88125,-120.88061,-120.88085,-120.87947,-120.87948,-120.8911,-120.93529,-120.96381,-120.99013,-121.0353,-121.09488,-121.11124,-121.19898,-121.20868,-121.25027,-121.28396,-121.29651,-121.31649,-121.33468,-121.33954,-121.34136,-121.35215,-121.36042,-121.37912,-121.40059,-121.41315,-121.41744,-121.42285,-121.42814,-121.43553,-121.44746,-121.44754,-121.44803,-121.47174,-121.49134,-121.51211,-121.52553,-121.5594,-121.58937,-121.60364,-121.62844,-121.64184,-121.66965,-121.69353,-121.70781,-121.75664,-121.77799,-121.80587,-121.82509,-121.87136,-121.90813,-121.9747,-122.05641,-122.12612,-122.16044,-122.18615,-122.18887,-122.28947,-122.28953,-122.28954,-122.28963,-122.28969,-122.28745,-122.28738,-122.2874,-122.28727,-122.28741,-122.28745,-122.28753,-122.28767,-122.28567,-122.28453,-122.2841,-122.28402,-122.2839,-122.28393,-122.28365,-122.28347,-122.28336,-122.28333,-122.28326,-122.28329,-122.282,-122.28191,-122.28188,-122.28186,-122.28187,-122.28218,-122.19456,-122.08024,-122.09088,-122.08244,-122.07744,-122.06614,-122.06614,-122.05344,-122.04864,-122.03994,-122.04004,-122.03514,-122.02764,-122.01554,-122.00364,-121.99175,-121.9894,-122.00194,-122.01377,-122.02194,-122.03734,-122.06522,-122.09969,-122.13204,-122.13204,-122.13221,-122.15303,-122.14195,-122.1392,-122.13604,-122.13285,-122.13035,-122.13171,-122.14327,-122.14912,-122.14675,-122.14015,-122.14189,-122.13434,-122.12738,-122.11997,-122.1064,-122.08428,-122.07241,-122.07531,-122.06538,-122.05856,-122.049,-122.02977,-122.01635,-122.00295,-122.00267,-122.00114,-121.90618,-121.89529,-121.88215,-121.84919,-121.82199,-121.81486,-121.80538,-121.78535,-121.75643,-121.73824,-121.71445,-121.68432,-121.64779,-121.62191,-121.6037,-121.59149,-121.56457,-121.53585,-121.51886,-121.49229,-121.47782,-121.45632,-121.39851,-121.37769,-121.33387,-121.33298,-121.33275,-121.33295,-121.3328,-121.33259,-121.33243,-121.33628,-121.34849,-121.34865],[-120.40904,-120.38833,-120.37027,-120.36465,-120.42176,-120.43567,-120.48986,-120.49506,-120.52016,-120.53066,-120.53496,-120.53246,-120.54796,-120.54706,-120.55226,-120.54196,-120.54286,-120.51375,-120.47785,-120.46489,-120.50505,-120.50355,-120.50365,-120.72642,-120.7186,-120.72326,-120.75891,-120.77704,-120.80796,-120.83737,-120.86294,-120.89885,-120.93075,-120.95621,-120.99091,-121.02316,-121.02181,-121.02839,-120.97384,-120.93307,-120.88002,-120.85837,-120.83598,-120.82573,-120.88034,-120.90742,-120.90563,-120.9157,-120.91588,-120.91348,-120.89638,-120.89569,-120.89125,-120.88681,-120.87617,-120.87091,-120.85567,-120.8347,-120.78887,-120.78253,-120.73889,-120.72417,-120.72118,-120.71801,-120.71222,-120.70923,-120.69624,-120.69287,-120.69234,-120.68763,-120.67057,-120.66977,-120.66907,-120.66887,-120.65663,-120.65357,-120.61857,-120.54042,-120.49181,-120.4662,-120.40905],[-122.60298,-122.58298,-122.56043,-122.51766,-122.45998,-122.42512,-122.40064,-122.38469,-122.35705,-122.29618,-122.28186,-122.28188,-122.28191,-122.282,-122.28329,-122.28326,-122.28333,-122.28336,-122.28347,-122.28365,-122.28393,-122.2839,-122.28402,-122.2841,-122.28453,-122.28567,-122.28767,-122.28753,-122.28745,-122.28741,-122.28727,-122.2874,-122.28738,-122.28745,-122.28969,-122.28963,-122.28954,-122.28953,-122.29629,-122.35225,-122.38265,-122.4166,-122.49368,-122.55856,-122.59228,-122.61566,-122.64508,-122.64858,-122.66139,-122.719,-122.75363,-122.77899,-122.78389,-122.79912,-122.82175,-122.84143,-122.89114,-122.94161,-123.01791,-123.06475,-123.12059,-123.15361,-123.18584,-123.22853,-123.23033,-123.23058,-123.23025,-123.23023,-123.23069,-123.22929,-123.22971,-123.22976,-123.22961,-123.23,-123.22996,-123.22992,-123.22981,-123.22958,-123.22932,-123.22931,-123.22932,-123.2293,-123.22936,-123.22785,-123.22981,-123.23015,-123.23093,-123.22978,-123.22982,-123.22983,-123.2299,-123.2299,-123.21068,-123.19475,-123.1705,-123.113,-123.07236,-123.02985,-122.97358,-122.92508,-122.87002,-122.8224,-122.79483,-122.7506,-122.72491,-122.69699,-122.65571,-122.60336],[-122.46923,-122.46875,-122.42686,-122.40026,-122.35191,-122.30922,-122.2498,-122.20883,-122.13857,-122.10303,-122.0618,-122.03417,-121.99893,-121.9726,-121.81029,-121.79408,-121.79488,-121.79958,-121.80088,-121.79818,-121.79738,-121.80705,-121.80817,-121.79937,-121.79827,-121.80157,-121.80527,-121.81397,-121.81221,-121.82927,-121.84087,-121.84847,-121.84397,-121.84827,-121.84777,-121.84347,-121.84327,-121.84633,-121.84477,-121.84547,-121.84597,-121.84257,-121.84267,-121.84277,-121.84357,-121.84357,-121.84447,-121.84227,-121.84567,-121.84187,-121.83676,-121.84057,-121.84309,-121.83726,-121.83896,-121.83986,-121.83937,-121.83916,-121.83836,-121.8397,-121.84026,-121.83006,-121.82456,-121.82446,-121.82006,-121.81636,-121.80978,-121.80618,-121.80006,-121.79936,-122.08622,-122.23301,-122.32798,-122.33278,-122.3598,-122.40632,-122.44554,-122.49567,-122.51419,-122.54521,-122.57609,-122.6234,-122.64655,-122.6782,-122.72594,-122.76049,-122.80959,-122.83339,-122.865,-122.91221,-123.05191,-123.15848,-123.16267,-123.17539,-123.1767,-123.17691,-123.18398,-123.1844,-123.20719,-123.23741,-123.23165,-123.2275,-123.23716,-123.23073,-123.22146,-123.20621,-123.21343,-123.21508,-123.22452,-123.25003,-123.24175,-123.26079,-123.2484,-123.18505,-123.19306,-123.17163,-123.16334,-123.11952,-123.09143,-123.08262,-123.11465,-123.12453,-123.14873,-123.14906,-123.1493,-123.14954,-123.1497,-123.1503,-123.15062,-123.15076,-123.15043,-123.14798,-123.14347,-123.13938,-123.13776,-123.13525,-123.13307,-123.13244,-123.13251,-123.1332,-123.13478,-123.13569,-123.13754,-123.13873,-123.13929,-123.13992,-123.14038,-123.14124,-123.14228,-123.14292,-123.14356,-123.093,-123.03958,-123.01382,-122.99599,-122.94459,-122.91286,-122.84476,-122.77227,-122.67756,-122.59011,-122.50309],[-119.43461,-119.37216,-119.32944,-119.24824,-119.24828,-119.14562,-119.14544,-119.14651,-119.14742,-119.14693,-119.14682,-119.14716,-119.14652,-119.1572,-119.16307,-119.1636,-119.16388,-119.17082,-119.19909,-119.22908,-119.25258,-119.2708,-119.28999,-119.29881,-119.3196,-119.33051,-119.35959,-119.37408,-119.39287,-119.40805,-119.44397,-119.46238,-119.50142,-119.51467,-119.5311,-119.57434,-119.59407,-119.599,-119.62431,-119.6298,-119.63654,-119.66085,-119.67182,-119.67199,-119.67349,-119.67991,-119.68291,-119.70951,-119.72273,-119.72978,-119.73323,-119.73716,-119.74778,-119.7514,-119.75328,-119.75852,-119.76214,-119.78042,-119.78389,-119.78632,-119.79098,-119.79097,-119.79108,-119.79108,-119.7911,-119.79116,-119.7912,-119.79124,-119.79163,-119.79067,-119.79043,-119.79042,-119.76438,-119.76003,-119.76568,-119.78604,-119.81966,-119.85231,-119.88303,-119.88298,-119.88234,-119.88204,-119.90013,-119.97269,-120.00652,-120.00593,-120.00571,-120.00531,-120.00501,-120.00478,-119.9989,-119.99868,-119.99869,-119.99885,-119.99975,-119.99979,-119.99962,-119.9995,-119.99564,-119.99178,-119.98407,-119.98203,-119.97636,-119.9746,-119.97284,-119.97128,-119.96972,-119.96574,-119.96296,-119.9601,-119.95725,-119.95118,-119.94512,-119.93745,-119.92978,-119.92754,-119.92085,-119.91192,-119.91049,-119.90906,-119.90746,-119.90086,-119.89059,-119.87614,-119.86813,-119.84065,-119.77293,-119.75114,-119.71836,-119.67219,-119.66776,-119.65289,-119.63149,-119.62339,-119.60055,-119.59241,-119.57158,-119.53695,-119.53057,-119.52605,-119.5168,-119.51118,-119.50364,-119.50113,-119.4919,-119.48783,-119.46513,-119.45626,-119.45153,-119.45026,-119.43681,-119.43189,-119.43208,-119.43235,-119.43458,-119.43466,-119.43487,-119.43484,-119.43494,-119.43493,-119.43462,-119.43464],[-121.42612,-121.4264,-121.43659,-121.48982,-121.54121,-121.58309,-121.60695,-121.64422,-121.66969,-121.69515,-121.74215,-121.77938,-121.79578,-121.81755,-121.84267,-121.84257,-121.84597,-121.84547,-121.84477,-121.84633,-121.84327,-121.84347,-121.84777,-121.84827,-121.84397,-121.84847,-121.84087,-121.82927,-121.81221,-121.81397,-121.80527,-121.80157,-121.79827,-121.79937,-121.80817,-121.80705,-121.79738,-121.79818,-121.80088,-121.79958,-121.79488,-121.79408,-121.79388,-121.78848,-121.79297,-121.79648,-121.79948,-121.79498,-121.79908,-121.78873,-121.78006,-121.7748,-121.76559,-121.76018,-121.76858,-121.77438,-121.78406,-121.79628,-121.80328,-121.80778,-121.81398,-121.81938,-121.81338,-121.81153,-121.79938,-121.79038,-121.77048,-121.75958,-121.75948,-121.70446,-121.64046,-121.59734,-121.59632,-121.52591,-121.46039,-121.39587,-121.34281,-121.21643,-121.1697,-121.11371,-121.09108,-121.08101,-120.98801,-120.92979,-120.91345,-120.88671,-120.87531,-120.76245,-120.71816,-120.64036,-120.5702,-120.537,-120.50336,-120.47747,-120.41878,-120.37142,-120.37613,-120.3785,-120.3789,-120.38626,-120.38476,-120.3789,-120.38346,-120.38625,-120.39324,-120.39825,-120.39996,-120.40468,-120.40187,-120.39443,-120.39896,-120.39186,-120.38755,-120.38804,-120.38514,-120.38557,-120.386,-120.38614,-120.38632,-120.38588,-120.38562,-120.38562,-120.38553,-120.41873,-120.44429,-120.46775,-120.51562,-120.57614,-120.6223,-120.69121,-120.74101,-120.7859,-120.81713,-120.82732,-120.82726,-120.82693,-120.85067,-120.88997,-120.9156,-120.94942,-120.97418,-120.98883,-120.9888,-120.98874,-120.98878,-121.0024,-121.04846,-121.05891,-121.08036,-121.10734,-121.13093,-121.15889,-121.17395,-121.18131,-121.1898,-121.19625,-121.22119,-121.2301,-121.2422,-121.28527,-121.32156,-121.38724],[-121.34981,-121.34865,-121.34849,-121.33628,-121.33243,-121.33259,-121.3328,-121.33295,-121.33275,-121.33298,-121.33284,-121.22768,-121.16749,-121.12555,-121.09025,-121.0144,-120.97447,-120.94605,-120.91969,-120.8722,-120.84156,-120.78944,-120.75111,-120.68433,-120.61688,-120.57322,-120.546,-120.45616,-120.36811,-120.33121,-120.2573,-120.19693,-120.11755,-120.01631,-119.95526,-119.9008,-119.89636,-119.89592,-119.89516,-119.8957,-119.89605,-119.89634,-119.89641,-119.89679,-119.90784,-119.93242,-119.93229,-119.93203,-119.94347,-119.94374,-119.91505,-119.76912,-119.69957,-119.63217,-119.47844,-119.36515,-119.36413,-119.36415,-119.36389,-119.36367,-119.35944,-119.35955,-119.36017,-119.36018,-119.36302,-119.37942,-119.39263,-119.42187,-119.4729,-119.4995,-119.51925,-119.55288,-119.5971,-119.62021,-119.6462,-119.67303,-119.69321,-119.71991,-119.75105,-119.77698,-119.79055,-119.80189,-119.82435,-119.86795,-119.88651,-119.90674,-119.93172,-119.94866,-119.973,-119.99917,-119.99917,-120.00104,-120.04266,-120.05437,-120.09112,-120.15189,-120.19996,-120.22291,-120.25005,-120.29064,-120.29455,-120.30668,-120.32109,-120.33713,-120.50121,-120.52227,-120.58242,-120.60327,-120.61802,-120.63368,-120.65321,-120.69393,-120.74825,-120.77836,-120.8107,-120.83003,-120.87601,-120.87948,-120.87947,-120.88085,-120.88061,-120.88125,-120.8809,-120.88239,-120.88305,-120.88303,-120.92706,-120.99659,-121.10457,-121.16582,-121.23752,-121.30781,-121.34984,-121.35064,-121.34981],[-124.03622,-124.0356,-124.02635,-124.0214,-124.01146,-124.00585,-124.00126,-123.99273,-123.98599,-123.97335,-123.95762,-123.94646,-123.88534,-123.85498,-123.84322,-123.81514,-123.79342,-123.77812,-123.74583,-123.74145,-123.72832,-123.72281,-123.69236,-123.68165,-123.63539,-123.58695,-123.55518,-123.54393,-123.5164,-123.51318,-123.50124,-123.49421,-123.48859,-123.48693,-123.48506,-123.48424,-123.46523,-123.45874,-123.44759,-123.42804,-123.42954,-123.42961,-123.42835,-123.41151,-123.37954,-123.37176,-123.36536,-123.36364,-123.36364,-123.3637,-123.36383,-123.36388,-123.3641,-123.36416,-123.36443,-123.36472,-123.36503,-123.36537,-123.36565,-123.36603,-123.35833,-123.35834,-123.35936,-123.35939,-123.35951,-123.3601,-123.35986,-123.36016,-123.36034,-123.35967,-123.35879,-123.35905,-123.36023,-123.36094,-123.36096,-123.36611,-123.40369,-123.43017,-123.46026,-123.4949,-123.5143,-123.5524,-123.6123,-123.63308,-123.66456,-123.70429,-123.71854,-123.72041,-123.74233,-123.7662,-123.79258,-123.82328,-123.83036,-123.83928,-123.84748,-123.87894,-123.9034,-123.92166,-123.95731,-123.96743,-124.06545,-124.06206,-124.05455,-124.05565,-124.04671,-124.0377,-124.03963,-124.04328,-124.04202,-124.04217,-124.04282,-124.043,-124.04335,-124.04467,-124.04582,-124.05656,-124.06642,-124.08016,-124.09057,-124.09192,-124.0849,-124.07082,-124.05759,-124.04439,-124.03456,-124.02288,-124.01917,-124.01318,-124.00812,-124.00791,-124.00679,-124.00476,-124.00278,-124.00341,-124.00368,-124.00446,-124.0049,-124.00512,-124.00826,-124.01156,-124.01367,-124.01603,-124.01784,-124.01809,-124.01988,-124.02188,-124.02306,-124.02541,-124.02689,-124.02828,-124.02824,-124.02903,-124.0309,-124.03413,-124.03679,-124.03966,-124.04028,-124.04318,-124.04505,-124.04662,-124.04835,-124.05066,-124.05393,-124.05624,-124.05845,-124.06148,-124.06437,-124.0657,-124.06731,-124.06862,-124.07255,-124.07716,-124.08323,-124.08852,-124.0912,-124.09601,-124.09927,-124.10374,-124.10666,-124.11128,-124.11387,-124.11679,-124.11952,-124.12342,-124.12626,-124.13354,-124.13788,-124.1412,-124.14375,-124.14703,-124.1491,-124.15029,-124.15231,-124.1536,-124.15508,-124.15522,-124.15537,-124.15547,-124.15631,-124.15778,-124.15884,-124.15935,-124.1294,-124.08061,-124.03492,-124.03355,-124.03531,-124.03887],[-118.21651,-118.21618,-118.21588,-118.21572,-118.21492,-118.21482,-118.21474,-118.19633,-118.19706,-118.19724,-118.19719,-118.19842,-118.25695,-118.30369,-118.32656,-118.34761,-118.36032,-118.38203,-118.39244,-118.42657,-118.46336,-118.501,-118.53429,-118.60181,-118.64181,-118.69641,-118.77696,-118.80665,-118.83777,-118.87602,-119.01018,-119.07646,-119.1641,-119.23188,-119.27537,-119.30588,-119.32362,-119.32418,-119.33677,-119.34048,-119.3436,-119.34366,-119.35106,-119.36008,-119.36018,-119.36017,-119.35955,-119.35944,-119.36367,-119.36389,-119.36415,-119.36413,-119.36515,-119.47844,-119.63217,-119.69957,-119.76912,-119.91505,-119.94374,-119.94347,-119.93203,-119.93229,-119.93242,-119.90784,-119.89679,-119.89641,-119.89634,-119.89605,-119.8957,-119.89516,-119.89592,-119.89636,-119.89639,-119.89645,-119.89647,-119.89651,-119.89663,-119.89667,-119.89702,-119.89708,-119.89728,-119.89735,-119.89739,-119.89746,-119.89748,-119.89752,-119.89771,-119.898,-119.89798,-119.89798,-119.89806,-119.89808,-119.89808,-119.8981,-119.89811,-119.89811,-119.89812,-119.89816,-119.89817,-119.89805,-119.88636,-119.86157,-119.83369,-119.80837,-119.78507,-119.7775,-119.77746,-119.7774,-119.77737,-119.77731,-119.77731,-119.77718,-119.77718,-119.77688,-119.77664,-119.77637,-119.77615,-119.776,-119.77591,-119.77585,-119.77574,-119.77565,-119.7559,-119.68996,-119.65772,-119.65758,-119.64663,-119.59779,-119.53705,-119.48476,-119.41009,-119.34494,-119.291,-119.1981,-119.16312,-119.06172,-118.98367,-118.96558,-118.94695,-118.93818,-118.92762,-118.86519,-118.81662,-118.81626,-118.77968,-118.65139,-118.55332,-118.4993,-118.46711,-118.40889,-118.34198,-118.23493,-118.22743,-118.22747,-118.22756,-118.2276,-118.23192,-118.23215,-118.23251,-118.23237,-118.23202,-118.2321,-118.22798,-118.22796,-118.22842,-118.22844,-118.22855,-118.22906,-118.21651],[-123.1767,-123.17539,-123.16267,-123.15848,-123.05191,-122.91221,-122.865,-122.83339,-122.80959,-122.76049,-122.72594,-122.6782,-122.64655,-122.6234,-122.57609,-122.54521,-122.51419,-122.49567,-122.44554,-122.40632,-122.3598,-122.33278,-122.32798,-122.23301,-122.08622,-121.79936,-121.79886,-121.78536,-121.78556,-121.77675,-121.7813,-121.77195,-121.76885,-121.78345,-121.81595,-121.82455,-121.83162,-121.8453,-121.85515,-121.85822,-121.86981,-121.89196,-121.9184,-121.93203,-121.96181,-121.9768,-121.96583,-121.96822,-121.97683,-121.9797,-121.97058,-122.0023,-122.00267,-122.00295,-122.01635,-122.02977,-122.049,-122.05856,-122.06538,-122.07531,-122.07241,-122.08428,-122.1064,-122.11997,-122.12738,-122.13434,-122.14189,-122.14015,-122.14675,-122.14912,-122.14327,-122.13171,-122.13035,-122.13285,-122.13604,-122.1392,-122.14195,-122.15303,-122.13221,-122.13204,-122.1326,-122.30212,-122.46656,-122.61459,-122.74062,-122.75261,-122.86119,-122.97209,-123.09807,-123.13713,-123.13812,-123.21726,-123.313,-123.43017,-123.5291,-123.56587,-123.65905,-123.75926,-123.84143,-123.86156,-123.87709,-123.90041,-123.92607,-123.96595,-124.06548,-124.23023,-124.22989,-124.22889,-124.22855,-124.22848,-124.22827,-124.2282,-124.22584,-124.2234,-124.22272,-124.22018,-124.21805,-124.21515,-124.2121,-124.21035,-124.20881,-124.20881,-124.20789,-124.209,-124.20963,-124.21076,-124.21161,-124.21254,-124.21273,-124.21279,-124.21275,-124.21272,-124.211,-124.20941,-124.20867,-124.20773,-124.20741,-124.20517,-124.20498,-124.20447,-124.204,-124.20349,-124.20233,-124.20243,-124.20217,-124.20177,-124.20105,-124.20022,-124.19907,-124.19864,-124.19809,-124.19806,-124.19741,-124.19657,-124.19613,-124.19538,-124.19672,-124.19702,-124.19855,-124.19932,-124.19981,-124.19988,-124.19997,-124.1997,-124.19933,-124.19917,-124.19957,-124.20013,-124.20038,-124.20085,-124.20043,-124.20071,-124.20086,-124.20098,-124.20017,-124.19984,-124.19821,-124.19555,-124.19325,-124.18901,-124.18886,-124.18813,-124.18676,-124.18677,-124.18853,-124.1883,-124.18823,-124.18749,-124.18596,-124.18635,-124.18662,-124.18638,-124.1862,-124.18559,-124.1844,-124.18283,-124.18547,-124.18558,-124.18679,-124.18681,-124.18646,-124.18504,-124.18432,-124.18617,-124.18811,-124.18807,-124.18741,-124.11559,-124.09989,-124.06835,-124.02817,-124.01045,-123.99116,-123.97277,-123.96501,-123.96157,-123.95595,-123.94103,-123.93604,-123.93068,-123.91577,-123.89978,-123.88511,-123.87188,-123.85483,-123.84315,-123.82061,-123.80736,-123.80292,-123.7981,-123.78545,-123.77651,-123.77542,-123.77396,-123.74595,-123.7236,-123.7113,-123.68213,-123.6617,-123.63998,-123.61577,-123.59347,-123.56317,-123.54742,-123.53923,-123.53201,-123.51333,-123.50121,-123.48918,-123.45627,-123.4332,-123.40176,-123.37775,-123.34664,-123.30996,-123.25989,-123.23004,-123.21508,-123.18462,-123.18398,-123.17691]],\"y\":[[44.46942,44.4764,44.4764,44.47641,44.47642,44.47656,44.48583,44.51262,44.55222,44.56252,44.56264,44.56252,44.56285,44.56295,44.56295,44.56287,44.5631,44.56328,44.56357,44.56395,44.56003,44.51949,44.4905,44.4388,44.43741,44.43739,44.43768,44.43806,44.4381,44.43811,44.43823,44.43844,44.43289,44.40409,44.38918,44.38948,44.38956,44.36102,44.32237,44.30687,44.30723,44.30735,44.30758,44.30757,44.30732,44.30697,44.30696,44.30615,44.29339,44.29131,44.27519,44.26351,44.26286,44.25628,44.24986,44.24303,44.22031,44.2156,44.20051,44.17079,44.15143,44.14142,44.12486,44.10508,44.10089,44.08293,44.05537,44.04617,44.01646,44.00113,43.99995,43.99564,43.96844,43.95905,43.95905,43.95904,43.95896,43.95907,43.94285,43.92408,43.91315,43.89721,43.87035,43.84622,43.81877,43.7956,43.77662,43.77026,43.75028,43.7384,43.7311,43.72387,43.71091,43.70357,43.69809,43.69813,43.69817,43.69822,43.6983,43.69832,43.69832,43.69829,43.69768,43.6976,43.70101,43.77472,43.78523,43.79645,43.87168,43.87233,43.87253,43.87243,43.8722,43.87196,43.87125,43.87325,43.95727,43.95802,43.95946,44.00879,44.06864,44.13515,44.13768,44.21506,44.32363,44.35319,44.38852,44.39054,44.39072,44.39075,44.39068,44.39,44.41927,44.44141,44.46913],[45.37366,45.37372,45.37568,45.38038,45.38497,45.38846,45.39431,45.39615,45.39782,45.40098,45.40369,45.40267,45.40359,45.40939,45.41526,45.42558,45.43099,45.43543,45.44273,45.45137,45.46104,45.46153,45.46343,45.47518,45.48627,45.4942,45.50326,45.51164,45.51524,45.51264,45.51871,45.5254,45.53074,45.54098,45.54725,45.55262,45.55961,45.56401,45.56678,45.5726,45.57942,45.58638,45.59419,45.60076,45.60657,45.61039,45.64036,45.64906,45.64912,45.6506,45.65922,45.66458,45.67553,45.68739,45.69029,45.70021,45.70339,45.7023,45.69686,45.69431,45.69473,45.6987,45.7016,45.70307,45.70498,45.70496,45.70482,45.70466,45.71137,45.71541,45.71949,45.72121,45.72621,45.72598,45.72483,45.72468,45.72423,45.72246,45.72192,45.7215,45.72134,45.72099,45.72085,45.71994,45.71847,45.71842,45.7173,45.71685,45.71372,45.71252,45.71226,45.712,45.71147,45.71059,45.70809,45.70496,45.70379,45.7028,45.70137,45.70086,45.69905,45.69894,45.69724,45.69633,45.68807,45.67122,45.62484,45.60877,45.57411,45.55731,45.54708,45.53239,45.5237,45.51935,45.49138,45.46963,45.44629,45.42494,45.39954,45.34531,45.31519,45.28234,45.26105,45.25808,45.25786,45.25779,45.25779,45.258,45.25802,45.25802,45.28367,45.3102,45.34638,45.36122,45.36813],[46.00091,46.00081,46.00049,46.00074,46.00056,46.00066,46.00066,46.00057,46.00042,46.00103,46.00017,46.00058,46.00079,46.00078,46.00078,46.00078,46.00078,46.00078,46.00078,46.00078,46.00078,46.0008,46.00081,46.00081,46.00079,46.00075,46.00073,46.00056,45.99986,45.99907,45.99677,45.99044,45.98423,45.97748,45.97193,45.96218,45.95707,45.93854,45.92424,45.91931,45.91628,45.91225,45.90894,45.89835,45.89505,45.89407,45.88826,45.88119,45.88097,45.87486,45.87112,45.86328,45.86056,45.86059,45.85912,45.81709,45.78417,45.75772,45.68842,45.67317,45.6193,45.55239,45.49396,45.47045,45.42722,45.42903,45.42896,45.44265,45.37549,45.35481,45.35492,45.34,45.31763,45.26282,45.21455,45.19692,45.18664,45.12917,45.08342,44.99986,44.99596,44.99602,44.9965,44.99662,44.99675,44.99695,44.99704,44.99739,44.99716,44.99737,44.99744,44.99754,44.99757,44.99774,44.99788,44.99798,44.99806,44.99811,44.9975,44.99746,44.99692,44.99655,44.99637,44.99635,44.99637,44.99607,44.99594,44.99589,44.99841,45.04144,45.08301,45.10234,45.13372,45.16041,45.19314,45.24098,45.30032,45.4039,45.50126,45.51685,45.5995,45.60258,45.60275,45.60737,45.68229,45.76163,45.78599,45.80637,45.82478,45.83465,45.84855,45.86059,45.90205,45.91337,45.91825,45.92097,45.92263,45.92535,45.92995,45.93155,45.93177,45.93257,45.93394,45.93534,45.9357,45.93574,45.93838,45.93993,45.93665,45.9301,45.9276,45.93036,45.93095,45.93138,45.93286,45.94274,45.96913,45.97927,45.98897,45.99176,45.99719,45.99985,46.00023,46.00053,46.00092,46.001,46.00098,46.00098,46.00105,46.00091,46.00073,46.0009,46.00094,46.00094,46.00094,46.00091],[42.71494,42.71012,42.70282,42.70314,42.70998,42.72073,42.72464,42.73944,42.72824,42.73173,42.73166,42.72475,42.72447,42.70288,42.70249,42.70166,42.67517,42.64327,42.63169,42.61391,42.57047,42.54966,42.5067,42.46861,42.42937,42.42148,42.40956,42.37891,42.32453,42.30643,42.29069,42.25991,42.22479,42.19469,42.17833,42.16193,42.12832,42.09875,42.07144,42.03142,42.01012,42.00388,42.00375,42.00322,42.00206,42.00197,42.00123,41.99984,41.99973,41.9997,41.99911,41.99917,41.99984,42.00039,42.00066,42.00164,42.00063,42.00062,42.00058,42.00053,42.00053,42.00052,42.00053,42.00064,42.00076,42.00083,42.00086,42.00085,42.00085,42.00087,42.00092,42.00048,42.0003,42.00023,42.00022,42.0001,42.00008,41.99984,41.99984,41.99984,41.99984,41.99948,41.99879,41.9954,41.99683,41.99691,41.99677,41.99638,41.99611,41.99584,41.99569,41.99539,41.99514,41.99528,41.99542,41.99547,41.99678,42.13003,42.25173,42.33743,42.36073,42.39001,42.4055,42.42335,42.4537,42.49177,42.49957,42.49891,42.49597,42.49863,42.50903,42.52065,42.53896,42.56578,42.58233,42.59844,42.62524,42.71087,42.72613,42.73916,42.76516,42.78422,42.78423,42.77027,42.73973,42.75314,42.75337,42.75115,42.74573,42.73973,42.73984,42.74014,42.73669,42.72494,42.71678],[44.57093,44.59006,44.63685,44.67818,44.70763,44.73983,44.76112,44.7641,44.76905,44.77266,44.77752,44.78379,44.79081,44.79454,44.79919,44.8024,44.79753,44.79621,44.80001,44.80587,44.80704,44.80981,44.81185,44.81627,44.81994,44.82157,44.82158,44.82687,44.83378,44.85217,44.86361,44.8644,44.87483,44.88801,44.90858,44.90769,44.91472,44.92949,44.93425,44.94551,44.95224,44.96554,44.97954,44.99276,45.00105,45.00769,45.01575,45.02885,45.03995,45.05405,45.06265,45.06815,45.06855,45.06855,45.06851,45.06686,45.06702,45.06695,45.06606,45.06599,45.06665,45.06745,45.0672,45.06518,45.06575,45.06579,45.06598,45.06575,45.06565,45.06562,45.06563,45.06566,45.06584,45.06834,45.06833,45.06842,45.0684,45.06832,45.06778,45.06776,45.06413,45.04955,45.03282,45.02359,45.01225,45.0062,45.00266,45.00167,44.99986,44.99929,44.99465,44.99465,44.99466,44.99472,44.99473,44.99474,44.9946,44.99448,44.99454,44.99454,44.99455,44.99456,44.99458,44.99462,44.99459,44.99446,44.99442,44.99406,44.96927,44.94974,44.90666,44.8981,44.87428,44.85117,44.82336,44.79174,44.76137,44.71836,44.67956,44.67062,44.65361,44.62179,44.578,44.55154,44.53256,44.5153,44.48849,44.4542,44.4269,44.40765,44.36799,44.3226,44.30741,44.30696,44.30697,44.30732,44.30757,44.30758,44.30735,44.30723,44.30687,44.32237,44.36102,44.38956,44.38948,44.38918,44.40409,44.43289,44.43844,44.43823,44.43811,44.4381,44.43806,44.43768,44.43739,44.43741,44.4388,44.4905,44.51949,44.56003,44.56395,44.57081],[42.79754,42.79483,42.79226,42.79217,42.79053,42.78899,42.78806,42.78746,42.78722,42.786,42.78333,42.78093,42.78233,42.78408,42.78508,42.78423,42.78422,42.76516,42.73916,42.72613,42.71087,42.62524,42.59844,42.58233,42.56578,42.53896,42.52065,42.50903,42.49863,42.49597,42.49891,42.49957,42.49177,42.4537,42.42335,42.4055,42.39001,42.36073,42.33743,42.25173,42.13003,41.99678,41.99547,41.99573,41.99608,41.99604,41.99619,41.99623,41.99625,41.99615,41.99638,41.9966,41.99665,41.99679,41.99679,41.99674,41.99681,41.99704,41.99726,41.99761,41.99794,41.99814,41.99814,41.9982,41.99821,41.99821,41.9984,41.99845,41.99833,41.99983,42.0139,42.01728,42.01895,42.0213,42.02391,42.02676,42.02923,42.03255,42.04007,42.04852,42.05349,42.06162,42.06849,42.07755,42.0872,42.09709,42.1023,42.11159,42.11939,42.12637,42.13423,42.14062,42.14986,42.16415,42.16844,42.17982,42.18707,42.19852,42.21478,42.2241,42.23269,42.24214,42.24851,42.26685,42.27567,42.2792,42.28715,42.30177,42.31565,42.32587,42.33325,42.34175,42.34686,42.35533,42.3651,42.37292,42.37614,42.37882,42.38269,42.38645,42.3893,42.39256,42.39562,42.39687,42.39917,42.40321,42.41181,42.41866,42.43033,42.43828,42.45459,42.4677,42.48274,42.49187,42.49708,42.50491,42.51926,42.53343,42.54272,42.55082,42.56515,42.59148,42.61075,42.61732,42.62483,42.63228,42.64449,42.65717,42.67969,42.68771,42.69749,42.70929,42.7193,42.71663,42.71766,42.71629,42.72048,42.73825,42.74983,42.77037,42.79112,42.80425,42.81432,42.83104,42.85069,42.87483,42.8772,42.90352,42.93039,42.95171,42.95452,42.95483,42.95483,42.95409,42.95448,42.95458,42.95459,42.95109,42.93325,42.91385,42.90263,42.88595,42.84699,42.81727,42.78923,42.73966,42.7331,42.66638,42.678,42.68474,42.68536,42.68583,42.71072,42.73943,42.77478,42.78918,42.78943,42.78823,42.78786,42.78779,42.79057,42.79377,42.79772,42.79873,42.79963,42.79899,42.79795,42.79761],[45.58934,45.58948,45.61922,45.64702,45.67074,45.72145,45.73725,45.73896,45.7462,45.73366,45.71315,45.70975,45.6989,45.69565,45.69567,45.69582,45.70013,45.70735,45.70815,45.70901,45.71015,45.71125,45.71835,45.72105,45.72195,45.72221,45.72252,45.72305,45.72335,45.72595,45.75826,45.77623,45.8119,45.81248,45.80383,45.78813,45.76086,45.704,45.68131,45.59231,45.55031,45.51738,45.45187,45.39901,45.35061,45.33029,45.2721,45.25706,45.25617,45.25596,45.23159,45.1944,45.16966,45.16954,45.16946,45.16937,45.16798,45.10186,45.08129,45.06816,45.06776,45.06778,45.06832,45.0684,45.06842,45.06833,45.06834,45.06584,45.06566,45.06563,45.06562,45.06565,45.06575,45.06598,45.06579,45.06575,45.06518,45.0672,45.06745,45.06665,45.06599,45.06606,45.06695,45.06702,45.06686,45.06851,45.06855,45.06855,45.06895,45.06915,45.06975,45.07005,45.0714,45.07185,45.07285,45.07365,45.07435,45.07505,45.07585,45.07695,45.07795,45.0788,45.07935,45.08035,45.08065,45.08075,45.08095,45.08125,45.08125,45.08145,45.08165,45.08195,45.08254,45.08275,45.08295,45.10255,45.12821,45.16855,45.19905,45.21355,45.22025,45.24675,45.26475,45.29685,45.30915,45.33135,45.36385,45.39215,45.42815,45.46245,45.47406,45.50025,45.49795,45.53138,45.54877],[45.41721,45.40914,45.40076,45.39582,45.38736,45.38158,45.37714,45.37328,45.36104,45.35573,45.34912,45.33935,45.33589,45.33185,45.33173,45.33189,45.33183,45.33175,45.34622,45.34618,45.33324,45.32582,45.3172,45.31733,45.31738,45.31736,45.31732,45.32382,45.34619,45.34629,45.34636,45.34634,45.34937,45.35346,45.36083,45.37208,45.37583,45.3842,45.39046,45.40483,45.40457,45.41888,45.41889,45.42306,45.43333,45.43348,45.43352,45.43367,45.43387,45.43412,45.43385,45.43384,45.43384,45.4421,45.46647,45.49983,45.5212,45.53541,45.55005,45.55716,45.57854,45.59308,45.60576,45.60748,45.61526,45.62155,45.62226,45.63572,45.63613,45.64756,45.65282,45.67931,45.70898,45.70887,45.71618,45.73999,45.76266,45.77935,45.77967,45.77967,45.77979,45.77989,45.77996,45.78006,45.78006,45.77986,45.78,45.78002,45.78001,45.78001,45.78001,45.78,45.77986,45.77934,45.77918,45.76779,45.75717,45.75146,45.7469,45.73682,45.73599,45.7359,45.73606,45.72688,45.72292,45.72233,45.72144,45.67203,45.63608,45.63029,45.62064,45.60634,45.59204,45.5776,45.5523,45.54844,45.53736,45.53384,45.53384,45.53014,45.52476,45.51955,45.5094,45.50696,45.50114,45.49283,45.48546,45.4754,45.46392,45.45412,45.4451,45.4342,45.43356,45.43278,45.42109],[44.65868,44.65876,44.69707,44.70577,44.71937,44.73857,44.74297,44.76257,44.81327,44.86636,44.87429,44.92596,44.95826,44.95836,44.98889,45.01601,45.01633,45.03596,45.04549,45.02472,45.00864,44.99971,44.99437,44.99492,45.00099,45.00914,45.01642,45.02506,45.03101,45.0371,45.0513,45.05875,45.04887,45.03223,45.02929,45.02074,45.00603,45.01112,45.08076,45.0808,45.08083,45.08095,45.08101,45.08034,45.07992,45.07967,45.07965,45.07963,45.07957,45.07931,45.07919,45.07941,45.07941,45.07942,45.0794,45.07935,45.07935,45.07934,45.07933,45.07932,45.07932,45.07918,45.07915,45.0791,45.07903,45.07902,45.07902,45.07196,45.06449,45.05113,45.04375,45.03397,45.02825,45.02283,45.01213,44.99861,44.98576,44.97471,44.97912,44.98438,44.98437,44.97667,44.97105,44.95431,44.93974,44.92592,44.91012,44.89502,44.87755,44.86605,44.85579,44.85096,44.84228,44.84061,44.83617,44.81072,44.78737,44.77525,44.76275,44.75672,44.74648,44.72523,44.69217,44.67348,44.64754,44.60173,44.60161,44.56952,44.54861,44.52385,44.49975,44.48452,44.45791,44.42826,44.41646,44.39858,44.37574,44.35917,44.33621,44.31631,44.30138,44.30138,44.30135,44.30136,44.30138,44.30164,44.30674,44.38765,44.40165,44.42507,44.43009,44.44445,44.44436,44.44431,44.44427,44.44385,44.44365,44.44349,44.44331,44.42958,44.40939,44.37726,44.34918,44.31403,44.29948,44.27077,44.25608,44.25608,44.25719,44.28621,44.35345,44.38148,44.39781,44.41998,44.44968,44.45698,44.47498,44.53442,44.56938,44.62488,44.64548,44.65488],[46.09581,46.08867,46.06233,46.05425,46.04597,46.03085,46.01636,46.01141,45.98082,45.95446,45.90966,45.89232,45.88,45.85054,45.84979,45.84422,45.82502,45.81522,45.80952,45.79635,45.78994,45.78184,45.78058,45.77998,45.77943,45.7743,45.77375,45.76585,45.75916,45.75657,45.75051,45.75038,45.74997,45.74984,45.74676,45.73753,45.73445,45.73441,45.7332,45.72948,45.72824,45.72814,45.72857,45.72158,45.72118,45.7213,45.72142,45.7215,45.72152,45.72154,45.72155,45.72163,45.72174,45.72176,45.72177,45.72179,45.72188,45.72137,45.72135,45.72126,45.72133,45.7213,45.72127,45.72127,45.72126,45.72217,45.72233,45.72233,45.72292,45.72688,45.73606,45.7359,45.73599,45.73682,45.7469,45.75146,45.75717,45.76779,45.77918,45.77934,45.77986,45.78,45.78001,45.78001,45.78001,45.78002,45.78,45.77986,45.78006,45.78006,45.77996,45.77989,45.77979,45.77967,45.77967,45.78008,45.79847,45.82877,45.83544,45.85968,45.87923,45.89202,45.91602,45.9439,45.96929,45.99174,45.99558,46.03496,46.03924,46.03993,46.05706,46.06955,46.08428,46.09816,46.11124,46.12308,46.12623,46.1362,46.13716,46.14271,46.14615,46.14633,46.14638,46.14507,46.14513,46.14523,46.14525,46.14529,46.14531,46.14623,46.14612,46.14604,46.14602,46.14577,46.1456,46.14581,46.14584,46.14553,46.14453,46.14622,46.14774,46.14921,46.15027,46.15142,46.15283,46.15467,46.15617,46.17137,46.17254,46.1889,46.18552,46.18231,46.16337,46.14897,46.14434,46.13941,46.13604,46.1284,46.12467,46.11386,46.10461,46.0966],[44.65868,44.65488,44.64548,44.62488,44.56938,44.53442,44.47498,44.45698,44.44968,44.41998,44.39781,44.38148,44.35345,44.28621,44.25719,44.25608,44.25451,44.2365,44.23629,44.22178,44.21248,44.21248,44.19839,44.18335,44.18326,44.17511,44.16992,44.16117,44.13788,44.13577,44.13226,44.12488,44.10983,44.08204,44.0812,44.07909,44.07813,44.07657,44.06739,44.06672,44.05827,44.04604,44.03998,44.03992,44.03912,44.04024,44.04041,44.04033,44.04012,44.04735,44.04773,44.0467,43.98448,43.95994,43.95988,43.95987,43.95987,43.95985,43.95984,43.96028,43.95999,43.96005,43.96033,43.9596,43.95824,43.95758,43.959,43.95931,43.95913,43.95905,43.96844,43.99564,43.99995,44.00113,44.01646,44.04617,44.05537,44.08293,44.10089,44.10508,44.12486,44.14142,44.15143,44.17079,44.20051,44.2156,44.22031,44.24303,44.24986,44.25628,44.26286,44.26351,44.27519,44.29131,44.29339,44.30615,44.30696,44.30741,44.3226,44.36799,44.40765,44.4269,44.4542,44.48849,44.5153,44.53256,44.55154,44.578,44.62179,44.65361,44.67062,44.67956,44.71836,44.76137,44.79174,44.82336,44.85117,44.87428,44.8981,44.90666,44.94974,44.96927,44.99406,44.99442,44.99442,44.99388,44.99416,44.99429,44.99488,44.99526,44.99541,44.99544,44.99548,44.99617,44.99596,44.99586,44.99534,44.99477,44.99501,44.995,44.99509,44.99525,44.99554,44.99585,44.9957,44.99552,44.99539,44.99558,44.99569,44.99564,44.99589,44.99594,44.99607,44.99637,44.99635,44.99637,44.99655,44.99692,44.99746,44.9975,44.99811,44.99806,44.99798,44.99788,44.99774,44.99757,44.99754,44.99744,44.99737,44.99716,44.99739,44.99704,44.99695,44.99675,44.99662,44.9965,44.99602,44.99596,44.99585,44.99326,44.98916,44.98646,44.97596,44.96266,44.96956,44.97646,44.97435,44.98152,44.98665,44.99177,44.98787,44.98409,44.97657,44.97186,44.9754,44.97056,44.96546,44.96166,44.96491,44.96228,44.95786,44.95926,44.95676,44.95816,44.95826,44.92596,44.87429,44.86636,44.81327,44.76257,44.74297,44.73857,44.71937,44.70577,44.69707,44.65876],[45.18664,45.19692,45.21455,45.26282,45.31763,45.34,45.35492,45.35481,45.37549,45.44265,45.42896,45.42903,45.42722,45.47045,45.49396,45.55239,45.6193,45.67317,45.68842,45.75772,45.78417,45.81709,45.85912,45.86059,45.86059,45.86108,45.86101,45.80869,45.7745,45.75404,45.71017,45.68959,45.67983,45.65292,45.61799,45.59135,45.57305,45.51491,45.49743,45.46735,45.42801,45.36477,45.3383,45.31015,45.28797,45.22156,45.17307,45.16598,45.16586,45.0878,45.0808,45.08076,45.01112,45.00603,45.02074,45.02929,45.03223,45.04887,45.05875,45.0513,45.0371,45.03101,45.02506,45.01642,45.00914,45.00099,44.99492,44.99437,44.99971,45.00864,45.02472,45.04549,45.03596,45.01633,45.01601,44.98889,44.95836,44.95826,44.95816,44.95676,44.95926,44.95786,44.96228,44.96491,44.96166,44.96546,44.97056,44.9754,44.97186,44.97657,44.98409,44.98787,44.99177,44.98665,44.98152,44.97435,44.97646,44.96956,44.96266,44.97596,44.98646,44.98916,44.99326,44.99585,44.99596,44.99986,45.08342,45.12917],[42.84939,42.80865,42.78943,42.78918,42.77478,42.73943,42.71072,42.68583,42.68536,42.68474,42.678,42.66638,42.7331,42.73966,42.78923,42.81727,42.84699,42.88595,42.90263,42.91385,42.93325,42.95109,42.95459,42.95458,42.95448,42.95409,42.95483,42.95483,42.95452,42.97074,42.99983,43.01642,43.02721,43.0399,43.05022,43.05686,43.06007,43.06331,43.06795,43.07329,43.08131,43.08541,43.09226,43.09295,43.09426,43.10254,43.11156,43.1145,43.11896,43.1191,43.11974,43.12415,43.12483,43.12649,43.12748,43.13056,43.1333,43.13943,43.14338,43.14816,43.15354,43.15801,43.15944,43.16549,43.17044,43.17886,43.18413,43.19019,43.19648,43.20031,43.20831,43.21951,43.22867,43.23804,43.2455,43.24983,43.25316,43.25538,43.25747,43.26186,43.2619,43.2636,43.26823,43.27338,43.27475,43.28857,43.29412,43.30346,43.31051,43.32389,43.32446,43.32937,43.33915,43.35012,43.35816,43.36677,43.37288,43.37483,43.37483,43.37762,43.38105,43.38122,43.38589,43.39076,43.3937,43.39542,43.39654,43.39961,43.40126,43.40285,43.40407,43.40904,43.41274,43.43432,43.44056,43.44607,43.45204,43.45425,43.46247,43.46501,43.47339,43.49983,43.49983,43.51962,43.53373,43.54733,43.56138,43.56809,43.58596,43.6002,43.61051,43.61094,43.61065,43.60936,43.60162,43.54697,43.51597,43.51606,43.47611,43.43323,43.43223,43.38518,43.34933,43.31481,43.25793,43.24875,43.17054,43.09828,43.08313,43.01688,42.99598,42.96977,42.89275,42.84943],[44.39324,44.3929,44.39278,44.39285,44.39305,44.39305,44.3909,44.39068,44.39073,44.39069,44.39063,44.39066,44.39072,44.39054,44.38852,44.35319,44.32363,44.21506,44.13768,44.13515,44.06864,44.00879,43.95946,43.95802,43.95727,43.87325,43.87125,43.87196,43.8722,43.87243,43.87253,43.87233,43.87168,43.79645,43.78523,43.77472,43.70101,43.6976,43.69768,43.69829,43.69832,43.69665,43.69165,43.68991,43.68962,43.68868,43.68588,43.68495,43.68171,43.6776,43.67673,43.67319,43.66135,43.6549,43.65175,43.65033,43.64549,43.64302,43.63828,43.62486,43.62405,43.61932,43.61768,43.61275,43.61111,43.61094,43.61043,43.61026,43.61028,43.61024,43.61063,43.61075,43.61085,43.61112,43.6117,43.61147,43.61596,43.6156,43.61554,43.61543,43.6156,43.61536,43.61542,43.61551,43.61557,43.61565,43.6157,43.61667,43.61745,43.61716,43.61717,43.61705,43.61691,43.61663,43.61663,43.61663,43.61656,43.61661,43.61667,43.61669,43.61671,43.61668,43.61671,43.61658,43.61647,43.6165,43.61648,43.61631,43.61622,43.6162,43.61618,43.61621,43.61589,43.61561,43.61558,43.61553,43.61557,43.61563,43.61567,43.61566,43.61542,43.61523,43.61572,43.63075,43.68317,43.72238,43.75803,43.80285,43.83071,43.87514,43.89659,43.91439,43.90909,43.92317,43.94502,43.96588,43.97573,43.99053,44.01954,44.05134,44.07764,44.10584,44.13434,44.15952,44.17994,44.20764,44.23094,44.25794,44.25814,44.25924,44.25999,44.26032,44.26104,44.26654,44.27384,44.28164,44.28474,44.28554,44.29222,44.30014,44.30764,44.31468,44.32114,44.32734,44.33494,44.34204,44.35074,44.35744,44.36115,44.36665,44.37236,44.37706,44.38306,44.38885,44.39234,44.39244,44.39255,44.39265,44.39272,44.39322,44.39309,44.39303,44.39299,44.39292,44.39288,44.39298,44.3934,44.39334,44.39324],[45.99862,45.9986,45.99802,45.9971,45.9986,45.99837,45.99842,45.99842,45.99791,45.99753,45.99712,45.99697,45.99697,45.99695,45.99667,45.99651,45.99639,45.99627,45.99607,45.99567,45.99547,45.99541,45.99525,45.99079,45.98458,45.98129,45.9777,45.97292,45.96909,45.96033,45.95865,45.95556,45.95057,45.94687,45.94198,45.93129,45.92,45.91191,45.90726,45.90297,45.89227,45.88574,45.88026,45.87341,45.86676,45.86445,45.86062,45.8561,45.85605,45.82402,45.82653,45.80238,45.78493,45.77932,45.75892,45.71842,45.69111,45.66943,45.64945,45.6292,45.59603,45.57663,45.55653,45.53828,45.53819,45.51038,45.49091,45.46158,45.44823,45.42185,45.39778,45.37486,45.35297,45.30957,45.27072,45.26786,45.26782,45.26391,45.25772,45.2499,45.24272,45.23791,45.22709,45.2222,45.21864,45.21599,45.2088,45.20145,45.19343,45.18436,45.17631,45.16773,45.16299,45.15403,45.14395,45.13575,45.12642,45.11985,45.10974,45.10118,45.0936,45.07959,45.07902,45.07902,45.07903,45.0791,45.07915,45.07918,45.07932,45.07932,45.07933,45.07934,45.07935,45.07935,45.0794,45.07942,45.07941,45.07941,45.07919,45.07931,45.07957,45.07963,45.07965,45.07967,45.07992,45.08034,45.08101,45.08095,45.08083,45.0808,45.0878,45.16586,45.16598,45.17307,45.22156,45.28797,45.31015,45.3383,45.36477,45.42801,45.46735,45.49743,45.51491,45.57305,45.59135,45.61799,45.65292,45.67983,45.68959,45.71017,45.75404,45.7745,45.80869,45.86101,45.86108,45.86059,45.86059,45.86056,45.86328,45.87112,45.87486,45.88097,45.88119,45.88826,45.89407,45.89505,45.89835,45.90894,45.91225,45.91628,45.91931,45.92424,45.93854,45.95707,45.96218,45.97193,45.97748,45.98423,45.99044,45.99677,45.99907,45.99986,46.00056,46.00073,46.00073,46.00065,46.00056,46.00051,46.00049,46.00034,46.00032,46.00018,46.00017,46.00013,46.0001,46.00008,46.00008,46.00007,45.99986,45.99986,45.99987,45.99987,45.99986,45.99986,45.99987,45.99987,45.99973,45.99935,45.99917,45.99895,45.99889,45.99878,45.99838,45.99831,45.99829,45.9983,45.9983,45.9983,45.99831,45.99829,45.9982,45.99816,45.99815,45.99812,45.99814,45.99815,45.99813,45.9981,45.99805,45.99803,45.99796,45.99791,45.99789,45.99786,45.99789,45.99787,45.99783,45.99781,45.99777,45.99776,45.99789,45.99857,45.99862],[45.37366,45.36813,45.36122,45.34638,45.3102,45.28367,45.25802,45.25746,45.24046,45.23029,45.21241,45.1966,45.17494,45.15304,45.12783,45.12374,45.11081,45.09255,45.06732,45.05663,45.03739,45.03994,45.02874,45.01731,44.99394,44.97584,44.95814,44.93475,44.93914,44.92237,44.90784,44.90214,44.89024,44.88824,44.88823,44.88735,44.8851,44.90287,44.91823,44.94747,44.97421,44.99989,45.02573,45.04331,45.05579,45.07229,45.08533,45.09536,45.10715,45.11786,45.12718,45.14189,45.16313,45.18005,45.19454,45.20741,45.22821,45.2425,45.25742,45.25966,45.25965,45.25965,45.25964,45.25964,45.25963,45.25962,45.25962,45.25958,45.26387,45.27436,45.27676,45.27837,45.28006,45.28185,45.28325,45.28501,45.28659,45.28734,45.29951,45.30007,45.30075,45.30231,45.30525,45.30907,45.31411,45.31555,45.31703,45.31738,45.31733,45.3172,45.32582,45.33324,45.34618,45.34622,45.33175,45.33183,45.33189,45.33173,45.33185,45.33589,45.33935,45.34912,45.35573,45.36104,45.37328,45.37714,45.38158,45.38736,45.39582,45.40076,45.40914,45.41721,45.42109,45.43278,45.43356,45.43355,45.43319,45.43334,45.43324,45.43302,45.43274,45.43608,45.45812,45.45846,45.4592,45.46133,45.46124,45.4615,45.4615,45.46146,45.46098,45.46129,45.46112,45.46115,45.46143,45.4613,45.46154,45.4615,45.46077,45.46112,45.46156,45.46153,45.46104,45.45137,45.44273,45.43543,45.43099,45.42558,45.41526,45.40939,45.40359,45.40267,45.40369,45.40098,45.39782,45.39615,45.39431,45.38846,45.38497,45.38038,45.37568,45.37372],[42.89571,42.89576,42.88115,42.86674,42.83767,42.82294,42.79294,42.78012,42.77421,42.77439,42.76007,42.75213,42.75209,42.75557,42.73774,42.72406,42.71584,42.70249,42.70288,42.72447,42.72475,42.73166,42.73173,42.72824,42.73944,42.72464,42.72073,42.70998,42.70314,42.70282,42.71012,42.71494,42.71678,42.72494,42.73669,42.74014,42.73984,42.73973,42.74573,42.75115,42.75337,42.75314,42.73973,42.77027,42.78423,42.78508,42.78408,42.78233,42.78093,42.78333,42.786,42.78722,42.78746,42.78806,42.78899,42.79053,42.79217,42.79226,42.79483,42.79754,42.79761,42.79795,42.79899,42.79963,42.79873,42.79772,42.79377,42.79057,42.78779,42.78786,42.78823,42.78943,42.80865,42.84939,42.84943,42.89275,42.96977,42.99598,43.01688,43.08313,43.09828,43.17054,43.24875,43.25793,43.31481,43.34933,43.38518,43.43223,43.43323,43.47611,43.51606,43.51597,43.54697,43.60162,43.60936,43.61065,43.61094,43.61051,43.61077,43.61124,43.6114,43.61189,43.61409,43.62215,43.62484,43.64839,43.65073,43.6535,43.65677,43.65987,43.66412,43.66769,43.66825,43.67273,43.67704,43.68086,43.68386,43.68715,43.68993,43.6934,43.69684,43.6995,43.70156,43.7491,43.74984,43.76071,43.76165,43.76665,43.77541,43.77646,43.79166,43.81105,43.81745,43.83153,43.83789,43.83983,43.85699,43.86336,43.86411,43.86271,43.87683,43.89953,43.91004,43.91955,43.93162,43.94446,43.92167,43.86814,43.83015,43.80943,43.78005,43.77969,43.73106,43.61125,43.53998,43.54216,43.54474,43.5445,43.45496,43.44034,43.44107,43.44048,43.44044,43.44044,43.43905,43.42456,43.40733,43.37005,43.36005,43.32141,43.30545,43.27846,43.2516,43.24005,43.22735,43.21985,43.21015,43.19915,43.18975,43.17845,43.16075,43.14895,43.13395,43.11745,43.09985,43.08839,43.07075,43.06739,43.05607,42.99751,42.99656,42.99658,42.99666,42.99643,42.98749,42.96895,42.9476,42.93968,42.92976,42.91073],[45.25764,45.2214,45.21602,45.2161,45.21616,45.21628,45.21667,45.21717,45.21663,45.21618,45.21631,45.21603,45.20248,45.16892,45.14203,45.11141,45.07665,45.07623,45.0761,45.07551,45.07376,45.07318,45.07142,45.0705,45.06756,45.06643,45.06629,45.06588,45.06574,45.0649,45.06239,45.06156,45.059,45.05786,45.05399,45.05132,45.04877,45.04781,45.04494,45.04399,45.04399,45.04406,45.04414,45.04439,45.04438,45.04455,45.04457,45.04466,45.04477,45.04479,45.04499,45.04503,45.04518,45.04516,45.04511,45.04479,45.04476,45.04479,45.04487,45.04489,45.04403,45.04458,45.04485,45.04499,45.04483,45.04399,45.05417,45.08546,45.10883,45.12665,45.1337,45.1428,45.15146,45.15618,45.15912,45.15943,45.166,45.16814,45.17198,45.1774,45.18333,45.18786,45.19487,45.19884,45.20287,45.21176,45.21931,45.22599,45.2302,45.23465,45.237,45.24052,45.24235,45.24517,45.24788,45.25487,45.26883,45.27555,45.29185,45.30416,45.33007,45.34185,45.3532,45.36697,45.37482,45.37961,45.38264,45.3873,45.39602,45.4048,45.41334,45.42205,45.42669,45.43508,45.43623,45.4411,45.44642,45.45151,45.46047,45.46626,45.47056,45.47448,45.48121,45.48689,45.49218,45.49467,45.49982,45.51422,45.53024,45.53788,45.54367,45.54781,45.55452,45.56851,45.57412,45.58818,45.59249,45.59548,45.60192,45.61155,45.61436,45.62231,45.62482,45.62482,45.62603,45.62774,45.63124,45.63942,45.6461,45.65168,45.65656,45.66679,45.67274,45.68872,45.70883,45.71273,45.71592,45.72099,45.72723,45.73954,45.74983,45.76041,45.76419,45.77554,45.77944,45.78013,45.78247,45.78305,45.7831,45.78331,45.78334,45.78325,45.78323,45.78333,45.78333,45.78336,45.78333,45.7834,45.78345,45.78328,45.78331,45.77314,45.77314,45.77318,45.77326,45.77474,45.77525,45.77539,45.77543,45.77983,45.77967,45.7796,45.77961,45.77967,45.77935,45.76266,45.73999,45.71618,45.70887,45.70898,45.67931,45.65282,45.64756,45.63613,45.63572,45.62226,45.62155,45.61526,45.60748,45.60576,45.59308,45.57854,45.55716,45.55005,45.53541,45.5212,45.49983,45.46647,45.4421,45.43384,45.43384,45.40767,45.38891,45.37594,45.36105,45.33504,45.30599,45.27449,45.25804],[45.07598,45.07598,45.07612,45.07607,45.07608,45.07608,45.07612,45.0761,45.07623,45.07665,45.11141,45.14203,45.16892,45.20248,45.21603,45.21631,45.21618,45.21663,45.21717,45.21667,45.21628,45.21616,45.2161,45.21602,45.2214,45.25764,45.25804,45.27449,45.30599,45.33504,45.36105,45.37594,45.38891,45.40767,45.43384,45.43385,45.43412,45.43387,45.43367,45.43352,45.43348,45.43333,45.42306,45.41889,45.41888,45.40457,45.40483,45.39046,45.3842,45.37583,45.37208,45.36083,45.35346,45.34937,45.34634,45.34636,45.34629,45.34619,45.32382,45.31732,45.31736,45.31738,45.31703,45.31555,45.31411,45.30907,45.30525,45.30231,45.30075,45.30007,45.29951,45.28734,45.28659,45.28501,45.28325,45.28185,45.28006,45.27837,45.27676,45.27436,45.26387,45.25958,45.25962,45.25962,45.25963,45.25964,45.25964,45.25965,45.25965,45.25956,45.25523,45.25706,45.26752,45.28258,45.27843,45.26133,45.24779,45.22636,45.22303,45.20644,45.19946,45.16775,45.15832,45.16136,45.14651,45.12894,45.12141,45.11366,45.10149,45.10119,45.09807,45.09292,45.08694,45.08208,45.07511,45.07511,45.07511,45.07474,45.07475,45.07499,45.07501,45.07504,45.07502,45.07509,45.07497,45.07506,45.07521,45.07521,45.07522,45.07522,45.07522,45.07522,45.0752,45.07574,45.07594],[42.90429,42.90378,42.85034,42.7846,42.71706,42.6199,42.53102,42.48668,42.41536,42.35743,42.27837,42.19904,42.11755,42.00025,42.00018,42.00001,42.00038,41.99989,41.99964,41.9995,41.99941,41.99941,41.99927,41.99911,41.99875,41.99808,41.99813,41.99818,41.99829,41.99842,41.99822,41.99824,41.99804,41.99805,41.99788,41.99767,41.99765,41.9975,41.99731,41.997,41.99699,42.01228,42.09611,42.17601,42.29114,42.34081,42.40323,42.58337,42.63867,42.76659,42.84032,42.84066,42.92852,43.03681,43.09761,43.15202,43.24365,43.31687,43.40294,43.47382,43.57784,43.61905,43.69254,43.77858,43.825,43.88083,44.00931,44.03998,44.04604,44.05827,44.06672,44.06739,44.07657,44.07813,44.07909,44.0812,44.08204,44.10983,44.12488,44.13226,44.13577,44.13788,44.16117,44.16992,44.17511,44.18326,44.18335,44.19839,44.21248,44.21248,44.22178,44.23629,44.2365,44.25451,44.25608,44.25608,44.27077,44.29948,44.31403,44.34918,44.37726,44.40939,44.42958,44.44331,44.44349,44.44365,44.44385,44.44427,44.44431,44.44436,44.44445,44.43009,44.42507,44.40165,44.38765,44.30674,44.30164,44.30138,44.30136,44.30135,44.30138,44.30138,44.30101,44.2858,44.27413,44.26467,44.25889,44.25807,44.26802,44.28086,44.26844,44.25752,44.24401,44.2337,44.22877,44.23425,44.24365,44.24889,44.24567,44.24554,44.24407,44.24121,44.22472,44.19995,44.19203,44.19071,44.17998,44.15315,44.15255,44.14727,44.12528,44.12489,44.11397,44.09357,44.09106,44.08663,44.07708,44.06006,44.04906,44.04307,44.03682,44.02122,44.00619,43.99422,43.98378,43.97159,43.9631,43.95557,43.94328,43.9328,43.91955,43.91646,43.91224,43.90129,43.88884,43.88005,43.8796,43.87658,43.8728,43.86512,43.86458,43.86294,43.85655,43.84975,43.84,43.8416,43.83286,43.82665,43.8204,43.80925,43.80345,43.79071,43.77547,43.7618,43.75904,43.73396,43.72527,43.71609,43.70842,43.69854,43.69068,43.68089,43.68086,43.67218,43.63325,43.62087,43.61088,43.59178,43.57789,43.52297,43.48302,43.33472,43.229,43.13097,43.05647,42.98876],[45.43302,45.43324,45.43334,45.43319,45.43355,45.43356,45.4342,45.4451,45.45412,45.46392,45.4754,45.48546,45.49283,45.50114,45.50696,45.5094,45.51955,45.52476,45.53014,45.53384,45.53384,45.53736,45.54844,45.5523,45.5776,45.59204,45.60634,45.62064,45.63029,45.63608,45.67203,45.72144,45.72233,45.72233,45.72217,45.72126,45.72127,45.72127,45.7213,45.72133,45.72126,45.72135,45.72137,45.72188,45.72179,45.72177,45.72176,45.72174,45.72163,45.72155,45.72154,45.72152,45.7215,45.72142,45.7213,45.72118,45.72158,45.72857,45.72814,45.72824,45.70762,45.65714,45.64734,45.63142,45.62474,45.61804,45.60814,45.60424,45.59727,45.59619,45.5858,45.58328,45.5803,45.57771,45.57042,45.56772,45.56358,45.56763,45.57276,45.57558,45.56727,45.55774,45.55333,45.54699,45.54354,45.54642,45.54774,45.55184,45.56414,45.57904,45.58292,45.58257,45.58205,45.58421,45.6056,45.61163,45.61673,45.61855,45.62144,45.62331,45.62484,45.62953,45.63278,45.63544,45.64204,45.64373,45.64429,45.64495,45.6447,45.64436,45.64434,45.64417,45.64786,45.64912,45.64906,45.64036,45.61039,45.60657,45.60076,45.59419,45.58638,45.57942,45.5726,45.56678,45.56401,45.55961,45.55262,45.54725,45.54098,45.53074,45.5254,45.51871,45.51264,45.51524,45.51164,45.50326,45.4942,45.48627,45.47518,45.46343,45.46153,45.46156,45.46112,45.46077,45.4615,45.46154,45.4613,45.46143,45.46115,45.46112,45.46129,45.46098,45.46146,45.4615,45.4615,45.46124,45.46133,45.4592,45.45846,45.45812,45.43608,45.43274],[44.82542,44.82545,44.8255,44.82564,44.82584,44.82764,44.82864,44.83144,44.83424,44.83774,44.84134,44.84534,44.85084,44.85434,44.85664,44.85764,44.85864,44.85994,44.86144,44.86274,44.86424,44.86714,44.87014,44.87294,44.87524,44.87624,44.87904,44.88173,44.88514,44.88804,44.88824,44.89024,44.90214,44.90784,44.92237,44.93914,44.93475,44.95814,44.97584,44.99394,45.01731,45.02874,45.03994,45.03739,45.05663,45.06732,45.09255,45.11081,45.12374,45.12783,45.15304,45.17494,45.1966,45.21241,45.23029,45.24046,45.25746,45.25802,45.25802,45.258,45.25779,45.25779,45.25786,45.25808,45.26105,45.28234,45.31519,45.34531,45.39954,45.42494,45.44629,45.46963,45.49138,45.51935,45.5237,45.53239,45.54708,45.55731,45.57411,45.60877,45.62484,45.67122,45.68807,45.69633,45.69724,45.69693,45.69295,45.70089,45.70423,45.70488,45.69992,45.68702,45.65445,45.63964,45.62752,45.61496,45.60635,45.60648,45.6112,45.613,45.61472,45.61506,45.61626,45.61741,45.62034,45.62484,45.64913,45.65131,45.64861,45.65674,45.6445,45.64134,45.64034,45.60016,45.56476,45.52709,45.51498,45.46928,45.42825,45.39256,45.33784,45.31671,45.28763,45.24525,45.21807,45.20426,45.19648,45.20345,45.20333,45.1947,45.1818,45.16799,45.16254,45.14444,45.13062,45.10951,45.09143,45.08295,45.08295,45.08275,45.08254,45.08195,45.08165,45.08145,45.08125,45.08125,45.08095,45.08075,45.08065,45.08035,45.07935,45.0788,45.07795,45.07695,45.07585,45.07505,45.07435,45.07365,45.07285,45.07185,45.0714,45.07005,45.06975,45.06915,45.06895,45.06855,45.06815,45.06265,45.05405,45.03995,45.02885,45.01575,45.00769,45.00105,44.99276,44.97954,44.96554,44.95224,44.94551,44.93425,44.92949,44.91472,44.90769,44.90858,44.88801,44.87483,44.8644,44.86361,44.85217,44.83378,44.82687,44.82158,44.82157,44.82176,44.8219,44.82197,44.82221,44.82245,44.82296,44.82288,44.82273,44.82302,44.82305,44.82312,44.82316,44.82331,44.82334,44.82462,44.82514,44.82509,44.82505,44.82482,44.82487,44.82523,44.82536,44.82542],[44.75371,44.74981,44.7774,44.7778,44.79132,44.77444,44.72889,44.71644,44.69532,44.71491,44.73376,44.74648,44.74967,44.74972,44.77068,44.79315,44.79722,44.80912,44.82124,44.82613,44.82589,44.82895,44.83355,44.84822,44.86346,44.86245,44.88906,44.91226,44.92663,44.93046,44.92716,44.93465,44.94697,44.96568,44.98504,44.98936,45.02046,45.05274,45.07501,45.07511,45.07511,45.08208,45.08694,45.09292,45.09807,45.10119,45.10149,45.11366,45.12141,45.12894,45.14651,45.16136,45.15832,45.16775,45.19946,45.20644,45.22303,45.22636,45.24779,45.26133,45.27843,45.28258,45.26752,45.25706,45.25523,45.25956,45.25965,45.25966,45.25742,45.2425,45.22821,45.20741,45.19454,45.18005,45.16313,45.14189,45.12718,45.11786,45.10715,45.09536,45.08533,45.07229,45.05579,45.04331,45.02573,44.99989,44.97421,44.94747,44.91823,44.90287,44.8851,44.88735,44.88823,44.88824,44.88804,44.88514,44.88173,44.87904,44.87624,44.87524,44.87294,44.87014,44.86714,44.86424,44.86274,44.86144,44.85994,44.85864,44.85764,44.85664,44.85434,44.85084,44.84534,44.84134,44.83774,44.83424,44.83144,44.82864,44.82764,44.82584,44.82564,44.82554,44.82014,44.81614,44.81234,44.80951,44.80424,44.79444,44.78554,44.78224,44.77774,44.77374,44.77238,44.77504,44.77004,44.76484,44.76145,44.75642,44.75054,44.74745,44.73334,44.72484,44.71244,44.69974,44.69583,44.68693,44.68384,44.68394,44.68396,44.6893,44.6883,44.6858,44.6974,44.70772,44.72495,44.69622,44.72198,44.75621,44.75776,44.75341,44.75206,44.75395],[45.07598,45.07594,45.07574,45.0752,45.07522,45.07522,45.07522,45.07522,45.07521,45.07521,45.07506,45.07497,45.07509,45.07502,45.07504,45.07501,45.07499,45.07475,45.07474,45.07511,45.07511,45.07501,45.05274,45.02046,44.98936,44.98504,44.96568,44.94697,44.93465,44.92716,44.93046,44.92663,44.91226,44.88906,44.86245,44.86346,44.84822,44.83355,44.82895,44.82589,44.82613,44.82124,44.80912,44.79722,44.79315,44.77068,44.74972,44.74967,44.74914,44.74861,44.74786,44.74739,44.74721,44.74704,44.74689,44.74657,44.74601,44.74545,44.74402,44.74228,44.74116,44.73944,44.73771,44.73618,44.7354,44.73319,44.73041,44.72761,44.72578,44.72406,44.72269,44.72127,44.72102,44.72065,44.72028,44.72027,44.72024,44.72012,44.72017,44.72024,44.72022,44.72004,44.71996,44.72003,44.72013,44.72024,44.72023,44.72023,44.71968,44.71968,44.71971,44.71992,44.71991,44.72052,44.72071,44.7211,44.72073,44.72024,44.71965,44.72007,44.72117,44.72119,44.72119,44.72105,44.72113,44.72116,44.72117,44.73265,44.74803,44.76892,44.77837,44.82446,44.84226,44.85711,44.87337,44.88025,44.90844,44.9192,44.9269,44.93874,44.94594,44.96214,44.98303,45.00051,45.02032,45.02893,45.0361,45.04399,45.04399,45.04494,45.04781,45.04877,45.05132,45.05399,45.05786,45.059,45.06156,45.06239,45.0649,45.06574,45.06588,45.06629,45.06643,45.06756,45.0705,45.07142,45.07318,45.07376,45.07551,45.0761,45.07612,45.07608,45.07608,45.07607,45.07612,45.07598],[44.32352,44.33149,44.34484,44.34488,44.34545,44.36074,44.37484,44.41127,44.43305,44.43351,44.43282,44.43355,44.43918,44.45161,44.47895,44.5002,44.52256,44.57215,44.62589,44.64651,44.65725,44.68214,44.69162,44.72119,44.72117,44.72007,44.71965,44.72024,44.72073,44.7211,44.72071,44.72052,44.71991,44.71992,44.71971,44.71968,44.71968,44.72023,44.72023,44.72024,44.72013,44.72003,44.71996,44.72004,44.72022,44.72024,44.72017,44.72012,44.72024,44.72027,44.72028,44.71976,44.6939,44.67559,44.66438,44.64221,44.6409,44.63761,44.62101,44.60575,44.58744,44.5757,44.55749,44.54457,44.52595,44.51194,44.49419,44.47637,44.44586,44.43417,44.41426,44.38495,44.37027,44.35018,44.32959,44.30895,44.28389,44.28369,44.2837,44.28387,44.28366,44.28382,44.28228,44.28355,44.28087,44.28101,44.28112,44.28112,44.28117,44.28114,44.28128,44.28137,44.28134,44.2812,44.28134,44.27846,44.27745,44.27821,44.27911,44.27938,44.28,44.28382,44.28388,44.28357,44.28356,44.28521,44.31278,44.31588],[44.32352,44.31588,44.31278,44.28521,44.28356,44.28355,44.28349,44.2833,44.2832,44.28312,44.28289,44.28279,44.2828,44.28288,44.28273,44.28278,44.28281,44.28288,44.2829,44.28244,44.27739,44.27732,44.27728,44.27732,44.27731,44.27729,44.2772,44.27507,44.27638,44.27628,44.27687,44.28436,44.28626,44.30601,44.31044,44.3168,44.32245,44.3345,44.34666,44.37484,44.40608,44.42242,44.43738,44.46206,44.47281,44.4884,44.49901,44.51749,44.53102,44.53586,44.54624,44.55722,44.56327,44.57235,44.57663,44.58078,44.58722,44.59031,44.59736,44.60291,44.60934,44.61597,44.62025,44.62484,44.63168,44.63663,44.63892,44.641,44.64409,44.64692,44.6559,44.6632,44.66892,44.68164,44.69032,44.69571,44.69932,44.70461,44.707,44.71299,44.71605,44.72056,44.72473,44.73559,44.74419,44.75751,44.76381,44.77357,44.77862,44.78102,44.78488,44.79044,44.79615,44.80322,44.80688,44.81023,44.81512,44.82053,44.83344,44.83793,44.84417,44.84924,44.85572,44.85888,44.85918,44.86633,44.87483,44.92724,44.93013,44.9369,44.94136,44.94542,44.95163,44.95899,44.96305,44.96691,44.9694,44.97419,44.97632,44.97909,44.981,44.98661,44.98933,44.99504,44.9959,45.00002,45.00571,45.00915,45.01141,45.02052,45.0342,45.04331,45.04399,45.04483,45.04499,45.04485,45.04458,45.04403,45.04489,45.04487,45.04479,45.04476,45.04479,45.04511,45.04516,45.04518,45.04503,45.04499,45.04479,45.04477,45.04466,45.04457,45.04455,45.04438,45.04439,45.04414,45.04406,45.04399,45.04399,45.04399,45.0361,45.02893,45.02032,45.00051,44.98303,44.96214,44.94594,44.93874,44.9269,44.9192,44.90844,44.88025,44.87337,44.85711,44.84226,44.82446,44.77837,44.76892,44.74803,44.73265,44.72117,44.72116,44.72113,44.72105,44.72119,44.72119,44.69162,44.68214,44.65725,44.64651,44.62589,44.57215,44.52256,44.5002,44.47895,44.45161,44.43918,44.43355,44.43282,44.43351,44.43305,44.41127,44.37484,44.36074,44.34545,44.34488,44.34484,44.33149],[43.03312,43.03305,42.85727,42.77231,42.74667,42.74662,42.74641,42.7462,42.74635,42.74377,42.73163,42.64782,42.58079,42.42393,42.33491,42.23836,42.09507,41.995,41.99378,41.99374,41.99354,41.9934,41.99328,41.99332,41.99466,41.99549,41.99659,41.99671,41.99726,41.99751,41.99751,41.99734,41.99663,41.99628,41.99637,41.99661,41.99668,41.99699,41.99698,41.99711,41.99716,41.99722,41.9973,41.99736,41.99749,41.99751,41.99748,41.99748,41.99772,41.99819,41.99803,41.99835,41.99889,41.99898,41.99963,41.99986,42.00027,42.0006,42.00084,42.00154,42.00199,42.00248,42.00276,42.00326,42.00352,42.00383,42.00497,42.00635,42.00764,42.00746,42.00745,42.00776,42.00777,42.01123,42.07426,42.10186,42.12717,42.14532,42.17081,42.23246,42.29483,42.31396,42.33535,42.39477,42.47473,42.50475,42.5867,42.63226,42.66025,42.6725,42.72111,42.75377,42.8019,42.81786,42.85354,42.90186,42.94978,42.97653,42.99531,42.99656,42.99751,43.05607,43.06739,43.07075,43.08839,43.09985,43.11745,43.13395,43.14895,43.16075,43.17845,43.18975,43.19915,43.21015,43.21985,43.22735,43.24005,43.2516,43.27846,43.30545,43.32141,43.36005,43.37005,43.40733,43.42456,43.43905,43.44044,43.44066,43.44723,43.46164,43.46819,43.47078,43.48864,43.49814,43.50804,43.51354,43.51964,43.52444,43.53048,43.53936,43.55042,43.55855,43.56287,43.57022,43.57921,43.5797,43.58722,43.58732,43.59167,43.59621,43.60365,43.60948,43.61487,43.61523,43.61542,43.61566,43.61567,43.61563,43.61557,43.61553,43.61558,43.61561,43.61589,43.61621,43.61618,43.6162,43.61622,43.61631,43.61648,43.6165,43.61647,43.61658,43.61671,43.61668,43.61671,43.61669,43.61667,43.61661,43.61656,43.61663,43.61663,43.56142,43.4989,43.46193,43.40542,43.37444,43.35661,43.26388,43.1933],[45.58934,45.54877,45.53138,45.49795,45.50025,45.47406,45.46245,45.42815,45.39215,45.36385,45.33135,45.30915,45.29685,45.26475,45.24675,45.22025,45.21355,45.19905,45.16855,45.12821,45.10255,45.08295,45.08295,45.09143,45.10951,45.13062,45.14444,45.16254,45.16799,45.1818,45.1947,45.20333,45.20345,45.19648,45.20426,45.21807,45.24525,45.28763,45.31671,45.33784,45.39256,45.42825,45.46928,45.51498,45.52709,45.56476,45.60016,45.64034,45.64134,45.64004,45.64281,45.64293,45.64604,45.64923,45.65684,45.66062,45.67154,45.67616,45.68625,45.68824,45.70189,45.70645,45.70725,45.70811,45.70967,45.71048,45.71399,45.7149,45.71504,45.71706,45.72895,45.72955,45.73005,45.73015,45.73583,45.73725,45.72145,45.67074,45.64702,45.61922,45.58948],[42.89571,42.91073,42.92976,42.93968,42.9476,42.96895,42.98749,42.99643,42.99666,42.99658,42.99656,42.99531,42.97653,42.94978,42.90186,42.85354,42.81786,42.8019,42.75377,42.72111,42.6725,42.66025,42.63226,42.5867,42.50475,42.47473,42.39477,42.33535,42.31396,42.29483,42.23246,42.17081,42.14532,42.12717,42.10186,42.07426,42.01123,42.00777,42.00792,42.00896,42.00938,42.00862,42.00853,42.00693,42.00595,42.00537,42.00482,42.00477,42.00476,42.00415,42.00412,42.00387,42.00388,42.00407,42.0037,42.00342,42.00276,42.00309,42.00303,42.00493,42.00777,42.00821,42.0059,42.00394,42.00388,42.01012,42.03142,42.07144,42.09875,42.12832,42.16193,42.17833,42.19469,42.22479,42.25991,42.29069,42.30643,42.32453,42.37891,42.40956,42.42148,42.42937,42.46861,42.5067,42.54966,42.57047,42.61391,42.63169,42.64327,42.67517,42.70166,42.70249,42.71584,42.72406,42.73774,42.75557,42.75209,42.75213,42.76007,42.77439,42.77421,42.78012,42.79294,42.82294,42.83767,42.86674,42.88115,42.89576],[44.75371,44.75395,44.75206,44.75341,44.75776,44.75621,44.72198,44.69622,44.72495,44.70772,44.6974,44.6858,44.6883,44.6893,44.68396,44.68394,44.68365,44.67194,44.65744,44.65264,44.63954,44.62484,44.61384,44.60054,44.58154,44.56234,44.55234,44.53254,44.51357,44.50354,44.49424,44.48444,44.47514,44.46594,44.45814,44.45014,44.43934,44.4274,44.41394,44.40814,44.39864,44.39264,44.39244,44.39234,44.38885,44.38306,44.37706,44.37236,44.36665,44.36115,44.35744,44.35074,44.34204,44.33494,44.32734,44.32114,44.31468,44.30764,44.30014,44.29222,44.28554,44.28474,44.28164,44.27384,44.26654,44.26104,44.26032,44.25999,44.25924,44.25814,44.25405,44.25357,44.25195,44.22755,44.21284,44.22065,44.21729,44.2207,44.23125,44.23492,44.23445,44.24981,44.25721,44.27324,44.28798,44.29055,44.28196,44.28255,44.28777,44.20024,44.19999,44.21104,44.23316,44.2555,44.27887,44.2791,44.28369,44.28389,44.30895,44.32959,44.35018,44.37027,44.38495,44.41426,44.43417,44.44586,44.47637,44.49419,44.51194,44.52595,44.54457,44.55749,44.5757,44.58744,44.60575,44.62101,44.63761,44.6409,44.64221,44.66438,44.67559,44.6939,44.71976,44.72028,44.72065,44.72102,44.72127,44.72269,44.72406,44.72578,44.72761,44.73041,44.73319,44.7354,44.73618,44.73771,44.73944,44.74116,44.74228,44.74402,44.74545,44.74601,44.74657,44.74689,44.74704,44.74721,44.74739,44.74786,44.74861,44.74914,44.74967,44.74648,44.73376,44.71491,44.69532,44.71644,44.72889,44.77444,44.79132,44.7778,44.7774,44.74981],[45.60737,45.60275,45.60258,45.5995,45.51685,45.50126,45.4039,45.30032,45.24098,45.19314,45.16041,45.13372,45.10234,45.08301,45.04144,44.99841,44.99589,44.99564,44.99569,44.99558,44.99539,44.99552,44.9957,44.99585,44.99554,44.99525,44.99509,44.995,44.99501,44.99477,44.99534,44.99586,44.99596,44.99617,44.99548,44.99544,44.99541,44.99526,44.99488,44.99429,44.99416,44.99388,44.99442,44.99442,44.99446,44.99459,44.99462,44.99458,44.99456,44.99455,44.99454,44.99454,44.99448,44.9946,44.99474,44.99473,44.99472,44.99466,44.99465,44.99465,44.99929,44.99986,45.00167,45.00266,45.0062,45.01225,45.02359,45.03282,45.04955,45.06413,45.06776,45.06816,45.08129,45.10186,45.16798,45.16937,45.16946,45.16954,45.16966,45.1944,45.23159,45.25596,45.25617,45.25706,45.2721,45.33029,45.35061,45.39901,45.45187,45.51738,45.55031,45.59231,45.68131,45.704,45.76086,45.78813,45.80383,45.81248,45.81384,45.8152,45.81791,45.81863,45.82063,45.82125,45.82187,45.82242,45.82296,45.82436,45.82454,45.82473,45.82491,45.82531,45.8257,45.8262,45.82669,45.82684,45.82727,45.82785,45.82794,45.82803,45.82813,45.82952,45.83168,45.83472,45.83596,45.84082,45.84558,45.84792,45.85153,45.85661,45.85911,45.87485,45.89717,45.90564,45.91958,45.92123,45.92546,45.91302,45.91074,45.90911,45.90811,45.90776,45.90729,45.90713,45.90656,45.90631,45.91298,45.91559,45.91698,45.91735,45.91801,45.91825,45.91337,45.90205,45.86059,45.84855,45.83465,45.82478,45.80637,45.78599,45.76163,45.68229],[44.39324,44.39324,44.39334,44.3934,44.39298,44.39288,44.39292,44.39299,44.39303,44.39309,44.39322,44.39272,44.39265,44.39255,44.39244,44.39264,44.39864,44.40814,44.41394,44.4274,44.43934,44.45014,44.45814,44.46594,44.47514,44.48444,44.49424,44.50354,44.51357,44.53254,44.55234,44.56234,44.58154,44.60054,44.61384,44.62484,44.63954,44.65264,44.65744,44.67194,44.68365,44.68394,44.68384,44.68693,44.69583,44.69974,44.71244,44.72484,44.73334,44.74745,44.75054,44.75642,44.76145,44.76484,44.77004,44.77504,44.77238,44.77374,44.77774,44.78224,44.78554,44.79444,44.80424,44.80951,44.81234,44.81614,44.82014,44.82554,44.82564,44.8255,44.82545,44.82542,44.82542,44.82536,44.82523,44.82487,44.82482,44.82505,44.82509,44.82514,44.82462,44.82334,44.82331,44.82316,44.82312,44.82305,44.82302,44.82273,44.82288,44.82296,44.82245,44.82221,44.82197,44.8219,44.82176,44.82157,44.81994,44.81627,44.81185,44.80981,44.80704,44.80587,44.80001,44.79621,44.79753,44.8024,44.79919,44.79454,44.79081,44.78379,44.77752,44.77266,44.76905,44.7641,44.76112,44.73983,44.70763,44.67818,44.63685,44.59006,44.57093,44.57081,44.56395,44.56357,44.56328,44.5631,44.56287,44.56295,44.56295,44.56285,44.56252,44.56264,44.56252,44.55222,44.51262,44.48583,44.47656,44.47642,44.47641,44.4764,44.4764,44.46942,44.46913,44.44141,44.41927,44.39,44.39068,44.39075,44.39072,44.39054,44.39072,44.39066,44.39063,44.39069,44.39073,44.39068,44.3909,44.39305,44.39305,44.39285,44.39278,44.3929],[43.03312,43.1933,43.26388,43.35661,43.37444,43.40542,43.46193,43.4989,43.56142,43.61663,43.61663,43.61691,43.61705,43.61717,43.61716,43.61745,43.61667,43.6157,43.61565,43.61557,43.61551,43.61542,43.61536,43.6156,43.61543,43.61554,43.6156,43.61596,43.61147,43.6117,43.61112,43.61085,43.61075,43.61063,43.61024,43.61028,43.61026,43.60671,43.51743,43.44232,43.39685,43.31756,43.26291,43.22219,43.179,43.17282,43.07446,42.99987,42.90738,42.79514,42.74651,42.74673,42.74871,42.74893,42.74912,42.67518,42.55852,42.42084,42.34386,42.26158,42.13489,42.0819,41.99488,41.99425,41.99428,41.99452,41.99473,41.99524,41.99569,41.99573,41.99565,41.99567,41.99581,41.99595,41.99616,41.99627,41.99622,41.99624,41.99653,41.9972,41.99743,41.99747,41.99753,41.99747,41.99747,41.99719,41.99693,41.99674,41.99628,41.99484,41.99454,41.99514,41.9951,41.99506,41.99484,41.9946,41.99443,41.99401,41.99346,41.99301,41.99301,41.99313,41.99313,41.99325,41.99378,41.99374,41.99322,41.99309,41.99308,41.99307,41.99323,41.99368,41.99369,41.99405,41.99418,41.99399,41.99379,41.99378,41.995,42.09507,42.23836,42.33491,42.42393,42.58079,42.64782,42.73163,42.74377,42.74635,42.7462,42.74641,42.74662,42.74667,42.77231,42.85727,43.03305],[46.29443,46.29684,46.299,46.29709,46.28656,46.27679,46.27401,46.27358,46.27275,46.2685,46.26015,46.24982,46.23582,46.23937,46.24246,46.24983,46.25246,46.25425,46.26731,46.26915,46.26454,46.2626,46.25189,46.25153,46.25813,46.25589,46.25839,46.25956,46.26609,46.26712,46.27099,46.27038,46.26989,46.26975,46.26958,46.26953,46.26211,46.25703,46.24983,46.2233,46.20115,46.20002,46.17966,46.16834,46.151,46.14657,46.14634,46.14633,46.14615,46.14271,46.13716,46.1362,46.12623,46.12308,46.11124,46.09816,46.08428,46.06955,46.05706,46.03993,46.03924,46.03496,45.99558,45.99174,45.96929,45.9439,45.91602,45.89202,45.87923,45.85968,45.83544,45.82877,45.79847,45.78008,45.77967,45.77961,45.7796,45.77967,45.77983,45.77543,45.77539,45.77525,45.77474,45.77326,45.77318,45.77314,45.77314,45.78331,45.78328,45.78345,45.7834,45.78333,45.78336,45.78333,45.78333,45.78323,45.78325,45.78334,45.78331,45.7831,45.78305,45.78974,45.79919,45.81649,45.83234,45.84161,45.84499,45.86031,45.87263,45.87483,45.87771,45.88363,45.88709,45.88856,45.8906,45.89384,45.89812,45.90826,45.92575,45.94345,45.96014,45.97394,45.98047,45.985,45.98999,45.99983,46.00379,46.00769,46.00994,46.0123,46.01785,46.02359,46.02754,46.03344,46.04041,46.04762,46.05034,46.05738,46.07429,46.08487,46.09289,46.09826,46.10374,46.10435,46.10883,46.11348,46.11627,46.11974,46.12278,46.12482,46.1256,46.12748,46.13047,46.13452,46.13972,46.14501,46.14617,46.1513,46.15399,46.15626,46.16036,46.16391,46.16723,46.17068,46.17383,46.17648,46.17962,46.18211,46.18385,46.18408,46.18476,46.18545,46.18669,46.18788,46.18874,46.19046,46.19172,46.19311,46.19434,46.1959,46.19757,46.1989,46.20077,46.20273,46.2051,46.21171,46.21624,46.22071,46.22473,46.22886,46.23311,46.23703,46.24193,46.24531,46.24982,46.25028,46.25074,46.25107,46.25396,46.25752,46.25965,46.26068,46.26184,46.26272,46.26483,46.27591,46.27884,46.28456],[42.84032,42.76659,42.63867,42.58337,42.40323,42.34081,42.29114,42.17601,42.09611,42.01228,41.99699,41.99699,41.9969,41.99659,41.99644,41.99629,41.99621,41.99605,41.99599,41.99586,41.99564,41.99545,41.99491,41.99389,41.99309,41.99179,41.99267,41.99246,41.99266,41.9929,41.99349,41.99337,41.99344,41.99421,41.99396,41.9941,41.99392,41.99385,41.99394,41.99397,41.99399,41.99399,41.9941,41.99425,41.99425,41.99488,42.0819,42.13489,42.26158,42.34386,42.42084,42.55852,42.67518,42.74912,42.74893,42.74871,42.74673,42.74651,42.79514,42.90738,42.99987,43.07446,43.17282,43.179,43.22219,43.26291,43.31756,43.39685,43.44232,43.51743,43.60671,43.61026,43.61043,43.61094,43.61111,43.61275,43.61768,43.61932,43.62405,43.62486,43.63828,43.64302,43.64549,43.65033,43.65175,43.6549,43.66135,43.67319,43.67673,43.6776,43.68171,43.68495,43.68588,43.68868,43.68962,43.68991,43.69165,43.69665,43.69832,43.69832,43.6983,43.69822,43.69817,43.69813,43.69809,43.70357,43.71091,43.72387,43.7311,43.7384,43.75028,43.77026,43.77662,43.7956,43.81877,43.84622,43.87035,43.89721,43.91315,43.92408,43.94285,43.95907,43.95896,43.95904,43.95905,43.95905,43.95913,43.95931,43.959,43.95758,43.95824,43.9596,43.96033,43.96005,43.95999,43.96028,43.95984,43.95985,43.95987,43.95987,43.95988,43.95994,43.98448,44.0467,44.04773,44.04735,44.04012,44.04033,44.04041,44.04024,44.03912,44.03992,44.03998,44.00931,43.88083,43.825,43.77858,43.69254,43.61905,43.57784,43.47382,43.40294,43.31687,43.24365,43.15202,43.09761,43.03681,42.92852,42.84066],[44.27887,44.2555,44.23316,44.21104,44.19999,44.20024,44.28777,44.28255,44.28196,44.29055,44.28798,44.27324,44.25721,44.24981,44.23445,44.23492,44.23125,44.2207,44.21729,44.22065,44.21284,44.22755,44.25195,44.25357,44.25405,44.25814,44.25794,44.23094,44.20764,44.17994,44.15952,44.13434,44.10584,44.07764,44.05134,44.01954,43.99053,43.97573,43.96588,43.94502,43.92317,43.90909,43.91439,43.89659,43.87514,43.83071,43.80285,43.75803,43.72238,43.68317,43.63075,43.61572,43.61523,43.61487,43.60948,43.60365,43.59621,43.59167,43.58732,43.58722,43.5797,43.57921,43.57022,43.56287,43.55855,43.55042,43.53936,43.53048,43.52444,43.51964,43.51354,43.50804,43.49814,43.48864,43.47078,43.46819,43.46164,43.44723,43.44066,43.44044,43.44044,43.44048,43.44107,43.44034,43.45496,43.5445,43.54474,43.54216,43.53998,43.61125,43.73106,43.77969,43.78005,43.80943,43.83015,43.86814,43.92167,43.94446,43.93162,43.91955,43.91004,43.89953,43.87683,43.86271,43.86411,43.86336,43.86566,43.87254,43.87484,43.87525,43.8765,43.87691,43.89075,43.90527,43.90937,43.92443,43.93687,43.95377,43.97998,43.99054,43.99984,43.99985,44.00213,44.00389,44.00592,44.00862,44.01109,44.01412,44.01807,44.01943,44.02205,44.02457,44.03045,44.03333,44.03468,44.03694,44.03771,44.04064,44.04379,44.0466,44.04798,44.04951,44.05385,44.05654,44.05865,44.06241,44.06616,44.06997,44.07405,44.0773,44.0833,44.0837,44.08933,44.09372,44.09511,44.09746,44.10083,44.10158,44.10621,44.11125,44.11647,44.11875,44.12137,44.12484,44.1267,44.1272,44.12798,44.1291,44.13133,44.13275,44.13534,44.13676,44.1383,44.13952,44.14284,44.14553,44.14931,44.15483,44.15894,44.16422,44.16836,44.17061,44.17648,44.17659,44.18587,44.19032,44.19153,44.19552,44.199,44.20214,44.2043,44.20972,44.21625,44.2216,44.22747,44.23095,44.23709,44.23776,44.24466,44.24816,44.24984,44.25524,44.25798,44.26294,44.27097,44.27133,44.27687,44.27628,44.27638,44.27507,44.2772,44.27729,44.27731,44.27732,44.27728,44.27732,44.27739,44.28244,44.2829,44.28288,44.28281,44.28278,44.28273,44.28288,44.2828,44.28279,44.28289,44.28312,44.2832,44.2833,44.28349,44.28355,44.28356,44.28357,44.28388,44.28382,44.28,44.27938,44.27911,44.27821,44.27745,44.27846,44.28134,44.2812,44.28134,44.28137,44.28128,44.28114,44.28117,44.28112,44.28112,44.28101,44.28087,44.28355,44.28228,44.28382,44.28366,44.28387,44.2837,44.28369,44.2791]]}},\"id\":\"ed69066b-547f-4d74-b9ec-f5d8cf6550c1\",\"type\":\"ColumnDataSource\"},{\"attributes\":{\"callback\":null},\"id\":\"9ca013db-273e-4fdb-b53f-d850b5780e7e\",\"type\":\"DataRange1d\"},{\"attributes\":{\"overlay\":{\"id\":\"555345c0-420a-4160-af6b-c25d647fea60\",\"type\":\"BoxAnnotation\"},\"plot\":{\"id\":\"3eb895a5-7864-4b0e-937a-e289fd0c380a\",\"subtype\":\"Figure\",\"type\":\"Plot\"}},\"id\":\"d18a42be-9bb3-4e67-9696-80dd26e0a54c\",\"type\":\"BoxZoomTool\"},{\"attributes\":{\"plot\":{\"id\":\"3eb895a5-7864-4b0e-937a-e289fd0c380a\",\"subtype\":\"Figure\",\"type\":\"Plot\"}},\"id\":\"e36e6c97-804e-4e5a-a321-718b762b7e6e\",\"type\":\"PanTool\"},{\"attributes\":{},\"id\":\"d3cc34ef-591b-4808-b278-26e1c235f621\",\"type\":\"ToolEvents\"},{\"attributes\":{\"data_source\":{\"id\":\"a4ab12c7-82cf-40ce-8a3f-f6c065cab91a\",\"type\":\"ColumnDataSource\"},\"glyph\":{\"id\":\"4dff1146-5d22-46c2-895c-d0a6528111c2\",\"type\":\"Circle\"},\"hover_glyph\":null,\"name\":\"geo_points\",\"nonselection_glyph\":{\"id\":\"1a1225b8-9871-46a2-9e90-9be566a4e112\",\"type\":\"Circle\"},\"selection_glyph\":null},\"id\":\"c8835034-eb65-472d-ac8e-47acf8d3ddfe\",\"type\":\"GlyphRenderer\"},{\"attributes\":{\"callback\":null},\"id\":\"f828116f-464e-4e39-8138-ab691592b8dd\",\"type\":\"DataRange1d\"},{\"attributes\":{},\"id\":\"14e38259-2d28-477c-a16b-2bd6e3c4af8e\",\"type\":\"BasicTickFormatter\"},{\"attributes\":{},\"id\":\"517d1d80-c4e8-49ff-8a11-57a9f762e864\",\"type\":\"BasicTicker\"},{\"attributes\":{\"callback\":null,\"names\":[\"geo_points\"],\"plot\":{\"id\":\"3eb895a5-7864-4b0e-937a-e289fd0c380a\",\"subtype\":\"Figure\",\"type\":\"Plot\"},\"tooltips\":[[\"FacilityName\",\"@FacilityName\"],[\"SitesAvailable\",\"@SitesAvailable\"],[\"Water\",\"@Water\"],[\"Restroom\",\"@Restroom\"]]},\"id\":\"37fbee54-68eb-4e63-85d8-88dcca566316\",\"type\":\"HoverTool\"},{\"attributes\":{\"plot\":{\"id\":\"3eb895a5-7864-4b0e-937a-e289fd0c380a\",\"subtype\":\"Figure\",\"type\":\"Plot\"}},\"id\":\"a2cef42c-b80a-462c-a30e-d78514e36c5d\",\"type\":\"WheelZoomTool\"},{\"attributes\":{\"data_source\":{\"id\":\"ed69066b-547f-4d74-b9ec-f5d8cf6550c1\",\"type\":\"ColumnDataSource\"},\"glyph\":{\"id\":\"45413041-0783-4820-8a98-b3fce6ffb092\",\"type\":\"Patches\"},\"hover_glyph\":null,\"nonselection_glyph\":{\"id\":\"bb559049-4f90-402d-a9b7-14043e2c65f9\",\"type\":\"Patches\"},\"selection_glyph\":null},\"id\":\"a7d10db2-3695-4234-a4a6-ed410c13c50d\",\"type\":\"GlyphRenderer\"},{\"attributes\":{\"plot\":{\"id\":\"3eb895a5-7864-4b0e-937a-e289fd0c380a\",\"subtype\":\"Figure\",\"type\":\"Plot\"}},\"id\":\"d3d63ead-faa6-48f0-b291-dc9a99cd9a81\",\"type\":\"ResetTool\"}],\"root_ids\":[\"3eb895a5-7864-4b0e-937a-e289fd0c380a\"]},\"title\":\"Bokeh Application\",\"version\":\"0.11.1\"}};\n",
       "            var render_items = [{\"docid\":\"ebf76a5f-d1c2-4714-bc78-03468fcf7c0f\",\"elementid\":\"e8c0af06-3e65-4da0-af8c-aba2d069d037\",\"modelid\":\"3eb895a5-7864-4b0e-937a-e289fd0c380a\",\"notebook_comms_target\":\"76fdbef1-6ea4-453a-aad7-73b057a62c56\"}];\n",
       "            \n",
       "            Bokeh.embed.embed_items(docs_json, render_items);\n",
       "        });\n",
       "      },\n",
       "      function(Bokeh) {\n",
       "      }\n",
       "    ];\n",
       "  \n",
       "    function run_inline_js() {\n",
       "      for (var i = 0; i < inline_js.length; i++) {\n",
       "        inline_js[i](window.Bokeh);\n",
       "      }\n",
       "    }\n",
       "  \n",
       "    if (window._bokeh_is_loading === 0) {\n",
       "      console.log(\"Bokeh: BokehJS loaded, going straight to plotting\");\n",
       "      run_inline_js();\n",
       "    } else {\n",
       "      load_libs(js_urls, function() {\n",
       "        console.log(\"Bokeh: BokehJS plotting callback run at\", now());\n",
       "        run_inline_js();\n",
       "      });\n",
       "    }\n",
       "  }(this));\n",
       "</script>"
      ]
     },
     "metadata": {},
     "output_type": "display_data"
    },
    {
     "data": {
      "text/html": [
       "<p><code>&lt;Bokeh Notebook handle for <strong>In[8]</strong>&gt;</code></p>"
      ],
      "text/plain": [
       "<bokeh.io._CommsHandle at 0x7f84aeef3320>"
      ]
     },
     "execution_count": 19,
     "metadata": {},
     "output_type": "execute_result"
    }
   ],
   "source": [
    "show(p)"
   ]
  },
  {
   "cell_type": "code",
   "execution_count": null,
   "metadata": {
    "collapsed": true
   },
   "outputs": [],
   "source": []
  }
 ],
 "metadata": {
  "kernelspec": {
   "display_name": "Python 3",
   "language": "python",
   "name": "python3"
  },
  "language_info": {
   "codemirror_mode": {
    "name": "ipython",
    "version": 3
   },
   "file_extension": ".py",
   "mimetype": "text/x-python",
   "name": "python",
   "nbconvert_exporter": "python",
   "pygments_lexer": "ipython3",
   "version": "3.4.3"
  }
 },
 "nbformat": 4,
 "nbformat_minor": 0
}
