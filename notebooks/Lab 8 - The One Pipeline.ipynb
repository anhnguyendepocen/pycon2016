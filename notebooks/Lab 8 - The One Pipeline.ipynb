{
 "cells": [
  {
   "cell_type": "code",
   "execution_count": 33,
   "metadata": {
    "collapsed": false
   },
   "outputs": [],
   "source": [
    "from classes.Data import Data\n",
    "import pandas as pd \n",
    "\n",
    "class Pipeline(Data):\n",
    "    \n",
    "    def __init__(self,name, data_list,merge_type,store):\n",
    "        self.data_list = data_list\n",
    "        self.name = name\n",
    "        self.merge_type = merge_type\n",
    "        self.store = store\n",
    "        self.df = pd.DataFrame()\n",
    "        \n",
    "    def extract(self):\n",
    "        list(map(lambda x:x.extract(),self.data_list))\n",
    "        merge = self.merge_type(self.name,self.data_list,self.store)\n",
    "        \n",
    "        merge.extract()\n",
    "        merge.put()\n",
    "        self.df = merge.df\n",
    "    \n",
    "    def put(self):\n",
    "        if (self.df.empty) :\n",
    "            print(\"Pipeline.put(): dataframe is empty, run get() or extract()\")\n",
    "            return\n",
    "        self.storage.put(self.df, self.name)\n",
    "    \n",
    "    def get(self):\n",
    "        self.df = self.storage.get(self.name)\n",
    "        \n",
    "        \n",
    "        "
   ]
  },
  {
   "cell_type": "code",
   "execution_count": 36,
   "metadata": {
    "collapsed": false
   },
   "outputs": [],
   "source": [
    "from classes.DistanceMergeData import DistanceMergeData\n",
    "from classes.ScraperData import ScraperData\n",
    "from classes.RidbData import RidbData\n",
    "\n",
    "# import the scrapers\n",
    "from classes.ReservationsScraper import ReservationsScraper\n",
    "from classes.UsfsWebScraper import UsfsWebScraper\n",
    "\n",
    "# import the storage\n",
    "from classes.MysqlStorage import MysqlStorage\n",
    "from classes.CsvStorage import CsvStorage\n"
   ]
  },
  {
   "cell_type": "code",
   "execution_count": 35,
   "metadata": {
    "collapsed": false
   },
   "outputs": [],
   "source": []
  },
  {
   "cell_type": "code",
   "execution_count": 37,
   "metadata": {
    "collapsed": false
   },
   "outputs": [],
   "source": [
    "pipe = Pipeline('pipeline', [1,2], DistanceMergeData, 1)"
   ]
  },
  {
   "cell_type": "code",
   "execution_count": null,
   "metadata": {
    "collapsed": true
   },
   "outputs": [],
   "source": []
  }
 ],
 "metadata": {
  "kernelspec": {
   "display_name": "Python 3",
   "language": "python",
   "name": "python3"
  },
  "language_info": {
   "codemirror_mode": {
    "name": "ipython",
    "version": 3
   },
   "file_extension": ".py",
   "mimetype": "text/x-python",
   "name": "python",
   "nbconvert_exporter": "python",
   "pygments_lexer": "ipython3",
   "version": "3.4.3"
  }
 },
 "nbformat": 4,
 "nbformat_minor": 0
}
