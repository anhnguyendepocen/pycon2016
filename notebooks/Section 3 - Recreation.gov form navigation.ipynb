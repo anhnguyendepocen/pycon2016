{
 "cells": [
  {
   "cell_type": "markdown",
   "metadata": {},
   "source": [
    "<br>\n",
    "<img src=\"images/recgov_booking.png\" width=80% style=\"display: inline-block\">\n",
    "<br>\n",
    "image source: http://www.recreation.gov\n",
    "<br>\n",
    "<img src=\"images/recgov_tou.png\" width=80% style=\"display: inline-block\">\n",
    "<br>\n",
    "image source: http://www.recreation.gov/marketing.do?goto=/acm/shareData.htm"
   ]
  },
  {
   "cell_type": "code",
   "execution_count": 1,
   "metadata": {
    "collapsed": false
   },
   "outputs": [],
   "source": [
    "from selenium import webdriver\n",
    "from selenium.webdriver.common.keys import Keys\n",
    "from selenium.webdriver.support.ui import WebDriverWait\n",
    "from selenium.webdriver.support import expected_conditions as EC\n",
    "from selenium.webdriver.common.by import By\n",
    "from pyvirtualdisplay import Display\n",
    "from bs4 import BeautifulSoup\n",
    "import re\n",
    "import pandas as pd\n",
    "import datetime\n",
    "from datetime import timedelta, date\n",
    "import sys\n",
    "import requests"
   ]
  },
  {
   "cell_type": "code",
   "execution_count": 2,
   "metadata": {
    "collapsed": false
   },
   "outputs": [
    {
     "name": "stdout",
     "output_type": "stream",
     "text": [
      "starting display\n",
      "setting up web browser\n"
     ]
    }
   ],
   "source": [
    "local_ip = '172.17.0.3'\n",
    "print('starting display')\n",
    "display = Display(visible=0, size=(1024, 768))\n",
    "display.start()\n",
    "\n",
    "print('setting up web browser')\n",
    "browser = webdriver.Firefox()"
   ]
  },
  {
   "cell_type": "code",
   "execution_count": 3,
   "metadata": {
    "collapsed": false
   },
   "outputs": [],
   "source": [
    "def check_recreationgov(facility_url, start_date, stay_length) :\n",
    "    \n",
    "    browser.set_window_size(1366, 768)\n",
    "    \n",
    "    #browser = mechanize.Browser()\n",
    "    #user_agent_str = \"Mozilla/5.0 (Macintosh; Intel Mac OS X 10_9_4) AppleWebKit/537.36 (KHTML, like Gecko) Chrome/43.0.2357.134 Safari/537.36\"\n",
    "    #browser.addheaders = [('User-agent', user_agent_str)]\t\n",
    "    end_date = \"{:%m/%d/%Y}\".format(datetime.datetime.strptime(start_date, \"%m/%d/%Y\") + timedelta(stay_length))\n",
    "\n",
    "    print('getting url')\n",
    "    try:\n",
    "        browser.get(facility_url)\n",
    "        browser.set_script_timeout(30)\n",
    "        browser.set_page_load_timeout(30) # seconds\n",
    "\n",
    "        #print(browser.page_source)\n",
    "        #browser.open(facility_url)\n",
    "    except Exception as ex:\n",
    "        print(\"Unable to open url: \" + facility_url)\n",
    "        print(ex)\n",
    "        return pd.DataFrame()\n",
    "    \n",
    "    print('browsing form')\n",
    "    form = browser.find_element_by_name('unifSearchForm')\n",
    "    arrival = form.find_element_by_name('arrivalDate')\n",
    "    departure = form.find_element_by_name('departureDate')\n",
    "\n",
    "    arrival.send_keys(start_date)\n",
    "    departure.send_keys(end_date)\n",
    "    browser.find_element_by_name(\"submit\").click()\n",
    "\n",
    "    element = WebDriverWait(browser, 10).until(EC.presence_of_element_located((By.CLASS_NAME, \"matchSummary\")))\n",
    "\n",
    "    soup = BeautifulSoup(browser.page_source, 'lxml')\n",
    "    divs = soup.findAll('div', attrs={\"class\" : 'matchSummary'})\n",
    "    query_result = divs[0].text\n",
    "    results = pd.DataFrame()\n",
    "\n",
    "    results['last_updated'] = [\"{:%m/%d/%Y}\".format(datetime.date.today())]\n",
    "    results['start_date'] = start_date\n",
    "    results['end_date'] = end_date\n",
    "\n",
    "    availability_info = query_result.split(' ')\n",
    "    sites_available = availability_info[0]\n",
    "    #total_sites = availability_info[5]\n",
    "\n",
    "    results['sites_available'] = [sites_available]\n",
    "    #results['total_sites'] = [total_sites]\n",
    "    \n",
    "\n",
    "\n",
    "    return results"
   ]
  },
  {
   "cell_type": "code",
   "execution_count": 4,
   "metadata": {
    "collapsed": false
   },
   "outputs": [
    {
     "ename": "NameError",
     "evalue": "name 'staylength' is not defined",
     "output_type": "error",
     "traceback": [
      "\u001b[1;31m\u001b[0m",
      "\u001b[1;31mNameError\u001b[0mTraceback (most recent call last)",
      "\u001b[1;32m<ipython-input-4-64488f88fe78>\u001b[0m in \u001b[0;36m<module>\u001b[1;34m()\u001b[0m\n\u001b[0;32m      1\u001b[0m \u001b[1;33m\u001b[0m\u001b[0m\n\u001b[1;32m----> 2\u001b[1;33m \u001b[0mtest\u001b[0m \u001b[1;33m=\u001b[0m \u001b[0mcheck_recreationgov\u001b[0m\u001b[1;33m(\u001b[0m\u001b[1;34m'http://172.17.0.3/reservations.html'\u001b[0m\u001b[1;33m,\u001b[0m \u001b[1;34m'05/23/2016'\u001b[0m\u001b[1;33m,\u001b[0m \u001b[1;36m3\u001b[0m\u001b[1;33m)\u001b[0m\u001b[1;33m\u001b[0m\u001b[0m\n\u001b[0m",
      "\u001b[1;32m<ipython-input-3-c2ec36b61f00>\u001b[0m in \u001b[0;36mcheck_recreationgov\u001b[1;34m(facility_url, start_date, stay_length)\u001b[0m\n\u001b[0;32m      6\u001b[0m     \u001b[1;31m#user_agent_str = \"Mozilla/5.0 (Macintosh; Intel Mac OS X 10_9_4) AppleWebKit/537.36 (KHTML, like Gecko) Chrome/43.0.2357.134 Safari/537.36\"\u001b[0m\u001b[1;33m\u001b[0m\u001b[1;33m\u001b[0m\u001b[0m\n\u001b[0;32m      7\u001b[0m     \u001b[1;31m#browser.addheaders = [('User-agent', user_agent_str)]\u001b[0m\u001b[1;33m\u001b[0m\u001b[1;33m\u001b[0m\u001b[0m\n\u001b[1;32m----> 8\u001b[1;33m     \u001b[0mend_date\u001b[0m \u001b[1;33m=\u001b[0m \u001b[1;34m\"{:%m/%d/%Y}\"\u001b[0m\u001b[1;33m.\u001b[0m\u001b[0mformat\u001b[0m\u001b[1;33m(\u001b[0m\u001b[0mdatetime\u001b[0m\u001b[1;33m.\u001b[0m\u001b[0mdatetime\u001b[0m\u001b[1;33m.\u001b[0m\u001b[0mstrptime\u001b[0m\u001b[1;33m(\u001b[0m\u001b[0mstart_date\u001b[0m\u001b[1;33m,\u001b[0m \u001b[1;34m\"%m/%d/%Y\"\u001b[0m\u001b[1;33m)\u001b[0m \u001b[1;33m+\u001b[0m \u001b[0mtimedelta\u001b[0m\u001b[1;33m(\u001b[0m\u001b[0mstaylength\u001b[0m\u001b[1;33m)\u001b[0m\u001b[1;33m)\u001b[0m\u001b[1;33m\u001b[0m\u001b[0m\n\u001b[0m\u001b[0;32m      9\u001b[0m \u001b[1;33m\u001b[0m\u001b[0m\n\u001b[0;32m     10\u001b[0m     \u001b[0mprint\u001b[0m\u001b[1;33m(\u001b[0m\u001b[1;34m'getting url'\u001b[0m\u001b[1;33m)\u001b[0m\u001b[1;33m\u001b[0m\u001b[0m\n",
      "\u001b[1;31mNameError\u001b[0m: name 'staylength' is not defined"
     ]
    }
   ],
   "source": [
    "\n",
    "test = check_recreationgov('http://172.17.0.3/reservations.html', '05/23/2016', 3)"
   ]
  },
  {
   "cell_type": "code",
   "execution_count": 42,
   "metadata": {
    "collapsed": false
   },
   "outputs": [
    {
     "data": {
      "text/html": [
       "<div>\n",
       "<table border=\"1\" class=\"dataframe\">\n",
       "  <thead>\n",
       "    <tr style=\"text-align: right;\">\n",
       "      <th></th>\n",
       "      <th>last_updated</th>\n",
       "      <th>start_date</th>\n",
       "      <th>end_date</th>\n",
       "      <th>sites_available</th>\n",
       "    </tr>\n",
       "  </thead>\n",
       "  <tbody>\n",
       "    <tr>\n",
       "      <th>0</th>\n",
       "      <td>05/19/2016</td>\n",
       "      <td>05/23/2016</td>\n",
       "      <td>05/24/2016</td>\n",
       "      <td>0</td>\n",
       "    </tr>\n",
       "  </tbody>\n",
       "</table>\n",
       "</div>"
      ],
      "text/plain": [
       "  last_updated  start_date    end_date sites_available\n",
       "0   05/19/2016  05/23/2016  05/24/2016               0"
      ]
     },
     "execution_count": 42,
     "metadata": {},
     "output_type": "execute_result"
    }
   ],
   "source": [
    "test"
   ]
  },
  {
   "cell_type": "code",
   "execution_count": 37,
   "metadata": {
    "collapsed": false
   },
   "outputs": [
    {
     "data": {
      "text/plain": [
       "<Display cmd_param=['Xvfb', '-br', '-nolisten', 'tcp', '-screen', '0', '1024x768x24', ':1001'] cmd=['Xvfb', '-br', '-nolisten', 'tcp', '-screen', '0', '1024x768x24', ':1001'] oserror=None returncode=0 stdout=\"\" stderr=\"Initializing built-in extension Generic Event Extension\n",
       "Initializing built-in extension SHAPE\n",
       "Initializing built-in extension MIT-SHM\n",
       "Initializing built-in extension XInputExtension\n",
       "Initializing built-in extension XTEST\n",
       "Initializing built-in extension BIG-REQUESTS\n",
       "Initializing built-in extension SYNC\n",
       "Initializing built-in extension XKEYBOARD\n",
       "Initializing built-in extension XC-MISC\n",
       "Initializing built-in extension SECURITY\n",
       "Initializing built-in extension XINERAMA\n",
       "Initializing built-in extension XFIXES\n",
       "Initializing built-in extension RENDER\n",
       "Initializing built-in extension RANDR\n",
       "Initializing built-in extension COMPOSITE\n",
       "Initializing built-in extension DAMAGE\n",
       "Initializing built-in extension MIT-SCREEN-SAVER\n",
       "Initializing built-in extension DOUBLE-BUFFER\n",
       "Initializing built-in extension RECORD\n",
       "Initializing built-in extension DPMS\n",
       "Initializing built-in extension Present\n",
       "Initializing built-in extension DRI3\n",
       "Initializing built-in extension X-Resource\n",
       "Initializing built-in extension XVideo\n",
       "Initializing built-in extension XVideo-MotionCompensation\n",
       "Initializing built-in extension SELinux\n",
       "Initializing built-in extension GLX\n",
       "[dix] Could not init font path element /usr/share/fonts/X11/misc, removing from list!\n",
       "[dix] Could not init font path element /usr/share/fonts/X11/cyrillic, removing from list!\n",
       "[dix] Could not init font path element /usr/share/fonts/X11/100dpi/:unscaled, removing from list!\n",
       "[dix] Could not init font path element /usr/share/fonts/X11/75dpi/:unscaled, removing from list!\n",
       "[dix] Could not init font path element /usr/share/fonts/X11/Type1, removing from list!\n",
       "[dix] Could not init font path element /usr/share/fonts/X11/100dpi, removing from list!\n",
       "[dix] Could not init font path element /usr/share/fonts/X11/75dpi, removing from list!\n",
       "6 XSELINUXs still allocated at reset\n",
       "SCREEN: 0 objects of 256 bytes = 0 total bytes 0 private allocs\n",
       "DEVICE: 0 objects of 96 bytes = 0 total bytes 0 private allocs\n",
       "CLIENT: 0 objects of 144 bytes = 0 total bytes 0 private allocs\n",
       "WINDOW: 0 objects of 48 bytes = 0 total bytes 0 private allocs\n",
       "PIXMAP: 1 objects of 16 bytes = 16 total bytes 0 private allocs\n",
       "GC: 4 objects of 16 bytes = 64 total bytes 0 private allocs\n",
       "CURSOR: 1 objects of 8 bytes = 8 total bytes 0 private allocs\n",
       "TOTAL: 6 objects, 88 bytes, 0 allocs\n",
       "1 PIXMAPs still allocated at reset\n",
       "PIXMAP: 1 objects of 16 bytes = 16 total bytes 0 private allocs\n",
       "GC: 4 objects of 16 bytes = 64 total bytes 0 private allocs\n",
       "CURSOR: 1 objects of 8 bytes = 8 total bytes 0 private allocs\n",
       "TOTAL: 6 objects, 88 bytes, 0 allocs\n",
       "4 GCs still allocated at reset\n",
       "GC: 4 objects of 16 bytes = 64 total bytes 0 private allocs\n",
       "CURSOR: 1 objects of 8 bytes = 8 total bytes 0 private allocs\n",
       "TOTAL: 5 objects, 72 bytes, 0 allocs\n",
       "1 CURSORs still allocated at reset\n",
       "CURSOR: 1 objects of 8 bytes = 8 total bytes 0 private allocs\n",
       "TOTAL: 1 objects, 8 bytes, 0 allocs\n",
       "1 CURSOR_BITSs still allocated at reset\n",
       "TOTAL: 0 objects, 0 bytes, 0 allocs\n",
       "[dix] Could not init font path element /usr/share/fonts/X11/misc, removing from list!\n",
       "[dix] Could not init font path element /usr/share/fonts/X11/cyrillic, removing from list!\n",
       "[dix] Could not init font path element /usr/share/fonts/X11/100dpi/:unscaled, removing from list!\n",
       "[dix] Could not init font path element /usr/share/fonts/X11/75dpi/:unscaled, removing from list!\n",
       "[dix] Could not init font path element /usr/share/fonts/X11/Type1, removing from list!\n",
       "[dix] Could not init font path element /usr/share/fonts/X11/100dpi, removing from list!\n",
       "[dix] Could not init font path element /usr/share/fonts/X11/75dpi, removing from list!\" timeout=False>"
      ]
     },
     "execution_count": 37,
     "metadata": {},
     "output_type": "execute_result"
    }
   ],
   "source": [
    "    browser.close()\n",
    "    display.stop()"
   ]
  },
  {
   "cell_type": "code",
   "execution_count": null,
   "metadata": {
    "collapsed": true
   },
   "outputs": [],
   "source": []
  }
 ],
 "metadata": {
  "kernelspec": {
   "display_name": "Python 3",
   "language": "python",
   "name": "python3"
  },
  "language_info": {
   "codemirror_mode": {
    "name": "ipython",
    "version": 3
   },
   "file_extension": ".py",
   "mimetype": "text/x-python",
   "name": "python",
   "nbconvert_exporter": "python",
   "pygments_lexer": "ipython3",
   "version": "3.4.3"
  }
 },
 "nbformat": 4,
 "nbformat_minor": 0
}
