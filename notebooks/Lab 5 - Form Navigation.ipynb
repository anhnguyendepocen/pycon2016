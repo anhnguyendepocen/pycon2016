{
 "cells": [
  {
   "cell_type": "markdown",
   "metadata": {},
   "source": [
    "### More powerful magic - Recreation.gov form navigation\n",
    "<img src='images/arwen_river.www.projectorreviews.com.jpg'  style=\"display: inline-block\">\n",
    "image source: www.projectorreviews.com.jpg\n",
    "\n",
    "#### Scraping techniques presented here can be used on pages like:\n",
    "http://www.recreation.gov/camping/eagle-creek-campground/r/campgroundDetails.do?contractCode=NRSO&parkId=122890"
   ]
  },
  {
   "cell_type": "code",
   "execution_count": 1,
   "metadata": {
    "collapsed": true
   },
   "outputs": [],
   "source": [
    "from selenium import webdriver\n",
    "from selenium.webdriver.common.keys import Keys\n",
    "from selenium.webdriver.support.ui import WebDriverWait\n",
    "from selenium.webdriver.support import expected_conditions as EC\n",
    "from selenium.webdriver.common.by import By\n",
    "from pyvirtualdisplay import Display\n",
    "from bs4 import BeautifulSoup\n",
    "import re\n",
    "import pandas as pd\n",
    "import datetime\n",
    "from datetime import timedelta, date\n",
    "import sys\n",
    "import requests\n",
    "import config"
   ]
  },
  {
   "cell_type": "markdown",
   "metadata": {},
   "source": [
    "Setup Selenium to run headlessly"
   ]
  },
  {
   "cell_type": "code",
   "execution_count": 2,
   "metadata": {
    "collapsed": false
   },
   "outputs": [
    {
     "name": "stdout",
     "output_type": "stream",
     "text": [
      "starting display\n",
      "setting up web browser\n"
     ]
    }
   ],
   "source": [
    "local_ip = config.LAMP_IP\n",
    "print('starting display')\n",
    "display = Display(visible=0, size=(1024, 768))\n",
    "display.start()\n",
    "\n",
    "print('setting up web browser')\n",
    "browser = webdriver.Firefox()"
   ]
  },
  {
   "cell_type": "code",
   "execution_count": 3,
   "metadata": {
    "collapsed": true
   },
   "outputs": [],
   "source": [
    "browser.set_window_size(1366, 768)"
   ]
  },
  {
   "cell_type": "code",
   "execution_count": 4,
   "metadata": {
    "collapsed": true
   },
   "outputs": [],
   "source": [
    "facility_url = \"http://\" + config.LAMP_IP + \"/reservations.html\""
   ]
  },
  {
   "cell_type": "markdown",
   "metadata": {},
   "source": [
    "Try to connect to the reservations page"
   ]
  },
  {
   "cell_type": "code",
   "execution_count": 5,
   "metadata": {
    "collapsed": false
   },
   "outputs": [],
   "source": [
    "try:\n",
    "    browser.get(facility_url)\n",
    "    browser.set_script_timeout(30)\n",
    "    browser.set_page_load_timeout(30) # seconds\n",
    "    \n",
    "except Exception as ex :\n",
    "    print(\"Unable to open url: \" + facility_url)\n",
    "    print(ex)\n"
   ]
  },
  {
   "cell_type": "markdown",
   "metadata": {},
   "source": [
    "Navigate to the form and find the input elements"
   ]
  },
  {
   "cell_type": "code",
   "execution_count": 6,
   "metadata": {
    "collapsed": true
   },
   "outputs": [],
   "source": [
    "form = browser.find_element_by_name('unifSearchForm')\n",
    "arrival = form.find_element_by_name('arrivalDate')\n",
    "departure = form.find_element_by_name('departureDate')"
   ]
  },
  {
   "cell_type": "code",
   "execution_count": 7,
   "metadata": {
    "collapsed": false
   },
   "outputs": [
    {
     "name": "stdout",
     "output_type": "stream",
     "text": [
      "06/1/2016 - 06/03/2016\n"
     ]
    }
   ],
   "source": [
    "start_date = '06/1/2016'\n",
    "stay_length = 2\n",
    "end_date = \"{:%m/%d/%Y}\".format(datetime.datetime.strptime(start_date, \"%m/%d/%Y\") + timedelta(stay_length))\n",
    "print(start_date + \" - \" + end_date)"
   ]
  },
  {
   "cell_type": "code",
   "execution_count": 8,
   "metadata": {
    "collapsed": true
   },
   "outputs": [],
   "source": [
    "arrival.send_keys(start_date)\n",
    "departure.send_keys(end_date)\n",
    "browser.find_element_by_name(\"submit\").click()"
   ]
  },
  {
   "cell_type": "code",
   "execution_count": 9,
   "metadata": {
    "collapsed": false
   },
   "outputs": [],
   "source": [
    "element = WebDriverWait(browser, 10).until(EC.presence_of_element_located((By.CLASS_NAME, \"matchSummary\")))\n",
    "soup = BeautifulSoup(browser.page_source, 'lxml')"
   ]
  },
  {
   "cell_type": "code",
   "execution_count": 10,
   "metadata": {
    "collapsed": false
   },
   "outputs": [
    {
     "data": {
      "text/plain": [
       "'7 sites available'"
      ]
     },
     "execution_count": 10,
     "metadata": {},
     "output_type": "execute_result"
    }
   ],
   "source": [
    "divs = soup.findAll('div', attrs={\"class\" : 'matchSummary'})\n",
    "query_result = divs[0].text\n",
    "query_result"
   ]
  },
  {
   "cell_type": "code",
   "execution_count": null,
   "metadata": {
    "collapsed": true
   },
   "outputs": [],
   "source": []
  }
 ],
 "metadata": {
  "kernelspec": {
   "display_name": "Python 3",
   "language": "python",
   "name": "python3"
  },
  "language_info": {
   "codemirror_mode": {
    "name": "ipython",
    "version": 3
   },
   "file_extension": ".py",
   "mimetype": "text/x-python",
   "name": "python",
   "nbconvert_exporter": "python",
   "pygments_lexer": "ipython3",
   "version": "3.4.3"
  }
 },
 "nbformat": 4,
 "nbformat_minor": 0
}
