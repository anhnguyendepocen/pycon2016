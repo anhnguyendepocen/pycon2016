{
 "cells": [
  {
   "cell_type": "code",
   "execution_count": 2,
   "metadata": {
    "collapsed": false
   },
   "outputs": [],
   "source": [
    "import requests\t\n",
    "from bs4 import BeautifulSoup\n",
    "import re\n",
    "import pandas as pd\n",
    "import os\n",
    "from sqlalchemy import create_engine\n",
    "import config\n",
    "from unidecode import unidecode\n",
    "import datetime"
   ]
  },
  {
   "cell_type": "code",
   "execution_count": 6,
   "metadata": {
    "collapsed": false
   },
   "outputs": [],
   "source": [
    "fs_urls = pd.read_csv('data/usfs_sites.csv')"
   ]
  },
  {
   "cell_type": "code",
   "execution_count": 7,
   "metadata": {
    "collapsed": false
   },
   "outputs": [
    {
     "data": {
      "text/html": [
       "<div>\n",
       "<table border=\"1\" class=\"dataframe\">\n",
       "  <thead>\n",
       "    <tr style=\"text-align: right;\">\n",
       "      <th></th>\n",
       "      <th>facilityname</th>\n",
       "      <th>url</th>\n",
       "    </tr>\n",
       "  </thead>\n",
       "  <tbody>\n",
       "    <tr>\n",
       "      <th>0</th>\n",
       "      <td>whispering falls campground</td>\n",
       "      <td>Willamette National Forest - Whispering Falls ...</td>\n",
       "    </tr>\n",
       "    <tr>\n",
       "      <th>1</th>\n",
       "      <td>lost lake campground</td>\n",
       "      <td>Mt. Hood National Forest - Lost Lake Campgroun...</td>\n",
       "    </tr>\n",
       "    <tr>\n",
       "      <th>2</th>\n",
       "      <td>lake harriet campground</td>\n",
       "      <td>Mt. Hood National Forest - Lake Harriet Campgr...</td>\n",
       "    </tr>\n",
       "    <tr>\n",
       "      <th>3</th>\n",
       "      <td>kinnikinnick (laurance lake) campground</td>\n",
       "      <td>Mt. Hood National Forest - Kinnikinnick (Laura...</td>\n",
       "    </tr>\n",
       "    <tr>\n",
       "      <th>4</th>\n",
       "      <td>fifteenmile campground</td>\n",
       "      <td>Mt. Hood National Forest - Fifteenmile Campgro...</td>\n",
       "    </tr>\n",
       "    <tr>\n",
       "      <th>5</th>\n",
       "      <td>clear lake campground</td>\n",
       "      <td>Mt. Hood National Forest - Clear Lake Campgrou...</td>\n",
       "    </tr>\n",
       "    <tr>\n",
       "      <th>6</th>\n",
       "      <td>camp creek campground</td>\n",
       "      <td>Mt. Hood National Forest - Camp Creek Campgrou...</td>\n",
       "    </tr>\n",
       "    <tr>\n",
       "      <th>7</th>\n",
       "      <td>badger lake campground</td>\n",
       "      <td>Mt. Hood National Forest - Badger Lake Campgro...</td>\n",
       "    </tr>\n",
       "    <tr>\n",
       "      <th>8</th>\n",
       "      <td>eagle creek campground</td>\n",
       "      <td>Columbia River Gorge National Scenic Area - Ea...</td>\n",
       "    </tr>\n",
       "  </tbody>\n",
       "</table>\n",
       "</div>"
      ],
      "text/plain": [
       "                              facilityname  \\\n",
       "0              whispering falls campground   \n",
       "1                     lost lake campground   \n",
       "2                  lake harriet campground   \n",
       "3  kinnikinnick (laurance lake) campground   \n",
       "4                   fifteenmile campground   \n",
       "5                    clear lake campground   \n",
       "6                    camp creek campground   \n",
       "7                   badger lake campground   \n",
       "8                   eagle creek campground   \n",
       "\n",
       "                                                 url  \n",
       "0  Willamette National Forest - Whispering Falls ...  \n",
       "1  Mt. Hood National Forest - Lost Lake Campgroun...  \n",
       "2  Mt. Hood National Forest - Lake Harriet Campgr...  \n",
       "3  Mt. Hood National Forest - Kinnikinnick (Laura...  \n",
       "4  Mt. Hood National Forest - Fifteenmile Campgro...  \n",
       "5  Mt. Hood National Forest - Clear Lake Campgrou...  \n",
       "6  Mt. Hood National Forest - Camp Creek Campgrou...  \n",
       "7  Mt. Hood National Forest - Badger Lake Campgro...  \n",
       "8  Columbia River Gorge National Scenic Area - Ea...  "
      ]
     },
     "execution_count": 7,
     "metadata": {},
     "output_type": "execute_result"
    }
   ],
   "source": [
    "fs_urls"
   ]
  },
  {
   "cell_type": "code",
   "execution_count": 59,
   "metadata": {
    "collapsed": false
   },
   "outputs": [],
   "source": [
    "site_url = \"http://\" + config.LAMP_IP + \"/\" + fs_urls.iloc[1]['url']\n",
    "cg_name = fs_urls.iloc[1]['facilityname']"
   ]
  },
  {
   "cell_type": "code",
   "execution_count": 36,
   "metadata": {
    "collapsed": false
   },
   "outputs": [],
   "source": [
    "cg_req = requests.get(site_url)\n",
    "cg_soup = BeautifulSoup(cg_req.text, 'lxml')"
   ]
  },
  {
   "cell_type": "markdown",
   "metadata": {},
   "source": [
    "Extracting Area Status information"
   ]
  },
  {
   "cell_type": "code",
   "execution_count": 33,
   "metadata": {
    "collapsed": false
   },
   "outputs": [],
   "source": [
    "try :\n",
    "    for strong_tag in cg_soup.find_all('strong'):\n",
    "        if ('Area Status' in unidecode(strong_tag.text)):\n",
    "            status = unidecode(strong_tag.next_sibling).strip()\n",
    "except Exception:\n",
    "    print('couldnt get area status')"
   ]
  },
  {
   "cell_type": "code",
   "execution_count": 34,
   "metadata": {
    "collapsed": false
   },
   "outputs": [
    {
     "data": {
      "text/plain": [
       "'Open'"
      ]
     },
     "execution_count": 34,
     "metadata": {},
     "output_type": "execute_result"
    }
   ],
   "source": [
    "status"
   ]
  },
  {
   "cell_type": "markdown",
   "metadata": {},
   "source": [
    "Extracting lat/long information"
   ]
  },
  {
   "cell_type": "code",
   "execution_count": 41,
   "metadata": {
    "collapsed": false
   },
   "outputs": [],
   "source": [
    "try :\n",
    "    lat = cg_soup.find_all('div', text=re.compile('Latitude'))\n",
    "    div = [row.next_sibling.next_sibling for row in lat]\n",
    "    latitude  = div[0].text.strip()\n",
    "\n",
    "except Exception:\n",
    "    print('couldnt get location info')"
   ]
  },
  {
   "cell_type": "code",
   "execution_count": 43,
   "metadata": {
    "collapsed": false
   },
   "outputs": [
    {
     "data": {
      "text/plain": [
       "'45.50080'"
      ]
     },
     "execution_count": 43,
     "metadata": {},
     "output_type": "execute_result"
    }
   ],
   "source": [
    "latitude"
   ]
  },
  {
   "cell_type": "code",
   "execution_count": 47,
   "metadata": {
    "collapsed": false
   },
   "outputs": [],
   "source": [
    "def get_location(soup, search_text):\n",
    "    try :\n",
    "        divs = soup.find_all('div', text=re.compile(search_text))\n",
    "        loc_div = [row.next_sibling.next_sibling for row in divs]\n",
    "        return loc_div[0].text.strip()\n",
    "    except Exception as ex:\n",
    "        print(\"get_location: couldnt extract \" + search_text)\n",
    "        return \"\""
   ]
  },
  {
   "cell_type": "code",
   "execution_count": 50,
   "metadata": {
    "collapsed": false
   },
   "outputs": [],
   "source": [
    "cg_lat = get_location(cg_soup, 'Latitude')\n",
    "cg_long = get_location(cg_soup, 'Longitude')\n",
    "cg_elev = get_location(cg_soup, 'Elevation')"
   ]
  },
  {
   "cell_type": "code",
   "execution_count": 52,
   "metadata": {
    "collapsed": false
   },
   "outputs": [
    {
     "name": "stdout",
     "output_type": "stream",
     "text": [
      "45.50080,-121.81641 elevation:3200\n"
     ]
    }
   ],
   "source": [
    "print(str(cg_lat) + \",\" + str(cg_long) + \" elevation:\" + str(cg_elev))"
   ]
  },
  {
   "cell_type": "markdown",
   "metadata": {},
   "source": [
    "Extracting campground info"
   ]
  },
  {
   "cell_type": "code",
   "execution_count": 53,
   "metadata": {
    "collapsed": true
   },
   "outputs": [],
   "source": [
    "try :\n",
    "    tables = cg_soup.find_all('div', {'class': 'tablecolor'})\n",
    "except Exception:\n",
    "    print('couldnt get tables')"
   ]
  },
  {
   "cell_type": "code",
   "execution_count": 60,
   "metadata": {
    "collapsed": false
   },
   "outputs": [
    {
     "name": "stdout",
     "output_type": "stream",
     "text": [
      "10\n"
     ]
    }
   ],
   "source": [
    "try :\n",
    "    print(len(tables))\n",
    "    rows = tables[0].find_all('tr')\n",
    "    for row in rows:\n",
    "        if row.th.text == 'Reservations:':\n",
    "            reservations = unidecode(row.td.text).strip()\n",
    "        if row.th.text == 'Open Season:':\n",
    "            openseason = unidecode(row.td.text).strip()\n",
    "        if row.th.text == 'Current Conditions:':\n",
    "            conditions = unidecode(row.td.text).strip()\n",
    "        if row.th.text == 'Water:':\n",
    "            water = unidecode(row.td.text).strip()\n",
    "        if row.th.text == 'Restroom:':\n",
    "            restroom = unidecode(row.td.text).strip()\n",
    "except Exception as ex:\n",
    "    print('couldnt get basic campground info')\n",
    "    print(ex)\n",
    "    \n",
    "df_info = pd.DataFrame({\n",
    "        'FacilityName':[cg_name],\n",
    "        'Reservations':[reservations],\n",
    "        'OpenSeason':[openseason],\n",
    "        'CurrentConditions':[conditions],\n",
    "        'Water':[water],\n",
    "        'Restroom':[restroom]\n",
    "    })"
   ]
  },
  {
   "cell_type": "code",
   "execution_count": 61,
   "metadata": {
    "collapsed": false
   },
   "outputs": [
    {
     "data": {
      "text/html": [
       "<div>\n",
       "<table border=\"1\" class=\"dataframe\">\n",
       "  <thead>\n",
       "    <tr style=\"text-align: right;\">\n",
       "      <th></th>\n",
       "      <th>CurrentConditions</th>\n",
       "      <th>FacilityName</th>\n",
       "      <th>OpenSeason</th>\n",
       "      <th>Reservations</th>\n",
       "      <th>Restroom</th>\n",
       "      <th>Water</th>\n",
       "    </tr>\n",
       "  </thead>\n",
       "  <tbody>\n",
       "    <tr>\n",
       "      <th>0</th>\n",
       "      <td>OPEN</td>\n",
       "      <td>lost lake campground</td>\n",
       "      <td>April</td>\n",
       "      <td>This site can be reserved by calling Toll Free...</td>\n",
       "      <td>Vault Toilet (18)</td>\n",
       "      <td>Potable Water</td>\n",
       "    </tr>\n",
       "  </tbody>\n",
       "</table>\n",
       "</div>"
      ],
      "text/plain": [
       "  CurrentConditions          FacilityName OpenSeason  \\\n",
       "0              OPEN  lost lake campground      April   \n",
       "\n",
       "                                        Reservations           Restroom  \\\n",
       "0  This site can be reserved by calling Toll Free...  Vault Toilet (18)   \n",
       "\n",
       "           Water  \n",
       "0  Potable Water  "
      ]
     },
     "execution_count": 61,
     "metadata": {},
     "output_type": "execute_result"
    }
   ],
   "source": [
    "df_info"
   ]
  },
  {
   "cell_type": "code",
   "execution_count": 3,
   "metadata": {
    "collapsed": true
   },
   "outputs": [],
   "source": [
    "def extract_cg_info(campgrounds) :\n",
    "    df_cg = pd.DataFrame()\n",
    "    for index, campground in campgrounds.iterrows():\n",
    "        latitude = longitude = elevation = site_id = numsites = conditions = \"\"\n",
    "        fees = openseason = usage = water = restroom = status = \"\"\n",
    "        site_url = \"http://\" + config.LAMP_IP + \"/\" + campground['url']\n",
    "        print(campground['facilityname'] + '\\t' + site_url)\n",
    "        try :\n",
    "            cg_req = requests.get(site_url)\n",
    "            cg_soup = BeautifulSoup(cg_req.text, 'lxml')\n",
    "        except Exception as ex :\n",
    "            print('couldnt get site_url ' + site_url)\n",
    "            print(ex)\n",
    "            continue\n",
    "\n",
    "        # get area status if available\n",
    "        try :\n",
    "            for strong_tag in cg_soup.find_all('strong'):\n",
    "                if ('Area Status' in unidecode(strong_tag.text)):\n",
    "                    status = unidecode(strong_tag.next_sibling).strip()\n",
    "        except Exception:\n",
    "            print('couldnt get area status')\n",
    "\n",
    "\n",
    "        print(\"getting location\")\n",
    "        # get lat, long, altitude\n",
    "        try :\n",
    "            lat = cg_soup.find_all('div', text=re.compile('Latitude'))\n",
    "            div = [row.next_sibling.next_sibling for row in lat]\n",
    "            latitude  = div[0].text.strip()\n",
    "\n",
    "            lng = cg_soup.find_all('div', text=re.compile('Longitude'))\n",
    "            div = [row.next_sibling.next_sibling for row in lng]\n",
    "            longitude  = div[0].text.strip()\n",
    "\n",
    "            el = cg_soup.find_all('div', text=re.compile('Elevation'))\n",
    "            div = [row.next_sibling.next_sibling for row in el]\n",
    "            elevation  = div[0].text.strip()\n",
    "\n",
    "            # get site usage, type, num sites, site info\n",
    "\n",
    "        except Exception:\n",
    "            print('couldnt get location info')\n",
    "\n",
    "        # table[0] is the basic info table\n",
    "\n",
    "        try :\n",
    "            tables = cg_soup.find_all('div', {'class': 'tablecolor'})\n",
    "        except Exception:\n",
    "            print('couldnt get tables')\n",
    "\n",
    "        try :\n",
    "            print(len(tables))\n",
    "            rows = tables[0].find_all('tr')\n",
    "            for row in rows:\n",
    "                \n",
    "                if row.th.text == 'Reservations:':\n",
    "                    reservations = unidecode(row.td.text).strip()\n",
    "                if row.th.text == 'Open Season:':\n",
    "                    openseason = unidecode(row.td.text).strip()\n",
    "                if row.th.text == 'Current Conditions:':\n",
    "                    print(unidecode(row.td.text))\n",
    "                    conditions = unidecode(row.td.text).strip()\n",
    "                if row.th.text == 'Water:':\n",
    "                    water = unidecode(row.td.text).strip()\n",
    "                if row.th.text == 'Restroom:':\n",
    "                    restroom = unidecode(row.td.text).strip()\n",
    "        except Exception as ex:\n",
    "            print('couldnt get basic campground info')\n",
    "            print(ex)\n",
    "\n",
    "        # table 1 is the campground info\n",
    "        try:\n",
    "            rows = tables[1].find_all('tr')\n",
    "\n",
    "            for row in rows:\n",
    "                if row.td.text == 'Reservation Info':\n",
    "                    reserveinfo = unidecode(row.td.next_sibling.text).strip()\n",
    "                if row.td.text == 'No. of Sites':\n",
    "                    numsites = unidecode(row.td.next_sibling.text).strip()\n",
    "        except Exception:\n",
    "            print('couldnt get campsite availability info')\n",
    "        \n",
    "        # assemble into DataFrame\n",
    "        df_cg = df_cg.append(pd.DataFrame ({\n",
    "            'latitude': [latitude],\n",
    "            'longitude': [longitude],\n",
    "            'elevation': [elevation],\n",
    "            'facilityname' : [campground['facilityname']],\n",
    "            'facilityurl' : [site_url],\n",
    "            'status' : [status],\n",
    "            'water' : [water],\n",
    "            'restroom' : [restroom],\n",
    "            'reservations': [reservations],\n",
    "            'conditions': [conditions],\n",
    "            'numsites': [numsites]\n",
    "            }))\n",
    "    return df_cg"
   ]
  },
  {
   "cell_type": "code",
   "execution_count": null,
   "metadata": {
    "collapsed": true
   },
   "outputs": [],
   "source": []
  },
  {
   "cell_type": "code",
   "execution_count": null,
   "metadata": {
    "collapsed": true
   },
   "outputs": [],
   "source": []
  }
 ],
 "metadata": {
  "kernelspec": {
   "display_name": "Python 3",
   "language": "python",
   "name": "python3"
  },
  "language_info": {
   "codemirror_mode": {
    "name": "ipython",
    "version": 3
   },
   "file_extension": ".py",
   "mimetype": "text/x-python",
   "name": "python",
   "nbconvert_exporter": "python",
   "pygments_lexer": "ipython3",
   "version": "3.4.3"
  }
 },
 "nbformat": 4,
 "nbformat_minor": 0
}
