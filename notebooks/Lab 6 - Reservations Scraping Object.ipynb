{
 "cells": [
  {
   "cell_type": "code",
   "execution_count": 2,
   "metadata": {
    "collapsed": false
   },
   "outputs": [],
   "source": [
    "from classes.ScraperData import ScraperData\n",
    "from classes.Scraper import Scraper\n",
    "from classes.MysqlStorage import MysqlStorage\n",
    "from classes.CsvStorage import CsvStorage\n",
    "from classes.ReservationsScraper import ReservationsScraper\n",
    "import pandas as pd\n",
    "import numpy as np"
   ]
  },
  {
   "cell_type": "code",
   "execution_count": 3,
   "metadata": {
    "collapsed": false
   },
   "outputs": [
    {
     "name": "stdout",
     "output_type": "stream",
     "text": [
      "starting display\n"
     ]
    }
   ],
   "source": [
    "res_scraper = ReservationsScraper()\n",
    "mysql_store = MysqlStorage()"
   ]
  },
  {
   "cell_type": "markdown",
   "metadata": {},
   "source": [
    "<img src=\"images/lady_galadriel.www.xenocorp.net.jpg\" width=20%  style=\"display: inline-block\">\n",
    "<br>\n",
    "image source: www.xenocorp.net\n",
    "\n",
    "#### Another gift from the elves - reservation links\n"
   ]
  },
  {
   "cell_type": "code",
   "execution_count": 4,
   "metadata": {
    "collapsed": false
   },
   "outputs": [
    {
     "data": {
      "text/html": [
       "<div>\n",
       "<table border=\"1\" class=\"dataframe\">\n",
       "  <thead>\n",
       "    <tr style=\"text-align: right;\">\n",
       "      <th></th>\n",
       "      <th>FacilityLatitude</th>\n",
       "      <th>FacilityLongitude</th>\n",
       "      <th>FacilityName</th>\n",
       "      <th>url</th>\n",
       "    </tr>\n",
       "  </thead>\n",
       "  <tbody>\n",
       "    <tr>\n",
       "      <th>0</th>\n",
       "      <td>44.688294</td>\n",
       "      <td>-122.010343</td>\n",
       "      <td>whispering falls campground</td>\n",
       "      <td>reservations.html</td>\n",
       "    </tr>\n",
       "    <tr>\n",
       "      <th>1</th>\n",
       "      <td>45.500800</td>\n",
       "      <td>-121.816410</td>\n",
       "      <td>lost lake campground</td>\n",
       "      <td>reservations.html</td>\n",
       "    </tr>\n",
       "    <tr>\n",
       "      <th>2</th>\n",
       "      <td>45.073611</td>\n",
       "      <td>-121.956944</td>\n",
       "      <td>lake harriet campground</td>\n",
       "      <td>reservations.html</td>\n",
       "    </tr>\n",
       "    <tr>\n",
       "      <th>3</th>\n",
       "      <td>45.179450</td>\n",
       "      <td>-121.696750</td>\n",
       "      <td>clear lake campground</td>\n",
       "      <td>reservations.html</td>\n",
       "    </tr>\n",
       "    <tr>\n",
       "      <th>4</th>\n",
       "      <td>45.305236</td>\n",
       "      <td>-121.867275</td>\n",
       "      <td>camp creek campground</td>\n",
       "      <td>reservations.html</td>\n",
       "    </tr>\n",
       "  </tbody>\n",
       "</table>\n",
       "</div>"
      ],
      "text/plain": [
       "   FacilityLatitude  FacilityLongitude                 FacilityName  \\\n",
       "0         44.688294        -122.010343  whispering falls campground   \n",
       "1         45.500800        -121.816410         lost lake campground   \n",
       "2         45.073611        -121.956944      lake harriet campground   \n",
       "3         45.179450        -121.696750        clear lake campground   \n",
       "4         45.305236        -121.867275        camp creek campground   \n",
       "\n",
       "                 url  \n",
       "0  reservations.html  \n",
       "1  reservations.html  \n",
       "2  reservations.html  \n",
       "3  reservations.html  \n",
       "4  reservations.html  "
      ]
     },
     "execution_count": 4,
     "metadata": {},
     "output_type": "execute_result"
    }
   ],
   "source": [
    "df_res = pd.read_csv('data/reservation_urls.csv')\n",
    "df_res.head()"
   ]
  },
  {
   "cell_type": "code",
   "execution_count": 5,
   "metadata": {
    "collapsed": true
   },
   "outputs": [],
   "source": [
    "start_date = '06/01/2016'\n",
    "stay_length = 2"
   ]
  },
  {
   "cell_type": "code",
   "execution_count": 6,
   "metadata": {
    "collapsed": false
   },
   "outputs": [],
   "source": [
    "df_res = df_res.assign(start_date = start_date, stay_length=stay_length)"
   ]
  },
  {
   "cell_type": "code",
   "execution_count": 7,
   "metadata": {
    "collapsed": false
   },
   "outputs": [
    {
     "data": {
      "text/html": [
       "<div>\n",
       "<table border=\"1\" class=\"dataframe\">\n",
       "  <thead>\n",
       "    <tr style=\"text-align: right;\">\n",
       "      <th></th>\n",
       "      <th>FacilityLatitude</th>\n",
       "      <th>FacilityLongitude</th>\n",
       "      <th>FacilityName</th>\n",
       "      <th>url</th>\n",
       "      <th>start_date</th>\n",
       "      <th>stay_length</th>\n",
       "    </tr>\n",
       "  </thead>\n",
       "  <tbody>\n",
       "    <tr>\n",
       "      <th>0</th>\n",
       "      <td>44.688294</td>\n",
       "      <td>-122.010343</td>\n",
       "      <td>whispering falls campground</td>\n",
       "      <td>reservations.html</td>\n",
       "      <td>06/01/2016</td>\n",
       "      <td>2</td>\n",
       "    </tr>\n",
       "    <tr>\n",
       "      <th>1</th>\n",
       "      <td>45.500800</td>\n",
       "      <td>-121.816410</td>\n",
       "      <td>lost lake campground</td>\n",
       "      <td>reservations.html</td>\n",
       "      <td>06/01/2016</td>\n",
       "      <td>2</td>\n",
       "    </tr>\n",
       "    <tr>\n",
       "      <th>2</th>\n",
       "      <td>45.073611</td>\n",
       "      <td>-121.956944</td>\n",
       "      <td>lake harriet campground</td>\n",
       "      <td>reservations.html</td>\n",
       "      <td>06/01/2016</td>\n",
       "      <td>2</td>\n",
       "    </tr>\n",
       "    <tr>\n",
       "      <th>3</th>\n",
       "      <td>45.179450</td>\n",
       "      <td>-121.696750</td>\n",
       "      <td>clear lake campground</td>\n",
       "      <td>reservations.html</td>\n",
       "      <td>06/01/2016</td>\n",
       "      <td>2</td>\n",
       "    </tr>\n",
       "    <tr>\n",
       "      <th>4</th>\n",
       "      <td>45.305236</td>\n",
       "      <td>-121.867275</td>\n",
       "      <td>camp creek campground</td>\n",
       "      <td>reservations.html</td>\n",
       "      <td>06/01/2016</td>\n",
       "      <td>2</td>\n",
       "    </tr>\n",
       "  </tbody>\n",
       "</table>\n",
       "</div>"
      ],
      "text/plain": [
       "   FacilityLatitude  FacilityLongitude                 FacilityName  \\\n",
       "0         44.688294        -122.010343  whispering falls campground   \n",
       "1         45.500800        -121.816410         lost lake campground   \n",
       "2         45.073611        -121.956944      lake harriet campground   \n",
       "3         45.179450        -121.696750        clear lake campground   \n",
       "4         45.305236        -121.867275        camp creek campground   \n",
       "\n",
       "                 url  start_date  stay_length  \n",
       "0  reservations.html  06/01/2016            2  \n",
       "1  reservations.html  06/01/2016            2  \n",
       "2  reservations.html  06/01/2016            2  \n",
       "3  reservations.html  06/01/2016            2  \n",
       "4  reservations.html  06/01/2016            2  "
      ]
     },
     "execution_count": 7,
     "metadata": {},
     "output_type": "execute_result"
    }
   ],
   "source": [
    "df_res.head()"
   ]
  },
  {
   "cell_type": "code",
   "execution_count": 8,
   "metadata": {
    "collapsed": true
   },
   "outputs": [],
   "source": [
    "res_data = ScraperData('reservations',df_res,mysql_store,res_scraper)"
   ]
  },
  {
   "cell_type": "code",
   "execution_count": 9,
   "metadata": {
    "collapsed": false
   },
   "outputs": [
    {
     "name": "stdout",
     "output_type": "stream",
     "text": [
      "getting reservation.html\n",
      "setting up web browser\n",
      "browsed to reservation.html\n",
      "browsed to reservation.html\n",
      "browsed to reservation.html\n",
      "browsed to reservation.html\n",
      "browsed to reservation.html\n",
      "browsed to reservation.html\n",
      "closing browser\n"
     ]
    }
   ],
   "source": [
    "res_data.extract()"
   ]
  },
  {
   "cell_type": "code",
   "execution_count": 10,
   "metadata": {
    "collapsed": false
   },
   "outputs": [
    {
     "data": {
      "text/html": [
       "<div>\n",
       "<table border=\"1\" class=\"dataframe\">\n",
       "  <thead>\n",
       "    <tr style=\"text-align: right;\">\n",
       "      <th></th>\n",
       "      <th>FacilityLatitude</th>\n",
       "      <th>FacilityLongitude</th>\n",
       "      <th>FacilityName</th>\n",
       "      <th>SitesAvailable</th>\n",
       "    </tr>\n",
       "  </thead>\n",
       "  <tbody>\n",
       "    <tr>\n",
       "      <th>0</th>\n",
       "      <td>44.688294</td>\n",
       "      <td>-122.010343</td>\n",
       "      <td>whispering falls campground</td>\n",
       "      <td>2</td>\n",
       "    </tr>\n",
       "    <tr>\n",
       "      <th>1</th>\n",
       "      <td>45.500800</td>\n",
       "      <td>-121.816410</td>\n",
       "      <td>lost lake campground</td>\n",
       "      <td>0</td>\n",
       "    </tr>\n",
       "    <tr>\n",
       "      <th>2</th>\n",
       "      <td>45.073611</td>\n",
       "      <td>-121.956944</td>\n",
       "      <td>lake harriet campground</td>\n",
       "      <td>3</td>\n",
       "    </tr>\n",
       "    <tr>\n",
       "      <th>3</th>\n",
       "      <td>45.179450</td>\n",
       "      <td>-121.696750</td>\n",
       "      <td>clear lake campground</td>\n",
       "      <td>2</td>\n",
       "    </tr>\n",
       "    <tr>\n",
       "      <th>4</th>\n",
       "      <td>45.305236</td>\n",
       "      <td>-121.867275</td>\n",
       "      <td>camp creek campground</td>\n",
       "      <td>8</td>\n",
       "    </tr>\n",
       "    <tr>\n",
       "      <th>5</th>\n",
       "      <td>45.642244</td>\n",
       "      <td>-121.925284</td>\n",
       "      <td>eagle creek campground</td>\n",
       "      <td>5</td>\n",
       "    </tr>\n",
       "  </tbody>\n",
       "</table>\n",
       "</div>"
      ],
      "text/plain": [
       "   FacilityLatitude  FacilityLongitude                 FacilityName  \\\n",
       "0         44.688294        -122.010343  whispering falls campground   \n",
       "1         45.500800        -121.816410         lost lake campground   \n",
       "2         45.073611        -121.956944      lake harriet campground   \n",
       "3         45.179450        -121.696750        clear lake campground   \n",
       "4         45.305236        -121.867275        camp creek campground   \n",
       "5         45.642244        -121.925284       eagle creek campground   \n",
       "\n",
       "  SitesAvailable  \n",
       "0              2  \n",
       "1              0  \n",
       "2              3  \n",
       "3              2  \n",
       "4              8  \n",
       "5              5  "
      ]
     },
     "execution_count": 10,
     "metadata": {},
     "output_type": "execute_result"
    }
   ],
   "source": [
    "res_data.df"
   ]
  },
  {
   "cell_type": "code",
   "execution_count": 11,
   "metadata": {
    "collapsed": true
   },
   "outputs": [],
   "source": [
    "res_data.put()"
   ]
  },
  {
   "cell_type": "code",
   "execution_count": 2,
   "metadata": {
    "collapsed": true
   },
   "outputs": [],
   "source": []
  },
  {
   "cell_type": "code",
   "execution_count": null,
   "metadata": {
    "collapsed": true
   },
   "outputs": [],
   "source": []
  }
 ],
 "metadata": {
  "kernelspec": {
   "display_name": "Python 3",
   "language": "python",
   "name": "python3"
  },
  "language_info": {
   "codemirror_mode": {
    "name": "ipython",
    "version": 3
   },
   "file_extension": ".py",
   "mimetype": "text/x-python",
   "name": "python",
   "nbconvert_exporter": "python",
   "pygments_lexer": "ipython3",
   "version": "3.4.3"
  }
 },
 "nbformat": 4,
 "nbformat_minor": 0
}
