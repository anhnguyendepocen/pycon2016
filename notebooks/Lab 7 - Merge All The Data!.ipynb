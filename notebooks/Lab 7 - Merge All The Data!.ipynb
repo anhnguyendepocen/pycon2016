{
 "cells": [
  {
   "cell_type": "markdown",
   "metadata": {},
   "source": [
    "### Bringing together all of the objects we have created thus far\n",
    "<img src=\"images/battle_for_helms_deep_thecloverlord.deviantart.com.png\" width=70% style=\"display: inline-block\">\n",
    "<br>\n",
    "image source: thecloverlord.deviantart.com\n"
   ]
  },
  {
   "cell_type": "code",
   "execution_count": 1,
   "metadata": {
    "collapsed": false
   },
   "outputs": [],
   "source": [
    "# import the data types\n",
    "from classes.ScraperData import ScraperData\n",
    "from classes.RidbData import RidbData\n",
    "from classes.RidbDataLive import RidbDataLive\n",
    "\n",
    "# import the scrapers\n",
    "from classes.ReservationsScraper import ReservationsScraper\n",
    "from classes.UsfsWebScraper import UsfsWebScraper\n",
    "from classes.UsfsWebScraperLocal import UsfsWebScraperLocal\n",
    "\n",
    "# import the storage\n",
    "from classes.MysqlStorage import MysqlStorage\n",
    "from classes.CsvStorage import CsvStorage\n",
    "\n",
    "import config\n",
    "import pandas as pd\n"
   ]
  },
  {
   "cell_type": "markdown",
   "metadata": {},
   "source": [
    "Setup our storage objects"
   ]
  },
  {
   "cell_type": "code",
   "execution_count": 2,
   "metadata": {
    "collapsed": false
   },
   "outputs": [],
   "source": [
    "mysql_store = MysqlStorage()\n",
    "csv_store = CsvStorage()"
   ]
  },
  {
   "cell_type": "markdown",
   "metadata": {},
   "source": [
    "Setup our camping plans!"
   ]
  },
  {
   "cell_type": "code",
   "execution_count": 3,
   "metadata": {
    "collapsed": false
   },
   "outputs": [],
   "source": [
    "destination_info = dict(Latitude=45.4977712, Longitude=-121.8211673, radius=15)\n",
    "start_date = '06/01/2016'\n",
    "stay_length = 2"
   ]
  },
  {
   "cell_type": "markdown",
   "metadata": {},
   "source": [
    "Setup scraper inputs"
   ]
  },
  {
   "cell_type": "code",
   "execution_count": 4,
   "metadata": {
    "collapsed": true
   },
   "outputs": [],
   "source": [
    "usfs_urls = pd.read_csv('data/usfs_sites.csv')\n",
    "reservation_urls = pd.read_csv('data/reservation_urls.csv')\n",
    "reservation_urls = reservation_urls.assign(start_date=start_date, stay_length=stay_length)"
   ]
  },
  {
   "cell_type": "markdown",
   "metadata": {},
   "source": [
    "Setup objects for our data sources - RIDB API, USFS Websites, recreation.gov reservations"
   ]
  },
  {
   "cell_type": "code",
   "execution_count": 5,
   "metadata": {
    "collapsed": false
   },
   "outputs": [
    {
     "name": "stdout",
     "output_type": "stream",
     "text": [
      "starting display\n"
     ]
    }
   ],
   "source": [
    "ridb_data = RidbData('ridb_merge_lab', \"camping\", destination_info, mysql_store)\n",
    "ridb_data_live = RidbDataLive('ridb_live_merge_lab', \"camping\", destination_info, mysql_store)\n",
    "usfs_data = ScraperData('usfs_merge_lab',usfs_urls,mysql_store,UsfsWebScraper())\n",
    "res_data = ScraperData('res_merge_lab',reservation_urls,mysql_store,ReservationsScraper())"
   ]
  },
  {
   "cell_type": "code",
   "execution_count": 6,
   "metadata": {
    "collapsed": false
   },
   "outputs": [],
   "source": [
    "ridb_data.extract()"
   ]
  },
  {
   "cell_type": "code",
   "execution_count": 7,
   "metadata": {
    "collapsed": false
   },
   "outputs": [
    {
     "data": {
      "text/html": [
       "<div>\n",
       "<table border=\"1\" class=\"dataframe\">\n",
       "  <thead>\n",
       "    <tr style=\"text-align: right;\">\n",
       "      <th></th>\n",
       "      <th>FacilityAdaAccess</th>\n",
       "      <th>FacilityDescription</th>\n",
       "      <th>FacilityDirections</th>\n",
       "      <th>FacilityEmail</th>\n",
       "      <th>FacilityID</th>\n",
       "      <th>FacilityLatitude</th>\n",
       "      <th>FacilityLongitude</th>\n",
       "      <th>FacilityMapURL</th>\n",
       "      <th>FacilityName</th>\n",
       "      <th>FacilityPhone</th>\n",
       "      <th>FacilityReservationURL</th>\n",
       "      <th>FacilityTypeDescription</th>\n",
       "      <th>FacilityUseFeeDescription</th>\n",
       "      <th>Keywords</th>\n",
       "      <th>LastUpdatedDate</th>\n",
       "      <th>LegacyFacilityID</th>\n",
       "      <th>OrgFacilityID</th>\n",
       "      <th>StayLimit</th>\n",
       "    </tr>\n",
       "  </thead>\n",
       "  <tbody>\n",
       "    <tr>\n",
       "      <th>0</th>\n",
       "      <td>NaN</td>\n",
       "      <td>&lt;h2&gt;Overview&lt;/h2&gt;Wildwood  Recreation  Site  i...</td>\n",
       "      <td>Wildwood  Recreation  Site  is  located  39  m...</td>\n",
       "      <td>NaN</td>\n",
       "      <td>234075</td>\n",
       "      <td>45.356111</td>\n",
       "      <td>-121.986667</td>\n",
       "      <td>NaN</td>\n",
       "      <td>WILDWOOD  RECREATION  SITE</td>\n",
       "      <td>503-622-3696</td>\n",
       "      <td>NaN</td>\n",
       "      <td>Camping</td>\n",
       "      <td>NaN</td>\n",
       "      <td>NaN</td>\n",
       "      <td>2016-05-12</td>\n",
       "      <td>74082.0</td>\n",
       "      <td>AN374082</td>\n",
       "      <td>NaN</td>\n",
       "    </tr>\n",
       "    <tr>\n",
       "      <th>1</th>\n",
       "      <td>NaN</td>\n",
       "      <td>&lt;p&gt;This  small  rustic  campground  is  locate...</td>\n",
       "      <td>&lt;p&gt;&lt;u&gt;From  Prineville ,  Oregon&lt;/u&gt;:&lt;/p&gt;&lt;p&gt;Tr...</td>\n",
       "      <td>NaN</td>\n",
       "      <td>236929</td>\n",
       "      <td>44.483882</td>\n",
       "      <td>-120.336554</td>\n",
       "      <td>NaN</td>\n",
       "      <td>Wildwood  Campground</td>\n",
       "      <td>NaN</td>\n",
       "      <td>NaN</td>\n",
       "      <td>NaN</td>\n",
       "      <td>NaN</td>\n",
       "      <td>NaN</td>\n",
       "      <td>2016-05-09</td>\n",
       "      <td>NaN</td>\n",
       "      <td>38780</td>\n",
       "      <td>NaN</td>\n",
       "    </tr>\n",
       "    <tr>\n",
       "      <th>2</th>\n",
       "      <td>NaN</td>\n",
       "      <td>&lt;h2&gt;Overview&lt;/h2&gt;Whispering  Falls  Campground...</td>\n",
       "      <td>8.3  miles  southeast  of  Detroit ,  Oregon: ...</td>\n",
       "      <td>NaN</td>\n",
       "      <td>251470</td>\n",
       "      <td>44.687792</td>\n",
       "      <td>-122.009353</td>\n",
       "      <td>NaN</td>\n",
       "      <td>WHISPERING  FALLS  CAMPGROUND</td>\n",
       "      <td>503-854-3366</td>\n",
       "      <td>NaN</td>\n",
       "      <td>Camping</td>\n",
       "      <td>NaN</td>\n",
       "      <td>NaN</td>\n",
       "      <td>2016-05-12</td>\n",
       "      <td>127540.0</td>\n",
       "      <td>AN427540</td>\n",
       "      <td>NaN</td>\n",
       "    </tr>\n",
       "    <tr>\n",
       "      <th>3</th>\n",
       "      <td>NaN</td>\n",
       "      <td>&lt;p&gt;The  Resort  is  situated  on  the  shores ...</td>\n",
       "      <td>&lt;p&gt;&lt;u&gt;From  Portland ,  OR&lt;/u&gt;  Lost  Lake  Re...</td>\n",
       "      <td>NaN</td>\n",
       "      <td>235897</td>\n",
       "      <td>45.500800</td>\n",
       "      <td>-121.816410</td>\n",
       "      <td>NaN</td>\n",
       "      <td>Lost  Lake  Resort</td>\n",
       "      <td>NaN</td>\n",
       "      <td>NaN</td>\n",
       "      <td>NaN</td>\n",
       "      <td>NaN</td>\n",
       "      <td>NaN</td>\n",
       "      <td>2016-05-09</td>\n",
       "      <td>NaN</td>\n",
       "      <td>53230</td>\n",
       "      <td>NaN</td>\n",
       "    </tr>\n",
       "    <tr>\n",
       "      <th>4</th>\n",
       "      <td>NaN</td>\n",
       "      <td>&lt;p&gt;Lost  Lake  Campground  is  adjacent  to  H...</td>\n",
       "      <td>&lt;p&gt;From  McKenzie  Bridge ,  OR ,  follow  Hig...</td>\n",
       "      <td>NaN</td>\n",
       "      <td>244288</td>\n",
       "      <td>44.429277</td>\n",
       "      <td>-121.912475</td>\n",
       "      <td>NaN</td>\n",
       "      <td>Lost  Lake  Campground</td>\n",
       "      <td>NaN</td>\n",
       "      <td>NaN</td>\n",
       "      <td>NaN</td>\n",
       "      <td>NaN</td>\n",
       "      <td>NaN</td>\n",
       "      <td>2016-05-09</td>\n",
       "      <td>NaN</td>\n",
       "      <td>13362</td>\n",
       "      <td>NaN</td>\n",
       "    </tr>\n",
       "    <tr>\n",
       "      <th>5</th>\n",
       "      <td>NaN</td>\n",
       "      <td>&lt;h2&gt;Overview&lt;/h2&gt;Lost  Lake  Campground  is  c...</td>\n",
       "      <td>Getting  There:&lt;br  /&gt;  Lost  Lake  Resort  &amp;a...</td>\n",
       "      <td>NaN</td>\n",
       "      <td>251434</td>\n",
       "      <td>45.488889</td>\n",
       "      <td>-121.821944</td>\n",
       "      <td>NaN</td>\n",
       "      <td>LOST  LAKE  RESORT  AND  CAMPGROUND</td>\n",
       "      <td>541-386-6366</td>\n",
       "      <td>NaN</td>\n",
       "      <td>Camping</td>\n",
       "      <td>NaN</td>\n",
       "      <td>NaN</td>\n",
       "      <td>2015-10-15</td>\n",
       "      <td>125541.0</td>\n",
       "      <td>AN425541</td>\n",
       "      <td>NaN</td>\n",
       "    </tr>\n",
       "    <tr>\n",
       "      <th>6</th>\n",
       "      <td>True</td>\n",
       "      <td>&lt;h2&gt;Overview&lt;/h2&gt;Lake  Harriet  Campground  si...</td>\n",
       "      <td>From  Estacada ,  Oregon ,  travel  east  on  ...</td>\n",
       "      <td>NaN</td>\n",
       "      <td>232856</td>\n",
       "      <td>45.073611</td>\n",
       "      <td>-121.956944</td>\n",
       "      <td>NaN</td>\n",
       "      <td>LAKE  HARRIET</td>\n",
       "      <td>503-630-6861</td>\n",
       "      <td>NaN</td>\n",
       "      <td>Camping</td>\n",
       "      <td>NaN</td>\n",
       "      <td>NaN</td>\n",
       "      <td>2016-05-12</td>\n",
       "      <td>71641.0</td>\n",
       "      <td>AN371641</td>\n",
       "      <td>NaN</td>\n",
       "    </tr>\n",
       "    <tr>\n",
       "      <th>7</th>\n",
       "      <td>NaN</td>\n",
       "      <td>&lt;p&gt;On  the  southern  edge  of  Laurance  Lake...</td>\n",
       "      <td>Access  via  Forest  Road  2840.</td>\n",
       "      <td>NaN</td>\n",
       "      <td>235894</td>\n",
       "      <td>45.457480</td>\n",
       "      <td>-121.663430</td>\n",
       "      <td>NaN</td>\n",
       "      <td>Kinnikinnick  (Laurance  Lake)  Campground</td>\n",
       "      <td>NaN</td>\n",
       "      <td>NaN</td>\n",
       "      <td>NaN</td>\n",
       "      <td>NaN</td>\n",
       "      <td>NaN</td>\n",
       "      <td>2016-05-09</td>\n",
       "      <td>NaN</td>\n",
       "      <td>53214</td>\n",
       "      <td>NaN</td>\n",
       "    </tr>\n",
       "    <tr>\n",
       "      <th>8</th>\n",
       "      <td>NaN</td>\n",
       "      <td>&lt;p&gt;Fifteen  Mile  Campground ,  is  a  small  ...</td>\n",
       "      <td>&lt;p&gt;From  &lt;u&gt;Dufur ,  OR&lt;/u&gt;  -  take  Forest  ...</td>\n",
       "      <td>NaN</td>\n",
       "      <td>235790</td>\n",
       "      <td>45.350500</td>\n",
       "      <td>-121.472900</td>\n",
       "      <td>NaN</td>\n",
       "      <td>Fifteenmile  Campground</td>\n",
       "      <td>NaN</td>\n",
       "      <td>NaN</td>\n",
       "      <td>NaN</td>\n",
       "      <td>NaN</td>\n",
       "      <td>NaN</td>\n",
       "      <td>2016-05-09</td>\n",
       "      <td>NaN</td>\n",
       "      <td>52812</td>\n",
       "      <td>NaN</td>\n",
       "    </tr>\n",
       "    <tr>\n",
       "      <th>9</th>\n",
       "      <td>NaN</td>\n",
       "      <td>&lt;h2&gt;Overview&lt;/h2&gt;Clear  Lake  Campground  is  ...</td>\n",
       "      <td>From  Sandy ,  travel  east  on  Highway  26  ...</td>\n",
       "      <td>NaN</td>\n",
       "      <td>232849</td>\n",
       "      <td>45.181111</td>\n",
       "      <td>-121.696389</td>\n",
       "      <td>NaN</td>\n",
       "      <td>CLEAR  LAKE  (OR)</td>\n",
       "      <td>541-328-0909</td>\n",
       "      <td>NaN</td>\n",
       "      <td>Camping</td>\n",
       "      <td>NaN</td>\n",
       "      <td>NaN</td>\n",
       "      <td>2016-05-12</td>\n",
       "      <td>71633.0</td>\n",
       "      <td>AN371633</td>\n",
       "      <td>NaN</td>\n",
       "    </tr>\n",
       "    <tr>\n",
       "      <th>10</th>\n",
       "      <td>NaN</td>\n",
       "      <td>&lt;h2&gt;Overview&lt;/h2&gt;Clear  Lake  Cabin  Lookout  ...</td>\n",
       "      <td>Access  begins  at  the  junction  of  Highway...</td>\n",
       "      <td>NaN</td>\n",
       "      <td>234247</td>\n",
       "      <td>45.149444</td>\n",
       "      <td>-121.716111</td>\n",
       "      <td>NaN</td>\n",
       "      <td>CLEAR  LAKE  CABIN  LOOKOUT</td>\n",
       "      <td>541-467-2291</td>\n",
       "      <td>NaN</td>\n",
       "      <td>Camping</td>\n",
       "      <td>NaN</td>\n",
       "      <td>NaN</td>\n",
       "      <td>2016-05-12</td>\n",
       "      <td>75097.0</td>\n",
       "      <td>AN375097</td>\n",
       "      <td>NaN</td>\n",
       "    </tr>\n",
       "    <tr>\n",
       "      <th>12</th>\n",
       "      <td>NaN</td>\n",
       "      <td>&lt;h2&gt;Overview&lt;/h2&gt;The  Camp  Creek  Campground ...</td>\n",
       "      <td>From  Portland ,  travel  east  on  Highway  2...</td>\n",
       "      <td>NaN</td>\n",
       "      <td>232837</td>\n",
       "      <td>45.303056</td>\n",
       "      <td>-121.864722</td>\n",
       "      <td>NaN</td>\n",
       "      <td>CAMP  CREEK</td>\n",
       "      <td>541-328-0909</td>\n",
       "      <td>NaN</td>\n",
       "      <td>Camping</td>\n",
       "      <td>NaN</td>\n",
       "      <td>NaN</td>\n",
       "      <td>2016-05-12</td>\n",
       "      <td>71620.0</td>\n",
       "      <td>AN371620</td>\n",
       "      <td>NaN</td>\n",
       "    </tr>\n",
       "    <tr>\n",
       "      <th>13</th>\n",
       "      <td>NaN</td>\n",
       "      <td>&lt;p&gt;A  pleasantly  small  campground  tucked  a...</td>\n",
       "      <td>&lt;p&gt;From  the  town  of  Prairie  City ,  OR , ...</td>\n",
       "      <td>NaN</td>\n",
       "      <td>243703</td>\n",
       "      <td>44.672516</td>\n",
       "      <td>-118.799600</td>\n",
       "      <td>NaN</td>\n",
       "      <td>Lower  Camp  Creek  Campground</td>\n",
       "      <td>NaN</td>\n",
       "      <td>NaN</td>\n",
       "      <td>NaN</td>\n",
       "      <td>NaN</td>\n",
       "      <td>NaN</td>\n",
       "      <td>2016-05-09</td>\n",
       "      <td>NaN</td>\n",
       "      <td>39962</td>\n",
       "      <td>NaN</td>\n",
       "    </tr>\n",
       "    <tr>\n",
       "      <th>14</th>\n",
       "      <td>NaN</td>\n",
       "      <td>&lt;p&gt;Badger  Lake  Campground  is  adjacent  to ...</td>\n",
       "      <td>&lt;p&gt;From  &lt;u&gt;Tygh  Valley ,  OR  -&lt;/u&gt;  go  abo...</td>\n",
       "      <td>NaN</td>\n",
       "      <td>235781</td>\n",
       "      <td>45.304960</td>\n",
       "      <td>-121.555370</td>\n",
       "      <td>NaN</td>\n",
       "      <td>Badger  Lake  Campground</td>\n",
       "      <td>NaN</td>\n",
       "      <td>NaN</td>\n",
       "      <td>NaN</td>\n",
       "      <td>NaN</td>\n",
       "      <td>NaN</td>\n",
       "      <td>2016-05-09</td>\n",
       "      <td>NaN</td>\n",
       "      <td>52784</td>\n",
       "      <td>NaN</td>\n",
       "    </tr>\n",
       "    <tr>\n",
       "      <th>15</th>\n",
       "      <td>NaN</td>\n",
       "      <td>&lt;p&gt;Eagle  Creek  campground  is  the  first  d...</td>\n",
       "      <td>&lt;p&gt;&lt;strong&gt;From  Portland ,  OR&lt;/strong&gt;:  Tra...</td>\n",
       "      <td>NaN</td>\n",
       "      <td>242417</td>\n",
       "      <td>45.642244</td>\n",
       "      <td>-121.925284</td>\n",
       "      <td>NaN</td>\n",
       "      <td>Eagle  Creek  Campground</td>\n",
       "      <td>NaN</td>\n",
       "      <td>NaN</td>\n",
       "      <td>NaN</td>\n",
       "      <td>NaN</td>\n",
       "      <td>NaN</td>\n",
       "      <td>2016-05-09</td>\n",
       "      <td>NaN</td>\n",
       "      <td>29906</td>\n",
       "      <td>NaN</td>\n",
       "    </tr>\n",
       "  </tbody>\n",
       "</table>\n",
       "</div>"
      ],
      "text/plain": [
       "   FacilityAdaAccess                                FacilityDescription  \\\n",
       "0                NaN  <h2>Overview</h2>Wildwood  Recreation  Site  i...   \n",
       "1                NaN  <p>This  small  rustic  campground  is  locate...   \n",
       "2                NaN  <h2>Overview</h2>Whispering  Falls  Campground...   \n",
       "3                NaN  <p>The  Resort  is  situated  on  the  shores ...   \n",
       "4                NaN  <p>Lost  Lake  Campground  is  adjacent  to  H...   \n",
       "5                NaN  <h2>Overview</h2>Lost  Lake  Campground  is  c...   \n",
       "6               True  <h2>Overview</h2>Lake  Harriet  Campground  si...   \n",
       "7                NaN  <p>On  the  southern  edge  of  Laurance  Lake...   \n",
       "8                NaN  <p>Fifteen  Mile  Campground ,  is  a  small  ...   \n",
       "9                NaN  <h2>Overview</h2>Clear  Lake  Campground  is  ...   \n",
       "10               NaN  <h2>Overview</h2>Clear  Lake  Cabin  Lookout  ...   \n",
       "12               NaN  <h2>Overview</h2>The  Camp  Creek  Campground ...   \n",
       "13               NaN  <p>A  pleasantly  small  campground  tucked  a...   \n",
       "14               NaN  <p>Badger  Lake  Campground  is  adjacent  to ...   \n",
       "15               NaN  <p>Eagle  Creek  campground  is  the  first  d...   \n",
       "\n",
       "                                   FacilityDirections  FacilityEmail  \\\n",
       "0   Wildwood  Recreation  Site  is  located  39  m...            NaN   \n",
       "1   <p><u>From  Prineville ,  Oregon</u>:</p><p>Tr...            NaN   \n",
       "2   8.3  miles  southeast  of  Detroit ,  Oregon: ...            NaN   \n",
       "3   <p><u>From  Portland ,  OR</u>  Lost  Lake  Re...            NaN   \n",
       "4   <p>From  McKenzie  Bridge ,  OR ,  follow  Hig...            NaN   \n",
       "5   Getting  There:<br  />  Lost  Lake  Resort  &a...            NaN   \n",
       "6   From  Estacada ,  Oregon ,  travel  east  on  ...            NaN   \n",
       "7                    Access  via  Forest  Road  2840.            NaN   \n",
       "8   <p>From  <u>Dufur ,  OR</u>  -  take  Forest  ...            NaN   \n",
       "9   From  Sandy ,  travel  east  on  Highway  26  ...            NaN   \n",
       "10  Access  begins  at  the  junction  of  Highway...            NaN   \n",
       "12  From  Portland ,  travel  east  on  Highway  2...            NaN   \n",
       "13  <p>From  the  town  of  Prairie  City ,  OR , ...            NaN   \n",
       "14  <p>From  <u>Tygh  Valley ,  OR  -</u>  go  abo...            NaN   \n",
       "15  <p><strong>From  Portland ,  OR</strong>:  Tra...            NaN   \n",
       "\n",
       "    FacilityID  FacilityLatitude  FacilityLongitude  FacilityMapURL  \\\n",
       "0       234075         45.356111        -121.986667             NaN   \n",
       "1       236929         44.483882        -120.336554             NaN   \n",
       "2       251470         44.687792        -122.009353             NaN   \n",
       "3       235897         45.500800        -121.816410             NaN   \n",
       "4       244288         44.429277        -121.912475             NaN   \n",
       "5       251434         45.488889        -121.821944             NaN   \n",
       "6       232856         45.073611        -121.956944             NaN   \n",
       "7       235894         45.457480        -121.663430             NaN   \n",
       "8       235790         45.350500        -121.472900             NaN   \n",
       "9       232849         45.181111        -121.696389             NaN   \n",
       "10      234247         45.149444        -121.716111             NaN   \n",
       "12      232837         45.303056        -121.864722             NaN   \n",
       "13      243703         44.672516        -118.799600             NaN   \n",
       "14      235781         45.304960        -121.555370             NaN   \n",
       "15      242417         45.642244        -121.925284             NaN   \n",
       "\n",
       "                                  FacilityName FacilityPhone  \\\n",
       "0                   WILDWOOD  RECREATION  SITE  503-622-3696   \n",
       "1                         Wildwood  Campground           NaN   \n",
       "2                WHISPERING  FALLS  CAMPGROUND  503-854-3366   \n",
       "3                           Lost  Lake  Resort           NaN   \n",
       "4                       Lost  Lake  Campground           NaN   \n",
       "5          LOST  LAKE  RESORT  AND  CAMPGROUND  541-386-6366   \n",
       "6                              LAKE  HARRIET    503-630-6861   \n",
       "7   Kinnikinnick  (Laurance  Lake)  Campground           NaN   \n",
       "8                      Fifteenmile  Campground           NaN   \n",
       "9                            CLEAR  LAKE  (OR)  541-328-0909   \n",
       "10                 CLEAR  LAKE  CABIN  LOOKOUT  541-467-2291   \n",
       "12                                 CAMP  CREEK  541-328-0909   \n",
       "13              Lower  Camp  Creek  Campground           NaN   \n",
       "14                    Badger  Lake  Campground           NaN   \n",
       "15                    Eagle  Creek  Campground           NaN   \n",
       "\n",
       "    FacilityReservationURL FacilityTypeDescription  FacilityUseFeeDescription  \\\n",
       "0                      NaN                 Camping                        NaN   \n",
       "1                      NaN                     NaN                        NaN   \n",
       "2                      NaN                 Camping                        NaN   \n",
       "3                      NaN                     NaN                        NaN   \n",
       "4                      NaN                     NaN                        NaN   \n",
       "5                      NaN                 Camping                        NaN   \n",
       "6                      NaN                 Camping                        NaN   \n",
       "7                      NaN                     NaN                        NaN   \n",
       "8                      NaN                     NaN                        NaN   \n",
       "9                      NaN                 Camping                        NaN   \n",
       "10                     NaN                 Camping                        NaN   \n",
       "12                     NaN                 Camping                        NaN   \n",
       "13                     NaN                     NaN                        NaN   \n",
       "14                     NaN                     NaN                        NaN   \n",
       "15                     NaN                     NaN                        NaN   \n",
       "\n",
       "    Keywords LastUpdatedDate  LegacyFacilityID OrgFacilityID  StayLimit  \n",
       "0        NaN      2016-05-12           74082.0      AN374082        NaN  \n",
       "1        NaN      2016-05-09               NaN         38780        NaN  \n",
       "2        NaN      2016-05-12          127540.0      AN427540        NaN  \n",
       "3        NaN      2016-05-09               NaN         53230        NaN  \n",
       "4        NaN      2016-05-09               NaN         13362        NaN  \n",
       "5        NaN      2015-10-15          125541.0      AN425541        NaN  \n",
       "6        NaN      2016-05-12           71641.0      AN371641        NaN  \n",
       "7        NaN      2016-05-09               NaN         53214        NaN  \n",
       "8        NaN      2016-05-09               NaN         52812        NaN  \n",
       "9        NaN      2016-05-12           71633.0      AN371633        NaN  \n",
       "10       NaN      2016-05-12           75097.0      AN375097        NaN  \n",
       "12       NaN      2016-05-12           71620.0      AN371620        NaN  \n",
       "13       NaN      2016-05-09               NaN         39962        NaN  \n",
       "14       NaN      2016-05-09               NaN         52784        NaN  \n",
       "15       NaN      2016-05-09               NaN         29906        NaN  "
      ]
     },
     "execution_count": 7,
     "metadata": {},
     "output_type": "execute_result"
    }
   ],
   "source": [
    "ridb_data.df"
   ]
  },
  {
   "cell_type": "markdown",
   "metadata": {},
   "source": [
    "The order of this list will be used in the merge function to determine merge priority\n",
    "i.e. one_data_list = [res_data, usfs_data,ridb_data] will result in\n",
    "m1 = merge(usfs_data, res_data, how='left')\n",
    "merge_final(ridb_data, how='left;"
   ]
  },
  {
   "cell_type": "code",
   "execution_count": 8,
   "metadata": {
    "collapsed": false
   },
   "outputs": [],
   "source": [
    "one_data_list = [res_data, usfs_data,ridb_data]\n",
    "# live version\n",
    "# one_data_list = [res_data, usfs_data,ridb_hiking_live, ridb_data_live]"
   ]
  },
  {
   "cell_type": "markdown",
   "metadata": {},
   "source": [
    "Extract all the data in one line with this one weird trick!"
   ]
  },
  {
   "cell_type": "code",
   "execution_count": 9,
   "metadata": {
    "collapsed": false
   },
   "outputs": [
    {
     "name": "stdout",
     "output_type": "stream",
     "text": [
      "getting reservation.html\n",
      "setting up web browser\n",
      "browsed to reservation.html\n",
      "browsed to reservation.html\n",
      "browsed to reservation.html\n",
      "browsed to reservation.html\n",
      "browsed to reservation.html\n",
      "browsed to reservation.html\n",
      "closing browser\n"
     ]
    },
    {
     "data": {
      "text/plain": [
       "[None, None, None]"
      ]
     },
     "execution_count": 9,
     "metadata": {},
     "output_type": "execute_result"
    }
   ],
   "source": [
    "list(map(lambda x:x.extract(),one_data_list))"
   ]
  },
  {
   "cell_type": "code",
   "execution_count": 10,
   "metadata": {
    "collapsed": false
   },
   "outputs": [
    {
     "data": {
      "text/plain": [
       "[(6, 4), (9, 10), (15, 18)]"
      ]
     },
     "execution_count": 10,
     "metadata": {},
     "output_type": "execute_result"
    }
   ],
   "source": [
    "list(map(lambda x:x.df.shape,one_data_list))"
   ]
  },
  {
   "cell_type": "markdown",
   "metadata": {
    "collapsed": false
   },
   "source": [
    "Another one-liner! Isnt object oriented programming rad?"
   ]
  },
  {
   "cell_type": "code",
   "execution_count": 11,
   "metadata": {
    "collapsed": false
   },
   "outputs": [
    {
     "data": {
      "text/plain": [
       "['res_merge_lab', 'usfs_merge_lab', 'ridb_merge_lab']"
      ]
     },
     "execution_count": 11,
     "metadata": {},
     "output_type": "execute_result"
    }
   ],
   "source": [
    "list(map(lambda x:x.name,one_data_list))"
   ]
  },
  {
   "cell_type": "markdown",
   "metadata": {},
   "source": [
    "We are ready to merge!"
   ]
  },
  {
   "cell_type": "code",
   "execution_count": 12,
   "metadata": {
    "collapsed": false
   },
   "outputs": [
    {
     "data": {
      "text/plain": [
       "[Index(['FacilityLatitude', 'FacilityLongitude', 'FacilityName',\n",
       "        'SitesAvailable'],\n",
       "       dtype='object'),\n",
       " Index(['CurrentConditions', 'OpenSeason', 'Reservations', 'Restroom', 'Water',\n",
       "        'FacilityElevation', 'FacilityLatitude', 'FacilityLongitude',\n",
       "        'FacilityName', 'FacilityStatus'],\n",
       "       dtype='object'),\n",
       " Index(['FacilityAdaAccess', 'FacilityDescription', 'FacilityDirections',\n",
       "        'FacilityEmail', 'FacilityID', 'FacilityLatitude', 'FacilityLongitude',\n",
       "        'FacilityMapURL', 'FacilityName', 'FacilityPhone',\n",
       "        'FacilityReservationURL', 'FacilityTypeDescription',\n",
       "        'FacilityUseFeeDescription', 'Keywords', 'LastUpdatedDate',\n",
       "        'LegacyFacilityID', 'OrgFacilityID', 'StayLimit'],\n",
       "       dtype='object')]"
      ]
     },
     "execution_count": 12,
     "metadata": {},
     "output_type": "execute_result"
    }
   ],
   "source": [
    "list(map(lambda x:x.df.columns,one_data_list))"
   ]
  },
  {
   "cell_type": "code",
   "execution_count": 13,
   "metadata": {
    "collapsed": false
   },
   "outputs": [],
   "source": [
    "from classes.DistanceMergeData import DistanceMergeData"
   ]
  },
  {
   "cell_type": "code",
   "execution_count": 14,
   "metadata": {
    "collapsed": false
   },
   "outputs": [],
   "source": [
    "merge_data = DistanceMergeData(\"merge_res_usfs\",one_data_list,mysql_store)"
   ]
  },
  {
   "cell_type": "code",
   "execution_count": 15,
   "metadata": {
    "collapsed": true
   },
   "outputs": [],
   "source": [
    "merge_data.extract()"
   ]
  },
  {
   "cell_type": "code",
   "execution_count": 16,
   "metadata": {
    "collapsed": false
   },
   "outputs": [
    {
     "data": {
      "text/plain": [
       "Index(['FacilityAdaAccess', 'FacilityDescription', 'FacilityDirections',\n",
       "       'FacilityEmail', 'FacilityID', 'FacilityLatitude', 'FacilityLongitude',\n",
       "       'FacilityMapURL', 'FacilityName', 'FacilityPhone',\n",
       "       'FacilityReservationURL', 'FacilityTypeDescription',\n",
       "       'FacilityUseFeeDescription', 'Keywords', 'LastUpdatedDate',\n",
       "       'LegacyFacilityID', 'OrgFacilityID', 'StayLimit', 'merge_index',\n",
       "       'CurrentConditions', 'OpenSeason', 'Reservations', 'Restroom', 'Water',\n",
       "       'FacilityElevation', 'FacilityStatus', 'SitesAvailable'],\n",
       "      dtype='object')"
      ]
     },
     "execution_count": 16,
     "metadata": {},
     "output_type": "execute_result"
    }
   ],
   "source": [
    "merge_data.df.columns"
   ]
  },
  {
   "cell_type": "code",
   "execution_count": 17,
   "metadata": {
    "collapsed": false
   },
   "outputs": [],
   "source": [
    "merge_data.put()"
   ]
  },
  {
   "cell_type": "code",
   "execution_count": 18,
   "metadata": {
    "collapsed": false
   },
   "outputs": [
    {
     "data": {
      "text/plain": [
       "'merge_res_usfs'"
      ]
     },
     "execution_count": 18,
     "metadata": {},
     "output_type": "execute_result"
    }
   ],
   "source": [
    "merge_data.name"
   ]
  },
  {
   "cell_type": "code",
   "execution_count": null,
   "metadata": {
    "collapsed": true
   },
   "outputs": [],
   "source": []
  }
 ],
 "metadata": {
  "kernelspec": {
   "display_name": "Python 3",
   "language": "python",
   "name": "python3"
  },
  "language_info": {
   "codemirror_mode": {
    "name": "ipython",
    "version": 3
   },
   "file_extension": ".py",
   "mimetype": "text/x-python",
   "name": "python",
   "nbconvert_exporter": "python",
   "pygments_lexer": "ipython3",
   "version": "3.4.3"
  }
 },
 "nbformat": 4,
 "nbformat_minor": 0
}
