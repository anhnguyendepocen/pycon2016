{
 "cells": [
  {
   "cell_type": "markdown",
   "metadata": {},
   "source": [
    "### Bringing together all of the objects we have created thus far\n",
    "<img src=\"images/battle_for_helms_deep_thecloverlord.deviantart.com.png\" width=70% style=\"display: inline-block\">\n",
    "<br>\n",
    "image source: thecloverlord.deviantart.com\n"
   ]
  },
  {
   "cell_type": "code",
   "execution_count": 1,
   "metadata": {
    "collapsed": false
   },
   "outputs": [],
   "source": [
    "# import the data types\n",
    "from classes.ScraperData import ScraperData\n",
    "from classes.RidbData import RidbData\n",
    "from classes.RidbDataLive import RidbDataLive\n",
    "\n",
    "# import the scrapers\n",
    "from classes.ReservationsScraper import ReservationsScraper\n",
    "from classes.UsfsWebScraper import UsfsWebScraper\n",
    "from classes.UsfsWebScraperLocal import UsfsWebScraperLocal\n",
    "\n",
    "# import the storage\n",
    "from classes.MysqlStorage import MysqlStorage\n",
    "from classes.CsvStorage import CsvStorage\n",
    "\n",
    "import config\n",
    "import pandas as pd\n"
   ]
  },
  {
   "cell_type": "markdown",
   "metadata": {},
   "source": [
    "Setup our storage objects"
   ]
  },
  {
   "cell_type": "code",
   "execution_count": 2,
   "metadata": {
    "collapsed": false
   },
   "outputs": [],
   "source": [
    "mysql_store = MysqlStorage()\n",
    "csv_store = CsvStorage()"
   ]
  },
  {
   "cell_type": "markdown",
   "metadata": {},
   "source": [
    "Setup our camping plans!"
   ]
  },
  {
   "cell_type": "code",
   "execution_count": 3,
   "metadata": {
    "collapsed": false
   },
   "outputs": [],
   "source": [
    "destination_info = dict(Latitude=45.4977712, Longitude=-121.8211673, radius=15)\n",
    "start_date = '06/01/2016'\n",
    "stay_length = 2"
   ]
  },
  {
   "cell_type": "markdown",
   "metadata": {},
   "source": [
    "Setup scraper inputs"
   ]
  },
  {
   "cell_type": "code",
   "execution_count": 4,
   "metadata": {
    "collapsed": true
   },
   "outputs": [],
   "source": [
    "usfs_urls = pd.read_csv('data/usfs_sites.csv')\n",
    "reservation_urls = pd.read_csv('data/reservation_urls.csv')\n",
    "reservation_urls = reservation_urls.assign(start_date=start_date, stay_length=stay_length)"
   ]
  },
  {
   "cell_type": "markdown",
   "metadata": {},
   "source": [
    "Setup objects for our data sources - RIDB API, USFS Websites, recreation.gov reservations"
   ]
  },
  {
   "cell_type": "code",
   "execution_count": 5,
   "metadata": {
    "collapsed": false
   },
   "outputs": [
    {
     "name": "stdout",
     "output_type": "stream",
     "text": [
      "starting display\n"
     ]
    }
   ],
   "source": [
    "ridb_data = RidbData('ridb_merge_lab', \"camping\", destination_info, mysql_store)\n",
    "ridb_data_live = RidbDataLive('ridb_live_merge_lab', \"camping\", destination_info, mysql_store)\n",
    "usfs_data = ScraperData('usfs_merge_lab',usfs_urls,mysql_store,UsfsWebScraper())\n",
    "res_data = ScraperData('res_merge_lab',reservation_urls,mysql_store,ReservationsScraper())"
   ]
  },
  {
   "cell_type": "code",
   "execution_count": 6,
   "metadata": {
    "collapsed": false
   },
   "outputs": [
    {
     "name": "stdout",
     "output_type": "stream",
     "text": [
      "(array([ 0,  1,  1,  2,  2,  2,  3,  3,  3,  3,  3,  4,  4,  4,  4,  4,  5,\n",
      "        5,  5,  5,  5,  5,  6,  6,  6,  6,  6,  6,  6,  7,  7,  7,  7,  7,\n",
      "        7,  7,  7,  8,  8,  8,  8,  8,  8,  8,  8,  8,  9,  9,  9,  9,  9,\n",
      "        9,  9,  9,  9,  9, 10, 10, 10, 10, 10, 10, 10, 10, 10, 10, 10, 11,\n",
      "       11, 11, 11, 11, 11, 11, 11, 11, 11, 11, 11, 12, 12, 12, 12, 12, 12,\n",
      "       12, 12, 12, 12, 12, 12, 12, 13, 13, 13, 13, 13, 13, 13, 13, 13, 13,\n",
      "       13, 13, 13, 13, 14, 14, 14, 14, 14, 14, 14, 14, 14, 14, 14, 14, 14,\n",
      "       14, 14, 14, 15, 15, 15, 15, 15, 15, 15, 15, 15, 15, 15, 15, 15, 15,\n",
      "       15, 15]), array([ 0,  0,  1,  0,  1,  2,  0,  1,  2,  3,  5,  0,  1,  2,  3,  4,  0,\n",
      "        1,  2,  3,  4,  5,  0,  1,  2,  3,  4,  5,  6,  0,  1,  2,  3,  4,\n",
      "        5,  6,  7,  0,  1,  2,  3,  4,  5,  6,  7,  8,  0,  1,  2,  3,  4,\n",
      "        5,  6,  7,  8,  9,  0,  1,  2,  3,  4,  5,  6,  7,  8,  9, 10,  0,\n",
      "        1,  2,  3,  4,  5,  6,  7,  8,  9, 10, 11,  0,  1,  2,  3,  4,  5,\n",
      "        6,  7,  8,  9, 10, 11, 12,  0,  1,  2,  3,  4,  5,  6,  7,  8,  9,\n",
      "       10, 11, 12, 13,  0,  1,  2,  3,  4,  5,  6,  7,  8,  9, 10, 11, 12,\n",
      "       13, 14, 15,  0,  1,  2,  3,  4,  5,  6,  7,  8,  9, 10, 11, 12, 13,\n",
      "       14, 15]))\n",
      "facility names: WILDWOOD  RECREATION  SITE WILDWOOD  RECREATION  SITE\n",
      "same facility, do not delete\n",
      "facility names: Wildwood  Campground WILDWOOD  RECREATION  SITE\n",
      "drop least recent\n",
      "1    Wildwood  Campground\n",
      "Name: FacilityName, dtype: object\n",
      "pair not in array\n",
      "facility names: WHISPERING  FALLS  CAMPGROUND WILDWOOD  RECREATION  SITE\n",
      "drop first\n",
      "WHISPERING  FALLS  CAMPGROUND\n",
      "pair not in array\n",
      "pair not in array\n",
      "facility names: Lost  Lake  Resort WILDWOOD  RECREATION  SITE\n",
      "drop least recent\n",
      "3    Lost  Lake  Resort\n",
      "Name: FacilityName, dtype: object\n",
      "pair not in array\n",
      "pair not in array\n",
      "pair not in array\n",
      "facility names: nan LOST  LAKE  RESORT  AND  CAMPGROUND\n",
      "facility names: Lost  Lake  Campground WILDWOOD  RECREATION  SITE\n",
      "drop least recent\n",
      "4    Lost  Lake  Campground\n",
      "Name: FacilityName, dtype: object\n",
      "pair not in array\n",
      "pair not in array\n",
      "pair not in array\n",
      "pair not in array\n",
      "facility names: LOST  LAKE  RESORT  AND  CAMPGROUND WILDWOOD  RECREATION  SITE\n",
      "drop least recent\n",
      "5    LOST  LAKE  RESORT  AND  CAMPGROUND\n",
      "Name: FacilityName, dtype: object\n",
      "pair not in array\n",
      "pair not in array\n",
      "pair not in array\n",
      "pair not in array\n",
      "pair not in array\n",
      "facility names: LAKE  HARRIET   WILDWOOD  RECREATION  SITE\n",
      "drop first\n",
      "LAKE  HARRIET  \n",
      "pair not in array\n",
      "pair not in array\n",
      "pair not in array\n",
      "pair not in array\n",
      "pair not in array\n",
      "pair not in array\n",
      "facility names: Kinnikinnick  (Laurance  Lake)  Campground WILDWOOD  RECREATION  SITE\n",
      "drop least recent\n",
      "7    Kinnikinnick  (Laurance  Lake)  Campground\n",
      "Name: FacilityName, dtype: object\n",
      "pair not in array\n",
      "pair not in array\n",
      "pair not in array\n",
      "pair not in array\n",
      "pair not in array\n",
      "pair not in array\n",
      "pair not in array\n",
      "facility names: Fifteenmile  Campground WILDWOOD  RECREATION  SITE\n",
      "drop least recent\n",
      "8    Fifteenmile  Campground\n",
      "Name: FacilityName, dtype: object\n",
      "pair not in array\n",
      "pair not in array\n",
      "pair not in array\n",
      "pair not in array\n",
      "pair not in array\n",
      "pair not in array\n",
      "pair not in array\n",
      "pair not in array\n",
      "facility names: CLEAR  LAKE  (OR) WILDWOOD  RECREATION  SITE\n",
      "drop first\n",
      "CLEAR  LAKE  (OR)\n",
      "pair not in array\n",
      "pair not in array\n",
      "pair not in array\n",
      "pair not in array\n",
      "pair not in array\n",
      "pair not in array\n",
      "pair not in array\n",
      "pair not in array\n",
      "pair not in array\n",
      "facility names: CLEAR  LAKE  CABIN  LOOKOUT WILDWOOD  RECREATION  SITE\n",
      "drop first\n",
      "CLEAR  LAKE  CABIN  LOOKOUT\n",
      "pair not in array\n",
      "pair not in array\n",
      "pair not in array\n",
      "pair not in array\n",
      "pair not in array\n",
      "pair not in array\n",
      "pair not in array\n",
      "pair not in array\n",
      "pair not in array\n",
      "pair not in array\n",
      "facility names: nan WILDWOOD  RECREATION  SITE\n",
      "pair not in array\n",
      "pair not in array\n",
      "pair not in array\n",
      "pair not in array\n",
      "pair not in array\n",
      "pair not in array\n",
      "pair not in array\n",
      "pair not in array\n",
      "pair not in array\n",
      "pair not in array\n",
      "pair not in array\n",
      "facility names: CAMP  CREEK WILDWOOD  RECREATION  SITE\n",
      "drop first\n",
      "CAMP  CREEK\n",
      "pair not in array\n",
      "pair not in array\n",
      "pair not in array\n",
      "pair not in array\n",
      "pair not in array\n",
      "pair not in array\n",
      "pair not in array\n",
      "pair not in array\n",
      "pair not in array\n",
      "pair not in array\n",
      "pair not in array\n",
      "pair not in array\n",
      "facility names: Lower  Camp  Creek  Campground WILDWOOD  RECREATION  SITE\n",
      "drop least recent\n",
      "13    Lower  Camp  Creek  Campground\n",
      "Name: FacilityName, dtype: object\n",
      "pair not in array\n",
      "pair not in array\n",
      "pair not in array\n",
      "pair not in array\n",
      "pair not in array\n",
      "pair not in array\n",
      "pair not in array\n",
      "pair not in array\n",
      "pair not in array\n",
      "pair not in array\n",
      "pair not in array\n",
      "pair not in array\n",
      "pair not in array\n",
      "facility names: Badger  Lake  Campground WILDWOOD  RECREATION  SITE\n",
      "drop least recent\n",
      "14    Badger  Lake  Campground\n",
      "Name: FacilityName, dtype: object\n",
      "pair not in array\n",
      "pair not in array\n",
      "pair not in array\n",
      "pair not in array\n",
      "pair not in array\n",
      "pair not in array\n",
      "pair not in array\n",
      "pair not in array\n",
      "pair not in array\n",
      "pair not in array\n",
      "pair not in array\n",
      "pair not in array\n",
      "pair not in array\n",
      "pair not in array\n",
      "facility names: nan Eagle  Creek  Campground\n",
      "facility names: Eagle  Creek  Campground WILDWOOD  RECREATION  SITE\n",
      "drop least recent\n",
      "15    Eagle  Creek  Campground\n",
      "Name: FacilityName, dtype: object\n",
      "pair not in array\n",
      "pair not in array\n",
      "pair not in array\n",
      "pair not in array\n",
      "pair not in array\n",
      "pair not in array\n",
      "pair not in array\n",
      "pair not in array\n",
      "pair not in array\n",
      "pair not in array\n",
      "pair not in array\n",
      "pair not in array\n",
      "pair not in array\n",
      "pair not in array\n",
      "pair not in array\n"
     ]
    }
   ],
   "source": [
    "ridb_data.extract()"
   ]
  },
  {
   "cell_type": "code",
   "execution_count": 8,
   "metadata": {
    "collapsed": false
   },
   "outputs": [
    {
     "data": {
      "text/html": [
       "<div>\n",
       "<table border=\"1\" class=\"dataframe\">\n",
       "  <thead>\n",
       "    <tr style=\"text-align: right;\">\n",
       "      <th></th>\n",
       "      <th>FacilityAdaAccess</th>\n",
       "      <th>FacilityDescription</th>\n",
       "      <th>FacilityDirections</th>\n",
       "      <th>FacilityEmail</th>\n",
       "      <th>FacilityID</th>\n",
       "      <th>FacilityLatitude</th>\n",
       "      <th>FacilityLongitude</th>\n",
       "      <th>FacilityMapURL</th>\n",
       "      <th>FacilityName</th>\n",
       "      <th>FacilityPhone</th>\n",
       "      <th>FacilityReservationURL</th>\n",
       "      <th>FacilityTypeDescription</th>\n",
       "      <th>FacilityUseFeeDescription</th>\n",
       "      <th>Keywords</th>\n",
       "      <th>LastUpdatedDate</th>\n",
       "      <th>LegacyFacilityID</th>\n",
       "      <th>OrgFacilityID</th>\n",
       "      <th>StayLimit</th>\n",
       "    </tr>\n",
       "  </thead>\n",
       "  <tbody>\n",
       "    <tr>\n",
       "      <th>0</th>\n",
       "      <td>NaN</td>\n",
       "      <td>&lt;h2&gt;Overview&lt;/h2&gt;Wildwood  Recreation  Site  i...</td>\n",
       "      <td>Wildwood  Recreation  Site  is  located  39  m...</td>\n",
       "      <td>NaN</td>\n",
       "      <td>234075</td>\n",
       "      <td>45.356111</td>\n",
       "      <td>-121.986667</td>\n",
       "      <td>NaN</td>\n",
       "      <td>WILDWOOD  RECREATION  SITE</td>\n",
       "      <td>503-622-3696</td>\n",
       "      <td>NaN</td>\n",
       "      <td>Camping</td>\n",
       "      <td>NaN</td>\n",
       "      <td>NaN</td>\n",
       "      <td>2016-05-12</td>\n",
       "      <td>74082.0</td>\n",
       "      <td>AN374082</td>\n",
       "      <td>NaN</td>\n",
       "    </tr>\n",
       "    <tr>\n",
       "      <th>16</th>\n",
       "      <td>True</td>\n",
       "      <td>&lt;h2&gt;Overview&lt;/h2&gt;Eagle  Creek  campground  is ...</td>\n",
       "      <td>From  Portland ,  Oregon ,  heading  east  on ...</td>\n",
       "      <td>NaN</td>\n",
       "      <td>250923</td>\n",
       "      <td>45.642222</td>\n",
       "      <td>-121.925278</td>\n",
       "      <td>NaN</td>\n",
       "      <td>EAGLE  CREEK  CAMPGROUND</td>\n",
       "      <td>541-308-1700</td>\n",
       "      <td>NaN</td>\n",
       "      <td>Camping</td>\n",
       "      <td>NaN</td>\n",
       "      <td>NaN</td>\n",
       "      <td>2015-12-03</td>\n",
       "      <td>122890.0</td>\n",
       "      <td>AN422890</td>\n",
       "      <td>NaN</td>\n",
       "    </tr>\n",
       "  </tbody>\n",
       "</table>\n",
       "</div>"
      ],
      "text/plain": [
       "   FacilityAdaAccess                                FacilityDescription  \\\n",
       "0                NaN  <h2>Overview</h2>Wildwood  Recreation  Site  i...   \n",
       "16              True  <h2>Overview</h2>Eagle  Creek  campground  is ...   \n",
       "\n",
       "                                   FacilityDirections  FacilityEmail  \\\n",
       "0   Wildwood  Recreation  Site  is  located  39  m...            NaN   \n",
       "16  From  Portland ,  Oregon ,  heading  east  on ...            NaN   \n",
       "\n",
       "    FacilityID  FacilityLatitude  FacilityLongitude  FacilityMapURL  \\\n",
       "0       234075         45.356111        -121.986667             NaN   \n",
       "16      250923         45.642222        -121.925278             NaN   \n",
       "\n",
       "                  FacilityName FacilityPhone  FacilityReservationURL  \\\n",
       "0   WILDWOOD  RECREATION  SITE  503-622-3696                     NaN   \n",
       "16    EAGLE  CREEK  CAMPGROUND  541-308-1700                     NaN   \n",
       "\n",
       "   FacilityTypeDescription  FacilityUseFeeDescription  Keywords  \\\n",
       "0                  Camping                        NaN       NaN   \n",
       "16                 Camping                        NaN       NaN   \n",
       "\n",
       "   LastUpdatedDate  LegacyFacilityID OrgFacilityID  StayLimit  \n",
       "0       2016-05-12           74082.0      AN374082        NaN  \n",
       "16      2015-12-03          122890.0      AN422890        NaN  "
      ]
     },
     "execution_count": 8,
     "metadata": {},
     "output_type": "execute_result"
    }
   ],
   "source": [
    "ridb_data.df"
   ]
  },
  {
   "cell_type": "markdown",
   "metadata": {},
   "source": [
    "The order of this list will be used in the merge function to determine merge priority\n",
    "i.e. one_data_list = [res_data, usfs_data,ridb_data] will result in\n",
    "m1 = merge(usfs_data, res_data, how='left')\n",
    "merge_final(ridb_data, how='left;"
   ]
  },
  {
   "cell_type": "code",
   "execution_count": null,
   "metadata": {
    "collapsed": false
   },
   "outputs": [],
   "source": [
    "one_data_list = [res_data, usfs_data,ridb_data]\n",
    "# live version\n",
    "# one_data_list = [res_data, usfs_data,ridb_hiking_live, ridb_data_live]"
   ]
  },
  {
   "cell_type": "markdown",
   "metadata": {},
   "source": [
    "Extract all the data in one line with this one weird trick!"
   ]
  },
  {
   "cell_type": "code",
   "execution_count": null,
   "metadata": {
    "collapsed": false
   },
   "outputs": [],
   "source": [
    "list(map(lambda x:x.extract(),one_data_list))"
   ]
  },
  {
   "cell_type": "code",
   "execution_count": null,
   "metadata": {
    "collapsed": false
   },
   "outputs": [],
   "source": [
    "list(map(lambda x:x.df.shape,one_data_list))"
   ]
  },
  {
   "cell_type": "markdown",
   "metadata": {
    "collapsed": false
   },
   "source": [
    "Another one-liner! Isnt object oriented programming rad?"
   ]
  },
  {
   "cell_type": "code",
   "execution_count": null,
   "metadata": {
    "collapsed": false
   },
   "outputs": [],
   "source": [
    "list(map(lambda x:x.name,one_data_list))"
   ]
  },
  {
   "cell_type": "markdown",
   "metadata": {},
   "source": [
    "We are ready to merge!"
   ]
  },
  {
   "cell_type": "code",
   "execution_count": null,
   "metadata": {
    "collapsed": false
   },
   "outputs": [],
   "source": [
    "list(map(lambda x:x.df.columns,one_data_list))"
   ]
  },
  {
   "cell_type": "code",
   "execution_count": null,
   "metadata": {
    "collapsed": false
   },
   "outputs": [],
   "source": [
    "ridb_data.df"
   ]
  },
  {
   "cell_type": "code",
   "execution_count": null,
   "metadata": {
    "collapsed": false
   },
   "outputs": [],
   "source": [
    "from classes.DistanceMergeData import DistanceMergeData"
   ]
  },
  {
   "cell_type": "code",
   "execution_count": null,
   "metadata": {
    "collapsed": false
   },
   "outputs": [],
   "source": [
    "merge_data = DistanceMergeData(\"merge_newcode\",one_data_list,mysql_store)"
   ]
  },
  {
   "cell_type": "code",
   "execution_count": null,
   "metadata": {
    "collapsed": false
   },
   "outputs": [],
   "source": [
    "merge_data.extract()"
   ]
  },
  {
   "cell_type": "code",
   "execution_count": null,
   "metadata": {
    "collapsed": false
   },
   "outputs": [],
   "source": [
    "merge_data.df"
   ]
  },
  {
   "cell_type": "code",
   "execution_count": null,
   "metadata": {
    "collapsed": false
   },
   "outputs": [],
   "source": [
    "merge_data.df.columns"
   ]
  },
  {
   "cell_type": "code",
   "execution_count": null,
   "metadata": {
    "collapsed": false
   },
   "outputs": [],
   "source": [
    "merge_data.put()"
   ]
  },
  {
   "cell_type": "code",
   "execution_count": null,
   "metadata": {
    "collapsed": false
   },
   "outputs": [],
   "source": [
    "merge_data.name"
   ]
  },
  {
   "cell_type": "code",
   "execution_count": null,
   "metadata": {
    "collapsed": true
   },
   "outputs": [],
   "source": []
  }
 ],
 "metadata": {
  "kernelspec": {
   "display_name": "Python 3",
   "language": "python",
   "name": "python3"
  },
  "language_info": {
   "codemirror_mode": {
    "name": "ipython",
    "version": 3
   },
   "file_extension": ".py",
   "mimetype": "text/x-python",
   "name": "python",
   "nbconvert_exporter": "python",
   "pygments_lexer": "ipython3",
   "version": "3.4.3"
  }
 },
 "nbformat": 4,
 "nbformat_minor": 0
}
