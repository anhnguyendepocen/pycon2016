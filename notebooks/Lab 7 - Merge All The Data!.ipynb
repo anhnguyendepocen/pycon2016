{
 "cells": [
  {
   "cell_type": "code",
   "execution_count": 1,
   "metadata": {
    "collapsed": false
   },
   "outputs": [],
   "source": [
    "# import the data types\n",
    "from classes.ScraperData import ScraperData\n",
    "from classes.RidbData import RidbData\n",
    "\n",
    "# import the scrapers\n",
    "from classes.ReservationsScraper import ReservationsScraper\n",
    "from classes.UsfsWebScraper import UsfsWebScraper\n",
    "\n",
    "# import the storage\n",
    "from classes.MysqlStorage import MysqlStorage\n",
    "from classes.CsvStorage import CsvStorage\n",
    "\n",
    "import config\n",
    "import pandas as pd\n"
   ]
  },
  {
   "cell_type": "markdown",
   "metadata": {},
   "source": [
    "Setup our storage objects"
   ]
  },
  {
   "cell_type": "code",
   "execution_count": 2,
   "metadata": {
    "collapsed": true
   },
   "outputs": [],
   "source": [
    "mysql_store = MysqlStorage()\n",
    "csv_store = CsvStorage()"
   ]
  },
  {
   "cell_type": "markdown",
   "metadata": {},
   "source": [
    "Setup our camping plans!"
   ]
  },
  {
   "cell_type": "code",
   "execution_count": 3,
   "metadata": {
    "collapsed": false
   },
   "outputs": [],
   "source": [
    "destination_info = dict(Latitude = config.MTHOOD_LAT, Longitude = config.MTHOOD_LON, radius=5)\n",
    "start_date = '06/01/2016'\n",
    "stay_length = 2"
   ]
  },
  {
   "cell_type": "markdown",
   "metadata": {},
   "source": [
    "Setup scraper inputs"
   ]
  },
  {
   "cell_type": "code",
   "execution_count": 4,
   "metadata": {
    "collapsed": true
   },
   "outputs": [],
   "source": [
    "usfs_urls = pd.read_csv('data/usfs_sites.csv')\n",
    "reservation_urls = pd.read_csv('data/reservation_urls.csv')\n",
    "reservation_urls = reservation_urls.assign(start_date=start_date, stay_length=stay_length)"
   ]
  },
  {
   "cell_type": "markdown",
   "metadata": {},
   "source": [
    "Setup objects for our data sources - RIDB API, USFS Websites, recreation.gov reservations"
   ]
  },
  {
   "cell_type": "code",
   "execution_count": 5,
   "metadata": {
    "collapsed": false
   },
   "outputs": [
    {
     "name": "stdout",
     "output_type": "stream",
     "text": [
      "starting display\n",
      "setting up web browser\n"
     ]
    }
   ],
   "source": [
    "ridb_data = RidbData('ridb_merge_lab', \"camping\", destination_info, mysql_store)\n",
    "usfs_data = ScraperData('usfs_merge_lab',usfs_urls,mysql_store,UsfsWebScraper())\n",
    "res_data = ScraperData('res_merge_lab',reservation_urls,mysql_store,ReservationsScraper())"
   ]
  },
  {
   "cell_type": "markdown",
   "metadata": {},
   "source": [
    "Extract the data!"
   ]
  },
  {
   "cell_type": "code",
   "execution_count": 6,
   "metadata": {
    "collapsed": false
   },
   "outputs": [],
   "source": [
    "ridb_data.extract()\n",
    "usfs_data.extract()\n",
    "res_data.extract()"
   ]
  },
  {
   "cell_type": "code",
   "execution_count": null,
   "metadata": {
    "collapsed": false
   },
   "outputs": [],
   "source": [
    "ridb_data.df.shape"
   ]
  },
  {
   "cell_type": "code",
   "execution_count": null,
   "metadata": {
    "collapsed": false
   },
   "outputs": [],
   "source": [
    "usfs_data.df.shape"
   ]
  },
  {
   "cell_type": "code",
   "execution_count": null,
   "metadata": {
    "collapsed": false
   },
   "outputs": [],
   "source": [
    "res_data.df.shape"
   ]
  },
  {
   "cell_type": "code",
   "execution_count": null,
   "metadata": {
    "collapsed": true
   },
   "outputs": [],
   "source": [
    "ridb_data.put()\n",
    "usfs_data.put()\n",
    "res_data.put()"
   ]
  },
  {
   "cell_type": "markdown",
   "metadata": {},
   "source": [
    "We are ready to merge!"
   ]
  },
  {
   "cell_type": "code",
   "execution_count": null,
   "metadata": {
    "collapsed": false
   },
   "outputs": [],
   "source": [
    "ridb_data.df.columns"
   ]
  },
  {
   "cell_type": "code",
   "execution_count": null,
   "metadata": {
    "collapsed": false
   },
   "outputs": [],
   "source": [
    "usfs_data.df.columns"
   ]
  },
  {
   "cell_type": "code",
   "execution_count": null,
   "metadata": {
    "collapsed": false
   },
   "outputs": [],
   "source": [
    "res_data.df.columns"
   ]
  },
  {
   "cell_type": "code",
   "execution_count": 13,
   "metadata": {
    "collapsed": false
   },
   "outputs": [],
   "source": [
    "from classes.DistanceMergeData import DistanceMergeData"
   ]
  },
  {
   "cell_type": "code",
   "execution_count": 36,
   "metadata": {
    "collapsed": false
   },
   "outputs": [],
   "source": [
    "merge_data = DistanceMergeData(\"merge_res_fs\",[res_data.df, usfs_data.df],mysql_store)"
   ]
  },
  {
   "cell_type": "code",
   "execution_count": 37,
   "metadata": {
    "collapsed": false
   },
   "outputs": [],
   "source": [
    "merge_data.extract()"
   ]
  },
  {
   "cell_type": "code",
   "execution_count": 38,
   "metadata": {
    "collapsed": false
   },
   "outputs": [
    {
     "data": {
      "text/html": [
       "<div>\n",
       "<table border=\"1\" class=\"dataframe\">\n",
       "  <thead>\n",
       "    <tr style=\"text-align: right;\">\n",
       "      <th></th>\n",
       "      <th>CurrentConditions</th>\n",
       "      <th>OpenSeason</th>\n",
       "      <th>Reservations</th>\n",
       "      <th>Restroom</th>\n",
       "      <th>Water</th>\n",
       "      <th>FacilityElevation</th>\n",
       "      <th>FacilityLatitude</th>\n",
       "      <th>FacilityLongitude</th>\n",
       "      <th>FacilityName</th>\n",
       "      <th>FacilityStatus</th>\n",
       "      <th>merge_index</th>\n",
       "      <th>SitesAvailable</th>\n",
       "    </tr>\n",
       "  </thead>\n",
       "  <tbody>\n",
       "    <tr>\n",
       "      <th>0</th>\n",
       "      <td>None</td>\n",
       "      <td>5/20/2016 - 9/11/2016</td>\n",
       "      <td>Reserve online at www.recreation.gov or phone ...</td>\n",
       "      <td>Vault Toilets (3)</td>\n",
       "      <td>Yes</td>\n",
       "      <td>2000 feet</td>\n",
       "      <td>44.68829400202167</td>\n",
       "      <td>-122.0103430470687</td>\n",
       "      <td>whispering falls campground</td>\n",
       "      <td>None</td>\n",
       "      <td>0</td>\n",
       "      <td>6</td>\n",
       "    </tr>\n",
       "    <tr>\n",
       "      <th>1</th>\n",
       "      <td>OPEN</td>\n",
       "      <td>April</td>\n",
       "      <td>This site can be reserved by calling Toll Free...</td>\n",
       "      <td>Vault Toilet (18)</td>\n",
       "      <td>Potable Water</td>\n",
       "      <td>3200</td>\n",
       "      <td>45.50080</td>\n",
       "      <td>-121.81641</td>\n",
       "      <td>lost lake campground</td>\n",
       "      <td>Open</td>\n",
       "      <td>1</td>\n",
       "      <td>0</td>\n",
       "    </tr>\n",
       "    <tr>\n",
       "      <th>2</th>\n",
       "      <td>None</td>\n",
       "      <td>May   2016</td>\n",
       "      <td>This site can be reserved by calling Toll Free...</td>\n",
       "      <td>Vault Toilet</td>\n",
       "      <td>Potable Water</td>\n",
       "      <td>2000</td>\n",
       "      <td>45.073611</td>\n",
       "      <td>-121.956944</td>\n",
       "      <td>lake harriet campground</td>\n",
       "      <td>Open</td>\n",
       "      <td>2</td>\n",
       "      <td>5</td>\n",
       "    </tr>\n",
       "    <tr>\n",
       "      <th>3</th>\n",
       "      <td>OPEN</td>\n",
       "      <td>May</td>\n",
       "      <td>None</td>\n",
       "      <td>Vault Toilet (2)</td>\n",
       "      <td>No</td>\n",
       "      <td>3000</td>\n",
       "      <td>45.45748</td>\n",
       "      <td>-121.66343</td>\n",
       "      <td>kinnikinnick (laurance lake) campground</td>\n",
       "      <td>Open</td>\n",
       "      <td>-9223372036854775808</td>\n",
       "      <td>NaN</td>\n",
       "    </tr>\n",
       "    <tr>\n",
       "      <th>4</th>\n",
       "      <td>No services provided.A  Pack in/Pack out.</td>\n",
       "      <td>06/01</td>\n",
       "      <td>No reservations</td>\n",
       "      <td>Vault Toilet (1)</td>\n",
       "      <td>No</td>\n",
       "      <td>4000</td>\n",
       "      <td>45.3505</td>\n",
       "      <td>-121.4729</td>\n",
       "      <td>fifteenmile campground</td>\n",
       "      <td>Open</td>\n",
       "      <td>-9223372036854775808</td>\n",
       "      <td>NaN</td>\n",
       "    </tr>\n",
       "    <tr>\n",
       "      <th>5</th>\n",
       "      <td>CLOSED</td>\n",
       "      <td>None</td>\n",
       "      <td>This site can be reserved by calling Toll Free...</td>\n",
       "      <td>Vault Toilet</td>\n",
       "      <td>Potable Water</td>\n",
       "      <td>3600</td>\n",
       "      <td>45.17945</td>\n",
       "      <td>-121.69675</td>\n",
       "      <td>clear lake campground</td>\n",
       "      <td>Closed</td>\n",
       "      <td>3</td>\n",
       "      <td>6</td>\n",
       "    </tr>\n",
       "    <tr>\n",
       "      <th>6</th>\n",
       "      <td>None</td>\n",
       "      <td>05/27/2016 - 09/05/2016</td>\n",
       "      <td>This site can be reserved by calling Toll Free...</td>\n",
       "      <td>Vault Toilet</td>\n",
       "      <td>Potable Water</td>\n",
       "      <td>2200</td>\n",
       "      <td>45.305236</td>\n",
       "      <td>-121.867275</td>\n",
       "      <td>camp creek campground</td>\n",
       "      <td>Closed</td>\n",
       "      <td>4</td>\n",
       "      <td>4</td>\n",
       "    </tr>\n",
       "    <tr>\n",
       "      <th>7</th>\n",
       "      <td>Campground not accessible due to snow</td>\n",
       "      <td>June</td>\n",
       "      <td>No reservations</td>\n",
       "      <td>Vault Toilet (1)</td>\n",
       "      <td>No</td>\n",
       "      <td>4400</td>\n",
       "      <td>45.30496</td>\n",
       "      <td>-121.55537</td>\n",
       "      <td>badger lake campground</td>\n",
       "      <td>Open</td>\n",
       "      <td>-9223372036854775808</td>\n",
       "      <td>NaN</td>\n",
       "    </tr>\n",
       "    <tr>\n",
       "      <th>8</th>\n",
       "      <td>Eagle Creek campgroundisA reservable starting ...</td>\n",
       "      <td>May 1 - September 30</td>\n",
       "      <td>Eagle Creek Campground sites can be reserved u...</td>\n",
       "      <td>Flush toilets</td>\n",
       "      <td>Potable water available</td>\n",
       "      <td>200 - 200</td>\n",
       "      <td>45.642244</td>\n",
       "      <td>-121.925284</td>\n",
       "      <td>eagle creek campground</td>\n",
       "      <td>Open</td>\n",
       "      <td>5</td>\n",
       "      <td>2</td>\n",
       "    </tr>\n",
       "  </tbody>\n",
       "</table>\n",
       "</div>"
      ],
      "text/plain": [
       "                                   CurrentConditions               OpenSeason  \\\n",
       "0                                               None    5/20/2016 - 9/11/2016   \n",
       "1                                               OPEN                    April   \n",
       "2                                               None               May   2016   \n",
       "3                                               OPEN                      May   \n",
       "4          No services provided.A  Pack in/Pack out.                    06/01   \n",
       "5                                             CLOSED                     None   \n",
       "6                                               None  05/27/2016 - 09/05/2016   \n",
       "7              Campground not accessible due to snow                     June   \n",
       "8  Eagle Creek campgroundisA reservable starting ...     May 1 - September 30   \n",
       "\n",
       "                                        Reservations           Restroom  \\\n",
       "0  Reserve online at www.recreation.gov or phone ...  Vault Toilets (3)   \n",
       "1  This site can be reserved by calling Toll Free...  Vault Toilet (18)   \n",
       "2  This site can be reserved by calling Toll Free...       Vault Toilet   \n",
       "3                                               None   Vault Toilet (2)   \n",
       "4                                    No reservations   Vault Toilet (1)   \n",
       "5  This site can be reserved by calling Toll Free...       Vault Toilet   \n",
       "6  This site can be reserved by calling Toll Free...       Vault Toilet   \n",
       "7                                    No reservations   Vault Toilet (1)   \n",
       "8  Eagle Creek Campground sites can be reserved u...      Flush toilets   \n",
       "\n",
       "                     Water FacilityElevation   FacilityLatitude  \\\n",
       "0                      Yes         2000 feet  44.68829400202167   \n",
       "1            Potable Water              3200           45.50080   \n",
       "2            Potable Water              2000          45.073611   \n",
       "3                       No              3000           45.45748   \n",
       "4                       No              4000            45.3505   \n",
       "5            Potable Water              3600           45.17945   \n",
       "6            Potable Water              2200          45.305236   \n",
       "7                       No              4400           45.30496   \n",
       "8  Potable water available         200 - 200          45.642244   \n",
       "\n",
       "    FacilityLongitude                             FacilityName FacilityStatus  \\\n",
       "0  -122.0103430470687              whispering falls campground           None   \n",
       "1          -121.81641                     lost lake campground           Open   \n",
       "2         -121.956944                  lake harriet campground           Open   \n",
       "3          -121.66343  kinnikinnick (laurance lake) campground           Open   \n",
       "4           -121.4729                   fifteenmile campground           Open   \n",
       "5          -121.69675                    clear lake campground         Closed   \n",
       "6         -121.867275                    camp creek campground         Closed   \n",
       "7          -121.55537                   badger lake campground           Open   \n",
       "8         -121.925284                   eagle creek campground           Open   \n",
       "\n",
       "           merge_index SitesAvailable  \n",
       "0                    0              6  \n",
       "1                    1              0  \n",
       "2                    2              5  \n",
       "3 -9223372036854775808            NaN  \n",
       "4 -9223372036854775808            NaN  \n",
       "5                    3              6  \n",
       "6                    4              4  \n",
       "7 -9223372036854775808            NaN  \n",
       "8                    5              2  "
      ]
     },
     "execution_count": 38,
     "metadata": {},
     "output_type": "execute_result"
    }
   ],
   "source": [
    "merge_data.df"
   ]
  },
  {
   "cell_type": "code",
   "execution_count": 42,
   "metadata": {
    "collapsed": false
   },
   "outputs": [
    {
     "name": "stdout",
     "output_type": "stream",
     "text": [
      "Storage.put failed\n",
      "(pymysql.err.OperationalError) (2013, 'Lost connection to MySQL server during query') [SQL: 'DESCRIBE `merge_res_fs`']\n"
     ]
    }
   ],
   "source": [
    "merge_data.put()"
   ]
  },
  {
   "cell_type": "code",
   "execution_count": 41,
   "metadata": {
    "collapsed": false
   },
   "outputs": [
    {
     "data": {
      "text/plain": [
       "'merge_res_fs'"
      ]
     },
     "execution_count": 41,
     "metadata": {},
     "output_type": "execute_result"
    }
   ],
   "source": [
    "merge_data.name"
   ]
  },
  {
   "cell_type": "code",
   "execution_count": null,
   "metadata": {
    "collapsed": true
   },
   "outputs": [],
   "source": []
  }
 ],
 "metadata": {
  "kernelspec": {
   "display_name": "Python 3",
   "language": "python",
   "name": "python3"
  },
  "language_info": {
   "codemirror_mode": {
    "name": "ipython",
    "version": 3
   },
   "file_extension": ".py",
   "mimetype": "text/x-python",
   "name": "python",
   "nbconvert_exporter": "python",
   "pygments_lexer": "ipython3",
   "version": "3.4.3"
  }
 },
 "nbformat": 4,
 "nbformat_minor": 0
}
