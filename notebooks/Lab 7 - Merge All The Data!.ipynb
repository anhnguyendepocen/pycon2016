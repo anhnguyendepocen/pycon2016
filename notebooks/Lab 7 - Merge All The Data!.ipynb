{
 "cells": [
  {
   "cell_type": "markdown",
   "metadata": {},
   "source": [
    "### Bringing together all of the objects we have created thus far\n",
    "<img src=\"images/battle_for_helms_deep_thecloverlord.deviantart.com.png\" width=70% style=\"display: inline-block\">\n",
    "<br>\n",
    "image source: thecloverlord.deviantart.com\n"
   ]
  },
  {
   "cell_type": "code",
   "execution_count": 1,
   "metadata": {
    "collapsed": false
   },
   "outputs": [],
   "source": [
    "# import the data types\n",
    "from classes.ScraperData import ScraperData\n",
    "from classes.RidbData import RidbData\n",
    "from classes.RidbDataLive import RidbDataLive\n",
    "\n",
    "# import the scrapers\n",
    "from classes.ReservationsScraper import ReservationsScraper\n",
    "from classes.UsfsWebScraper import UsfsWebScraper\n",
    "from classes.UsfsWebScraperLocal import UsfsWebScraperLocal\n",
    "\n",
    "# import the storage\n",
    "from classes.MysqlStorage import MysqlStorage\n",
    "from classes.CsvStorage import CsvStorage\n",
    "\n",
    "import config\n",
    "import pandas as pd\n"
   ]
  },
  {
   "cell_type": "markdown",
   "metadata": {},
   "source": [
    "Setup our storage objects"
   ]
  },
  {
   "cell_type": "code",
   "execution_count": 2,
   "metadata": {
    "collapsed": false
   },
   "outputs": [],
   "source": [
    "mysql_store = MysqlStorage()\n",
    "csv_store = CsvStorage()"
   ]
  },
  {
   "cell_type": "markdown",
   "metadata": {},
   "source": [
    "Setup our camping plans!"
   ]
  },
  {
   "cell_type": "code",
   "execution_count": 3,
   "metadata": {
    "collapsed": false
   },
   "outputs": [],
   "source": [
    "destination_info = dict(Latitude=45.4977712, Longitude=-121.8211673, radius=15)\n",
    "start_date = '06/01/2016'\n",
    "stay_length = 2"
   ]
  },
  {
   "cell_type": "markdown",
   "metadata": {},
   "source": [
    "Setup scraper inputs"
   ]
  },
  {
   "cell_type": "code",
   "execution_count": 4,
   "metadata": {
    "collapsed": true
   },
   "outputs": [],
   "source": [
    "usfs_urls = pd.read_csv('data/usfs_sites.csv')\n",
    "reservation_urls = pd.read_csv('data/reservation_urls.csv')\n",
    "reservation_urls = reservation_urls.assign(start_date=start_date, stay_length=stay_length)"
   ]
  },
  {
   "cell_type": "markdown",
   "metadata": {},
   "source": [
    "Setup objects for our data sources - RIDB API, USFS Websites, recreation.gov reservations"
   ]
  },
  {
   "cell_type": "code",
   "execution_count": 5,
   "metadata": {
    "collapsed": false
   },
   "outputs": [
    {
     "name": "stdout",
     "output_type": "stream",
     "text": [
      "starting display\n"
     ]
    }
   ],
   "source": [
    "ridb_data = RidbData('ridb_merge_lab', \"camping\", destination_info, mysql_store)\n",
    "ridb_data_live = RidbDataLive('ridb_live_merge_lab', \"camping\", destination_info, mysql_store)\n",
    "usfs_data = ScraperData('usfs_merge_lab',usfs_urls,mysql_store,UsfsWebScraper())\n",
    "res_data = ScraperData('res_merge_lab',reservation_urls,mysql_store,ReservationsScraper())"
   ]
  },
  {
   "cell_type": "markdown",
   "metadata": {},
   "source": [
    "The order of this list will be used in the merge function to determine merge priority\n",
    "i.e. one_data_list = [res_data, usfs_data,ridb_data] will result in\n",
    "m1 = merge(usfs_data, res_data, how='left')\n",
    "merge_final(ridb_data, how='left;"
   ]
  },
  {
   "cell_type": "code",
   "execution_count": 6,
   "metadata": {
    "collapsed": false
   },
   "outputs": [],
   "source": [
    "one_data_list = [res_data, usfs_data,ridb_data]\n",
    "# live version\n",
    "# one_data_list = [res_data, usfs_data,ridb_hiking_live, ridb_data_live]"
   ]
  },
  {
   "cell_type": "markdown",
   "metadata": {},
   "source": [
    "Extract all the data in one line with this one weird trick!"
   ]
  },
  {
   "cell_type": "code",
   "execution_count": 7,
   "metadata": {
    "collapsed": false
   },
   "outputs": [
    {
     "name": "stdout",
     "output_type": "stream",
     "text": [
      "getting reservation.html\n",
      "setting up web browser\n",
      "browsed to reservation.html\n",
      "browsed to reservation.html\n",
      "browsed to reservation.html\n",
      "browsed to reservation.html\n",
      "browsed to reservation.html\n",
      "browsed to reservation.html\n",
      "closing browser\n"
     ]
    },
    {
     "data": {
      "text/plain": [
       "[None, None, None]"
      ]
     },
     "execution_count": 7,
     "metadata": {},
     "output_type": "execute_result"
    }
   ],
   "source": [
    "list(map(lambda x:x.extract(),one_data_list))"
   ]
  },
  {
   "cell_type": "code",
   "execution_count": 8,
   "metadata": {
    "collapsed": false
   },
   "outputs": [
    {
     "data": {
      "text/plain": [
       "[(6, 4), (9, 10), (16, 18)]"
      ]
     },
     "execution_count": 8,
     "metadata": {},
     "output_type": "execute_result"
    }
   ],
   "source": [
    "list(map(lambda x:x.df.shape,one_data_list))"
   ]
  },
  {
   "cell_type": "markdown",
   "metadata": {
    "collapsed": false
   },
   "source": [
    "Another one-liner! Isnt object oriented programming rad?"
   ]
  },
  {
   "cell_type": "code",
   "execution_count": 9,
   "metadata": {
    "collapsed": false
   },
   "outputs": [
    {
     "data": {
      "text/plain": [
       "['res_merge_lab', 'usfs_merge_lab', 'ridb_merge_lab']"
      ]
     },
     "execution_count": 9,
     "metadata": {},
     "output_type": "execute_result"
    }
   ],
   "source": [
    "list(map(lambda x:x.name,one_data_list))"
   ]
  },
  {
   "cell_type": "markdown",
   "metadata": {},
   "source": [
    "We are ready to merge!"
   ]
  },
  {
   "cell_type": "code",
   "execution_count": 10,
   "metadata": {
    "collapsed": false
   },
   "outputs": [
    {
     "data": {
      "text/plain": [
       "[Index(['FacilityLatitude', 'FacilityLongitude', 'FacilityName',\n",
       "        'SitesAvailable'],\n",
       "       dtype='object'),\n",
       " Index(['CurrentConditions', 'OpenSeason', 'Reservations', 'Restroom', 'Water',\n",
       "        'FacilityElevation', 'FacilityLatitude', 'FacilityLongitude',\n",
       "        'FacilityName', 'FacilityStatus'],\n",
       "       dtype='object'),\n",
       " Index(['FacilityAdaAccess', 'FacilityDescription', 'FacilityDirections',\n",
       "        'FacilityEmail', 'FacilityID', 'FacilityLatitude', 'FacilityLongitude',\n",
       "        'FacilityMapURL', 'FacilityName', 'FacilityPhone',\n",
       "        'FacilityReservationURL', 'FacilityTypeDescription',\n",
       "        'FacilityUseFeeDescription', 'Keywords', 'LastUpdatedDate',\n",
       "        'LegacyFacilityID', 'OrgFacilityID', 'StayLimit'],\n",
       "       dtype='object')]"
      ]
     },
     "execution_count": 10,
     "metadata": {},
     "output_type": "execute_result"
    }
   ],
   "source": [
    "list(map(lambda x:x.df.columns,one_data_list))"
   ]
  },
  {
   "cell_type": "code",
   "execution_count": null,
   "metadata": {
    "collapsed": false
   },
   "outputs": [],
   "source": []
  },
  {
   "cell_type": "code",
   "execution_count": 11,
   "metadata": {
    "collapsed": false
   },
   "outputs": [],
   "source": [
    "from classes.DistanceMergeData import DistanceMergeData"
   ]
  },
  {
   "cell_type": "code",
   "execution_count": 12,
   "metadata": {
    "collapsed": false
   },
   "outputs": [
    {
     "name": "stderr",
     "output_type": "stream",
     "text": [
      "ERROR: Line magic function `%autoreload` not found.\n"
     ]
    }
   ],
   "source": [
    "%autoreload\n"
   ]
  },
  {
   "cell_type": "code",
   "execution_count": 25,
   "metadata": {
    "collapsed": false
   },
   "outputs": [
    {
     "data": {
      "text/plain": [
       "[<classes.ScraperData.ScraperData at 0x7f890d019860>,\n",
       " <classes.ScraperData.ScraperData at 0x7f890d0194a8>,\n",
       " <classes.RidbData.RidbData at 0x7f890d019208>]"
      ]
     },
     "execution_count": 25,
     "metadata": {},
     "output_type": "execute_result"
    }
   ],
   "source": [
    "one_data_list[0:3]"
   ]
  },
  {
   "cell_type": "code",
   "execution_count": 26,
   "metadata": {
    "collapsed": false
   },
   "outputs": [],
   "source": [
    "merge_data = DistanceMergeData(\"merge_newcode\",one_data_list[0:2],mysql_store)"
   ]
  },
  {
   "cell_type": "code",
   "execution_count": 27,
   "metadata": {
    "collapsed": false
   },
   "outputs": [],
   "source": [
    "merge_data.extract()"
   ]
  },
  {
   "cell_type": "code",
   "execution_count": 28,
   "metadata": {
    "collapsed": false
   },
   "outputs": [
    {
     "data": {
      "text/plain": [
       "(9, 12)"
      ]
     },
     "execution_count": 28,
     "metadata": {},
     "output_type": "execute_result"
    }
   ],
   "source": [
    "merge_data.df.shape"
   ]
  },
  {
   "cell_type": "code",
   "execution_count": 17,
   "metadata": {
    "collapsed": false
   },
   "outputs": [
    {
     "data": {
      "text/plain": [
       "Index(['CurrentConditions', 'FacilityAdaAccess', 'FacilityDescription',\n",
       "       'FacilityDirections', 'FacilityElevation', 'FacilityEmail',\n",
       "       'FacilityID', 'FacilityLatitude', 'FacilityLongitude', 'FacilityMapURL',\n",
       "       'FacilityName', 'FacilityPhone', 'FacilityReservationURL',\n",
       "       'FacilityStatus', 'FacilityTypeDescription',\n",
       "       'FacilityUseFeeDescription', 'Keywords', 'LastUpdatedDate',\n",
       "       'LegacyFacilityID', 'OpenSeason', 'OrgFacilityID', 'Reservations',\n",
       "       'Restroom', 'SitesAvailable', 'StayLimit', 'Water', 'merge_index'],\n",
       "      dtype='object')"
      ]
     },
     "execution_count": 17,
     "metadata": {},
     "output_type": "execute_result"
    }
   ],
   "source": [
    "merge_data.df.columns"
   ]
  },
  {
   "cell_type": "code",
   "execution_count": null,
   "metadata": {
    "collapsed": false
   },
   "outputs": [],
   "source": [
    "merge_data.put()"
   ]
  },
  {
   "cell_type": "code",
   "execution_count": null,
   "metadata": {
    "collapsed": false
   },
   "outputs": [],
   "source": [
    "merge_data.name"
   ]
  },
  {
   "cell_type": "code",
   "execution_count": null,
   "metadata": {
    "collapsed": true
   },
   "outputs": [],
   "source": [
    "from classes.Pipeline import Pipeline"
   ]
  },
  {
   "cell_type": "code",
   "execution_count": null,
   "metadata": {
    "collapsed": false
   },
   "outputs": [],
   "source": [
    "ridb_data.df.shape"
   ]
  },
  {
   "cell_type": "code",
   "execution_count": null,
   "metadata": {
    "collapsed": false
   },
   "outputs": [],
   "source": [
    "pipe = Pipeline('pipeline', [res_data,usfs_data, ridb_data], DistanceMergeData, mysql_store)"
   ]
  },
  {
   "cell_type": "code",
   "execution_count": null,
   "metadata": {
    "collapsed": false
   },
   "outputs": [],
   "source": [
    "pipe.extract()"
   ]
  },
  {
   "cell_type": "code",
   "execution_count": null,
   "metadata": {
    "collapsed": false
   },
   "outputs": [],
   "source": [
    "pipe.df.columns"
   ]
  },
  {
   "cell_type": "code",
   "execution_count": null,
   "metadata": {
    "collapsed": false
   },
   "outputs": [],
   "source": [
    "%autoreload\n",
    "%aimport classes\n",
    "%aimport"
   ]
  },
  {
   "cell_type": "code",
   "execution_count": null,
   "metadata": {
    "collapsed": false
   },
   "outputs": [],
   "source": [
    "from classes import BokehPlot\n",
    "from bokeh.io import output_notebook\n",
    "from bokeh.plotting import show"
   ]
  },
  {
   "cell_type": "code",
   "execution_count": null,
   "metadata": {
    "collapsed": false
   },
   "outputs": [],
   "source": [
    "output_notebook()"
   ]
  },
  {
   "cell_type": "code",
   "execution_count": null,
   "metadata": {
    "collapsed": true
   },
   "outputs": [],
   "source": [
    "cols_to_display=['FacilityName','SitesAvailable', 'Water','Restroom']"
   ]
  },
  {
   "cell_type": "code",
   "execution_count": null,
   "metadata": {
    "collapsed": false
   },
   "outputs": [],
   "source": [
    "sites_with_availability = pipe.df.dropna(subset=['SitesAvailable'])"
   ]
  },
  {
   "cell_type": "code",
   "execution_count": null,
   "metadata": {
    "collapsed": false
   },
   "outputs": [],
   "source": [
    "p = BokehPlot.create_plot(sites_with_availability, cols_to_display)"
   ]
  },
  {
   "cell_type": "code",
   "execution_count": null,
   "metadata": {
    "collapsed": false
   },
   "outputs": [],
   "source": [
    "show(p)"
   ]
  },
  {
   "cell_type": "code",
   "execution_count": null,
   "metadata": {
    "collapsed": true
   },
   "outputs": [],
   "source": []
  }
 ],
 "metadata": {
  "kernelspec": {
   "display_name": "Python 3",
   "language": "python",
   "name": "python3"
  },
  "language_info": {
   "codemirror_mode": {
    "name": "ipython",
    "version": 3
   },
   "file_extension": ".py",
   "mimetype": "text/x-python",
   "name": "python",
   "nbconvert_exporter": "python",
   "pygments_lexer": "ipython3",
   "version": "3.4.3"
  }
 },
 "nbformat": 4,
 "nbformat_minor": 0
}
