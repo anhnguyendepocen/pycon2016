{
 "cells": [
  {
   "cell_type": "code",
   "execution_count": 69,
   "metadata": {
    "collapsed": false
   },
   "outputs": [],
   "source": [
    "import requests\t\n",
    "from bs4 import BeautifulSoup\n",
    "import re\n",
    "import pandas as pd\n",
    "import os\n",
    "from sqlalchemy import create_engine\n",
    "import config\n",
    "from unidecode import unidecode\n",
    "from camping import camping_data\n",
    "from camping import storage\n",
    "import datetime"
   ]
  },
  {
   "cell_type": "code",
   "execution_count": 7,
   "metadata": {
    "collapsed": false
   },
   "outputs": [],
   "source": [
    "campgrounds = pd.read_csv('../data/usfs_sites.csv')"
   ]
  },
  {
   "cell_type": "code",
   "execution_count": 13,
   "metadata": {
    "collapsed": false
   },
   "outputs": [],
   "source": [
    "store = storage.Storage()"
   ]
  },
  {
   "cell_type": "code",
   "execution_count": 27,
   "metadata": {
    "collapsed": false
   },
   "outputs": [],
   "source": [
    "\n",
    "def extract_cg_info(campgrounds) :\n",
    "    df_cg = pd.DataFrame()\n",
    "    for index, campground in campgrounds.iterrows():\n",
    "        latitude = longitude = elevation = site_id = numsites = conditions = \"\"\n",
    "        fees = openseason = usage = water = restroom = status = \"\"\n",
    "        site_url = \"http://\" + config.LAMP_IP + \"/\" + campground['url']\n",
    "        print(campground['facilityname'] + '\\t' + site_url)\n",
    "        try :\n",
    "            cg_req = requests.get(site_url)\n",
    "            cg_soup = BeautifulSoup(cg_req.text, 'lxml')\n",
    "        except Exception as ex :\n",
    "            print('couldnt get site_url ' + site_url)\n",
    "            print(ex)\n",
    "            continue\n",
    "\n",
    "        # get area status if available\n",
    "        try :\n",
    "            for strong_tag in cg_soup.find_all('strong'):\n",
    "                if ('Area Status' in unidecode(strong_tag.text)):\n",
    "                    status = unidecode(strong_tag.next_sibling).strip()\n",
    "        except Exception:\n",
    "            print('couldnt get area status')\n",
    "\n",
    "\n",
    "        print(\"getting location\")\n",
    "        # get lat, long, altitude\n",
    "        try :\n",
    "            lat = cg_soup.find_all('div', text=re.compile('Latitude'))\n",
    "            div = [row.next_sibling.next_sibling for row in lat]\n",
    "            latitude  = div[0].text.strip()\n",
    "\n",
    "            lng = cg_soup.find_all('div', text=re.compile('Longitude'))\n",
    "            div = [row.next_sibling.next_sibling for row in lng]\n",
    "            longitude  = div[0].text.strip()\n",
    "\n",
    "            el = cg_soup.find_all('div', text=re.compile('Elevation'))\n",
    "            div = [row.next_sibling.next_sibling for row in el]\n",
    "            elevation  = div[0].text.strip()\n",
    "\n",
    "            # get site usage, type, num sites, site info\n",
    "\n",
    "        except Exception:\n",
    "            print('couldnt get location info')\n",
    "\n",
    "        # table[0] is the basic info table\n",
    "\n",
    "        try :\n",
    "            tables = cg_soup.find_all('div', {'class': 'tablecolor'})\n",
    "        except Exception:\n",
    "            print('couldnt get tables')\n",
    "\n",
    "        try :\n",
    "            print(len(tables))\n",
    "            rows = tables[0].find_all('tr')\n",
    "            for row in rows:\n",
    "                \n",
    "                if row.th.text == 'Reservations:':\n",
    "                    reservations = unidecode(row.td.text).strip()\n",
    "                if row.th.text == 'Open Season:':\n",
    "                    openseason = unidecode(row.td.text).strip()\n",
    "                if row.th.text == 'Current Conditions:':\n",
    "                    print(unidecode(row.td.text))\n",
    "                    conditions = unidecode(row.td.text).strip()\n",
    "                if row.th.text == 'Water:':\n",
    "                    water = unidecode(row.td.text).strip()\n",
    "                if row.th.text == 'Restroom:':\n",
    "                    restroom = unidecode(row.td.text).strip()\n",
    "        except Exception as ex:\n",
    "            print('couldnt get basic campground info')\n",
    "            print(ex)\n",
    "\n",
    "        # table 1 is the campground info\n",
    "        try:\n",
    "            rows = tables[1].find_all('tr')\n",
    "\n",
    "            for row in rows:\n",
    "                if row.td.text == 'Reservation Info':\n",
    "                    reserveinfo = unidecode(row.td.next_sibling.text).strip()\n",
    "                if row.td.text == 'No. of Sites':\n",
    "                    numsites = unidecode(row.td.next_sibling.text).strip()\n",
    "        except Exception:\n",
    "            print('couldnt get campsite availability info')\n",
    "        \n",
    "        # assemble into DataFrame\n",
    "        df_cg = df_cg.append(pd.DataFrame ({\n",
    "            'latitude': [latitude],\n",
    "            'longitude': [longitude],\n",
    "            'elevation': [elevation],\n",
    "            'facilityname' : [campground['facilityname']],\n",
    "            'facilityurl' : [site_url],\n",
    "            'status' : [status],\n",
    "            'water' : [water],\n",
    "            'restroom' : [restroom],\n",
    "            'reservations': [reservations],\n",
    "            'conditions': [conditions],\n",
    "            'numsites': [numsites]\n",
    "            }))\n",
    "    return df_cg"
   ]
  },
  {
   "cell_type": "code",
   "execution_count": 40,
   "metadata": {
    "collapsed": false
   },
   "outputs": [
    {
     "name": "stdout",
     "output_type": "stream",
     "text": [
      "whispering falls campground\thttp://172.17.0.3/Willamette National Forest - Whispering Falls Campground.html\n",
      "getting location\n",
      "5\n",
      "lost lake campground\thttp://172.17.0.3/Mt. Hood National Forest - Lost Lake Campground.html\n",
      "getting location\n",
      "10\n",
      "OPEN \n",
      "lake harriet campground\thttp://172.17.0.3/Mt. Hood National Forest - Lake Harriet Campground_Day Use.html\n",
      "getting location\n",
      "2\n",
      "kinnikinnick (laurance lake) campground\thttp://172.17.0.3/Mt. Hood National Forest - Kinnikinnick (Laurance Lake) Campground.html\n",
      "getting location\n",
      "9\n",
      "OPEN \n",
      "fifteenmile campground\thttp://172.17.0.3/Mt. Hood National Forest - Fifteenmile Campground.html\n",
      "getting location\n",
      "5\n",
      "No services provided.A  Pack in/Pack out. \n",
      "clear lake campground\thttp://172.17.0.3/Mt. Hood National Forest - Clear Lake Campground.html\n",
      "getting location\n",
      "8\n",
      "CLOSED \n",
      "camp creek campground\thttp://172.17.0.3/Mt. Hood National Forest - Camp Creek Campground.html\n",
      "getting location\n",
      "5\n",
      "badger lake campground\thttp://172.17.0.3/Mt. Hood National Forest - Badger Lake Campground.html\n",
      "getting location\n",
      "9\n",
      "Campground not accessible due to snow \n",
      "eagle creek campground\thttp://172.17.0.3/Columbia River Gorge National Scenic Area - Eagle Creek Campground.html\n",
      "getting location\n",
      "6\n",
      "Eagle Creek campgroundisA reservable starting December 1, 2015A for the 2016 seasonA at recreation.gov.A  Reservations can be made up to six months in advance.  Reservations must be made at least 48 hours in advance of planned stay.\n"
     ]
    }
   ],
   "source": [
    "usfs_data = extract_cg_info(campgrounds)"
   ]
  },
  {
   "cell_type": "code",
   "execution_count": 41,
   "metadata": {
    "collapsed": false
   },
   "outputs": [
    {
     "data": {
      "text/plain": [
       "(9, 11)"
      ]
     },
     "execution_count": 41,
     "metadata": {},
     "output_type": "execute_result"
    }
   ],
   "source": [
    "usfs_data.shape\n"
   ]
  },
  {
   "cell_type": "code",
   "execution_count": 52,
   "metadata": {
    "collapsed": false
   },
   "outputs": [
    {
     "data": {
      "text/plain": [
       "0                whispering falls campground\n",
       "0                       lost lake campground\n",
       "0                    lake harriet campground\n",
       "0    kinnikinnick (laurance lake) campground\n",
       "0                     fifteenmile campground\n",
       "0                      clear lake campground\n",
       "0                      camp creek campground\n",
       "0                     badger lake campground\n",
       "0                     eagle creek campground\n",
       "Name: facilityname, dtype: object"
      ]
     },
     "execution_count": 52,
     "metadata": {},
     "output_type": "execute_result"
    }
   ],
   "source": [
    "usfs_data.facilityname"
   ]
  },
  {
   "cell_type": "code",
   "execution_count": 31,
   "metadata": {
    "collapsed": true
   },
   "outputs": [],
   "source": [
    "ridb_cleaned = store.get(\"select * from ridb_cleaned\")"
   ]
  },
  {
   "cell_type": "code",
   "execution_count": 53,
   "metadata": {
    "collapsed": false
   },
   "outputs": [
    {
     "data": {
      "text/plain": [
       "0                 whispering falls campground\n",
       "1                                lake harriet\n",
       "2     kinnikinnick (laurance lake) campground\n",
       "3                      fifteenmile campground\n",
       "4                                  camp creek\n",
       "5                 lower camp creek campground\n",
       "6                      badger lake campground\n",
       "7                             clear lake (or)\n",
       "8                    clear lake cabin lookout\n",
       "9                      eagle creek campground\n",
       "10                     eagle creek campground\n",
       "11                           lost lake resort\n",
       "12                       lost lake campground\n",
       "13            lost lake resort and campground\n",
       "14                   wildwood recreation site\n",
       "15                        wildwood campground\n",
       "Name: FacilityName, dtype: object"
      ]
     },
     "execution_count": 53,
     "metadata": {},
     "output_type": "execute_result"
    }
   ],
   "source": [
    "ridb_cleaned.FacilityName"
   ]
  },
  {
   "cell_type": "code",
   "execution_count": 57,
   "metadata": {
    "collapsed": false
   },
   "outputs": [],
   "source": [
    "usfs_data = usfs_data.assign(first_two=usfs_data.facilityname.str.lower().str.split(' ').apply(lambda x: ' '.join([x[0],x[1]])))"
   ]
  },
  {
   "cell_type": "code",
   "execution_count": 58,
   "metadata": {
    "collapsed": false
   },
   "outputs": [
    {
     "data": {
      "text/plain": [
       "0          whispering falls\n",
       "0                 lost lake\n",
       "0              lake harriet\n",
       "0    kinnikinnick (laurance\n",
       "0    fifteenmile campground\n",
       "0                clear lake\n",
       "0                camp creek\n",
       "0               badger lake\n",
       "0               eagle creek\n",
       "Name: first_two, dtype: object"
      ]
     },
     "execution_count": 58,
     "metadata": {},
     "output_type": "execute_result"
    }
   ],
   "source": [
    "usfs_data.first_two"
   ]
  },
  {
   "cell_type": "code",
   "execution_count": 60,
   "metadata": {
    "collapsed": false
   },
   "outputs": [],
   "source": [
    "ridb_cleaned = ridb_cleaned.assign(first_two=ridb_cleaned.FacilityName.str.lower().str.split(' ').apply(lambda x: ' '.join([x[0],x[1]])))"
   ]
  },
  {
   "cell_type": "code",
   "execution_count": 111,
   "metadata": {
    "collapsed": false
   },
   "outputs": [
    {
     "data": {
      "text/plain": [
       "Timestamp('2016-05-12 00:00:00')"
      ]
     },
     "execution_count": 111,
     "metadata": {},
     "output_type": "execute_result"
    }
   ],
   "source": [
    "pd.to_datetime(ridb_cleaned.iloc[0]['LastUpdatedDate'])"
   ]
  },
  {
   "cell_type": "code",
   "execution_count": 115,
   "metadata": {
    "collapsed": false
   },
   "outputs": [
    {
     "data": {
      "text/plain": [
       "Timestamp('2015-10-15 00:00:00')"
      ]
     },
     "execution_count": 115,
     "metadata": {},
     "output_type": "execute_result"
    }
   ],
   "source": [
    "test = ridb_cleaned.assign(convert = lambda x: pd.to_datetime(x['LastUpdatedDate']))\n",
    "min(test.convert)"
   ]
  },
  {
   "cell_type": "code",
   "execution_count": 120,
   "metadata": {
    "collapsed": false
   },
   "outputs": [],
   "source": [
    "ridb_grouped = ridb_cleaned.groupby('first_two')"
   ]
  },
  {
   "cell_type": "code",
   "execution_count": 137,
   "metadata": {
    "collapsed": false
   },
   "outputs": [],
   "source": [
    "deduped = pd.DataFrame()\n",
    "for name,group in ridb_grouped:\n",
    "    # return most recently updated entry in duplicate groups\n",
    "   # print(group[['FacilityName','LastUpdatedDate']])\n",
    "   # print(max(pd.to_datetime(group['LastUpdatedDate'])))\n",
    "   deduped = deduped.append(group.groupby(pd.to_datetime(group['LastUpdatedDate'])).first())"
   ]
  },
  {
   "cell_type": "code",
   "execution_count": 143,
   "metadata": {
    "collapsed": false
   },
   "outputs": [
    {
     "data": {
      "text/plain": [
       "LastUpdatedDate\n",
       "2016-05-09                     badger lake campground\n",
       "2016-05-12                                 camp creek\n",
       "2016-05-12                            clear lake (or)\n",
       "2015-12-03                     eagle creek campground\n",
       "2016-05-09                     eagle creek campground\n",
       "2016-05-09                     fifteenmile campground\n",
       "2016-05-09    kinnikinnick (laurance lake) campground\n",
       "2016-05-12                               lake harriet\n",
       "2015-10-15            lost lake resort and campground\n",
       "2016-05-09                           lost lake resort\n",
       "2016-05-09                lower camp creek campground\n",
       "2016-05-12                whispering falls campground\n",
       "2016-05-09                        wildwood campground\n",
       "2016-05-12                   wildwood recreation site\n",
       "Name: FacilityName, dtype: object"
      ]
     },
     "execution_count": 143,
     "metadata": {},
     "output_type": "execute_result"
    }
   ],
   "source": [
    "deduped.FacilityName"
   ]
  },
  {
   "cell_type": "code",
   "execution_count": 142,
   "metadata": {
    "collapsed": false
   },
   "outputs": [
    {
     "data": {
      "text/plain": [
       "Index(['index', 'FacilityAdaAccess', 'FacilityDescription',\n",
       "       'FacilityDirections', 'FacilityEmail', 'FacilityID', 'FacilityLatitude',\n",
       "       'FacilityLongitude', 'FacilityMapURL', 'FacilityName', 'FacilityPhone',\n",
       "       'FacilityReservationURL', 'FacilityTypeDescription',\n",
       "       'FacilityUseFeeDescription', 'Keywords', 'LastUpdatedDate',\n",
       "       'LegacyFacilityID', 'OrgFacilityID', 'StayLimit', 'distance_miles',\n",
       "       'distance_ref', 'duplicated', 'first_word', 'first_two',\n",
       "       'datetime_last_updated'],\n",
       "      dtype='object')"
      ]
     },
     "execution_count": 142,
     "metadata": {},
     "output_type": "execute_result"
    }
   ],
   "source": []
  },
  {
   "cell_type": "code",
   "execution_count": null,
   "metadata": {
    "collapsed": true
   },
   "outputs": [],
   "source": []
  }
 ],
 "metadata": {
  "kernelspec": {
   "display_name": "Python 3",
   "language": "python",
   "name": "python3"
  },
  "language_info": {
   "codemirror_mode": {
    "name": "ipython",
    "version": 3
   },
   "file_extension": ".py",
   "mimetype": "text/x-python",
   "name": "python",
   "nbconvert_exporter": "python",
   "pygments_lexer": "ipython3",
   "version": "3.4.3"
  }
 },
 "nbformat": 4,
 "nbformat_minor": 0
}
