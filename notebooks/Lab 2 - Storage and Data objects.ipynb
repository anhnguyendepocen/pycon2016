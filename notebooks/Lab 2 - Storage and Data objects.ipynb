{
 "cells": [
  {
   "cell_type": "markdown",
   "metadata": {},
   "source": [
    "### Objects for storage and data\n",
    "#### How can the steps from Lab 1 be simplified and consolidated ?"
   ]
  },
  {
   "cell_type": "code",
   "execution_count": 1,
   "metadata": {
    "collapsed": false
   },
   "outputs": [],
   "source": [
    "from classes.Storage import Storage\n",
    "from classes.MysqlStorage import MysqlStorage\n",
    "from classes.CsvStorage import CsvStorage\n",
    "import config\n",
    "import inspect"
   ]
  },
  {
   "cell_type": "markdown",
   "metadata": {},
   "source": [
    "### Encapsulating data storage processes"
   ]
  },
  {
   "cell_type": "markdown",
   "metadata": {},
   "source": [
    "What are the proceses typically used around storing data?"
   ]
  },
  {
   "cell_type": "code",
   "execution_count": null,
   "metadata": {
    "collapsed": false
   },
   "outputs": [],
   "source": [
    "print(inspect.getsource(Storage))"
   ]
  },
  {
   "cell_type": "code",
   "execution_count": null,
   "metadata": {
    "collapsed": false
   },
   "outputs": [],
   "source": [
    "print(inspect.getsource(CsvStorage))"
   ]
  },
  {
   "cell_type": "code",
   "execution_count": null,
   "metadata": {
    "collapsed": false
   },
   "outputs": [],
   "source": [
    "print(inspect.getsource(MysqlStorage))"
   ]
  },
  {
   "cell_type": "markdown",
   "metadata": {},
   "source": [
    "Notice that both Storage implementations:\n",
    "    1. Overwrite existing data\n",
    "    2. get/put an entire tables/dataframes"
   ]
  },
  {
   "cell_type": "code",
   "execution_count": 2,
   "metadata": {
    "collapsed": false
   },
   "outputs": [],
   "source": [
    "store_mysql = MysqlStorage()"
   ]
  },
  {
   "cell_type": "code",
   "execution_count": null,
   "metadata": {
    "collapsed": false
   },
   "outputs": [],
   "source": [
    "sql_test = store_mysql.get('test')"
   ]
  },
  {
   "cell_type": "code",
   "execution_count": null,
   "metadata": {
    "collapsed": false
   },
   "outputs": [],
   "source": [
    "sql_test.head()"
   ]
  },
  {
   "cell_type": "code",
   "execution_count": null,
   "metadata": {
    "collapsed": false
   },
   "outputs": [],
   "source": [
    "store_csv = CsvStorage()"
   ]
  },
  {
   "cell_type": "code",
   "execution_count": null,
   "metadata": {
    "collapsed": false
   },
   "outputs": [],
   "source": [
    "store_csv.name"
   ]
  },
  {
   "cell_type": "code",
   "execution_count": null,
   "metadata": {
    "collapsed": false
   },
   "outputs": [],
   "source": [
    "csv_test = store_csv.get('test')\n",
    "csv_test.head()"
   ]
  },
  {
   "cell_type": "markdown",
   "metadata": {},
   "source": [
    "### Encapsulating the data extraction process"
   ]
  },
  {
   "cell_type": "code",
   "execution_count": 3,
   "metadata": {
    "collapsed": false
   },
   "outputs": [],
   "source": [
    "from classes.Data import Data\n",
    "from classes.RidbData import RidbData"
   ]
  },
  {
   "cell_type": "code",
   "execution_count": null,
   "metadata": {
    "collapsed": false
   },
   "outputs": [],
   "source": [
    "print(inspect.getsource(Data))"
   ]
  },
  {
   "cell_type": "markdown",
   "metadata": {},
   "source": [
    "Recall from Lab 1:"
   ]
  },
  {
   "cell_type": "code",
   "execution_count": null,
   "metadata": {
    "collapsed": true
   },
   "outputs": [],
   "source": [
    "ridb_facilities_url = config.RIDB_ENDPOINT + \"/facilities\"\n",
    "camping_params = params=dict(activity_id=9, state='OR', apiKey = config.RIDB_API_KEY,\\\n",
    "                             latitude=45.3300, longitude=-121.7089, radius=5)\n",
    "response = requests.get(ridb_facilities_url,camping_params)"
   ]
  },
  {
   "cell_type": "code",
   "execution_count": null,
   "metadata": {
    "collapsed": false
   },
   "outputs": [],
   "source": [
    "print(inspect.getsource(RidbData))"
   ]
  },
  {
   "cell_type": "code",
   "execution_count": 4,
   "metadata": {
    "collapsed": false
   },
   "outputs": [],
   "source": [
    "mthood_params = dict(latitude=config.MTHOOD_LAT, longitude=config.MTHOOD_LON, radius=5)\n",
    "ridb_camping = RidbData(\"mthood_camping\", \"camping\", mthood_params, store_mysql)"
   ]
  },
  {
   "cell_type": "code",
   "execution_count": 5,
   "metadata": {
    "collapsed": false
   },
   "outputs": [
    {
     "data": {
      "text/html": [
       "<div>\n",
       "<table border=\"1\" class=\"dataframe\">\n",
       "  <thead>\n",
       "    <tr style=\"text-align: right;\">\n",
       "      <th></th>\n",
       "    </tr>\n",
       "  </thead>\n",
       "  <tbody>\n",
       "  </tbody>\n",
       "</table>\n",
       "</div>"
      ],
      "text/plain": [
       "Empty DataFrame\n",
       "Columns: []\n",
       "Index: []"
      ]
     },
     "execution_count": 5,
     "metadata": {},
     "output_type": "execute_result"
    }
   ],
   "source": [
    "ridb_camping.df"
   ]
  },
  {
   "cell_type": "code",
   "execution_count": 6,
   "metadata": {
    "collapsed": false
   },
   "outputs": [],
   "source": [
    "ridb_camping.extract()"
   ]
  },
  {
   "cell_type": "code",
   "execution_count": 7,
   "metadata": {
    "collapsed": false
   },
   "outputs": [
    {
     "data": {
      "text/html": [
       "<div>\n",
       "<table border=\"1\" class=\"dataframe\">\n",
       "  <thead>\n",
       "    <tr style=\"text-align: right;\">\n",
       "      <th></th>\n",
       "      <th>FacilityAdaAccess</th>\n",
       "      <th>FacilityDescription</th>\n",
       "      <th>FacilityDirections</th>\n",
       "      <th>FacilityEmail</th>\n",
       "      <th>FacilityID</th>\n",
       "      <th>FacilityLatitude</th>\n",
       "      <th>FacilityLongitude</th>\n",
       "      <th>FacilityMapURL</th>\n",
       "      <th>FacilityName</th>\n",
       "      <th>FacilityPhone</th>\n",
       "      <th>FacilityReservationURL</th>\n",
       "      <th>FacilityTypeDescription</th>\n",
       "      <th>FacilityUseFeeDescription</th>\n",
       "      <th>Keywords</th>\n",
       "      <th>LastUpdatedDate</th>\n",
       "      <th>LegacyFacilityID</th>\n",
       "      <th>OrgFacilityID</th>\n",
       "      <th>StayLimit</th>\n",
       "    </tr>\n",
       "  </thead>\n",
       "  <tbody>\n",
       "    <tr>\n",
       "      <th>0</th>\n",
       "      <td>NaN</td>\n",
       "      <td>&lt;h2&gt;Overview&lt;/h2&gt;Trillium Lake Campground is a...</td>\n",
       "      <td>From Portland, travel southeast on Highway 26 ...</td>\n",
       "      <td>NaN</td>\n",
       "      <td>232831</td>\n",
       "      <td>45.270000</td>\n",
       "      <td>-121.734444</td>\n",
       "      <td>NaN</td>\n",
       "      <td>TRILLIUM</td>\n",
       "      <td>503-272-3220</td>\n",
       "      <td>NaN</td>\n",
       "      <td>Camping</td>\n",
       "      <td>NaN</td>\n",
       "      <td>NaN</td>\n",
       "      <td>2016-05-26</td>\n",
       "      <td>71614.0</td>\n",
       "      <td>AN371614</td>\n",
       "      <td>NaN</td>\n",
       "    </tr>\n",
       "    <tr>\n",
       "      <th>1</th>\n",
       "      <td>NaN</td>\n",
       "      <td>&lt;h2&gt;Overview&lt;/h2&gt;Still Creek Campground lies i...</td>\n",
       "      <td>From Portland, travel east on Highway 26 to Go...</td>\n",
       "      <td>NaN</td>\n",
       "      <td>232835</td>\n",
       "      <td>45.295833</td>\n",
       "      <td>-121.735556</td>\n",
       "      <td>NaN</td>\n",
       "      <td>STILL CREEK</td>\n",
       "      <td>541-328-0909</td>\n",
       "      <td>NaN</td>\n",
       "      <td>Camping</td>\n",
       "      <td>NaN</td>\n",
       "      <td>NaN</td>\n",
       "      <td>2016-05-26</td>\n",
       "      <td>71618.0</td>\n",
       "      <td>AN371618</td>\n",
       "      <td>NaN</td>\n",
       "    </tr>\n",
       "    <tr>\n",
       "      <th>2</th>\n",
       "      <td>NaN</td>\n",
       "      <td>&lt;p&gt;Dispersed camping is available from this tr...</td>\n",
       "      <td>&lt;p&gt;&lt;u&gt;From Hood River, OR&lt;/u&gt;&amp;nbsp;travel 36.2...</td>\n",
       "      <td>NaN</td>\n",
       "      <td>235865</td>\n",
       "      <td>45.282100</td>\n",
       "      <td>-121.678700</td>\n",
       "      <td>NaN</td>\n",
       "      <td>Devils Half Acre Trailhead</td>\n",
       "      <td>NaN</td>\n",
       "      <td>NaN</td>\n",
       "      <td>NaN</td>\n",
       "      <td>NaN</td>\n",
       "      <td>NaN</td>\n",
       "      <td>2016-05-09</td>\n",
       "      <td>NaN</td>\n",
       "      <td>53072</td>\n",
       "      <td>NaN</td>\n",
       "    </tr>\n",
       "    <tr>\n",
       "      <th>3</th>\n",
       "      <td>NaN</td>\n",
       "      <td>&lt;p&gt;The Hidden Lake Trailhead leads to the Hidd...</td>\n",
       "      <td>&lt;p&gt;From &lt;u&gt;Portland, OR&lt;/u&gt; - follow U.S. Hwy ...</td>\n",
       "      <td>NaN</td>\n",
       "      <td>235880</td>\n",
       "      <td>45.313528</td>\n",
       "      <td>-121.799667</td>\n",
       "      <td>NaN</td>\n",
       "      <td>Hidden Lake Trailhead</td>\n",
       "      <td>NaN</td>\n",
       "      <td>NaN</td>\n",
       "      <td>NaN</td>\n",
       "      <td>NaN</td>\n",
       "      <td>NaN</td>\n",
       "      <td>2016-05-09</td>\n",
       "      <td>NaN</td>\n",
       "      <td>53128</td>\n",
       "      <td>NaN</td>\n",
       "    </tr>\n",
       "    <tr>\n",
       "      <th>4</th>\n",
       "      <td>NaN</td>\n",
       "      <td>&lt;p&gt;This trail and Sno Park is along the Histor...</td>\n",
       "      <td>&lt;p&gt;From &lt;u&gt;Hood River, OR&lt;/u&gt; travel 36.2 mile...</td>\n",
       "      <td>NaN</td>\n",
       "      <td>235883</td>\n",
       "      <td>45.282969</td>\n",
       "      <td>-121.684789</td>\n",
       "      <td>NaN</td>\n",
       "      <td>Barlow Pass Sno Park/Trailhead</td>\n",
       "      <td>NaN</td>\n",
       "      <td>NaN</td>\n",
       "      <td>NaN</td>\n",
       "      <td>NaN</td>\n",
       "      <td>NaN</td>\n",
       "      <td>2016-05-09</td>\n",
       "      <td>NaN</td>\n",
       "      <td>53138</td>\n",
       "      <td>NaN</td>\n",
       "    </tr>\n",
       "  </tbody>\n",
       "</table>\n",
       "</div>"
      ],
      "text/plain": [
       "   FacilityAdaAccess                                FacilityDescription  \\\n",
       "0                NaN  <h2>Overview</h2>Trillium Lake Campground is a...   \n",
       "1                NaN  <h2>Overview</h2>Still Creek Campground lies i...   \n",
       "2                NaN  <p>Dispersed camping is available from this tr...   \n",
       "3                NaN  <p>The Hidden Lake Trailhead leads to the Hidd...   \n",
       "4                NaN  <p>This trail and Sno Park is along the Histor...   \n",
       "\n",
       "                                  FacilityDirections FacilityEmail  \\\n",
       "0  From Portland, travel southeast on Highway 26 ...           NaN   \n",
       "1  From Portland, travel east on Highway 26 to Go...           NaN   \n",
       "2  <p><u>From Hood River, OR</u>&nbsp;travel 36.2...           NaN   \n",
       "3  <p>From <u>Portland, OR</u> - follow U.S. Hwy ...           NaN   \n",
       "4  <p>From <u>Hood River, OR</u> travel 36.2 mile...           NaN   \n",
       "\n",
       "   FacilityID  FacilityLatitude  FacilityLongitude  FacilityMapURL  \\\n",
       "0      232831         45.270000        -121.734444             NaN   \n",
       "1      232835         45.295833        -121.735556             NaN   \n",
       "2      235865         45.282100        -121.678700             NaN   \n",
       "3      235880         45.313528        -121.799667             NaN   \n",
       "4      235883         45.282969        -121.684789             NaN   \n",
       "\n",
       "                     FacilityName FacilityPhone  FacilityReservationURL  \\\n",
       "0                        TRILLIUM  503-272-3220                     NaN   \n",
       "1                     STILL CREEK  541-328-0909                     NaN   \n",
       "2      Devils Half Acre Trailhead           NaN                     NaN   \n",
       "3           Hidden Lake Trailhead           NaN                     NaN   \n",
       "4  Barlow Pass Sno Park/Trailhead           NaN                     NaN   \n",
       "\n",
       "  FacilityTypeDescription  FacilityUseFeeDescription  Keywords  \\\n",
       "0                 Camping                        NaN       NaN   \n",
       "1                 Camping                        NaN       NaN   \n",
       "2                     NaN                        NaN       NaN   \n",
       "3                     NaN                        NaN       NaN   \n",
       "4                     NaN                        NaN       NaN   \n",
       "\n",
       "  LastUpdatedDate  LegacyFacilityID OrgFacilityID  StayLimit  \n",
       "0      2016-05-26           71614.0      AN371614        NaN  \n",
       "1      2016-05-26           71618.0      AN371618        NaN  \n",
       "2      2016-05-09               NaN         53072        NaN  \n",
       "3      2016-05-09               NaN         53128        NaN  \n",
       "4      2016-05-09               NaN         53138        NaN  "
      ]
     },
     "execution_count": 7,
     "metadata": {},
     "output_type": "execute_result"
    }
   ],
   "source": [
    "ridb_camping.df.head()"
   ]
  },
  {
   "cell_type": "code",
   "execution_count": 8,
   "metadata": {
    "collapsed": true
   },
   "outputs": [],
   "source": [
    "ridb_hiking = RidbData(\"mthood_hiking\", \"hiking\", mthood_params, store_mysql)"
   ]
  },
  {
   "cell_type": "code",
   "execution_count": 9,
   "metadata": {
    "collapsed": true
   },
   "outputs": [],
   "source": [
    "ridb_hiking.extract()"
   ]
  },
  {
   "cell_type": "code",
   "execution_count": 10,
   "metadata": {
    "collapsed": false
   },
   "outputs": [
    {
     "data": {
      "text/html": [
       "<div>\n",
       "<table border=\"1\" class=\"dataframe\">\n",
       "  <thead>\n",
       "    <tr style=\"text-align: right;\">\n",
       "      <th></th>\n",
       "      <th>FacilityAdaAccess</th>\n",
       "      <th>FacilityDescription</th>\n",
       "      <th>FacilityDirections</th>\n",
       "      <th>FacilityEmail</th>\n",
       "      <th>FacilityID</th>\n",
       "      <th>FacilityLatitude</th>\n",
       "      <th>FacilityLongitude</th>\n",
       "      <th>FacilityMapURL</th>\n",
       "      <th>FacilityName</th>\n",
       "      <th>FacilityPhone</th>\n",
       "      <th>FacilityReservationURL</th>\n",
       "      <th>FacilityTypeDescription</th>\n",
       "      <th>FacilityUseFeeDescription</th>\n",
       "      <th>Keywords</th>\n",
       "      <th>LastUpdatedDate</th>\n",
       "      <th>LegacyFacilityID</th>\n",
       "      <th>OrgFacilityID</th>\n",
       "      <th>StayLimit</th>\n",
       "    </tr>\n",
       "  </thead>\n",
       "  <tbody>\n",
       "    <tr>\n",
       "      <th>0</th>\n",
       "      <td>NaN</td>\n",
       "      <td>&lt;h2&gt;Overview&lt;/h2&gt;Trillium Lake Campground is a...</td>\n",
       "      <td>From Portland, travel southeast on Highway 26 ...</td>\n",
       "      <td>NaN</td>\n",
       "      <td>232831</td>\n",
       "      <td>45.270000</td>\n",
       "      <td>-121.734444</td>\n",
       "      <td>NaN</td>\n",
       "      <td>TRILLIUM</td>\n",
       "      <td>503-272-3220</td>\n",
       "      <td>NaN</td>\n",
       "      <td>Camping</td>\n",
       "      <td>NaN</td>\n",
       "      <td>NaN</td>\n",
       "      <td>2016-05-26</td>\n",
       "      <td>71614.0</td>\n",
       "      <td>AN371614</td>\n",
       "      <td>NaN</td>\n",
       "    </tr>\n",
       "    <tr>\n",
       "      <th>1</th>\n",
       "      <td>NaN</td>\n",
       "      <td>&lt;h2&gt;Overview&lt;/h2&gt;Still Creek Campground lies i...</td>\n",
       "      <td>From Portland, travel east on Highway 26 to Go...</td>\n",
       "      <td>NaN</td>\n",
       "      <td>232835</td>\n",
       "      <td>45.295833</td>\n",
       "      <td>-121.735556</td>\n",
       "      <td>NaN</td>\n",
       "      <td>STILL CREEK</td>\n",
       "      <td>541-328-0909</td>\n",
       "      <td>NaN</td>\n",
       "      <td>Camping</td>\n",
       "      <td>NaN</td>\n",
       "      <td>NaN</td>\n",
       "      <td>2016-05-26</td>\n",
       "      <td>71618.0</td>\n",
       "      <td>AN371618</td>\n",
       "      <td>NaN</td>\n",
       "    </tr>\n",
       "    <tr>\n",
       "      <th>2</th>\n",
       "      <td>NaN</td>\n",
       "      <td>&lt;p&gt;Dispersed camping is available from this tr...</td>\n",
       "      <td>&lt;p&gt;&lt;u&gt;From Hood River, OR&lt;/u&gt;&amp;nbsp;travel 36.2...</td>\n",
       "      <td>NaN</td>\n",
       "      <td>235865</td>\n",
       "      <td>45.282100</td>\n",
       "      <td>-121.678700</td>\n",
       "      <td>NaN</td>\n",
       "      <td>Devils Half Acre Trailhead</td>\n",
       "      <td>NaN</td>\n",
       "      <td>NaN</td>\n",
       "      <td>NaN</td>\n",
       "      <td>NaN</td>\n",
       "      <td>NaN</td>\n",
       "      <td>2016-05-09</td>\n",
       "      <td>NaN</td>\n",
       "      <td>53072</td>\n",
       "      <td>NaN</td>\n",
       "    </tr>\n",
       "    <tr>\n",
       "      <th>3</th>\n",
       "      <td>NaN</td>\n",
       "      <td>&lt;p&gt;The Hidden Lake Trailhead leads to the Hidd...</td>\n",
       "      <td>&lt;p&gt;From &lt;u&gt;Portland, OR&lt;/u&gt; - follow U.S. Hwy ...</td>\n",
       "      <td>NaN</td>\n",
       "      <td>235880</td>\n",
       "      <td>45.313528</td>\n",
       "      <td>-121.799667</td>\n",
       "      <td>NaN</td>\n",
       "      <td>Hidden Lake Trailhead</td>\n",
       "      <td>NaN</td>\n",
       "      <td>NaN</td>\n",
       "      <td>NaN</td>\n",
       "      <td>NaN</td>\n",
       "      <td>NaN</td>\n",
       "      <td>2016-05-09</td>\n",
       "      <td>NaN</td>\n",
       "      <td>53128</td>\n",
       "      <td>NaN</td>\n",
       "    </tr>\n",
       "    <tr>\n",
       "      <th>4</th>\n",
       "      <td>NaN</td>\n",
       "      <td>&lt;p&gt;This trail and Sno Park is along the Histor...</td>\n",
       "      <td>&lt;p&gt;From &lt;u&gt;Hood River, OR&lt;/u&gt; travel 36.2 mile...</td>\n",
       "      <td>NaN</td>\n",
       "      <td>235883</td>\n",
       "      <td>45.282969</td>\n",
       "      <td>-121.684789</td>\n",
       "      <td>NaN</td>\n",
       "      <td>Barlow Pass Sno Park/Trailhead</td>\n",
       "      <td>NaN</td>\n",
       "      <td>NaN</td>\n",
       "      <td>NaN</td>\n",
       "      <td>NaN</td>\n",
       "      <td>NaN</td>\n",
       "      <td>2016-05-09</td>\n",
       "      <td>NaN</td>\n",
       "      <td>53138</td>\n",
       "      <td>NaN</td>\n",
       "    </tr>\n",
       "  </tbody>\n",
       "</table>\n",
       "</div>"
      ],
      "text/plain": [
       "   FacilityAdaAccess                                FacilityDescription  \\\n",
       "0                NaN  <h2>Overview</h2>Trillium Lake Campground is a...   \n",
       "1                NaN  <h2>Overview</h2>Still Creek Campground lies i...   \n",
       "2                NaN  <p>Dispersed camping is available from this tr...   \n",
       "3                NaN  <p>The Hidden Lake Trailhead leads to the Hidd...   \n",
       "4                NaN  <p>This trail and Sno Park is along the Histor...   \n",
       "\n",
       "                                  FacilityDirections FacilityEmail  \\\n",
       "0  From Portland, travel southeast on Highway 26 ...           NaN   \n",
       "1  From Portland, travel east on Highway 26 to Go...           NaN   \n",
       "2  <p><u>From Hood River, OR</u>&nbsp;travel 36.2...           NaN   \n",
       "3  <p>From <u>Portland, OR</u> - follow U.S. Hwy ...           NaN   \n",
       "4  <p>From <u>Hood River, OR</u> travel 36.2 mile...           NaN   \n",
       "\n",
       "   FacilityID  FacilityLatitude  FacilityLongitude  FacilityMapURL  \\\n",
       "0      232831         45.270000        -121.734444             NaN   \n",
       "1      232835         45.295833        -121.735556             NaN   \n",
       "2      235865         45.282100        -121.678700             NaN   \n",
       "3      235880         45.313528        -121.799667             NaN   \n",
       "4      235883         45.282969        -121.684789             NaN   \n",
       "\n",
       "                     FacilityName FacilityPhone  FacilityReservationURL  \\\n",
       "0                        TRILLIUM  503-272-3220                     NaN   \n",
       "1                     STILL CREEK  541-328-0909                     NaN   \n",
       "2      Devils Half Acre Trailhead           NaN                     NaN   \n",
       "3           Hidden Lake Trailhead           NaN                     NaN   \n",
       "4  Barlow Pass Sno Park/Trailhead           NaN                     NaN   \n",
       "\n",
       "  FacilityTypeDescription  FacilityUseFeeDescription  Keywords  \\\n",
       "0                 Camping                        NaN       NaN   \n",
       "1                 Camping                        NaN       NaN   \n",
       "2                     NaN                        NaN       NaN   \n",
       "3                     NaN                        NaN       NaN   \n",
       "4                     NaN                        NaN       NaN   \n",
       "\n",
       "  LastUpdatedDate  LegacyFacilityID OrgFacilityID  StayLimit  \n",
       "0      2016-05-26           71614.0      AN371614        NaN  \n",
       "1      2016-05-26           71618.0      AN371618        NaN  \n",
       "2      2016-05-09               NaN         53072        NaN  \n",
       "3      2016-05-09               NaN         53128        NaN  \n",
       "4      2016-05-09               NaN         53138        NaN  "
      ]
     },
     "execution_count": 10,
     "metadata": {},
     "output_type": "execute_result"
    }
   ],
   "source": [
    "ridb_hiking.df.head()"
   ]
  },
  {
   "cell_type": "code",
   "execution_count": 11,
   "metadata": {
    "collapsed": false
   },
   "outputs": [],
   "source": [
    "ridb_camping.put()"
   ]
  },
  {
   "cell_type": "code",
   "execution_count": 12,
   "metadata": {
    "collapsed": true
   },
   "outputs": [],
   "source": [
    "ridb_hiking.put()"
   ]
  },
  {
   "cell_type": "code",
   "execution_count": 13,
   "metadata": {
    "collapsed": false
   },
   "outputs": [
    {
     "data": {
      "text/plain": [
       "'mthood_camping'"
      ]
     },
     "execution_count": 13,
     "metadata": {},
     "output_type": "execute_result"
    }
   ],
   "source": [
    "ridb_camping.name"
   ]
  },
  {
   "cell_type": "code",
   "execution_count": null,
   "metadata": {
    "collapsed": true
   },
   "outputs": [],
   "source": []
  }
 ],
 "metadata": {
  "kernelspec": {
   "display_name": "Python 3",
   "language": "python",
   "name": "python3"
  },
  "language_info": {
   "codemirror_mode": {
    "name": "ipython",
    "version": 3
   },
   "file_extension": ".py",
   "mimetype": "text/x-python",
   "name": "python",
   "nbconvert_exporter": "python",
   "pygments_lexer": "ipython3",
   "version": "3.4.3"
  }
 },
 "nbformat": 4,
 "nbformat_minor": 0
}
