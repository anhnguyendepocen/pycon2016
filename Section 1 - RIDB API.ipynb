{
 "cells": [
  {
   "cell_type": "markdown",
   "metadata": {},
   "source": [
    "\n",
    "<h3>Querying the Recreational Information Database (RIDB)</h3>\n",
    "\n",
    "<img src=\"images/legolas.jpg\" width=30% style=\"display: inline-block\">\n",
    "<br>\n",
    "image source: jadensadventures.wikia.com\n",
    "<br>\n",
    "A well documented, actively maintained API with a responsive development team\n",
    "\n",
    "<br>\n",
    "[RIDB homepage](https://ridb.recreation.gov/)\n",
    "![](images/RIDB_header.png)\n",
    "\n",
    "<br>\n",
    "[Facilities Endpoint Documentation](http://usda.github.io/RIDB/#get-all-facilities)\n",
    "![](images/ridb_api_detail.png)\n"
   ]
  },
  {
   "cell_type": "code",
   "execution_count": 5,
   "metadata": {
    "collapsed": true
   },
   "outputs": [],
   "source": [
    "facilities_url = 'https://ridb.recreation.gov/api/v1/facilities'\n",
    "\n",
    "# camping activity ID is 9\n",
    "activity_id = 9\n",
    "limit = 50\n",
    "offset = 0"
   ]
  },
  {
   "cell_type": "code",
   "execution_count": 51,
   "metadata": {
    "collapsed": false
   },
   "outputs": [],
   "source": [
    "import requests\n",
    "import pandas as pd\n",
    "import json\n",
    "import math\n",
    "from pandas.io.json import json_normalize\n",
    "import config\n",
    "import re"
   ]
  },
  {
   "cell_type": "code",
   "execution_count": 7,
   "metadata": {
    "collapsed": false
   },
   "outputs": [
    {
     "data": {
      "text/plain": [
       "20"
      ]
     },
     "execution_count": 7,
     "metadata": {},
     "output_type": "execute_result"
    }
   ],
   "source": [
    "pd.options.display.max_columns"
   ]
  },
  {
   "cell_type": "code",
   "execution_count": 43,
   "metadata": {
    "collapsed": false
   },
   "outputs": [],
   "source": [
    "def get_facilities():\n",
    "\n",
    "    facilities_params = dict(apiKey=config.RIDB_API_KEY, state='OR', activity=activity_id, limit=limit, offset=0)\n",
    "    facilities_resp = requests.get(url=facilities_url, params=facilities_params)\n",
    "    data = json.loads(facilities_resp.text)\n",
    "    cg_info = pd.DataFrame()\n",
    "\n",
    "    print(\"Got cg info\")\n",
    "\n",
    "    num_entries = data['METADATA']['RESULTS']['TOTAL_COUNT']\n",
    "    print (\"total: \" + str(num_entries))\n",
    "    num_iterations = int(math.ceil(float(num_entries)/float(limit)))\n",
    "    print (\"num iterations: \" + str(num_iterations))\n",
    "\n",
    "    for iter_i in range(1,num_iterations+1):\n",
    "        print (\"Number of json records: \" + str(len(data['RECDATA'])))\n",
    "        for i in data['RECDATA']:\n",
    "            fac_name = i['FacilityName']\n",
    "            fac_id = i['FacilityID']\n",
    "            fac_lat = i['FacilityLatitude']\n",
    "            fac_long = i['FacilityLongitude']\n",
    "            #fac_resurl = i['FacilityReservationURL'] # not yet populated...\n",
    "            cg_info = cg_info.append(pd.DataFrame({'Name' : [fac_name], 'Fac_Id' : [fac_id], 'Lat' : [fac_lat], \\\n",
    "                                                   'Long' : [fac_long]}))\n",
    "\n",
    "        offset = 50*iter_i\n",
    "        facilities_params = dict(apiKey= config.RIDB_API_KEY, state='OR', activity=activity_id, limit=limit, offset=offset)\n",
    "        facilities_resp = requests.get(url=facilities_url, params=facilities_params)\n",
    "        data = json.loads(facilities_resp.text)\n",
    "\n",
    "\n",
    "    return cg_info "
   ]
  },
  {
   "cell_type": "code",
   "execution_count": 44,
   "metadata": {
    "collapsed": false
   },
   "outputs": [
    {
     "name": "stdout",
     "output_type": "stream",
     "text": [
      "Got cg info\n",
      "total: 811\n",
      "num iterations: 17\n",
      "Number of json records: 50\n",
      "Number of json records: 50\n",
      "Number of json records: 50\n",
      "Number of json records: 50\n",
      "Number of json records: 50\n",
      "Number of json records: 50\n",
      "Number of json records: 50\n",
      "Number of json records: 50\n",
      "Number of json records: 50\n",
      "Number of json records: 50\n",
      "Number of json records: 50\n",
      "Number of json records: 50\n",
      "Number of json records: 50\n",
      "Number of json records: 50\n",
      "Number of json records: 50\n",
      "Number of json records: 50\n",
      "Number of json records: 11\n"
     ]
    }
   ],
   "source": [
    "ridb_data = get_facilities()"
   ]
  },
  {
   "cell_type": "code",
   "execution_count": 45,
   "metadata": {
    "collapsed": false
   },
   "outputs": [
    {
     "data": {
      "text/plain": [
       "(811, 4)"
      ]
     },
     "execution_count": 45,
     "metadata": {},
     "output_type": "execute_result"
    }
   ],
   "source": [
    "ridb_data.shape"
   ]
  },
  {
   "cell_type": "code",
   "execution_count": 42,
   "metadata": {
    "collapsed": false
   },
   "outputs": [
    {
     "data": {
      "text/html": [
       "<div>\n",
       "<table border=\"1\" class=\"dataframe\">\n",
       "  <thead>\n",
       "    <tr style=\"text-align: right;\">\n",
       "      <th></th>\n",
       "      <th>Fac_Id</th>\n",
       "      <th>Lat</th>\n",
       "      <th>Long</th>\n",
       "      <th>Name</th>\n",
       "    </tr>\n",
       "  </thead>\n",
       "  <tbody>\n",
       "    <tr>\n",
       "      <th>0</th>\n",
       "      <td>210606</td>\n",
       "      <td>43.498</td>\n",
       "      <td>-123.494</td>\n",
       "      <td>Eagleview Group Campground</td>\n",
       "    </tr>\n",
       "    <tr>\n",
       "      <th>0</th>\n",
       "      <td>210607</td>\n",
       "      <td>44.7777</td>\n",
       "      <td>-119.624</td>\n",
       "      <td>Lone Pine Group Campground</td>\n",
       "    </tr>\n",
       "    <tr>\n",
       "      <th>0</th>\n",
       "      <td>224333</td>\n",
       "      <td>43.485</td>\n",
       "      <td>-123.484</td>\n",
       "      <td>Tyee Recreation Site</td>\n",
       "    </tr>\n",
       "    <tr>\n",
       "      <th>0</th>\n",
       "      <td>231800</td>\n",
       "      <td>42.9092</td>\n",
       "      <td>-122.057</td>\n",
       "      <td>Crater Lake Lodge</td>\n",
       "    </tr>\n",
       "    <tr>\n",
       "      <th>0</th>\n",
       "      <td>231978</td>\n",
       "      <td>45.2839</td>\n",
       "      <td>-123.96</td>\n",
       "      <td>SANDBEACH</td>\n",
       "    </tr>\n",
       "  </tbody>\n",
       "</table>\n",
       "</div>"
      ],
      "text/plain": [
       "   Fac_Id      Lat     Long                        Name\n",
       "0  210606   43.498 -123.494  Eagleview Group Campground\n",
       "0  210607  44.7777 -119.624  Lone Pine Group Campground\n",
       "0  224333   43.485 -123.484        Tyee Recreation Site\n",
       "0  231800  42.9092 -122.057           Crater Lake Lodge\n",
       "0  231978  45.2839  -123.96                   SANDBEACH"
      ]
     },
     "execution_count": 42,
     "metadata": {},
     "output_type": "execute_result"
    }
   ],
   "source": [
    "ridb_data.head()"
   ]
  },
  {
   "cell_type": "code",
   "execution_count": 65,
   "metadata": {
    "collapsed": false
   },
   "outputs": [
    {
     "data": {
      "text/html": [
       "<div>\n",
       "<table border=\"1\" class=\"dataframe\">\n",
       "  <thead>\n",
       "    <tr style=\"text-align: right;\">\n",
       "      <th></th>\n",
       "      <th>Fac_Id</th>\n",
       "      <th>Lat</th>\n",
       "      <th>Long</th>\n",
       "      <th>Name</th>\n",
       "    </tr>\n",
       "  </thead>\n",
       "  <tbody>\n",
       "    <tr>\n",
       "      <th>0</th>\n",
       "      <td>234075</td>\n",
       "      <td>45.3561</td>\n",
       "      <td>-121.987</td>\n",
       "      <td>WILDWOOD RECREATION SITE</td>\n",
       "    </tr>\n",
       "    <tr>\n",
       "      <th>0</th>\n",
       "      <td>236929</td>\n",
       "      <td>44.4839</td>\n",
       "      <td>-120.337</td>\n",
       "      <td>Wildwood Campground</td>\n",
       "    </tr>\n",
       "  </tbody>\n",
       "</table>\n",
       "</div>"
      ],
      "text/plain": [
       "   Fac_Id      Lat     Long                      Name\n",
       "0  234075  45.3561 -121.987  WILDWOOD RECREATION SITE\n",
       "0  236929  44.4839 -120.337       Wildwood Campground"
      ]
     },
     "execution_count": 65,
     "metadata": {},
     "output_type": "execute_result"
    }
   ],
   "source": [
    "ridb_data[ridb_data['Name'].apply(lambda x: re.search('wildwood', x.lower()) != None)]"
   ]
  },
  {
   "cell_type": "code",
   "execution_count": 29,
   "metadata": {
    "collapsed": false
   },
   "outputs": [
    {
     "data": {
      "text/plain": [
       "array(['', ' '], dtype=object)"
      ]
     },
     "execution_count": 29,
     "metadata": {},
     "output_type": "execute_result"
    }
   ],
   "source": [
    "ridb_data['Fac_Resurl'].unique()"
   ]
  },
  {
   "cell_type": "code",
   "execution_count": null,
   "metadata": {
    "collapsed": true
   },
   "outputs": [],
   "source": []
  }
 ],
 "metadata": {
  "kernelspec": {
   "display_name": "Python 3",
   "language": "python",
   "name": "python3"
  },
  "language_info": {
   "codemirror_mode": {
    "name": "ipython",
    "version": 3
   },
   "file_extension": ".py",
   "mimetype": "text/x-python",
   "name": "python",
   "nbconvert_exporter": "python",
   "pygments_lexer": "ipython3",
   "version": "3.4.3"
  }
 },
 "nbformat": 4,
 "nbformat_minor": 0
}
