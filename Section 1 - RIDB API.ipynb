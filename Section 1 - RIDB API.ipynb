{
 "cells": [
  {
   "cell_type": "markdown",
   "metadata": {},
   "source": [
    "\n",
    "<h3>Querying the Recreational Information Database (RIDB)</h3>\n",
    "\n",
    "<img src=\"images/legolas.jpg\" width=30% style=\"display: inline-block\">\n",
    "<br>\n",
    "image source: jadensadventures.wikia.com\n",
    "<br>\n",
    "A well documented, actively maintained API with a responsive development team\n",
    "\n",
    "<br>\n",
    "[RIDB homepage](https://ridb.recreation.gov/)\n",
    "![](images/RIDB_header.png)\n",
    "\n",
    "<br>\n",
    "[Facilities Endpoint Documentation](http://usda.github.io/RIDB/#get-all-facilities)\n",
    "![](images/ridb_api_detail.png)\n"
   ]
  },
  {
   "cell_type": "code",
   "execution_count": 32,
   "metadata": {
    "collapsed": true
   },
   "outputs": [],
   "source": [
    "facilities_url = 'https://ridb.recreation.gov/api/v1/facilities'\n",
    "\n",
    "# camping activity ID is 9\n",
    "activity_id = 9\n",
    "limit = 50\n",
    "offset = 0"
   ]
  },
  {
   "cell_type": "code",
   "execution_count": 31,
   "metadata": {
    "collapsed": false
   },
   "outputs": [],
   "source": [
    "import requests\n",
    "import pandas as pd\n",
    "import json\n",
    "import math\n",
    "from pandas.io.json import json_normalize\n",
    "import config"
   ]
  },
  {
   "cell_type": "code",
   "execution_count": 20,
   "metadata": {
    "collapsed": false
   },
   "outputs": [
    {
     "data": {
      "text/plain": [
       "20"
      ]
     },
     "execution_count": 20,
     "metadata": {},
     "output_type": "execute_result"
    }
   ],
   "source": [
    "pd.options.display.max_columns"
   ]
  },
  {
   "cell_type": "code",
   "execution_count": 29,
   "metadata": {
    "collapsed": false
   },
   "outputs": [],
   "source": [
    "def get_facilities():\n",
    "\n",
    "    facilities_params = dict(apiKey=config.RIDB_API_KEY, state='OR', activity=activity_id, limit=limit, offset=offset)\n",
    "    facilities_resp = requests.get(url=facilities_url, params=facilities_params)\n",
    "    data = json.loads(facilities_resp.text)\n",
    "    cg_info = pd.DataFrame()\n",
    "\n",
    "    print(\"Got cg info\")\n",
    "\n",
    "    num_entries = data['METADATA']['RESULTS']['TOTAL_COUNT']\n",
    "    print (\"total: \" + str(num_entries))\n",
    "    num_iterations = int(math.ceil(float(num_entries)/float(limit)))\n",
    "    print (\"num iterations: \" + str(num_iterations))\n",
    "\n",
    "    for iter_i in range(0,num_iterations):\n",
    "        print (\"Number of json records: \" + str(len(data['RECDATA'])))\n",
    "        for i in data['RECDATA']:\n",
    "            fac_name = i['FacilityName']\n",
    "            fac_id = i['FacilityID']\n",
    "            fac_lat = i['FacilityLatitude']\n",
    "            fac_long = i['FacilityLongitude']\n",
    "            cg_info = cg_info.append(pd.DataFrame({'Name' : [fac_name], 'Fac_Id' : [fac_id], 'Lat' : [fac_lat], 'Long' : [fac_long]}))\n",
    "\n",
    "        offset = 50*iter_i\n",
    "        facilities_params = dict(apiKey= config.RIDB_API_KEY, state='OR', activity=activity_id, limit=limit, offset=offset)\n",
    "        facilities_resp = requests.get(url=facilities_url, params=facilities_params)\n",
    "        data = json.loads(facilities_resp.text)\n",
    "\n",
    "\n",
    "    return cg_info "
   ]
  },
  {
   "cell_type": "code",
   "execution_count": 30,
   "metadata": {
    "collapsed": false
   },
   "outputs": [
    {
     "name": "stdout",
     "output_type": "stream",
     "text": [
      "Got cg info\n",
      "total: 811\n",
      "num iterations: 17\n",
      "Number of json records: 50\n",
      "Number of json records: 50\n",
      "Number of json records: 50\n",
      "Number of json records: 50\n",
      "Number of json records: 50\n",
      "Number of json records: 50\n",
      "Number of json records: 50\n",
      "Number of json records: 50\n",
      "Number of json records: 50\n",
      "Number of json records: 50\n",
      "Number of json records: 50\n",
      "Number of json records: 50\n",
      "Number of json records: 50\n",
      "Number of json records: 50\n",
      "Number of json records: 50\n",
      "Number of json records: 50\n",
      "Number of json records: 50\n"
     ]
    }
   ],
   "source": [
    "ridb_data = get_facilities()"
   ]
  },
  {
   "cell_type": "code",
   "execution_count": 24,
   "metadata": {
    "collapsed": false
   },
   "outputs": [
    {
     "data": {
      "text/plain": [
       "(861, 4)"
      ]
     },
     "execution_count": 24,
     "metadata": {},
     "output_type": "execute_result"
    }
   ],
   "source": [
    "ridb_data.shape"
   ]
  },
  {
   "cell_type": "code",
   "execution_count": 25,
   "metadata": {
    "collapsed": false
   },
   "outputs": [
    {
     "data": {
      "text/plain": [
       "(811, 4)"
      ]
     },
     "execution_count": 25,
     "metadata": {},
     "output_type": "execute_result"
    }
   ],
   "source": [
    "ridb_data.drop_duplicates().shape"
   ]
  },
  {
   "cell_type": "code",
   "execution_count": null,
   "metadata": {
    "collapsed": true
   },
   "outputs": [],
   "source": []
  }
 ],
 "metadata": {
  "kernelspec": {
   "display_name": "Python 3",
   "language": "python",
   "name": "python3"
  },
  "language_info": {
   "codemirror_mode": {
    "name": "ipython",
    "version": 3
   },
   "file_extension": ".py",
   "mimetype": "text/x-python",
   "name": "python",
   "nbconvert_exporter": "python",
   "pygments_lexer": "ipython3",
   "version": "3.4.3"
  }
 },
 "nbformat": 4,
 "nbformat_minor": 0
}
