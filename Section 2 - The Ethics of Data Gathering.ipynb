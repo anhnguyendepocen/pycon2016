{
 "cells": [
  {
   "cell_type": "markdown",
   "metadata": {},
   "source": [
    "<h3>Just because you can get the data doesn't mean that you can legally use it</h3>\n",
    "\n",
    "<img src=\"images/okcupid_vox.png\" width=60% style=\"display: inline-block\">\n",
    "<br>\n",
    "image source: http://www.vox.com/2016/5/12/11666116/70000-okcupid-users-data-release\n",
    "<br>\n",
    "<br>\n",
    "<h3>API Terms of Use:</h3>\n",
    "<img src=\"images/linkedin_tou.png\" width=80% style=\"display: inline-block\">\n",
    "<br>\n",
    "image source: https://developer.linkedin.com/legal/api-terms-of-use\n",
    "<br>\n",
    "<br>\n",
    "<h3>Data source credits:</h3>\n",
    "<br>\n",
    "<img src=\"images/orsp_tou.png\" width=80% style=\"display: inline-block\">\n",
    "<br>\n",
    "image source: http://oregonstateparks.org/index.cfm?do=v.page&id=52\n",
    "<br>\n",
    "<br>\n",
    "<h3>Scraping: Be mindful of the resources of others</h3>\n",
    "<br>\n",
    "<img src=\"images/recgov_booking.png\" width=80% style=\"display: inline-block\">\n",
    "<br>\n",
    "image source: http://www.recreation.gov\n",
    "<br>\n",
    "<img src=\"images/recgov_tou.png\" width=80% style=\"display: inline-block\">\n",
    "<br>\n",
    "image source: http://www.recreation.gov/marketing.do?goto=/acm/shareData.htm"
   ]
  },
  {
   "cell_type": "code",
   "execution_count": null,
   "metadata": {
    "collapsed": true
   },
   "outputs": [],
   "source": []
  }
 ],
 "metadata": {
  "kernelspec": {
   "display_name": "Python 3",
   "language": "python",
   "name": "python3"
  },
  "language_info": {
   "codemirror_mode": {
    "name": "ipython",
    "version": 3
   },
   "file_extension": ".py",
   "mimetype": "text/x-python",
   "name": "python",
   "nbconvert_exporter": "python",
   "pygments_lexer": "ipython3",
   "version": "3.4.3"
  }
 },
 "nbformat": 4,
 "nbformat_minor": 0
}
