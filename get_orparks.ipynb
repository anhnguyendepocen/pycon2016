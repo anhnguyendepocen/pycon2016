{
 "cells": [
  {
   "cell_type": "code",
   "execution_count": 1,
   "metadata": {
    "collapsed": true
   },
   "outputs": [],
   "source": [
    "import json, requests\n",
    "import config as Config\n",
    "import pandas as pd\n",
    "import sys\n",
    "import numpy as np\n",
    "import math\n",
    "from pandas.io.json import json_normalize\n",
    "import re\n",
    "from sqlalchemy import create_engine\n",
    "from bs4 import BeautifulSoup\n",
    "\n",
    "conn_string = \"postgresql+psycopg2://\" + Config.DB_USER + \":\" + Config.DB_PASS + \"@localhost:5432/\" + Config.DB_NAME\n",
    "engine = create_engine(conn_string)"
   ]
  },
  {
   "cell_type": "code",
   "execution_count": null,
   "metadata": {
    "collapsed": true
   },
   "outputs": [],
   "source": [
    "park_info_url = 'http://oregonstateparks.org/data/index.cfm/parks'\n",
    "park_features_url = 'http://oregonstateparks.org/data/index.cfm/features'\n",
    "facilities_resp = requests.get(park_features_url)\n",
    "data = json.loads(facilities_resp.text)"
   ]
  },
  {
   "cell_type": "code",
   "execution_count": null,
   "metadata": {
    "collapsed": false
   },
   "outputs": [],
   "source": [
    "test = json_normalize(data)"
   ]
  },
  {
   "cell_type": "code",
   "execution_count": null,
   "metadata": {
    "collapsed": false
   },
   "outputs": [],
   "source": [
    "test.to_csv('orparks_features.csv', index=False)"
   ]
  },
  {
   "cell_type": "code",
   "execution_count": null,
   "metadata": {
    "collapsed": true
   },
   "outputs": [],
   "source": [
    "parks_resp = requests.get(url)\n",
    "parks_data = json.loads(parks_resp.text)\n",
    "parks = json_normalize(parks_data)"
   ]
  },
  {
   "cell_type": "code",
   "execution_count": null,
   "metadata": {
    "collapsed": false
   },
   "outputs": [],
   "source": [
    "parks = parks.set_index('park_id')"
   ]
  },
  {
   "cell_type": "code",
   "execution_count": null,
   "metadata": {
    "collapsed": false
   },
   "outputs": [],
   "source": [
    "parks.to_csv('parks.csv')"
   ]
  },
  {
   "cell_type": "code",
   "execution_count": null,
   "metadata": {
    "collapsed": false
   },
   "outputs": [],
   "source": [
    "parkspec_features_url = 'http://oregonstateparks.org/data/index.cfm/parkFeatures'\n",
    "parkspec_resp = requests.get(parkspec_features_url)\n",
    "parkspec_data = json.loads(parkspec_resp.text)\n",
    "df_parkspec = pd.DataFrame()\n",
    "df_parkspec = json_normalize(parkspec_data)"
   ]
  },
  {
   "cell_type": "code",
   "execution_count": null,
   "metadata": {
    "collapsed": false
   },
   "outputs": [],
   "source": [
    "df_parkspec.head()"
   ]
  },
  {
   "cell_type": "code",
   "execution_count": null,
   "metadata": {
    "collapsed": true
   },
   "outputs": [],
   "source": [
    "df_parkspec.to_csv('parkspec_features.csv', index=False)"
   ]
  },
  {
   "cell_type": "code",
   "execution_count": null,
   "metadata": {
    "collapsed": false
   },
   "outputs": [],
   "source": [
    "test = df_parkspec.pivot('park_id', 'featureClass')['ada']"
   ]
  },
  {
   "cell_type": "code",
   "execution_count": null,
   "metadata": {
    "collapsed": false
   },
   "outputs": [],
   "source": [
    "test.to_csv('feature_pivot.csv')"
   ]
  },
  {
   "cell_type": "code",
   "execution_count": null,
   "metadata": {
    "collapsed": false
   },
   "outputs": [],
   "source": [
    "test = test.drop('', axis=1)"
   ]
  },
  {
   "cell_type": "code",
   "execution_count": null,
   "metadata": {
    "collapsed": false
   },
   "outputs": [],
   "source": [
    "test.to_sql('orpark_feature_ada_pivot', engine, flavor = 'postgres', if_exists='replace')"
   ]
  },
  {
   "cell_type": "code",
   "execution_count": null,
   "metadata": {
    "collapsed": true
   },
   "outputs": [],
   "source": [
    "parks.to_sql('orpark_parks', engine, flavor = 'postgres', if_exists='replace')"
   ]
  },
  {
   "cell_type": "code",
   "execution_count": null,
   "metadata": {
    "collapsed": true
   },
   "outputs": [],
   "source": [
    "orparks_baseurl = \"http://www.oregonstateparks.org/index.cfm?do=parkPage.dsp_parkPage&parkId=\"\n",
    "park_id = 105"
   ]
  },
  {
   "cell_type": "code",
   "execution_count": null,
   "metadata": {
    "collapsed": false
   },
   "outputs": [],
   "source": [
    "parkurl = orparks_baseurl + str(park_id)"
   ]
  },
  {
   "cell_type": "code",
   "execution_count": null,
   "metadata": {
    "collapsed": false
   },
   "outputs": [],
   "source": [
    "soup = BeautifulSoup(requests.get(parkurl).text, \"lxml\")"
   ]
  },
  {
   "cell_type": "code",
   "execution_count": null,
   "metadata": {
    "collapsed": false
   },
   "outputs": [],
   "source": [
    "link = soup.find_all('a', attrs={\"id\" : 'reserve'})"
   ]
  },
  {
   "cell_type": "code",
   "execution_count": null,
   "metadata": {
    "collapsed": false
   },
   "outputs": [],
   "source": [
    "link_url = str(link[0]).split(\"\\\"\")[1]"
   ]
  },
  {
   "cell_type": "code",
   "execution_count": null,
   "metadata": {
    "collapsed": false
   },
   "outputs": [],
   "source": [
    "import HTMLParser\n",
    "html_parser = HTMLParser.HTMLParser()"
   ]
  },
  {
   "cell_type": "code",
   "execution_count": null,
   "metadata": {
    "collapsed": false
   },
   "outputs": [],
   "source": [
    "st = html_parser.unescape(link_url)"
   ]
  },
  {
   "cell_type": "code",
   "execution_count": null,
   "metadata": {
    "collapsed": false
   },
   "outputs": [],
   "source": [
    "requests.get(st).text"
   ]
  },
  {
   "cell_type": "code",
   "execution_count": null,
   "metadata": {
    "collapsed": true
   },
   "outputs": [],
   "source": [
    "import get_orparks_data"
   ]
  },
  {
   "cell_type": "code",
   "execution_count": null,
   "metadata": {
    "collapsed": false
   },
   "outputs": [],
   "source": [
    "%autoreload 2"
   ]
  },
  {
   "cell_type": "code",
   "execution_count": null,
   "metadata": {
    "collapsed": false
   },
   "outputs": [],
   "source": [
    "get_orparks_data.get_parks()"
   ]
  },
  {
   "cell_type": "code",
   "execution_count": null,
   "metadata": {
    "collapsed": false
   },
   "outputs": [],
   "source": [
    "facilities_resp = requests.get(park_info_url)\n",
    "data = json.loads(facilities_resp.text)\n",
    "park_info = json_normalize(data)"
   ]
  },
  {
   "cell_type": "code",
   "execution_count": null,
   "metadata": {
    "collapsed": false
   },
   "outputs": [],
   "source": [
    "%load_ext autoreload"
   ]
  },
  {
   "cell_type": "code",
   "execution_count": null,
   "metadata": {
    "collapsed": true
   },
   "outputs": [],
   "source": [
    "%autoreload"
   ]
  },
  {
   "cell_type": "code",
   "execution_count": null,
   "metadata": {
    "collapsed": false
   },
   "outputs": [],
   "source": [
    "get_orparks_data.merge_parks_features()"
   ]
  },
  {
   "cell_type": "code",
   "execution_count": null,
   "metadata": {
    "collapsed": false
   },
   "outputs": [],
   "source": [
    "orpd_demo_table = pd.read_sql('select * from orpark_demo_table', engine)"
   ]
  },
  {
   "cell_type": "code",
   "execution_count": null,
   "metadata": {
    "collapsed": false
   },
   "outputs": [],
   "source": [
    "orpd_demo_table = orpd_demo_table.rename(columns={'reservation_link': 'orig_reservation_link'})"
   ]
  },
  {
   "cell_type": "code",
   "execution_count": null,
   "metadata": {
    "collapsed": false
   },
   "outputs": [],
   "source": [
    "df = pd.DataFrame()\n",
    "for index,park in orpd_demo_table.iterrows():\n",
    "    if len(park['orig_reservation_link']) > 2:\n",
    "        cc = park['orig_reservation_link'].split('contractCode')[1]\n",
    "        reservation_link = \"http://www.reserveamerica.com/facilityDetails.do?contractCode\" + cc\n",
    "    else:\n",
    "        reservation_link = \"\"\n",
    "    df = df.append(pd.DataFrame({ 'facilityid' : [park['facilityid']], 'reservation_link' : [reservation_link]}))\n"
   ]
  },
  {
   "cell_type": "code",
   "execution_count": null,
   "metadata": {
    "collapsed": false
   },
   "outputs": [],
   "source": [
    "merged = pd.merge(orpd_demo_table, df, how='left', on=['facilityid'])"
   ]
  },
  {
   "cell_type": "code",
   "execution_count": null,
   "metadata": {
    "collapsed": false
   },
   "outputs": [],
   "source": [
    "merged.head()"
   ]
  },
  {
   "cell_type": "code",
   "execution_count": null,
   "metadata": {
    "collapsed": true
   },
   "outputs": [],
   "source": [
    "df_avail = pd.read_csv('df_avail.csv')"
   ]
  },
  {
   "cell_type": "code",
   "execution_count": null,
   "metadata": {
    "collapsed": true
   },
   "outputs": [],
   "source": [
    "campsites = pd.read_sql('select * from campnear_main', engine)\n",
    "facilities = campsites.drop_duplicates(subset='facilityname')\n",
    "facilities = facilities.drop('cg_reservable', axis=1)"
   ]
  },
  {
   "cell_type": "code",
   "execution_count": null,
   "metadata": {
    "collapsed": false
   },
   "outputs": [],
   "source": [
    "merged = pd.merge(facilities, df_avail, how=\"left\", on=['facilityname'])"
   ]
  },
  {
   "cell_type": "code",
   "execution_count": null,
   "metadata": {
    "collapsed": false
   },
   "outputs": [],
   "source": [
    "merged.to_sql('table_fac', engine, flavor='postgres', if_exists='replace')"
   ]
  },
  {
   "cell_type": "code",
   "execution_count": null,
   "metadata": {
    "collapsed": false
   },
   "outputs": [],
   "source": [
    "merged.head(10)"
   ]
  },
  {
   "cell_type": "code",
   "execution_count": null,
   "metadata": {
    "collapsed": true
   },
   "outputs": [],
   "source": [
    "def convert(x):\n",
    "\ttry:\n",
    "\t\treturn x.astype(int)\n",
    "\texcept:\n",
    "\t\treturn x"
   ]
  },
  {
   "cell_type": "code",
   "execution_count": null,
   "metadata": {
    "collapsed": true
   },
   "outputs": [],
   "source": [
    "merged.apply(convert).to_csv('table_fac.csv', index=False)"
   ]
  },
  {
   "cell_type": "code",
   "execution_count": null,
   "metadata": {
    "collapsed": false
   },
   "outputs": [],
   "source": [
    "merged.apply(convert).dtypes"
   ]
  },
  {
   "cell_type": "code",
   "execution_count": null,
   "metadata": {
    "collapsed": false
   },
   "outputs": [],
   "source": [
    "m = re.compile('.*google\\.com/maps\\?.*') \n",
    "print m.match(\"https://www.google.com/maps?q=45.59844,-122.048974\")"
   ]
  },
  {
   "cell_type": "code",
   "execution_count": null,
   "metadata": {
    "collapsed": false
   },
   "outputs": [],
   "source": [
    "print var.group()"
   ]
  },
  {
   "cell_type": "code",
   "execution_count": null,
   "metadata": {
    "collapsed": true
   },
   "outputs": [],
   "source": [
    "demo_table = pd.read_sql('select * from demo_table', engine)"
   ]
  },
  {
   "cell_type": "code",
   "execution_count": null,
   "metadata": {
    "collapsed": true
   },
   "outputs": [],
   "source": [
    "grouped = demo_table.groupby('facilityname')"
   ]
  },
  {
   "cell_type": "code",
   "execution_count": null,
   "metadata": {
    "collapsed": false
   },
   "outputs": [],
   "source": [
    "sum(grouped.get_group('LOST CREEK')['campsitetype'].str.contains('YURT'))"
   ]
  },
  {
   "cell_type": "code",
   "execution_count": null,
   "metadata": {
    "collapsed": false
   },
   "outputs": [],
   "source": [
    "df_avail= pd.read_csv('df_avail.csv')\n",
    "df_avail.to_sql('facility_availability', engine, flavor=\"postgres\", if_exists='replace')\n",
    "df_avail_samp = df_avail[['facilityname', 'last_updated', 'sites_available', 'total_sites']]\n",
    "df_avail_samp.shape"
   ]
  },
  {
   "cell_type": "code",
   "execution_count": null,
   "metadata": {
    "collapsed": true
   },
   "outputs": [],
   "source": [
    "campsites = pd.read_sql('select * from campnear_main', engine)\n",
    "facilities = campsites.drop_duplicates(subset='facilityname')"
   ]
  },
  {
   "cell_type": "code",
   "execution_count": null,
   "metadata": {
    "collapsed": false
   },
   "outputs": [],
   "source": [
    "merged = pd.merge(facilities, df_avail_samp, how=\"left\", on=['facilityname'])\n",
    "merged.columns\n",
    "merged.to_sql('table_fac', engine, flavor='postgres', if_exists='replace')"
   ]
  },
  {
   "cell_type": "code",
   "execution_count": null,
   "metadata": {
    "collapsed": false
   },
   "outputs": [],
   "source": [
    "import datetime\n",
    "filename = \"demo_table_fac_\" + \"{:%m_%d}\".format(datetime.date.today()) + \".csv\"\n",
    "command = \"copy (select * from table_fac) to '/tmp/\" + filename + \"' delimiter ',' csv header;\"\n",
    "with engine.begin() as conn:\n",
    "\tconn.execute(command)"
   ]
  },
  {
   "cell_type": "code",
   "execution_count": null,
   "metadata": {
    "collapsed": false
   },
   "outputs": [],
   "source": [
    "import os\n",
    "os.system(\"cp table_fac.csv demo_table_fac.old\")\n",
    "os.system(\"cp /tmp/\" + filename + \" table_fac.csv\" )"
   ]
  },
  {
   "cell_type": "code",
   "execution_count": 2,
   "metadata": {
    "collapsed": true
   },
   "outputs": [],
   "source": [
    "import get_orparks_data as ORPARKS"
   ]
  },
  {
   "cell_type": "code",
   "execution_count": 3,
   "metadata": {
    "collapsed": true
   },
   "outputs": [],
   "source": [
    "allparks = pd.DataFrame()"
   ]
  },
  {
   "cell_type": "code",
   "execution_count": 4,
   "metadata": {
    "collapsed": true
   },
   "outputs": [],
   "source": [
    "orparks = pd.read_sql('select park_id from orpark_parks', engine)"
   ]
  },
  {
   "cell_type": "code",
   "execution_count": 5,
   "metadata": {
    "collapsed": false
   },
   "outputs": [
    {
     "data": {
      "text/plain": [
       "(196, 1)"
      ]
     },
     "execution_count": 5,
     "metadata": {},
     "output_type": "execute_result"
    }
   ],
   "source": [
    "orparks.shape"
   ]
  },
  {
   "cell_type": "code",
   "execution_count": 6,
   "metadata": {
    "collapsed": false
   },
   "outputs": [],
   "source": [
    "for index,park in orparks.iterrows():\n",
    "    allparks = allparks.append(ORPARKS.get_park_resp(park.park_id))"
   ]
  },
  {
   "cell_type": "code",
   "execution_count": 7,
   "metadata": {
    "collapsed": false
   },
   "outputs": [
    {
     "data": {
      "text/plain": [
       "(1351, 7)"
      ]
     },
     "execution_count": 7,
     "metadata": {},
     "output_type": "execute_result"
    }
   ],
   "source": [
    "allparks.shape"
   ]
  },
  {
   "cell_type": "code",
   "execution_count": 8,
   "metadata": {
    "collapsed": false
   },
   "outputs": [
    {
     "data": {
      "text/plain": [
       "Index([           u'ada',   u'featureClass',   u'featureTitle',\n",
       "              u'park_id',  u'park_latitude', u'park_longitude',\n",
       "            u'park_name'],\n",
       "      dtype='object')"
      ]
     },
     "execution_count": 8,
     "metadata": {},
     "output_type": "execute_result"
    }
   ],
   "source": [
    "allparks.columns"
   ]
  },
  {
   "cell_type": "code",
   "execution_count": 12,
   "metadata": {
    "collapsed": false
   },
   "outputs": [
    {
     "data": {
      "text/html": [
       "<div>\n",
       "<table border=\"1\" class=\"dataframe\">\n",
       "  <thead>\n",
       "    <tr style=\"text-align: right;\">\n",
       "      <th></th>\n",
       "      <th>ada</th>\n",
       "      <th>featureClass</th>\n",
       "      <th>featureTitle</th>\n",
       "      <th>park_id</th>\n",
       "      <th>park_latitude</th>\n",
       "      <th>park_longitude</th>\n",
       "      <th>park_name</th>\n",
       "    </tr>\n",
       "  </thead>\n",
       "  <tbody>\n",
       "    <tr>\n",
       "      <th>0</th>\n",
       "      <td>0</td>\n",
       "      <td>camping</td>\n",
       "      <td>Camping</td>\n",
       "      <td>105</td>\n",
       "      <td>45.59844</td>\n",
       "      <td>-122.049</td>\n",
       "      <td>Ainsworth State Park</td>\n",
       "    </tr>\n",
       "    <tr>\n",
       "      <th>1</th>\n",
       "      <td>0</td>\n",
       "      <td>dump</td>\n",
       "      <td>Dump Station</td>\n",
       "      <td>105</td>\n",
       "      <td>45.59844</td>\n",
       "      <td>-122.049</td>\n",
       "      <td>Ainsworth State Park</td>\n",
       "    </tr>\n",
       "    <tr>\n",
       "      <th>2</th>\n",
       "      <td>0</td>\n",
       "      <td>hiker</td>\n",
       "      <td>Hiker Biker</td>\n",
       "      <td>105</td>\n",
       "      <td>45.59844</td>\n",
       "      <td>-122.049</td>\n",
       "      <td>Ainsworth State Park</td>\n",
       "    </tr>\n",
       "    <tr>\n",
       "      <th>3</th>\n",
       "      <td>0</td>\n",
       "      <td>hiking</td>\n",
       "      <td>Hiking Trails</td>\n",
       "      <td>105</td>\n",
       "      <td>45.59844</td>\n",
       "      <td>-122.049</td>\n",
       "      <td>Ainsworth State Park</td>\n",
       "    </tr>\n",
       "    <tr>\n",
       "      <th>4</th>\n",
       "      <td>0</td>\n",
       "      <td>picnic</td>\n",
       "      <td>Picnicking</td>\n",
       "      <td>105</td>\n",
       "      <td>45.59844</td>\n",
       "      <td>-122.049</td>\n",
       "      <td>Ainsworth State Park</td>\n",
       "    </tr>\n",
       "    <tr>\n",
       "      <th>5</th>\n",
       "      <td>0</td>\n",
       "      <td>playground</td>\n",
       "      <td>Playground</td>\n",
       "      <td>105</td>\n",
       "      <td>45.59844</td>\n",
       "      <td>-122.049</td>\n",
       "      <td>Ainsworth State Park</td>\n",
       "    </tr>\n",
       "    <tr>\n",
       "      <th>6</th>\n",
       "      <td>0</td>\n",
       "      <td>reservable</td>\n",
       "      <td>Reservable</td>\n",
       "      <td>105</td>\n",
       "      <td>45.59844</td>\n",
       "      <td>-122.049</td>\n",
       "      <td>Ainsworth State Park</td>\n",
       "    </tr>\n",
       "    <tr>\n",
       "      <th>7</th>\n",
       "      <td>0</td>\n",
       "      <td>restrooms</td>\n",
       "      <td>Restrooms Flush</td>\n",
       "      <td>105</td>\n",
       "      <td>45.59844</td>\n",
       "      <td>-122.049</td>\n",
       "      <td>Ainsworth State Park</td>\n",
       "    </tr>\n",
       "    <tr>\n",
       "      <th>8</th>\n",
       "      <td>0</td>\n",
       "      <td>shower</td>\n",
       "      <td>Hot Shower</td>\n",
       "      <td>105</td>\n",
       "      <td>45.59844</td>\n",
       "      <td>-122.049</td>\n",
       "      <td>Ainsworth State Park</td>\n",
       "    </tr>\n",
       "    <tr>\n",
       "      <th>9</th>\n",
       "      <td>0</td>\n",
       "      <td>wildlife</td>\n",
       "      <td>Wildlife</td>\n",
       "      <td>105</td>\n",
       "      <td>45.59844</td>\n",
       "      <td>-122.049</td>\n",
       "      <td>Ainsworth State Park</td>\n",
       "    </tr>\n",
       "  </tbody>\n",
       "</table>\n",
       "</div>"
      ],
      "text/plain": [
       "  ada featureClass     featureTitle  park_id  park_latitude park_longitude  \\\n",
       "0   0      camping          Camping      105       45.59844       -122.049   \n",
       "1   0         dump     Dump Station      105       45.59844       -122.049   \n",
       "2   0        hiker      Hiker Biker      105       45.59844       -122.049   \n",
       "3   0       hiking    Hiking Trails      105       45.59844       -122.049   \n",
       "4   0       picnic       Picnicking      105       45.59844       -122.049   \n",
       "5   0   playground       Playground      105       45.59844       -122.049   \n",
       "6   0   reservable       Reservable      105       45.59844       -122.049   \n",
       "7   0    restrooms  Restrooms Flush      105       45.59844       -122.049   \n",
       "8   0       shower       Hot Shower      105       45.59844       -122.049   \n",
       "9   0     wildlife         Wildlife      105       45.59844       -122.049   \n",
       "\n",
       "              park_name  \n",
       "0  Ainsworth State Park  \n",
       "1  Ainsworth State Park  \n",
       "2  Ainsworth State Park  \n",
       "3  Ainsworth State Park  \n",
       "4  Ainsworth State Park  \n",
       "5  Ainsworth State Park  \n",
       "6  Ainsworth State Park  \n",
       "7  Ainsworth State Park  \n",
       "8  Ainsworth State Park  \n",
       "9  Ainsworth State Park  "
      ]
     },
     "execution_count": 12,
     "metadata": {},
     "output_type": "execute_result"
    }
   ],
   "source": [
    "allparks[allparks.park_id == 105]"
   ]
  },
  {
   "cell_type": "code",
   "execution_count": 50,
   "metadata": {
    "collapsed": false
   },
   "outputs": [],
   "source": [
    "test = allparks.pivot('park_id', 'featureClass')['featureTitle']"
   ]
  },
  {
   "cell_type": "code",
   "execution_count": 54,
   "metadata": {
    "collapsed": false
   },
   "outputs": [
    {
     "data": {
      "text/html": [
       "<div>\n",
       "<table border=\"1\" class=\"dataframe\">\n",
       "  <thead>\n",
       "    <tr style=\"text-align: right;\">\n",
       "      <th>featureClass</th>\n",
       "      <th></th>\n",
       "      <th>ampitheater</th>\n",
       "      <th>beach</th>\n",
       "      <th>bike</th>\n",
       "      <th>boat</th>\n",
       "      <th>cabin</th>\n",
       "      <th>camping</th>\n",
       "      <th>dayuse</th>\n",
       "      <th>deluxecabin</th>\n",
       "      <th>deluxeyurt</th>\n",
       "      <th>...</th>\n",
       "      <th>restrooms</th>\n",
       "      <th>shower</th>\n",
       "      <th>swimming</th>\n",
       "      <th>tepee</th>\n",
       "      <th>vault</th>\n",
       "      <th>viewpoint</th>\n",
       "      <th>wildlife</th>\n",
       "      <th>windsurfing</th>\n",
       "      <th>yearround</th>\n",
       "      <th>yurt</th>\n",
       "    </tr>\n",
       "    <tr>\n",
       "      <th>park_id</th>\n",
       "      <th></th>\n",
       "      <th></th>\n",
       "      <th></th>\n",
       "      <th></th>\n",
       "      <th></th>\n",
       "      <th></th>\n",
       "      <th></th>\n",
       "      <th></th>\n",
       "      <th></th>\n",
       "      <th></th>\n",
       "      <th></th>\n",
       "      <th></th>\n",
       "      <th></th>\n",
       "      <th></th>\n",
       "      <th></th>\n",
       "      <th></th>\n",
       "      <th></th>\n",
       "      <th></th>\n",
       "      <th></th>\n",
       "      <th></th>\n",
       "      <th></th>\n",
       "    </tr>\n",
       "  </thead>\n",
       "  <tbody>\n",
       "    <tr>\n",
       "      <th>1</th>\n",
       "      <td>NaN</td>\n",
       "      <td>NaN</td>\n",
       "      <td>NaN</td>\n",
       "      <td>NaN</td>\n",
       "      <td>NaN</td>\n",
       "      <td>NaN</td>\n",
       "      <td>Camping</td>\n",
       "      <td>NaN</td>\n",
       "      <td>NaN</td>\n",
       "      <td>NaN</td>\n",
       "      <td>...</td>\n",
       "      <td>Restrooms Flush</td>\n",
       "      <td>Hot Shower</td>\n",
       "      <td>NaN</td>\n",
       "      <td>NaN</td>\n",
       "      <td>NaN</td>\n",
       "      <td>NaN</td>\n",
       "      <td>Wildlife</td>\n",
       "      <td>NaN</td>\n",
       "      <td>NaN</td>\n",
       "      <td>NaN</td>\n",
       "    </tr>\n",
       "    <tr>\n",
       "      <th>2</th>\n",
       "      <td>NaN</td>\n",
       "      <td>NaN</td>\n",
       "      <td>NaN</td>\n",
       "      <td>NaN</td>\n",
       "      <td>NaN</td>\n",
       "      <td>NaN</td>\n",
       "      <td>NaN</td>\n",
       "      <td>NaN</td>\n",
       "      <td>NaN</td>\n",
       "      <td>NaN</td>\n",
       "      <td>...</td>\n",
       "      <td>Restrooms Flush</td>\n",
       "      <td>NaN</td>\n",
       "      <td>NaN</td>\n",
       "      <td>NaN</td>\n",
       "      <td>NaN</td>\n",
       "      <td>NaN</td>\n",
       "      <td>Wildlife</td>\n",
       "      <td>NaN</td>\n",
       "      <td>NaN</td>\n",
       "      <td>NaN</td>\n",
       "    </tr>\n",
       "    <tr>\n",
       "      <th>3</th>\n",
       "      <td>NaN</td>\n",
       "      <td>NaN</td>\n",
       "      <td>NaN</td>\n",
       "      <td>NaN</td>\n",
       "      <td>Boat Ramp</td>\n",
       "      <td>NaN</td>\n",
       "      <td>NaN</td>\n",
       "      <td>NaN</td>\n",
       "      <td>NaN</td>\n",
       "      <td>NaN</td>\n",
       "      <td>...</td>\n",
       "      <td>Restrooms Flush</td>\n",
       "      <td>NaN</td>\n",
       "      <td>NaN</td>\n",
       "      <td>NaN</td>\n",
       "      <td>NaN</td>\n",
       "      <td>NaN</td>\n",
       "      <td>Wildlife</td>\n",
       "      <td>NaN</td>\n",
       "      <td>NaN</td>\n",
       "      <td>NaN</td>\n",
       "    </tr>\n",
       "    <tr>\n",
       "      <th>4</th>\n",
       "      <td>NaN</td>\n",
       "      <td>Ampitheater</td>\n",
       "      <td>NaN</td>\n",
       "      <td>NaN</td>\n",
       "      <td>Boat Ramp</td>\n",
       "      <td>Cabin</td>\n",
       "      <td>Camping</td>\n",
       "      <td>Day-Use Fee</td>\n",
       "      <td>NaN</td>\n",
       "      <td>NaN</td>\n",
       "      <td>...</td>\n",
       "      <td>Restrooms Flush</td>\n",
       "      <td>Hot Shower</td>\n",
       "      <td>NaN</td>\n",
       "      <td>NaN</td>\n",
       "      <td>NaN</td>\n",
       "      <td>NaN</td>\n",
       "      <td>Wildlife</td>\n",
       "      <td>NaN</td>\n",
       "      <td>Open Year Round</td>\n",
       "      <td>NaN</td>\n",
       "    </tr>\n",
       "    <tr>\n",
       "      <th>5</th>\n",
       "      <td>NaN</td>\n",
       "      <td>NaN</td>\n",
       "      <td>NaN</td>\n",
       "      <td>NaN</td>\n",
       "      <td>NaN</td>\n",
       "      <td>NaN</td>\n",
       "      <td>NaN</td>\n",
       "      <td>NaN</td>\n",
       "      <td>NaN</td>\n",
       "      <td>NaN</td>\n",
       "      <td>...</td>\n",
       "      <td>NaN</td>\n",
       "      <td>NaN</td>\n",
       "      <td>NaN</td>\n",
       "      <td>NaN</td>\n",
       "      <td>NaN</td>\n",
       "      <td>NaN</td>\n",
       "      <td>NaN</td>\n",
       "      <td>NaN</td>\n",
       "      <td>NaN</td>\n",
       "      <td>NaN</td>\n",
       "    </tr>\n",
       "  </tbody>\n",
       "</table>\n",
       "<p>5 rows × 35 columns</p>\n",
       "</div>"
      ],
      "text/plain": [
       "featureClass       ampitheater beach bike       boat  cabin  camping  \\\n",
       "park_id                                                                \n",
       "1             NaN          NaN   NaN  NaN        NaN    NaN  Camping   \n",
       "2             NaN          NaN   NaN  NaN        NaN    NaN      NaN   \n",
       "3             NaN          NaN   NaN  NaN  Boat Ramp    NaN      NaN   \n",
       "4             NaN  Ampitheater   NaN  NaN  Boat Ramp  Cabin  Camping   \n",
       "5             NaN          NaN   NaN  NaN        NaN    NaN      NaN   \n",
       "\n",
       "featureClass       dayuse deluxecabin deluxeyurt ...         restrooms  \\\n",
       "park_id                                          ...                     \n",
       "1                     NaN         NaN        NaN ...   Restrooms Flush   \n",
       "2                     NaN         NaN        NaN ...   Restrooms Flush   \n",
       "3                     NaN         NaN        NaN ...   Restrooms Flush   \n",
       "4             Day-Use Fee         NaN        NaN ...   Restrooms Flush   \n",
       "5                     NaN         NaN        NaN ...               NaN   \n",
       "\n",
       "featureClass      shower swimming tepee vault viewpoint  wildlife windsurfing  \\\n",
       "park_id                                                                         \n",
       "1             Hot Shower      NaN   NaN   NaN       NaN  Wildlife         NaN   \n",
       "2                    NaN      NaN   NaN   NaN       NaN  Wildlife         NaN   \n",
       "3                    NaN      NaN   NaN   NaN       NaN  Wildlife         NaN   \n",
       "4             Hot Shower      NaN   NaN   NaN       NaN  Wildlife         NaN   \n",
       "5                    NaN      NaN   NaN   NaN       NaN       NaN         NaN   \n",
       "\n",
       "featureClass        yearround yurt  \n",
       "park_id                             \n",
       "1                         NaN  NaN  \n",
       "2                         NaN  NaN  \n",
       "3                         NaN  NaN  \n",
       "4             Open Year Round  NaN  \n",
       "5                         NaN  NaN  \n",
       "\n",
       "[5 rows x 35 columns]"
      ]
     },
     "execution_count": 54,
     "metadata": {},
     "output_type": "execute_result"
    }
   ],
   "source": [
    "test.head()"
   ]
  },
  {
   "cell_type": "code",
   "execution_count": 29,
   "metadata": {
    "collapsed": true
   },
   "outputs": [],
   "source": []
  },
  {
   "cell_type": "code",
   "execution_count": 35,
   "metadata": {
    "collapsed": false
   },
   "outputs": [],
   "source": [
    "test.park_id = test.index"
   ]
  },
  {
   "cell_type": "code",
   "execution_count": 40,
   "metadata": {
    "collapsed": false
   },
   "outputs": [],
   "source": [
    "test = test.drop('', axis=1)"
   ]
  },
  {
   "cell_type": "code",
   "execution_count": 42,
   "metadata": {
    "collapsed": false
   },
   "outputs": [],
   "source": [
    "test.to_sql('orpark_features', engine, flavor='postgres')"
   ]
  },
  {
   "cell_type": "code",
   "execution_count": 45,
   "metadata": {
    "collapsed": true
   },
   "outputs": [],
   "source": [
    "odf_amenities = pd.read_csv('odf_sites_edit.csv')"
   ]
  },
  {
   "cell_type": "code",
   "execution_count": 48,
   "metadata": {
    "collapsed": false
   },
   "outputs": [],
   "source": [
    "odf_tosql = odf_amenities[['facilityname', 'vault','num_sites', 'water']]"
   ]
  },
  {
   "cell_type": "code",
   "execution_count": 49,
   "metadata": {
    "collapsed": true
   },
   "outputs": [],
   "source": [
    "odf_tosql.to_sql('odf_amenities', engine, flavor='postgres')"
   ]
  },
  {
   "cell_type": "code",
   "execution_count": 56,
   "metadata": {
    "collapsed": true
   },
   "outputs": [],
   "source": [
    "orst = pd.read_csv('orst_info.csv')\n",
    "fs = pd.read_csv('forestservice_info.csv')"
   ]
  },
  {
   "cell_type": "raw",
   "metadata": {},
   "source": []
  },
  {
   "cell_type": "code",
   "execution_count": 57,
   "metadata": {
    "collapsed": false
   },
   "outputs": [
    {
     "data": {
      "text/plain": [
       "(55, 31)"
      ]
     },
     "execution_count": 57,
     "metadata": {},
     "output_type": "execute_result"
    }
   ],
   "source": [
    "orst.shape"
   ]
  },
  {
   "cell_type": "code",
   "execution_count": 58,
   "metadata": {
    "collapsed": false
   },
   "outputs": [
    {
     "data": {
      "text/plain": [
       "(305, 31)"
      ]
     },
     "execution_count": 58,
     "metadata": {},
     "output_type": "execute_result"
    }
   ],
   "source": [
    "fs.shape"
   ]
  },
  {
   "cell_type": "code",
   "execution_count": 59,
   "metadata": {
    "collapsed": true
   },
   "outputs": [],
   "source": [
    "new_main = orst.append(fs)"
   ]
  },
  {
   "cell_type": "code",
   "execution_count": 60,
   "metadata": {
    "collapsed": false
   },
   "outputs": [
    {
     "data": {
      "text/plain": [
       "(360, 31)"
      ]
     },
     "execution_count": 60,
     "metadata": {},
     "output_type": "execute_result"
    }
   ],
   "source": [
    "new_main.shape"
   ]
  },
  {
   "cell_type": "code",
   "execution_count": 61,
   "metadata": {
    "collapsed": true
   },
   "outputs": [],
   "source": [
    "new_main.to_sql('campnear_main_new', engine, flavor='postgres')"
   ]
  },
  {
   "cell_type": "code",
   "execution_count": 62,
   "metadata": {
    "collapsed": false
   },
   "outputs": [
    {
     "data": {
      "text/plain": [
       "Index([u'cabins_available', u'cg_accessible', u'cg_conditions', u'cg_fcfs',\n",
       "       u'cg_flush', u'cg_nearbeach', u'cg_nearlake', u'cg_nearriver',\n",
       "       u'cg_petsallowed', u'cg_proximitytowater', u'cg_reservable',\n",
       "       u'cg_season', u'cg_shower', u'cg_solitude', u'cg_status',\n",
       "       u'cg_transit_avail', u'cg_vault', u'cg_water', u'drivehours',\n",
       "       u'drivemiles', u'driveminutes', u'facilityid', u'facilitylatitude',\n",
       "       u'facilitylongitude', u'facilityname', u'nofee', u'reservation_link',\n",
       "       u'site_url', u'transithours', u'transitminutes', u'yurts_available'],\n",
       "      dtype='object')"
      ]
     },
     "execution_count": 62,
     "metadata": {},
     "output_type": "execute_result"
    }
   ],
   "source": [
    "new_main.columns"
   ]
  },
  {
   "cell_type": "code",
   "execution_count": null,
   "metadata": {
    "collapsed": true
   },
   "outputs": [],
   "source": []
  }
 ],
 "metadata": {
  "kernelspec": {
   "display_name": "Python 2",
   "language": "python",
   "name": "python2"
  },
  "language_info": {
   "codemirror_mode": {
    "name": "ipython",
    "version": 2
   },
   "file_extension": ".py",
   "mimetype": "text/x-python",
   "name": "python",
   "nbconvert_exporter": "python",
   "pygments_lexer": "ipython2",
   "version": "2.7.11"
  }
 },
 "nbformat": 4,
 "nbformat_minor": 0
}
