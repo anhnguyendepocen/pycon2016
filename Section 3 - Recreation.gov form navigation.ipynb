{
 "cells": [
  {
   "cell_type": "markdown",
   "metadata": {},
   "source": [
    "<br>\n",
    "<img src=\"images/recgov_booking.png\" width=80% style=\"display: inline-block\">\n",
    "<br>\n",
    "image source: http://www.recreation.gov\n",
    "<br>\n",
    "<img src=\"images/recgov_tou.png\" width=80% style=\"display: inline-block\">\n",
    "<br>\n",
    "image source: http://www.recreation.gov/marketing.do?goto=/acm/shareData.htm"
   ]
  },
  {
   "cell_type": "code",
   "execution_count": 1,
   "metadata": {
    "collapsed": false
   },
   "outputs": [],
   "source": [
    "from selenium import webdriver\n",
    "from selenium.webdriver.common.keys import Keys\n",
    "from selenium.webdriver.support.ui import WebDriverWait\n",
    "from selenium.webdriver.support import expected_conditions as EC\n",
    "from selenium.webdriver.common.by import By\n",
    "from pyvirtualdisplay import Display\n",
    "from bs4 import BeautifulSoup\n",
    "import re\n",
    "import pandas as pd\n",
    "import datetime\n",
    "from datetime import timedelta, date\n",
    "import sys\n",
    "import requests"
   ]
  },
  {
   "cell_type": "code",
   "execution_count": 13,
   "metadata": {
    "collapsed": false
   },
   "outputs": [
    {
     "name": "stdout",
     "output_type": "stream",
     "text": [
      "starting display\n",
      "setting up web browser\n"
     ]
    }
   ],
   "source": [
    "print('starting display')\n",
    "display = Display(visible=0, size=(1024, 768))\n",
    "display.start()\n",
    "\n",
    "print('setting up web browser')\n",
    "browser = webdriver.Firefox()"
   ]
  },
  {
   "cell_type": "code",
   "execution_count": 20,
   "metadata": {
    "collapsed": false
   },
   "outputs": [],
   "source": [
    "def check_recreationgov(facility_url, start_date, stay_length) :\n",
    "    \n",
    "    browser.set_window_size(1366, 768)\n",
    "    \n",
    "    #browser = mechanize.Browser()\n",
    "    #user_agent_str = \"Mozilla/5.0 (Macintosh; Intel Mac OS X 10_9_4) AppleWebKit/537.36 (KHTML, like Gecko) Chrome/43.0.2357.134 Safari/537.36\"\n",
    "    #browser.addheaders = [('User-agent', user_agent_str)]\t\n",
    "    end_date = \"{:%m/%d/%Y}\".format(datetime.datetime.strptime(start_date, \"%m/%d/%Y\") + timedelta(1))\n",
    "\n",
    "    print('getting url')\n",
    "    try:\n",
    "        browser.get(facility_url)\n",
    "        browser.set_script_timeout(30)\n",
    "        browser.set_page_load_timeout(30) # seconds\n",
    "\n",
    "        #print(browser.page_source)\n",
    "        #browser.open(facility_url)\n",
    "    except Exception as ex:\n",
    "        print(\"Unable to open url: \" + facility_url)\n",
    "        print(ex)\n",
    "        return pd.DataFrame()\n",
    "    \n",
    "    print('browsing form')\n",
    "    form = browser.find_element_by_name('unifSearchForm')\n",
    "    arrival = form.find_element_by_name('arrivalDate')\n",
    "    departure = form.find_element_by_name('departureDate')\n",
    "\n",
    "    arrival.send_keys(start_date)\n",
    "    departure.send_keys(end_date)\n",
    "    form.submit()\n",
    "    soup = BeautifulSoup(browser.page_source, 'lxml')\n",
    "\n",
    "    divs = soup.findAll('div', attrs={\"class\" : 'matchSummary'})\n",
    "    query_result = divs[0].text\n",
    "    results = pd.DataFrame()\n",
    "\n",
    "    for filter_name in soup('div', {\"class\": re.compile(\"searchTypeFilter.*\")}):\n",
    "        parts = filter_name.text.split('(')\n",
    "        entry_name = parts[0]\n",
    "\n",
    "        name = entry_name.lower().strip().replace(' ', '_')\n",
    "        name = name.replace(\"-\",\"\")\n",
    "\n",
    "        # some names have spaces around the '-', some dont\n",
    "        # i.e. standard - full vs standard-full\n",
    "        # remove __ to avoid accidentally concatenating standardfull if there arent spaces\n",
    "        # around the -\n",
    "        name = name.replace(\"__\", \"_\")\n",
    "        results[name] = [parts[1].split(')')[0]]\n",
    "\n",
    "    results = results.drop('all', axis=1)\n",
    "    results['last_updated'] = [\"{:%m/%d/%Y}\".format(datetime.date.today())]\n",
    "    results['start_date'] = start_date\n",
    "    results['end_date'] = end_date\n",
    "\n",
    "    availability_info = query_result.split(' ')\n",
    "    sites_available = availability_info[0]\n",
    "    #total_sites = availability_info[5]\n",
    "\n",
    "    results['sites_available'] = [sites_available]\n",
    "    #results['total_sites'] = [total_sites]\n",
    "    \n",
    "\n",
    "\n",
    "    return results"
   ]
  },
  {
   "cell_type": "code",
   "execution_count": 21,
   "metadata": {
    "collapsed": false
   },
   "outputs": [
    {
     "name": "stdout",
     "output_type": "stream",
     "text": [
      "getting url\n",
      "browsing form\n"
     ]
    }
   ],
   "source": [
    "test = check_recreationgov('http://www.recreation.gov/camping/Slide-Creek/r/campgroundDetails.do?contractCode=NRSO&parkId=72370', '05/25/2016', 2)"
   ]
  },
  {
   "cell_type": "code",
   "execution_count": 22,
   "metadata": {
    "collapsed": false
   },
   "outputs": [
    {
     "data": {
      "text/html": [
       "<div>\n",
       "<table border=\"1\" class=\"dataframe\">\n",
       "  <thead>\n",
       "    <tr style=\"text-align: right;\">\n",
       "      <th></th>\n",
       "      <th>standard_nonelectric</th>\n",
       "      <th>last_updated</th>\n",
       "      <th>start_date</th>\n",
       "      <th>end_date</th>\n",
       "      <th>sites_available</th>\n",
       "    </tr>\n",
       "  </thead>\n",
       "  <tbody>\n",
       "    <tr>\n",
       "      <th>0</th>\n",
       "      <td>8</td>\n",
       "      <td>05/18/2016</td>\n",
       "      <td>05/25/2016</td>\n",
       "      <td>05/26/2016</td>\n",
       "      <td>8</td>\n",
       "    </tr>\n",
       "  </tbody>\n",
       "</table>\n",
       "</div>"
      ],
      "text/plain": [
       "  standard_nonelectric last_updated  start_date    end_date sites_available\n",
       "0                    8   05/18/2016  05/25/2016  05/26/2016               8"
      ]
     },
     "execution_count": 22,
     "metadata": {},
     "output_type": "execute_result"
    }
   ],
   "source": [
    "test"
   ]
  },
  {
   "cell_type": "code",
   "execution_count": 23,
   "metadata": {
    "collapsed": false
   },
   "outputs": [
    {
     "data": {
      "text/plain": [
       "<Display cmd_param=['Xvfb', '-br', '-nolisten', 'tcp', '-screen', '0', '1024x768x24', ':1005'] cmd=['Xvfb', '-br', '-nolisten', 'tcp', '-screen', '0', '1024x768x24', ':1005'] oserror=None returncode=0 stdout=\"\" stderr=\"Initializing built-in extension Generic Event Extension\n",
       "Initializing built-in extension SHAPE\n",
       "Initializing built-in extension MIT-SHM\n",
       "Initializing built-in extension XInputExtension\n",
       "Initializing built-in extension XTEST\n",
       "Initializing built-in extension BIG-REQUESTS\n",
       "Initializing built-in extension SYNC\n",
       "Initializing built-in extension XKEYBOARD\n",
       "Initializing built-in extension XC-MISC\n",
       "Initializing built-in extension SECURITY\n",
       "Initializing built-in extension XINERAMA\n",
       "Initializing built-in extension XFIXES\n",
       "Initializing built-in extension RENDER\n",
       "Initializing built-in extension RANDR\n",
       "Initializing built-in extension COMPOSITE\n",
       "Initializing built-in extension DAMAGE\n",
       "Initializing built-in extension MIT-SCREEN-SAVER\n",
       "Initializing built-in extension DOUBLE-BUFFER\n",
       "Initializing built-in extension RECORD\n",
       "Initializing built-in extension DPMS\n",
       "Initializing built-in extension Present\n",
       "Initializing built-in extension DRI3\n",
       "Initializing built-in extension X-Resource\n",
       "Initializing built-in extension XVideo\n",
       "Initializing built-in extension XVideo-MotionCompensation\n",
       "Initializing built-in extension SELinux\n",
       "Initializing built-in extension GLX\n",
       "[dix] Could not init font path element /usr/share/fonts/X11/cyrillic, removing from list!\n",
       "[dix] Could not init font path element /usr/share/fonts/X11/100dpi/:unscaled, removing from list!\n",
       "[dix] Could not init font path element /usr/share/fonts/X11/75dpi/:unscaled, removing from list!\n",
       "[dix] Could not init font path element /usr/share/fonts/X11/Type1, removing from list!\n",
       "[dix] Could not init font path element /usr/share/fonts/X11/100dpi, removing from list!\n",
       "[dix] Could not init font path element /usr/share/fonts/X11/75dpi, removing from list!\" timeout=False>"
      ]
     },
     "execution_count": 23,
     "metadata": {},
     "output_type": "execute_result"
    }
   ],
   "source": [
    "    browser.close()\n",
    "    display.stop()"
   ]
  },
  {
   "cell_type": "code",
   "execution_count": null,
   "metadata": {
    "collapsed": true
   },
   "outputs": [],
   "source": []
  }
 ],
 "metadata": {
  "kernelspec": {
   "display_name": "Python 3",
   "language": "python",
   "name": "python3"
  },
  "language_info": {
   "codemirror_mode": {
    "name": "ipython",
    "version": 3
   },
   "file_extension": ".py",
   "mimetype": "text/x-python",
   "name": "python",
   "nbconvert_exporter": "python",
   "pygments_lexer": "ipython3",
   "version": "3.4.3"
  }
 },
 "nbformat": 4,
 "nbformat_minor": 0
}
