{
 "cells": [
  {
   "cell_type": "markdown",
   "metadata": {},
   "source": [
    "<br>\n",
    "<img src=\"images/recgov_booking.png\" width=80% style=\"display: inline-block\">\n",
    "<br>\n",
    "image source: http://www.recreation.gov\n",
    "<br>\n",
    "<img src=\"images/recgov_tou.png\" width=80% style=\"display: inline-block\">\n",
    "<br>\n",
    "image source: http://www.recreation.gov/marketing.do?goto=/acm/shareData.htm"
   ]
  },
  {
   "cell_type": "code",
   "execution_count": null,
   "metadata": {
    "collapsed": true
   },
   "outputs": [],
   "source": []
  },
  {
   "cell_type": "code",
   "execution_count": null,
   "metadata": {
    "collapsed": true
   },
   "outputs": [],
   "source": [
    "def check_recreationgov(facility_url, start_date, stay_length) :\n",
    "    browser = mechanize.Browser()\n",
    "    user_agent_str = \"Mozilla/5.0 (Macintosh; Intel Mac OS X 10_9_4) AppleWebKit/537.36 (KHTML, like Gecko) Chrome/43.0.2357.134 Safari/537.36\"\n",
    "    browser.addheaders = [('User-agent', user_agent_str)]\t\n",
    "    end_date = \"{:%m/%d/%Y}\".format(datetime.datetime.strptime(start_date, \"%m/%d/%Y\") + timedelta(1))\n",
    "\n",
    "    try:\n",
    "        browser.open(facility_url)\n",
    "    except Exception:\n",
    "        return pd.DataFrame()\t\n",
    "\n",
    "    browser.select_form('unifSearchForm')\n",
    "    browser.form['arrivalDate'] = start_date\n",
    "    browser.form['departureDate'] = end_date\n",
    "    browser.submit()\n",
    "\n",
    "    date_resp = browser.response()\n",
    "    availability_html =  date_resp.read()\n",
    "\n",
    "    soup = BeautifulSoup(availability_html, 'lxml')\n",
    "\n",
    "    divs = soup.findAll('div', attrs={\"class\" : 'matchSummary'})\n",
    "    query_result = divs[0].text\n",
    "    results = pd.DataFrame()\n",
    "\n",
    "    for filter_name in soup('div', {\"class\": re.compile(\"searchTypeFilter.*\")}):\n",
    "        parts = filter_name.text.split('(')\n",
    "        entry_name = parts[0]\n",
    "\n",
    "        name = entry_name.lower().strip().replace(' ', '_')\n",
    "        name = name.replace(\"-\",\"\")\n",
    "\n",
    "        # some names have spaces around the '-', some dont\n",
    "        # i.e. standard - full vs standard-full\n",
    "        # remove __ to avoid accidentally concatenating standardfull if there arent spaces\n",
    "        # around the -\n",
    "        name = name.replace(\"__\", \"_\")\n",
    "        results[name] = [parts[1].split(')')[0]]\n",
    "\n",
    "    results = results.drop('all', axis=1)\n",
    "    results['last_updated'] = [\"{:%m/%d/%Y}\".format(datetime.date.today())]\n",
    "    results['start_date'] = start_date\n",
    "    results['end_date'] = end_date\n",
    "\n",
    "    availability_info = query_result.split(' ')\n",
    "    sites_available = availability_info[0]\n",
    "    total_sites = availability_info[5]\n",
    "\n",
    "    results['sites_available'] = [sites_available]\n",
    "    results['total_sites'] = [total_sites]\n",
    "    return results"
   ]
  }
 ],
 "metadata": {
  "kernelspec": {
   "display_name": "Python 3",
   "language": "python",
   "name": "python3"
  },
  "language_info": {
   "codemirror_mode": {
    "name": "ipython",
    "version": 3
   },
   "file_extension": ".py",
   "mimetype": "text/x-python",
   "name": "python",
   "nbconvert_exporter": "python",
   "pygments_lexer": "ipython3",
   "version": "3.4.3"
  }
 },
 "nbformat": 4,
 "nbformat_minor": 0
}
