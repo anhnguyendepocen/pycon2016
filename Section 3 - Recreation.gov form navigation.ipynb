{
 "cells": [
  {
   "cell_type": "markdown",
   "metadata": {},
   "source": [
    "<br>\n",
    "<img src=\"images/recgov_booking.png\" width=80% style=\"display: inline-block\">\n",
    "<br>\n",
    "image source: http://www.recreation.gov\n",
    "<br>\n",
    "<img src=\"images/recgov_tou.png\" width=80% style=\"display: inline-block\">\n",
    "<br>\n",
    "image source: http://www.recreation.gov/marketing.do?goto=/acm/shareData.htm"
   ]
  },
  {
   "cell_type": "code",
   "execution_count": 1,
   "metadata": {
    "collapsed": false
   },
   "outputs": [],
   "source": [
    "from selenium import webdriver\n",
    "from selenium.webdriver.common.keys import Keys\n",
    "from bs4 import BeautifulSoup\n",
    "import re\n",
    "import pandas as pd\n",
    "import datetime\n",
    "from datetime import timedelta, date\n",
    "import sys\n",
    "import requests"
   ]
  },
  {
   "cell_type": "code",
   "execution_count": 4,
   "metadata": {
    "collapsed": true
   },
   "outputs": [],
   "source": [
    "def check_recreationgov(facility_url, start_date, stay_length) :\n",
    "\n",
    "    driver = webdriver.Firefox()\n",
    "    \n",
    "    \n",
    "    \n",
    "    #browser = mechanize.Browser()\n",
    "    #user_agent_str = \"Mozilla/5.0 (Macintosh; Intel Mac OS X 10_9_4) AppleWebKit/537.36 (KHTML, like Gecko) Chrome/43.0.2357.134 Safari/537.36\"\n",
    "    #browser.addheaders = [('User-agent', user_agent_str)]\t\n",
    "    end_date = \"{:%m/%d/%Y}\".format(datetime.datetime.strptime(start_date, \"%m/%d/%Y\") + timedelta(1))\n",
    "\n",
    "    try:\n",
    "        driver.get(facility_url)\n",
    "        #browser.open(facility_url)\n",
    "    except Exception as ex:\n",
    "        print(\"Unable to open url: \" + facility_url)\n",
    "        print(ex)\n",
    "        return pd.DataFrame()\n",
    "    \n",
    "    form = browser.find_element_by_name('unifSearchForm')\n",
    "    arrival = form.find_element_by_name('arrivalDate')\n",
    "    departure = form.find_element_by_name('departureDate')\n",
    "    arrival.send_keys(start_date)\n",
    "    departure.send_keys(end_date)\n",
    "    form.submit()\n",
    "    #browser.select_form('unifSearchForm')\n",
    "    #browser.form['arrivalDate'] = start_date\n",
    "    #browser.form['departureDate'] = end_date\n",
    "    #browser.submit()\n",
    "\n",
    "    #date_resp = browser.response()\n",
    "    #availability_html =  date_resp.read()\n",
    "\n",
    "    #soup = BeautifulSoup(availability_html, 'lxml')\n",
    "    soup = BeautifulSoup(browser.page_source, 'lxml')\n",
    "\n",
    "    divs = soup.findAll('div', attrs={\"class\" : 'matchSummary'})\n",
    "    query_result = divs[0].text\n",
    "    results = pd.DataFrame()\n",
    "\n",
    "    for filter_name in soup('div', {\"class\": re.compile(\"searchTypeFilter.*\")}):\n",
    "        parts = filter_name.text.split('(')\n",
    "        entry_name = parts[0]\n",
    "\n",
    "        name = entry_name.lower().strip().replace(' ', '_')\n",
    "        name = name.replace(\"-\",\"\")\n",
    "\n",
    "        # some names have spaces around the '-', some dont\n",
    "        # i.e. standard - full vs standard-full\n",
    "        # remove __ to avoid accidentally concatenating standardfull if there arent spaces\n",
    "        # around the -\n",
    "        name = name.replace(\"__\", \"_\")\n",
    "        results[name] = [parts[1].split(')')[0]]\n",
    "\n",
    "    results = results.drop('all', axis=1)\n",
    "    results['last_updated'] = [\"{:%m/%d/%Y}\".format(datetime.date.today())]\n",
    "    results['start_date'] = start_date\n",
    "    results['end_date'] = end_date\n",
    "\n",
    "    availability_info = query_result.split(' ')\n",
    "    sites_available = availability_info[0]\n",
    "    total_sites = availability_info[5]\n",
    "\n",
    "    results['sites_available'] = [sites_available]\n",
    "    results['total_sites'] = [total_sites]\n",
    "    return results"
   ]
  },
  {
   "cell_type": "code",
   "execution_count": 5,
   "metadata": {
    "collapsed": false
   },
   "outputs": [
    {
     "ename": "WebDriverException",
     "evalue": "Message: The browser appears to have exited before we could connect. If you specified a log_file in the FirefoxBinary constructor, check it for details.\n",
     "output_type": "error",
     "traceback": [
      "\u001b[1;31m---------------------------------------------------------------------------\u001b[0m",
      "\u001b[1;31mWebDriverException\u001b[0m                        Traceback (most recent call last)",
      "\u001b[1;32m<ipython-input-5-fc27f2c4a897>\u001b[0m in \u001b[0;36m<module>\u001b[1;34m()\u001b[0m\n\u001b[1;32m----> 1\u001b[1;33m \u001b[0mtest\u001b[0m \u001b[1;33m=\u001b[0m \u001b[0mcheck_recreationgov\u001b[0m\u001b[1;33m(\u001b[0m\u001b[1;34m'Slide Creek'\u001b[0m\u001b[1;33m,\u001b[0m \u001b[1;34m'05/25/2016'\u001b[0m\u001b[1;33m,\u001b[0m \u001b[1;34m'http://www.recreation.gov/camping/Slide-Creek/r/campgroundDetails.do?contractCode=NRSO&parkId=72370'\u001b[0m\u001b[1;33m)\u001b[0m\u001b[1;33m\u001b[0m\u001b[0m\n\u001b[0m",
      "\u001b[1;32m<ipython-input-4-61847e7933ca>\u001b[0m in \u001b[0;36mcheck_recreationgov\u001b[1;34m(facility_url, start_date, stay_length)\u001b[0m\n\u001b[0;32m      1\u001b[0m \u001b[1;32mdef\u001b[0m \u001b[0mcheck_recreationgov\u001b[0m\u001b[1;33m(\u001b[0m\u001b[0mfacility_url\u001b[0m\u001b[1;33m,\u001b[0m \u001b[0mstart_date\u001b[0m\u001b[1;33m,\u001b[0m \u001b[0mstay_length\u001b[0m\u001b[1;33m)\u001b[0m \u001b[1;33m:\u001b[0m\u001b[1;33m\u001b[0m\u001b[0m\n\u001b[0;32m      2\u001b[0m \u001b[1;33m\u001b[0m\u001b[0m\n\u001b[1;32m----> 3\u001b[1;33m     \u001b[0mdriver\u001b[0m \u001b[1;33m=\u001b[0m \u001b[0mwebdriver\u001b[0m\u001b[1;33m.\u001b[0m\u001b[0mFirefox\u001b[0m\u001b[1;33m(\u001b[0m\u001b[1;33m)\u001b[0m\u001b[1;33m\u001b[0m\u001b[0m\n\u001b[0m\u001b[0;32m      4\u001b[0m \u001b[1;33m\u001b[0m\u001b[0m\n\u001b[0;32m      5\u001b[0m \u001b[1;33m\u001b[0m\u001b[0m\n",
      "\u001b[1;32m/usr/local/lib/python3.4/dist-packages/selenium/webdriver/firefox/webdriver.py\u001b[0m in \u001b[0;36m__init__\u001b[1;34m(self, firefox_profile, firefox_binary, timeout, capabilities, proxy, executable_path, firefox_options)\u001b[0m\n\u001b[0;32m    101\u001b[0m \u001b[1;33m\u001b[0m\u001b[0m\n\u001b[0;32m    102\u001b[0m             executor = ExtensionConnection(\"127.0.0.1\", self.profile,\n\u001b[1;32m--> 103\u001b[1;33m                                            self.binary, timeout)\n\u001b[0m\u001b[0;32m    104\u001b[0m             RemoteWebDriver.__init__(self,\n\u001b[0;32m    105\u001b[0m                 \u001b[0mcommand_executor\u001b[0m\u001b[1;33m=\u001b[0m\u001b[0mexecutor\u001b[0m\u001b[1;33m,\u001b[0m\u001b[1;33m\u001b[0m\u001b[0m\n",
      "\u001b[1;32m/usr/local/lib/python3.4/dist-packages/selenium/webdriver/firefox/extension_connection.py\u001b[0m in \u001b[0;36m__init__\u001b[1;34m(self, host, firefox_profile, firefox_binary, timeout)\u001b[0m\n\u001b[0;32m     49\u001b[0m         \u001b[0mself\u001b[0m\u001b[1;33m.\u001b[0m\u001b[0mprofile\u001b[0m\u001b[1;33m.\u001b[0m\u001b[0madd_extension\u001b[0m\u001b[1;33m(\u001b[0m\u001b[1;33m)\u001b[0m\u001b[1;33m\u001b[0m\u001b[0m\n\u001b[0;32m     50\u001b[0m \u001b[1;33m\u001b[0m\u001b[0m\n\u001b[1;32m---> 51\u001b[1;33m         \u001b[0mself\u001b[0m\u001b[1;33m.\u001b[0m\u001b[0mbinary\u001b[0m\u001b[1;33m.\u001b[0m\u001b[0mlaunch_browser\u001b[0m\u001b[1;33m(\u001b[0m\u001b[0mself\u001b[0m\u001b[1;33m.\u001b[0m\u001b[0mprofile\u001b[0m\u001b[1;33m,\u001b[0m \u001b[0mtimeout\u001b[0m\u001b[1;33m=\u001b[0m\u001b[0mtimeout\u001b[0m\u001b[1;33m)\u001b[0m\u001b[1;33m\u001b[0m\u001b[0m\n\u001b[0m\u001b[0;32m     52\u001b[0m         \u001b[0m_URL\u001b[0m \u001b[1;33m=\u001b[0m \u001b[1;34m\"http://%s:%d/hub\"\u001b[0m \u001b[1;33m%\u001b[0m \u001b[1;33m(\u001b[0m\u001b[0mHOST\u001b[0m\u001b[1;33m,\u001b[0m \u001b[0mPORT\u001b[0m\u001b[1;33m)\u001b[0m\u001b[1;33m\u001b[0m\u001b[0m\n\u001b[0;32m     53\u001b[0m         RemoteConnection.__init__(\n",
      "\u001b[1;32m/usr/local/lib/python3.4/dist-packages/selenium/webdriver/firefox/firefox_binary.py\u001b[0m in \u001b[0;36mlaunch_browser\u001b[1;34m(self, profile, timeout)\u001b[0m\n\u001b[0;32m     66\u001b[0m \u001b[1;33m\u001b[0m\u001b[0m\n\u001b[0;32m     67\u001b[0m         \u001b[0mself\u001b[0m\u001b[1;33m.\u001b[0m\u001b[0m_start_from_profile_path\u001b[0m\u001b[1;33m(\u001b[0m\u001b[0mself\u001b[0m\u001b[1;33m.\u001b[0m\u001b[0mprofile\u001b[0m\u001b[1;33m.\u001b[0m\u001b[0mpath\u001b[0m\u001b[1;33m)\u001b[0m\u001b[1;33m\u001b[0m\u001b[0m\n\u001b[1;32m---> 68\u001b[1;33m         \u001b[0mself\u001b[0m\u001b[1;33m.\u001b[0m\u001b[0m_wait_until_connectable\u001b[0m\u001b[1;33m(\u001b[0m\u001b[0mtimeout\u001b[0m\u001b[1;33m=\u001b[0m\u001b[0mtimeout\u001b[0m\u001b[1;33m)\u001b[0m\u001b[1;33m\u001b[0m\u001b[0m\n\u001b[0m\u001b[0;32m     69\u001b[0m \u001b[1;33m\u001b[0m\u001b[0m\n\u001b[0;32m     70\u001b[0m     \u001b[1;32mdef\u001b[0m \u001b[0mkill\u001b[0m\u001b[1;33m(\u001b[0m\u001b[0mself\u001b[0m\u001b[1;33m)\u001b[0m\u001b[1;33m:\u001b[0m\u001b[1;33m\u001b[0m\u001b[0m\n",
      "\u001b[1;32m/usr/local/lib/python3.4/dist-packages/selenium/webdriver/firefox/firefox_binary.py\u001b[0m in \u001b[0;36m_wait_until_connectable\u001b[1;34m(self, timeout)\u001b[0m\n\u001b[0;32m     96\u001b[0m             \u001b[1;32mif\u001b[0m \u001b[0mself\u001b[0m\u001b[1;33m.\u001b[0m\u001b[0mprocess\u001b[0m\u001b[1;33m.\u001b[0m\u001b[0mpoll\u001b[0m\u001b[1;33m(\u001b[0m\u001b[1;33m)\u001b[0m \u001b[1;32mis\u001b[0m \u001b[1;32mnot\u001b[0m \u001b[1;32mNone\u001b[0m\u001b[1;33m:\u001b[0m\u001b[1;33m\u001b[0m\u001b[0m\n\u001b[0;32m     97\u001b[0m                 \u001b[1;31m# Browser has exited\u001b[0m\u001b[1;33m\u001b[0m\u001b[1;33m\u001b[0m\u001b[0m\n\u001b[1;32m---> 98\u001b[1;33m                 raise WebDriverException(\"The browser appears to have exited \"\n\u001b[0m\u001b[0;32m     99\u001b[0m                       \u001b[1;34m\"before we could connect. If you specified a log_file in \"\u001b[0m\u001b[1;33m\u001b[0m\u001b[0m\n\u001b[0;32m    100\u001b[0m                       \"the FirefoxBinary constructor, check it for details.\")\n",
      "\u001b[1;31mWebDriverException\u001b[0m: Message: The browser appears to have exited before we could connect. If you specified a log_file in the FirefoxBinary constructor, check it for details.\n"
     ]
    }
   ],
   "source": [
    "test = check_recreationgov('Slide Creek', '05/25/2016', 'http://www.recreation.gov/camping/Slide-Creek/r/campgroundDetails.do?contractCode=NRSO&parkId=72370')"
   ]
  },
  {
   "cell_type": "code",
   "execution_count": null,
   "metadata": {
    "collapsed": true
   },
   "outputs": [],
   "source": []
  }
 ],
 "metadata": {
  "kernelspec": {
   "display_name": "Python 3",
   "language": "python",
   "name": "python3"
  },
  "language_info": {
   "codemirror_mode": {
    "name": "ipython",
    "version": 3
   },
   "file_extension": ".py",
   "mimetype": "text/x-python",
   "name": "python",
   "nbconvert_exporter": "python",
   "pygments_lexer": "ipython3",
   "version": "3.4.3"
  }
 },
 "nbformat": 4,
 "nbformat_minor": 0
}
