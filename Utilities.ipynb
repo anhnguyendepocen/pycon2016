{
 "cells": [
  {
   "cell_type": "code",
   "execution_count": 33,
   "metadata": {
    "collapsed": true
   },
   "outputs": [],
   "source": [
    "import requests\n",
    "import pandas as pd\n",
    "import json\n",
    "import math\n",
    "from pandas.io.json import json_normalize\n",
    "import config\n",
    "import re\n",
    "import csv"
   ]
  },
  {
   "cell_type": "code",
   "execution_count": null,
   "metadata": {
    "collapsed": true
   },
   "outputs": [],
   "source": []
  },
  {
   "cell_type": "code",
   "execution_count": 34,
   "metadata": {
    "collapsed": true
   },
   "outputs": [],
   "source": [
    "def get_facility_json(facility_id) :\n",
    "    # based on the facility id of each facility, get the json response \n",
    "    request_url = 'https://ridb.recreation.gov/api/v1/facilities/'+ str(facility_id)\n",
    "    facilities_params = dict(apiKey=config.RIDB_API_KEY)\n",
    "    facilities_resp = requests.get(url=request_url, params=facilities_params)\n",
    "    return facilities_resp.text\n",
    "    "
   ]
  },
  {
   "cell_type": "code",
   "execution_count": 35,
   "metadata": {
    "collapsed": true
   },
   "outputs": [],
   "source": [
    "facilities = pd.read_csv('ridb_sites.csv')"
   ]
  },
  {
   "cell_type": "code",
   "execution_count": 44,
   "metadata": {
    "collapsed": false
   },
   "outputs": [
    {
     "name": "stdout",
     "output_type": "stream",
     "text": [
      "0     {\"FacilityEmail\":\"\",\"FacilityLongitude\":-121.9...\n",
      "1     {\"FacilityEmail\":\"\",\"FacilityLongitude\":-120.3...\n",
      "2     {\"FacilityEmail\":\"\",\"FacilityLongitude\":-122.0...\n",
      "3     {\"FacilityEmail\":\"\",\"FacilityLongitude\":-121.8...\n",
      "4     {\"FacilityEmail\":\"\",\"FacilityLongitude\":-121.9...\n",
      "5     {\"FacilityEmail\":\"\",\"FacilityLongitude\":-121.8...\n",
      "6     {\"FacilityEmail\":\"\",\"FacilityLongitude\":-121.9...\n",
      "7     {\"FacilityEmail\":\"\",\"FacilityLongitude\":-121.6...\n",
      "8     {\"FacilityEmail\":\"\",\"FacilityLongitude\":-121.4...\n",
      "9     {\"FacilityEmail\":\"\",\"FacilityLongitude\":-121.6...\n",
      "10    {\"FacilityEmail\":\"\",\"FacilityLongitude\":-121.7...\n",
      "11    {\"FacilityEmail\":\"\",\"FacilityLongitude\":\"\",\"Fa...\n",
      "12    {\"FacilityEmail\":\"\",\"FacilityLongitude\":-121.8...\n",
      "13    {\"FacilityEmail\":\"\",\"FacilityLongitude\":-118.7...\n",
      "14    {\"FacilityEmail\":\"\",\"FacilityLongitude\":-121.5...\n",
      "15    {\"FacilityEmail\":\"\",\"FacilityLongitude\":-121.9...\n",
      "16    {\"FacilityEmail\":\"\",\"FacilityLongitude\":-121.9...\n",
      "Name: Fac_Id, dtype: object\n"
     ]
    }
   ],
   "source": [
    "test = facilities['Fac_Id'].apply(lambda x: get_facility_json(x))\n",
    "print(test)"
   ]
  },
  {
   "cell_type": "code",
   "execution_count": 55,
   "metadata": {
    "collapsed": false
   },
   "outputs": [],
   "source": [
    "test_df = test.to_frame()\n",
    "test_df.to_csv('ridb.csv', quoting=csv.QUOTE_NONE, index=False, escapechar=\" \")"
   ]
  },
  {
   "cell_type": "code",
   "execution_count": 51,
   "metadata": {
    "collapsed": false
   },
   "outputs": [],
   "source": []
  },
  {
   "cell_type": "code",
   "execution_count": null,
   "metadata": {
    "collapsed": true
   },
   "outputs": [],
   "source": []
  }
 ],
 "metadata": {
  "kernelspec": {
   "display_name": "Python 3",
   "language": "python",
   "name": "python3"
  },
  "language_info": {
   "codemirror_mode": {
    "name": "ipython",
    "version": 3
   },
   "file_extension": ".py",
   "mimetype": "text/x-python",
   "name": "python",
   "nbconvert_exporter": "python",
   "pygments_lexer": "ipython3",
   "version": "3.4.3"
  }
 },
 "nbformat": 4,
 "nbformat_minor": 0
}
